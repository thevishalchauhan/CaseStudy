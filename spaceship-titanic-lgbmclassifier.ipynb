{
 "cells": [
  {
   "cell_type": "code",
   "execution_count": 1,
   "id": "7e7124e3",
   "metadata": {
    "_cell_guid": "b1076dfc-b9ad-4769-8c92-a6c4dae69d19",
    "_uuid": "8f2839f25d086af736a60e9eeb907d3b93b6e0e5",
    "execution": {
     "iopub.execute_input": "2023-02-22T05:13:31.339857Z",
     "iopub.status.busy": "2023-02-22T05:13:31.339081Z",
     "iopub.status.idle": "2023-02-22T05:13:31.358399Z",
     "shell.execute_reply": "2023-02-22T05:13:31.356902Z"
    },
    "papermill": {
     "duration": 0.041475,
     "end_time": "2023-02-22T05:13:31.362999",
     "exception": false,
     "start_time": "2023-02-22T05:13:31.321524",
     "status": "completed"
    },
    "tags": []
   },
   "outputs": [
    {
     "name": "stdout",
     "output_type": "stream",
     "text": [
      "/kaggle/input/spaceship-titanic/sample_submission.csv\n",
      "/kaggle/input/spaceship-titanic/train.csv\n",
      "/kaggle/input/spaceship-titanic/test.csv\n"
     ]
    }
   ],
   "source": [
    "# This Python 3 environment comes with many helpful analytics libraries installed\n",
    "# It is defined by the kaggle/python Docker image: https://github.com/kaggle/docker-python\n",
    "# For example, here's several helpful packages to load\n",
    "\n",
    "import numpy as np # linear algebra\n",
    "import pandas as pd # data processing, CSV file I/O (e.g. pd.read_csv)\n",
    "\n",
    "# Input data files are available in the read-only \"../input/\" directory\n",
    "# For example, running this (by clicking run or pressing Shift+Enter) will list all files under the input directory\n",
    "\n",
    "import os\n",
    "for dirname, _, filenames in os.walk('/kaggle/input'):\n",
    "    for filename in filenames:\n",
    "        print(os.path.join(dirname, filename))\n",
    "\n",
    "# You can write up to 20GB to the current directory (/kaggle/working/) that gets preserved as output when you create a version using \"Save & Run All\" \n",
    "# You can also write temporary files to /kaggle/temp/, but they won't be saved outside of the current session"
   ]
  },
  {
   "cell_type": "code",
   "execution_count": 2,
   "id": "4e2280dc",
   "metadata": {
    "execution": {
     "iopub.execute_input": "2023-02-22T05:13:31.391832Z",
     "iopub.status.busy": "2023-02-22T05:13:31.390984Z",
     "iopub.status.idle": "2023-02-22T05:13:45.797349Z",
     "shell.execute_reply": "2023-02-22T05:13:45.795728Z"
    },
    "papermill": {
     "duration": 14.424167,
     "end_time": "2023-02-22T05:13:45.800886",
     "exception": false,
     "start_time": "2023-02-22T05:13:31.376719",
     "status": "completed"
    },
    "tags": []
   },
   "outputs": [
    {
     "name": "stdout",
     "output_type": "stream",
     "text": [
      "/bin/bash: /opt/conda/lib/libtinfo.so.6: no version information available (required by /bin/bash)\r\n",
      "Collecting lazypredict\r\n",
      "  Downloading lazypredict-0.2.12-py2.py3-none-any.whl (12 kB)\r\n",
      "Requirement already satisfied: pandas in /opt/conda/lib/python3.7/site-packages (from lazypredict) (1.3.5)\r\n",
      "Requirement already satisfied: scikit-learn in /opt/conda/lib/python3.7/site-packages (from lazypredict) (1.0.2)\r\n",
      "Requirement already satisfied: lightgbm in /opt/conda/lib/python3.7/site-packages (from lazypredict) (3.3.2)\r\n",
      "Requirement already satisfied: tqdm in /opt/conda/lib/python3.7/site-packages (from lazypredict) (4.64.1)\r\n",
      "Requirement already satisfied: xgboost in /opt/conda/lib/python3.7/site-packages (from lazypredict) (1.6.2)\r\n",
      "Requirement already satisfied: click in /opt/conda/lib/python3.7/site-packages (from lazypredict) (8.1.3)\r\n",
      "Requirement already satisfied: joblib in /opt/conda/lib/python3.7/site-packages (from lazypredict) (1.0.1)\r\n",
      "Requirement already satisfied: importlib-metadata in /opt/conda/lib/python3.7/site-packages (from click->lazypredict) (6.0.0)\r\n",
      "Requirement already satisfied: scipy in /opt/conda/lib/python3.7/site-packages (from lightgbm->lazypredict) (1.7.3)\r\n",
      "Requirement already satisfied: numpy in /opt/conda/lib/python3.7/site-packages (from lightgbm->lazypredict) (1.21.6)\r\n",
      "Requirement already satisfied: wheel in /opt/conda/lib/python3.7/site-packages (from lightgbm->lazypredict) (0.37.1)\r\n",
      "Requirement already satisfied: threadpoolctl>=2.0.0 in /opt/conda/lib/python3.7/site-packages (from scikit-learn->lazypredict) (3.1.0)\r\n",
      "Requirement already satisfied: python-dateutil>=2.7.3 in /opt/conda/lib/python3.7/site-packages (from pandas->lazypredict) (2.8.2)\r\n",
      "Requirement already satisfied: pytz>=2017.3 in /opt/conda/lib/python3.7/site-packages (from pandas->lazypredict) (2022.2.1)\r\n",
      "Requirement already satisfied: six>=1.5 in /opt/conda/lib/python3.7/site-packages (from python-dateutil>=2.7.3->pandas->lazypredict) (1.16.0)\r\n",
      "Requirement already satisfied: typing-extensions>=3.6.4 in /opt/conda/lib/python3.7/site-packages (from importlib-metadata->click->lazypredict) (4.1.1)\r\n",
      "Requirement already satisfied: zipp>=0.5 in /opt/conda/lib/python3.7/site-packages (from importlib-metadata->click->lazypredict) (3.8.1)\r\n",
      "Installing collected packages: lazypredict\r\n",
      "Successfully installed lazypredict-0.2.12\r\n",
      "\u001b[33mWARNING: Running pip as the 'root' user can result in broken permissions and conflicting behaviour with the system package manager. It is recommended to use a virtual environment instead: https://pip.pypa.io/warnings/venv\u001b[0m\u001b[33m\r\n",
      "\u001b[0mNote: you may need to restart the kernel to use updated packages.\n"
     ]
    }
   ],
   "source": [
    "pip install lazypredict"
   ]
  },
  {
   "cell_type": "code",
   "execution_count": 3,
   "id": "c755aab3",
   "metadata": {
    "execution": {
     "iopub.execute_input": "2023-02-22T05:13:45.830162Z",
     "iopub.status.busy": "2023-02-22T05:13:45.829679Z",
     "iopub.status.idle": "2023-02-22T05:13:49.803356Z",
     "shell.execute_reply": "2023-02-22T05:13:49.801766Z"
    },
    "papermill": {
     "duration": 3.992092,
     "end_time": "2023-02-22T05:13:49.806637",
     "exception": false,
     "start_time": "2023-02-22T05:13:45.814545",
     "status": "completed"
    },
    "tags": []
   },
   "outputs": [
    {
     "data": {
      "text/html": [
       "<style type='text/css'>\n",
       ".datatable table.frame { margin-bottom: 0; }\n",
       ".datatable table.frame thead { border-bottom: none; }\n",
       ".datatable table.frame tr.coltypes td {  color: #FFFFFF;  line-height: 6px;  padding: 0 0.5em;}\n",
       ".datatable .bool    { background: #DDDD99; }\n",
       ".datatable .object  { background: #565656; }\n",
       ".datatable .int     { background: #5D9E5D; }\n",
       ".datatable .float   { background: #4040CC; }\n",
       ".datatable .str     { background: #CC4040; }\n",
       ".datatable .time    { background: #40CC40; }\n",
       ".datatable .row_index {  background: var(--jp-border-color3);  border-right: 1px solid var(--jp-border-color0);  color: var(--jp-ui-font-color3);  font-size: 9px;}\n",
       ".datatable .frame tbody td { text-align: left; }\n",
       ".datatable .frame tr.coltypes .row_index {  background: var(--jp-border-color0);}\n",
       ".datatable th:nth-child(2) { padding-left: 12px; }\n",
       ".datatable .hellipsis {  color: var(--jp-cell-editor-border-color);}\n",
       ".datatable .vellipsis {  background: var(--jp-layout-color0);  color: var(--jp-cell-editor-border-color);}\n",
       ".datatable .na {  color: var(--jp-cell-editor-border-color);  font-size: 80%;}\n",
       ".datatable .sp {  opacity: 0.25;}\n",
       ".datatable .footer { font-size: 9px; }\n",
       ".datatable .frame_dimensions {  background: var(--jp-border-color3);  border-top: 1px solid var(--jp-border-color0);  color: var(--jp-ui-font-color3);  display: inline-block;  opacity: 0.6;  padding: 1px 10px 1px 5px;}\n",
       "</style>\n"
      ],
      "text/plain": [
       "<IPython.core.display.HTML object>"
      ]
     },
     "metadata": {},
     "output_type": "display_data"
    }
   ],
   "source": [
    "import pandas as pd\n",
    "import numpy as np\n",
    "import sklearn\n",
    "import matplotlib.pyplot as plt\n",
    "import lazypredict\n",
    "from lazypredict.Supervised import LazyClassifier\n",
    "from sklearn.model_selection import train_test_split\n",
    "import lightgbm as lgb\n",
    "from sklearn.metrics import accuracy_score\n",
    "from sklearn.model_selection import RandomizedSearchCV\n",
    "from sklearn.preprocessing import StandardScaler\n",
    "import plotly.express as px\n"
   ]
  },
  {
   "cell_type": "code",
   "execution_count": 4,
   "id": "d78b1df3",
   "metadata": {
    "execution": {
     "iopub.execute_input": "2023-02-22T05:13:49.836193Z",
     "iopub.status.busy": "2023-02-22T05:13:49.835389Z",
     "iopub.status.idle": "2023-02-22T05:13:49.926394Z",
     "shell.execute_reply": "2023-02-22T05:13:49.924849Z"
    },
    "papermill": {
     "duration": 0.108913,
     "end_time": "2023-02-22T05:13:49.929060",
     "exception": false,
     "start_time": "2023-02-22T05:13:49.820147",
     "status": "completed"
    },
    "tags": []
   },
   "outputs": [
    {
     "data": {
      "text/html": [
       "<div>\n",
       "<style scoped>\n",
       "    .dataframe tbody tr th:only-of-type {\n",
       "        vertical-align: middle;\n",
       "    }\n",
       "\n",
       "    .dataframe tbody tr th {\n",
       "        vertical-align: top;\n",
       "    }\n",
       "\n",
       "    .dataframe thead th {\n",
       "        text-align: right;\n",
       "    }\n",
       "</style>\n",
       "<table border=\"1\" class=\"dataframe\">\n",
       "  <thead>\n",
       "    <tr style=\"text-align: right;\">\n",
       "      <th></th>\n",
       "      <th>PassengerId</th>\n",
       "      <th>HomePlanet</th>\n",
       "      <th>CryoSleep</th>\n",
       "      <th>Cabin</th>\n",
       "      <th>Destination</th>\n",
       "      <th>Age</th>\n",
       "      <th>VIP</th>\n",
       "      <th>RoomService</th>\n",
       "      <th>FoodCourt</th>\n",
       "      <th>ShoppingMall</th>\n",
       "      <th>Spa</th>\n",
       "      <th>VRDeck</th>\n",
       "      <th>Name</th>\n",
       "      <th>Transported</th>\n",
       "    </tr>\n",
       "  </thead>\n",
       "  <tbody>\n",
       "    <tr>\n",
       "      <th>0</th>\n",
       "      <td>0001_01</td>\n",
       "      <td>Europa</td>\n",
       "      <td>False</td>\n",
       "      <td>B/0/P</td>\n",
       "      <td>TRAPPIST-1e</td>\n",
       "      <td>39.00</td>\n",
       "      <td>False</td>\n",
       "      <td>0.00</td>\n",
       "      <td>0.00</td>\n",
       "      <td>0.00</td>\n",
       "      <td>0.00</td>\n",
       "      <td>0.00</td>\n",
       "      <td>Maham Ofracculy</td>\n",
       "      <td>False</td>\n",
       "    </tr>\n",
       "    <tr>\n",
       "      <th>1</th>\n",
       "      <td>0002_01</td>\n",
       "      <td>Earth</td>\n",
       "      <td>False</td>\n",
       "      <td>F/0/S</td>\n",
       "      <td>TRAPPIST-1e</td>\n",
       "      <td>24.00</td>\n",
       "      <td>False</td>\n",
       "      <td>109.00</td>\n",
       "      <td>9.00</td>\n",
       "      <td>25.00</td>\n",
       "      <td>549.00</td>\n",
       "      <td>44.00</td>\n",
       "      <td>Juanna Vines</td>\n",
       "      <td>True</td>\n",
       "    </tr>\n",
       "    <tr>\n",
       "      <th>2</th>\n",
       "      <td>0003_01</td>\n",
       "      <td>Europa</td>\n",
       "      <td>False</td>\n",
       "      <td>A/0/S</td>\n",
       "      <td>TRAPPIST-1e</td>\n",
       "      <td>58.00</td>\n",
       "      <td>True</td>\n",
       "      <td>43.00</td>\n",
       "      <td>3576.00</td>\n",
       "      <td>0.00</td>\n",
       "      <td>6715.00</td>\n",
       "      <td>49.00</td>\n",
       "      <td>Altark Susent</td>\n",
       "      <td>False</td>\n",
       "    </tr>\n",
       "    <tr>\n",
       "      <th>3</th>\n",
       "      <td>0003_02</td>\n",
       "      <td>Europa</td>\n",
       "      <td>False</td>\n",
       "      <td>A/0/S</td>\n",
       "      <td>TRAPPIST-1e</td>\n",
       "      <td>33.00</td>\n",
       "      <td>False</td>\n",
       "      <td>0.00</td>\n",
       "      <td>1283.00</td>\n",
       "      <td>371.00</td>\n",
       "      <td>3329.00</td>\n",
       "      <td>193.00</td>\n",
       "      <td>Solam Susent</td>\n",
       "      <td>False</td>\n",
       "    </tr>\n",
       "    <tr>\n",
       "      <th>4</th>\n",
       "      <td>0004_01</td>\n",
       "      <td>Earth</td>\n",
       "      <td>False</td>\n",
       "      <td>F/1/S</td>\n",
       "      <td>TRAPPIST-1e</td>\n",
       "      <td>16.00</td>\n",
       "      <td>False</td>\n",
       "      <td>303.00</td>\n",
       "      <td>70.00</td>\n",
       "      <td>151.00</td>\n",
       "      <td>565.00</td>\n",
       "      <td>2.00</td>\n",
       "      <td>Willy Santantines</td>\n",
       "      <td>True</td>\n",
       "    </tr>\n",
       "  </tbody>\n",
       "</table>\n",
       "</div>"
      ],
      "text/plain": [
       "  PassengerId HomePlanet CryoSleep  Cabin  Destination   Age    VIP  \\\n",
       "0     0001_01     Europa     False  B/0/P  TRAPPIST-1e 39.00  False   \n",
       "1     0002_01      Earth     False  F/0/S  TRAPPIST-1e 24.00  False   \n",
       "2     0003_01     Europa     False  A/0/S  TRAPPIST-1e 58.00   True   \n",
       "3     0003_02     Europa     False  A/0/S  TRAPPIST-1e 33.00  False   \n",
       "4     0004_01      Earth     False  F/1/S  TRAPPIST-1e 16.00  False   \n",
       "\n",
       "   RoomService  FoodCourt  ShoppingMall     Spa  VRDeck               Name  \\\n",
       "0         0.00       0.00          0.00    0.00    0.00    Maham Ofracculy   \n",
       "1       109.00       9.00         25.00  549.00   44.00       Juanna Vines   \n",
       "2        43.00    3576.00          0.00 6715.00   49.00      Altark Susent   \n",
       "3         0.00    1283.00        371.00 3329.00  193.00       Solam Susent   \n",
       "4       303.00      70.00        151.00  565.00    2.00  Willy Santantines   \n",
       "\n",
       "   Transported  \n",
       "0        False  \n",
       "1         True  \n",
       "2        False  \n",
       "3        False  \n",
       "4         True  "
      ]
     },
     "execution_count": 4,
     "metadata": {},
     "output_type": "execute_result"
    }
   ],
   "source": [
    "df=pd.read_csv('/kaggle/input/spaceship-titanic/train.csv')\n",
    "df.head()"
   ]
  },
  {
   "cell_type": "code",
   "execution_count": 5,
   "id": "6d5d7daa",
   "metadata": {
    "execution": {
     "iopub.execute_input": "2023-02-22T05:13:49.960155Z",
     "iopub.status.busy": "2023-02-22T05:13:49.959294Z",
     "iopub.status.idle": "2023-02-22T05:13:49.965731Z",
     "shell.execute_reply": "2023-02-22T05:13:49.964915Z"
    },
    "papermill": {
     "duration": 0.025374,
     "end_time": "2023-02-22T05:13:49.968132",
     "exception": false,
     "start_time": "2023-02-22T05:13:49.942758",
     "status": "completed"
    },
    "tags": []
   },
   "outputs": [
    {
     "data": {
      "text/plain": [
       "(8693, 14)"
      ]
     },
     "execution_count": 5,
     "metadata": {},
     "output_type": "execute_result"
    }
   ],
   "source": [
    "df.shape"
   ]
  },
  {
   "cell_type": "code",
   "execution_count": 6,
   "id": "db675676",
   "metadata": {
    "execution": {
     "iopub.execute_input": "2023-02-22T05:13:49.998309Z",
     "iopub.status.busy": "2023-02-22T05:13:49.996989Z",
     "iopub.status.idle": "2023-02-22T05:13:50.033817Z",
     "shell.execute_reply": "2023-02-22T05:13:50.032491Z"
    },
    "papermill": {
     "duration": 0.055359,
     "end_time": "2023-02-22T05:13:50.037235",
     "exception": false,
     "start_time": "2023-02-22T05:13:49.981876",
     "status": "completed"
    },
    "tags": []
   },
   "outputs": [
    {
     "name": "stdout",
     "output_type": "stream",
     "text": [
      "<class 'pandas.core.frame.DataFrame'>\n",
      "RangeIndex: 8693 entries, 0 to 8692\n",
      "Data columns (total 14 columns):\n",
      " #   Column        Non-Null Count  Dtype  \n",
      "---  ------        --------------  -----  \n",
      " 0   PassengerId   8693 non-null   object \n",
      " 1   HomePlanet    8492 non-null   object \n",
      " 2   CryoSleep     8476 non-null   object \n",
      " 3   Cabin         8494 non-null   object \n",
      " 4   Destination   8511 non-null   object \n",
      " 5   Age           8514 non-null   float64\n",
      " 6   VIP           8490 non-null   object \n",
      " 7   RoomService   8512 non-null   float64\n",
      " 8   FoodCourt     8510 non-null   float64\n",
      " 9   ShoppingMall  8485 non-null   float64\n",
      " 10  Spa           8510 non-null   float64\n",
      " 11  VRDeck        8505 non-null   float64\n",
      " 12  Name          8493 non-null   object \n",
      " 13  Transported   8693 non-null   bool   \n",
      "dtypes: bool(1), float64(6), object(7)\n",
      "memory usage: 891.5+ KB\n"
     ]
    }
   ],
   "source": [
    "df.info()"
   ]
  },
  {
   "cell_type": "code",
   "execution_count": 7,
   "id": "620c30ef",
   "metadata": {
    "execution": {
     "iopub.execute_input": "2023-02-22T05:13:50.067815Z",
     "iopub.status.busy": "2023-02-22T05:13:50.066972Z",
     "iopub.status.idle": "2023-02-22T05:13:50.076053Z",
     "shell.execute_reply": "2023-02-22T05:13:50.074825Z"
    },
    "papermill": {
     "duration": 0.027744,
     "end_time": "2023-02-22T05:13:50.078807",
     "exception": false,
     "start_time": "2023-02-22T05:13:50.051063",
     "status": "completed"
    },
    "tags": []
   },
   "outputs": [
    {
     "data": {
      "text/plain": [
       "PassengerId      object\n",
       "HomePlanet       object\n",
       "CryoSleep        object\n",
       "Cabin            object\n",
       "Destination      object\n",
       "Age             float64\n",
       "VIP              object\n",
       "RoomService     float64\n",
       "FoodCourt       float64\n",
       "ShoppingMall    float64\n",
       "Spa             float64\n",
       "VRDeck          float64\n",
       "Name             object\n",
       "Transported        bool\n",
       "dtype: object"
      ]
     },
     "execution_count": 7,
     "metadata": {},
     "output_type": "execute_result"
    }
   ],
   "source": [
    "df.dtypes"
   ]
  },
  {
   "cell_type": "code",
   "execution_count": 8,
   "id": "dc4defdf",
   "metadata": {
    "execution": {
     "iopub.execute_input": "2023-02-22T05:13:50.109040Z",
     "iopub.status.busy": "2023-02-22T05:13:50.108515Z",
     "iopub.status.idle": "2023-02-22T05:13:51.242732Z",
     "shell.execute_reply": "2023-02-22T05:13:51.241678Z"
    },
    "papermill": {
     "duration": 1.154152,
     "end_time": "2023-02-22T05:13:51.246995",
     "exception": false,
     "start_time": "2023-02-22T05:13:50.092843",
     "status": "completed"
    },
    "tags": []
   },
   "outputs": [
    {
     "data": {
      "text/html": [
       "        <script type=\"text/javascript\">\n",
       "        window.PlotlyConfig = {MathJaxConfig: 'local'};\n",
       "        if (window.MathJax && window.MathJax.Hub && window.MathJax.Hub.Config) {window.MathJax.Hub.Config({SVG: {font: \"STIX-Web\"}});}\n",
       "        if (typeof require !== 'undefined') {\n",
       "        require.undef(\"plotly\");\n",
       "        requirejs.config({\n",
       "            paths: {\n",
       "                'plotly': ['https://cdn.plot.ly/plotly-2.18.0.min']\n",
       "            }\n",
       "        });\n",
       "        require(['plotly'], function(Plotly) {\n",
       "            window._Plotly = Plotly;\n",
       "        });\n",
       "        }\n",
       "        </script>\n",
       "        "
      ]
     },
     "metadata": {},
     "output_type": "display_data"
    },
    {
     "data": {
      "text/html": [
       "<div>                            <div id=\"b1f3a9b9-27ad-48e8-9156-34dc79107cfa\" class=\"plotly-graph-div\" style=\"height:525px; width:100%;\"></div>            <script type=\"text/javascript\">                require([\"plotly\"], function(Plotly) {                    window.PLOTLYENV=window.PLOTLYENV || {};                                    if (document.getElementById(\"b1f3a9b9-27ad-48e8-9156-34dc79107cfa\")) {                    Plotly.newPlot(                        \"b1f3a9b9-27ad-48e8-9156-34dc79107cfa\",                        [{\"alignmentgroup\":\"True\",\"bingroup\":\"x\",\"hovertemplate\":\"Transported=False<br>HomePlanet=%{x}<br>count=%{y}<extra></extra>\",\"legendgroup\":\"False\",\"marker\":{\"color\":\"#636efa\",\"pattern\":{\"shape\":\"\"}},\"name\":\"False\",\"offsetgroup\":\"False\",\"orientation\":\"v\",\"showlegend\":true,\"x\":[\"Europa\",\"Europa\",\"Europa\",\"Earth\",\"Earth\",\"Mars\",\"Earth\",\"Earth\",\"Earth\",\"Earth\",\"Earth\",\"Earth\",\"Earth\",\"Mars\",\"Earth\",\"Europa\",\"Mars\",\"Earth\",\"Mars\",\"Earth\",\"Earth\",\"Earth\",\"Europa\",\"Earth\",\"Mars\",\"Earth\",\"Earth\",\"Earth\",\"Earth\",\"Earth\",\"Earth\",\"Earth\",\"Earth\",\"Mars\",\"Earth\",\"Earth\",\"Earth\",\"Mars\",\"Europa\",\"Earth\",\"Mars\",\"Earth\",\"Earth\",\"Earth\",\"Europa\",\"Earth\",\"Earth\",\"Earth\",\"Earth\",\"Earth\",\"Mars\",\"Earth\",\"Earth\",\"Europa\",\"Europa\",\"Earth\",null,\"Earth\",\"Earth\",\"Mars\",\"Mars\",\"Mars\",\"Mars\",\"Earth\",\"Earth\",\"Earth\",\"Mars\",\"Earth\",\"Mars\",\"Earth\",\"Earth\",\"Earth\",\"Earth\",\"Mars\",\"Earth\",\"Earth\",\"Earth\",\"Europa\",\"Mars\",\"Earth\",\"Earth\",\"Earth\",\"Earth\",\"Earth\",\"Earth\",\"Earth\",\"Mars\",\"Mars\",\"Europa\",\"Earth\",\"Earth\",\"Earth\",\"Mars\",\"Earth\",\"Earth\",\"Earth\",\"Earth\",\"Earth\",\"Earth\",\"Earth\",\"Earth\",\"Earth\",\"Mars\",\"Mars\",\"Mars\",\"Mars\",\"Mars\",\"Mars\",\"Mars\",\"Earth\",\"Mars\",\"Earth\",\"Mars\",\"Earth\",\"Mars\",\"Earth\",\"Mars\",\"Europa\",null,\"Earth\",\"Europa\",\"Mars\",\"Europa\",\"Earth\",\"Earth\",\"Earth\",\"Mars\",\"Earth\",\"Europa\",\"Earth\",\"Earth\",\"Earth\",\"Earth\",\"Earth\",\"Earth\",\"Europa\",\"Earth\",\"Earth\",\"Earth\",\"Europa\",\"Europa\",\"Earth\",\"Earth\",\"Europa\",\"Earth\",\"Earth\",\"Earth\",null,\"Earth\",\"Earth\",\"Earth\",\"Europa\",\"Earth\",\"Mars\",\"Earth\",\"Earth\",\"Earth\",\"Mars\",\"Mars\",\"Mars\",\"Earth\",\"Earth\",\"Earth\",\"Earth\",\"Mars\",\"Earth\",\"Earth\",\"Earth\",\"Earth\",\"Europa\",\"Europa\",\"Europa\",\"Europa\",null,\"Earth\",\"Earth\",\"Earth\",\"Earth\",\"Earth\",\"Earth\",\"Earth\",\"Europa\",\"Europa\",\"Mars\",\"Mars\",\"Mars\",\"Earth\",\"Earth\",\"Earth\",\"Earth\",\"Mars\",\"Mars\",\"Earth\",\"Earth\",\"Earth\",\"Earth\",\"Europa\",\"Mars\",\"Mars\",\"Europa\",\"Earth\",\"Earth\",\"Earth\",\"Europa\",\"Earth\",\"Earth\",\"Mars\",null,\"Earth\",null,\"Earth\",\"Earth\",\"Earth\",\"Earth\",\"Earth\",\"Earth\",\"Mars\",\"Mars\",\"Earth\",\"Earth\",\"Earth\",\"Europa\",\"Earth\",\"Earth\",\"Mars\",\"Earth\",\"Earth\",\"Earth\",\"Earth\",\"Europa\",\"Europa\",\"Earth\",\"Mars\",\"Europa\",\"Mars\",\"Mars\",\"Mars\",\"Europa\",\"Europa\",\"Earth\",\"Earth\",\"Earth\",\"Mars\",\"Europa\",\"Earth\",\"Earth\",\"Mars\",\"Europa\",\"Europa\",\"Earth\",\"Europa\",null,\"Earth\",\"Earth\",\"Earth\",\"Earth\",\"Earth\",\"Europa\",\"Earth\",\"Earth\",\"Earth\",\"Mars\",\"Europa\",\"Mars\",\"Europa\",\"Europa\",\"Europa\",\"Earth\",\"Earth\",\"Earth\",\"Earth\",\"Earth\",\"Earth\",\"Mars\",\"Mars\",\"Earth\",\"Earth\",\"Earth\",\"Earth\",\"Mars\",\"Earth\",null,\"Earth\",\"Earth\",\"Mars\",\"Mars\",\"Earth\",\"Europa\",\"Europa\",\"Europa\",\"Mars\",\"Earth\",\"Earth\",\"Earth\",\"Earth\",\"Mars\",\"Earth\",\"Earth\",\"Earth\",\"Earth\",\"Mars\",\"Earth\",\"Europa\",\"Earth\",\"Mars\",\"Earth\",\"Earth\",\"Earth\",\"Earth\",\"Europa\",\"Europa\",\"Mars\",\"Earth\",\"Earth\",\"Earth\",\"Earth\",\"Earth\",\"Earth\",\"Earth\",\"Earth\",\"Earth\",\"Earth\",\"Mars\",\"Earth\",\"Mars\",\"Mars\",\"Mars\",\"Mars\",\"Mars\",\"Europa\",\"Mars\",\"Earth\",\"Mars\",\"Mars\",\"Earth\",\"Earth\",\"Earth\",\"Earth\",\"Earth\",\"Mars\",\"Earth\",\"Earth\",\"Earth\",\"Earth\",\"Earth\",\"Earth\",\"Europa\",\"Europa\",\"Europa\",\"Earth\",\"Earth\",\"Europa\",\"Europa\",\"Mars\",\"Earth\",\"Earth\",\"Mars\",\"Earth\",\"Europa\",\"Earth\",\"Earth\",\"Earth\",\"Earth\",\"Earth\",\"Europa\",\"Earth\",\"Europa\",\"Earth\",\"Earth\",\"Earth\",\"Earth\",\"Earth\",\"Europa\",\"Europa\",\"Earth\",\"Earth\",\"Earth\",\"Earth\",\"Europa\",\"Earth\",\"Earth\",\"Mars\",\"Mars\",\"Mars\",\"Earth\",\"Europa\",\"Earth\",\"Earth\",\"Mars\",\"Earth\",\"Earth\",\"Earth\",\"Mars\",\"Europa\",\"Earth\",\"Europa\",\"Earth\",\"Earth\",\"Earth\",\"Earth\",\"Earth\",\"Earth\",\"Earth\",\"Earth\",\"Earth\",\"Earth\",\"Earth\",\"Earth\",\"Earth\",\"Mars\",\"Earth\",\"Europa\",\"Earth\",\"Earth\",\"Europa\",\"Mars\",\"Earth\",\"Earth\",\"Earth\",\"Europa\",\"Mars\",\"Europa\",\"Europa\",\"Mars\",\"Europa\",\"Earth\",\"Earth\",\"Earth\",\"Earth\",\"Europa\",\"Earth\",\"Mars\",\"Europa\",\"Earth\",\"Earth\",\"Europa\",\"Earth\",\"Earth\",\"Earth\",\"Mars\",\"Earth\",\"Earth\",\"Earth\",\"Mars\",\"Earth\",\"Earth\",\"Earth\",\"Mars\",\"Earth\",\"Earth\",\"Earth\",\"Earth\",\"Earth\",\"Earth\",\"Earth\",\"Earth\",\"Earth\",\"Earth\",\"Earth\",\"Earth\",\"Earth\",null,\"Earth\",\"Earth\",\"Earth\",\"Europa\",\"Europa\",\"Europa\",\"Earth\",\"Earth\",\"Earth\",\"Mars\",\"Mars\",\"Earth\",\"Mars\",\"Earth\",\"Earth\",\"Earth\",\"Earth\",\"Earth\",\"Earth\",\"Earth\",\"Earth\",\"Earth\",null,\"Earth\",\"Earth\",\"Earth\",\"Mars\",\"Mars\",\"Earth\",\"Earth\",\"Earth\",\"Earth\",\"Earth\",\"Earth\",\"Europa\",\"Europa\",\"Earth\",\"Earth\",\"Earth\",\"Earth\",\"Earth\",\"Earth\",\"Earth\",\"Earth\",null,\"Earth\",\"Earth\",\"Earth\",\"Earth\",\"Mars\",\"Mars\",\"Earth\",\"Earth\",\"Earth\",\"Earth\",\"Earth\",\"Europa\",\"Earth\",\"Earth\",\"Earth\",\"Mars\",\"Mars\",\"Mars\",\"Mars\",\"Earth\",\"Mars\",\"Europa\",\"Mars\",\"Mars\",\"Earth\",\"Europa\",\"Earth\",\"Mars\",\"Earth\",\"Earth\",\"Earth\",\"Earth\",\"Europa\",\"Europa\",\"Europa\",\"Earth\",\"Earth\",\"Earth\",\"Earth\",\"Earth\",\"Mars\",\"Earth\",\"Europa\",\"Europa\",\"Europa\",\"Europa\",\"Europa\",\"Earth\",\"Mars\",\"Earth\",\"Earth\",\"Earth\",\"Mars\",\"Earth\",\"Earth\",\"Earth\",\"Earth\",\"Earth\",\"Earth\",\"Europa\",\"Earth\",\"Earth\",\"Europa\",\"Earth\",\"Europa\",\"Earth\",\"Earth\",\"Earth\",\"Earth\",\"Earth\",\"Earth\",\"Earth\",\"Earth\",\"Earth\",\"Europa\",\"Earth\",\"Earth\",\"Earth\",\"Earth\",\"Mars\",\"Europa\",\"Earth\",\"Europa\",\"Europa\",\"Earth\",\"Earth\",\"Mars\",\"Mars\",\"Mars\",\"Europa\",\"Earth\",\"Europa\",\"Mars\",\"Earth\",\"Mars\",\"Earth\",\"Earth\",\"Earth\",\"Earth\",\"Earth\",\"Earth\",\"Earth\",\"Earth\",\"Mars\",\"Earth\",\"Earth\",\"Earth\",\"Mars\",\"Earth\",\"Europa\",\"Earth\",\"Earth\",\"Earth\",\"Earth\",\"Earth\",\"Earth\",\"Europa\",\"Europa\",\"Europa\",\"Mars\",\"Mars\",\"Europa\",\"Mars\",\"Earth\",\"Earth\",\"Earth\",\"Mars\",\"Mars\",\"Earth\",\"Mars\",\"Earth\",\"Earth\",\"Earth\",\"Earth\",\"Earth\",\"Earth\",\"Earth\",\"Europa\",\"Earth\",\"Earth\",\"Earth\",\"Earth\",\"Mars\",\"Mars\",\"Earth\",\"Earth\",\"Europa\",\"Earth\",\"Earth\",\"Mars\",\"Earth\",\"Earth\",\"Earth\",\"Earth\",\"Earth\",\"Europa\",\"Earth\",\"Earth\",\"Earth\",null,\"Mars\",\"Mars\",\"Mars\",\"Mars\",\"Mars\",\"Earth\",\"Earth\",\"Earth\",\"Earth\",\"Europa\",\"Europa\",\"Mars\",\"Earth\",\"Earth\",\"Earth\",\"Earth\",\"Earth\",\"Earth\",\"Earth\",\"Europa\",\"Mars\",\"Mars\",\"Mars\",\"Mars\",\"Europa\",\"Earth\",\"Mars\",\"Earth\",\"Earth\",\"Earth\",\"Earth\",\"Earth\",\"Earth\",\"Earth\",\"Mars\",\"Mars\",\"Earth\",\"Earth\",\"Europa\",\"Europa\",\"Europa\",\"Europa\",\"Europa\",\"Earth\",\"Europa\",\"Europa\",\"Earth\",null,\"Earth\",\"Earth\",\"Earth\",null,\"Earth\",\"Earth\",\"Mars\",\"Earth\",\"Earth\",\"Europa\",\"Earth\",\"Earth\",\"Earth\",\"Earth\",\"Earth\",\"Earth\",\"Earth\",\"Earth\",\"Mars\",\"Mars\",\"Earth\",\"Earth\",\"Earth\",\"Mars\",\"Mars\",\"Europa\",\"Europa\",\"Earth\",\"Earth\",\"Earth\",\"Europa\",\"Earth\",\"Europa\",\"Europa\",\"Mars\",\"Earth\",\"Earth\",\"Europa\",\"Europa\",\"Earth\",\"Europa\",\"Earth\",\"Earth\",\"Earth\",\"Earth\",\"Mars\",\"Earth\",\"Earth\",\"Earth\",\"Earth\",\"Mars\",\"Mars\",\"Earth\",\"Earth\",\"Earth\",\"Earth\",\"Earth\",\"Europa\",\"Earth\",\"Earth\",\"Earth\",\"Earth\",\"Earth\",\"Earth\",\"Earth\",\"Mars\",\"Earth\",\"Mars\",\"Earth\",\"Europa\",\"Earth\",\"Earth\",\"Earth\",\"Earth\",\"Earth\",\"Earth\",\"Earth\",\"Earth\",\"Earth\",null,\"Earth\",\"Earth\",\"Earth\",\"Europa\",\"Earth\",\"Earth\",\"Earth\",\"Earth\",\"Earth\",\"Europa\",\"Europa\",\"Europa\",\"Earth\",\"Earth\",\"Mars\",\"Mars\",\"Earth\",\"Earth\",\"Europa\",\"Earth\",\"Earth\",\"Earth\",\"Earth\",\"Earth\",\"Earth\",\"Earth\",\"Earth\",\"Mars\",\"Earth\",\"Earth\",\"Earth\",\"Mars\",\"Earth\",\"Europa\",\"Earth\",\"Europa\",\"Mars\",\"Mars\",\"Earth\",\"Mars\",\"Mars\",\"Mars\",\"Mars\",\"Mars\",\"Earth\",\"Mars\",\"Mars\",\"Earth\",\"Earth\",\"Earth\",\"Earth\",\"Earth\",\"Earth\",\"Earth\",\"Earth\",\"Mars\",\"Earth\",\"Earth\",\"Earth\",\"Earth\",\"Earth\",\"Mars\",\"Europa\",\"Earth\",\"Earth\",\"Earth\",\"Earth\",\"Earth\",\"Earth\",\"Earth\",\"Earth\",\"Earth\",\"Mars\",\"Earth\",\"Earth\",\"Mars\",\"Earth\",\"Earth\",\"Earth\",\"Earth\",\"Earth\",\"Earth\",\"Mars\",\"Earth\",\"Mars\",\"Earth\",\"Earth\",\"Earth\",\"Earth\",\"Earth\",\"Earth\",\"Mars\",\"Europa\",\"Earth\",\"Mars\",\"Earth\",\"Earth\",\"Earth\",\"Earth\",\"Earth\",\"Earth\",\"Europa\",\"Earth\",\"Europa\",\"Earth\",\"Europa\",\"Earth\",\"Earth\",\"Earth\",\"Earth\",\"Earth\",\"Earth\",\"Earth\",\"Earth\",\"Mars\",\"Europa\",\"Europa\",\"Mars\",\"Mars\",\"Earth\",\"Earth\",\"Earth\",\"Earth\",null,\"Earth\",\"Mars\",\"Earth\",\"Earth\",\"Earth\",\"Earth\",\"Europa\",\"Earth\",\"Mars\",\"Earth\",\"Earth\",\"Earth\",\"Earth\",\"Earth\",\"Mars\",\"Europa\",\"Earth\",\"Earth\",\"Earth\",\"Earth\",\"Earth\",\"Earth\",\"Europa\",\"Mars\",\"Earth\",\"Earth\",\"Europa\",\"Europa\",\"Mars\",\"Earth\",\"Earth\",null,\"Mars\",\"Earth\",\"Earth\",\"Mars\",\"Mars\",\"Mars\",\"Earth\",\"Earth\",\"Earth\",\"Earth\",\"Earth\",\"Earth\",\"Earth\",\"Earth\",\"Mars\",\"Earth\",\"Europa\",\"Earth\",\"Earth\",\"Earth\",\"Europa\",\"Earth\",\"Mars\",\"Earth\",\"Europa\",\"Earth\",\"Earth\",\"Earth\",\"Earth\",\"Earth\",\"Earth\",\"Earth\",\"Earth\",\"Earth\",\"Earth\",\"Earth\",\"Earth\",\"Earth\",\"Earth\",\"Earth\",\"Europa\",\"Earth\",\"Europa\",\"Earth\",\"Europa\",\"Earth\",\"Earth\",\"Earth\",\"Earth\",\"Earth\",\"Earth\",\"Earth\",\"Earth\",\"Europa\",\"Europa\",\"Earth\",\"Earth\",\"Earth\",\"Earth\",\"Earth\",null,\"Mars\",\"Earth\",\"Earth\",\"Europa\",\"Europa\",\"Earth\",\"Europa\",\"Earth\",\"Earth\",\"Earth\",\"Earth\",\"Europa\",\"Europa\",\"Earth\",\"Earth\",\"Earth\",\"Mars\",\"Mars\",\"Mars\",\"Mars\",\"Earth\",\"Mars\",\"Mars\",\"Europa\",\"Earth\",\"Earth\",\"Earth\",\"Earth\",\"Earth\",\"Earth\",\"Mars\",\"Mars\",\"Earth\",\"Europa\",\"Earth\",\"Earth\",\"Earth\",\"Earth\",\"Earth\",\"Earth\",\"Earth\",\"Earth\",\"Earth\",\"Earth\",\"Mars\",\"Mars\",\"Earth\",\"Earth\",\"Earth\",\"Earth\",\"Earth\",\"Earth\",\"Earth\",\"Earth\",\"Earth\",\"Earth\",\"Earth\",\"Earth\",\"Earth\",\"Earth\",\"Earth\",\"Mars\",\"Earth\",\"Earth\",\"Europa\",\"Earth\",\"Europa\",\"Mars\",\"Mars\",\"Earth\",\"Earth\",\"Earth\",\"Earth\",\"Earth\",\"Earth\",\"Earth\",\"Europa\",\"Europa\",\"Mars\",\"Mars\",\"Mars\",\"Earth\",\"Earth\",\"Earth\",\"Earth\",\"Earth\",\"Earth\",\"Europa\",\"Earth\",\"Earth\",\"Mars\",\"Earth\",\"Mars\",\"Earth\",\"Earth\",\"Earth\",\"Mars\",\"Mars\",\"Mars\",\"Mars\",\"Earth\",\"Earth\",\"Europa\",\"Europa\",\"Earth\",\"Earth\",\"Earth\",\"Earth\",\"Earth\",\"Mars\",\"Earth\",\"Earth\",\"Mars\",\"Earth\",\"Europa\",\"Europa\",\"Earth\",\"Mars\",\"Earth\",\"Earth\",\"Earth\",\"Earth\",\"Earth\",\"Earth\",\"Earth\",\"Earth\",\"Mars\",\"Europa\",\"Europa\",\"Earth\",\"Earth\",\"Europa\",\"Earth\",\"Europa\",\"Europa\",\"Europa\",\"Europa\",\"Earth\",\"Europa\",\"Earth\",null,\"Mars\",\"Earth\",\"Earth\",\"Earth\",null,\"Earth\",\"Earth\",\"Earth\",\"Mars\",\"Europa\",\"Earth\",\"Mars\",\"Earth\",\"Earth\",\"Earth\",\"Earth\",\"Earth\",\"Earth\",\"Europa\",\"Earth\",\"Earth\",\"Mars\",\"Earth\",\"Earth\",\"Mars\",\"Earth\",\"Mars\",\"Earth\",\"Europa\",\"Earth\",\"Earth\",\"Earth\",\"Earth\",\"Earth\",\"Earth\",\"Earth\",\"Mars\",\"Earth\",\"Earth\",\"Earth\",\"Earth\",\"Earth\",\"Earth\",\"Earth\",\"Earth\",\"Mars\",\"Earth\",\"Earth\",\"Europa\",\"Earth\",\"Europa\",\"Earth\",\"Earth\",\"Earth\",\"Earth\",\"Earth\",\"Earth\",\"Earth\",\"Earth\",\"Earth\",null,\"Earth\",\"Earth\",\"Mars\",null,\"Earth\",\"Earth\",\"Mars\",\"Earth\",null,\"Earth\",\"Earth\",\"Earth\",\"Mars\",\"Earth\",\"Earth\",\"Earth\",\"Earth\",\"Europa\",\"Earth\",\"Earth\",\"Earth\",\"Earth\",\"Earth\",\"Earth\",\"Earth\",\"Mars\",\"Earth\",\"Earth\",\"Earth\",\"Earth\",\"Earth\",\"Earth\",\"Mars\",null,\"Earth\",null,\"Europa\",\"Earth\",\"Europa\",\"Earth\",\"Europa\",\"Earth\",\"Europa\",\"Mars\",\"Mars\",\"Mars\",\"Europa\",\"Earth\",\"Mars\",\"Europa\",\"Mars\",\"Europa\",\"Earth\",\"Earth\",\"Europa\",\"Earth\",\"Mars\",\"Mars\",\"Earth\",\"Europa\",\"Earth\",\"Earth\",\"Earth\",\"Mars\",\"Mars\",\"Earth\",\"Earth\",\"Earth\",\"Earth\",\"Earth\",\"Earth\",\"Earth\",\"Europa\",\"Europa\",\"Earth\",\"Earth\",\"Earth\",\"Earth\",\"Mars\",\"Mars\",\"Earth\",\"Mars\",\"Mars\",null,\"Mars\",\"Earth\",\"Mars\",\"Mars\",\"Earth\",\"Earth\",\"Earth\",\"Earth\",\"Earth\",\"Earth\",\"Earth\",\"Earth\",\"Earth\",\"Earth\",\"Europa\",\"Earth\",\"Earth\",\"Earth\",\"Earth\",\"Earth\",\"Earth\",null,\"Earth\",\"Europa\",\"Europa\",\"Earth\",\"Earth\",\"Mars\",\"Earth\",\"Earth\",\"Earth\",\"Earth\",\"Earth\",\"Earth\",\"Mars\",\"Mars\",\"Mars\",\"Earth\",\"Earth\",\"Earth\",\"Earth\",\"Earth\",\"Europa\",\"Earth\",\"Earth\",\"Europa\",\"Earth\",null,\"Earth\",\"Earth\",\"Europa\",\"Europa\",\"Europa\",\"Europa\",\"Mars\",\"Mars\",\"Europa\",\"Earth\",\"Earth\",\"Earth\",\"Mars\",\"Earth\",\"Earth\",\"Earth\",\"Earth\",\"Earth\",\"Mars\",\"Earth\",\"Earth\",\"Earth\",\"Earth\",\"Earth\",\"Mars\",\"Europa\",\"Mars\",\"Mars\",\"Earth\",\"Mars\",\"Mars\",\"Earth\",\"Earth\",\"Earth\",\"Earth\",\"Mars\",\"Earth\",\"Earth\",\"Earth\",\"Earth\",\"Earth\",\"Mars\",\"Earth\",\"Earth\",\"Earth\",\"Earth\",\"Earth\",\"Mars\",\"Earth\",\"Earth\",\"Earth\",\"Earth\",\"Earth\",\"Europa\",\"Earth\",\"Earth\",\"Earth\",\"Europa\",\"Europa\",\"Europa\",\"Europa\",\"Earth\",\"Earth\",\"Europa\",\"Earth\",\"Europa\",\"Earth\",\"Mars\",\"Earth\",\"Earth\",\"Earth\",\"Earth\",null,\"Earth\",\"Earth\",null,\"Europa\",\"Europa\",\"Europa\",\"Earth\",\"Europa\",\"Earth\",\"Mars\",\"Earth\",\"Mars\",\"Earth\",\"Earth\",\"Europa\",\"Earth\",\"Earth\",\"Mars\",\"Mars\",\"Mars\",\"Mars\",\"Earth\",\"Earth\",\"Earth\",\"Earth\",\"Earth\",\"Mars\",\"Earth\",\"Mars\",\"Europa\",\"Earth\",\"Earth\",\"Earth\",\"Earth\",\"Earth\",\"Earth\",\"Mars\",\"Earth\",\"Earth\",\"Earth\",\"Earth\",\"Earth\",null,\"Earth\",\"Earth\",\"Mars\",\"Mars\",\"Mars\",\"Europa\",\"Earth\",\"Earth\",\"Europa\",\"Earth\",\"Earth\",\"Earth\",\"Earth\",\"Earth\",\"Earth\",\"Earth\",\"Earth\",\"Earth\",\"Earth\",\"Earth\",\"Earth\",\"Earth\",\"Earth\",\"Mars\",\"Europa\",\"Earth\",\"Earth\",\"Earth\",\"Earth\",\"Europa\",\"Europa\",\"Mars\",\"Europa\",null,\"Earth\",\"Earth\",\"Earth\",\"Earth\",\"Europa\",\"Earth\",\"Earth\",\"Europa\",\"Earth\",null,\"Europa\",\"Earth\",\"Mars\",\"Europa\",\"Earth\",\"Earth\",\"Europa\",\"Europa\",\"Earth\",\"Earth\",\"Earth\",\"Europa\",\"Earth\",\"Earth\",\"Earth\",\"Earth\",\"Earth\",\"Europa\",\"Earth\",\"Mars\",\"Europa\",\"Mars\",\"Earth\",\"Earth\",\"Earth\",\"Mars\",\"Mars\",\"Europa\",\"Earth\",\"Earth\",\"Mars\",\"Mars\",\"Mars\",\"Earth\",\"Earth\",\"Mars\",\"Earth\",\"Earth\",\"Earth\",\"Europa\",\"Earth\",\"Earth\",\"Europa\",\"Earth\",\"Europa\",\"Europa\",\"Earth\",\"Mars\",\"Earth\",\"Europa\",\"Mars\",\"Earth\",\"Mars\",\"Earth\",\"Earth\",\"Earth\",\"Earth\",\"Mars\",\"Earth\",\"Mars\",\"Earth\",\"Earth\",\"Mars\",\"Mars\",\"Mars\",\"Earth\",\"Mars\",\"Europa\",\"Earth\",\"Earth\",\"Mars\",\"Mars\",\"Earth\",null,\"Earth\",\"Earth\",\"Earth\",\"Earth\",\"Mars\",\"Mars\",\"Earth\",\"Earth\",\"Earth\",\"Earth\",\"Earth\",\"Earth\",\"Mars\",\"Earth\",\"Earth\",\"Earth\",\"Earth\",\"Europa\",\"Europa\",\"Europa\",\"Earth\",\"Europa\",\"Europa\",\"Europa\",\"Earth\",\"Earth\",\"Earth\",\"Earth\",\"Mars\",\"Mars\",\"Earth\",\"Earth\",\"Mars\",\"Earth\",\"Earth\",\"Earth\",\"Earth\",\"Earth\",\"Earth\",\"Earth\",\"Mars\",\"Mars\",\"Mars\",\"Earth\",\"Earth\",\"Earth\",\"Earth\",\"Earth\",\"Earth\",\"Earth\",\"Earth\",\"Earth\",\"Earth\",\"Earth\",\"Mars\",\"Earth\",\"Earth\",\"Earth\",\"Earth\",\"Europa\",\"Earth\",\"Earth\",\"Earth\",\"Earth\",\"Earth\",\"Earth\",\"Europa\",\"Earth\",\"Earth\",\"Earth\",\"Earth\",\"Mars\",\"Mars\",\"Mars\",\"Earth\",\"Earth\",\"Europa\",\"Europa\",\"Earth\",\"Earth\",\"Earth\",\"Earth\",\"Earth\",\"Earth\",\"Earth\",\"Mars\",\"Mars\",\"Europa\",\"Europa\",\"Earth\",\"Earth\",\"Earth\",\"Earth\",\"Europa\",\"Europa\",\"Earth\",\"Earth\",null,\"Earth\",\"Earth\",\"Europa\",\"Mars\",\"Earth\",\"Earth\",\"Earth\",\"Earth\",\"Earth\",\"Earth\",\"Earth\",\"Earth\",\"Europa\",\"Earth\",\"Earth\",\"Mars\",\"Earth\",\"Earth\",\"Europa\",\"Europa\",\"Earth\",\"Europa\",\"Earth\",\"Earth\",\"Mars\",\"Earth\",\"Earth\",\"Earth\",\"Europa\",\"Earth\",\"Earth\",\"Europa\",\"Earth\",\"Earth\",\"Europa\",\"Earth\",\"Earth\",\"Earth\",\"Earth\",\"Earth\",\"Earth\",\"Earth\",\"Earth\",\"Earth\",\"Earth\",\"Earth\",\"Mars\",\"Earth\",\"Earth\",\"Earth\",\"Europa\",\"Europa\",\"Earth\",\"Europa\",\"Earth\",\"Earth\",\"Earth\",\"Europa\",\"Europa\",\"Europa\",\"Europa\",\"Mars\",\"Earth\",\"Earth\",\"Mars\",\"Mars\",\"Earth\",\"Earth\",\"Mars\",\"Mars\",\"Earth\",\"Earth\",\"Mars\",null,\"Mars\",\"Mars\",\"Mars\",\"Earth\",\"Mars\",\"Earth\",\"Earth\",\"Earth\",\"Mars\",\"Earth\",\"Earth\",\"Earth\",\"Europa\",\"Mars\",\"Mars\",\"Mars\",\"Mars\",\"Mars\",\"Earth\",\"Earth\",\"Earth\",\"Earth\",\"Earth\",\"Mars\",\"Earth\",\"Earth\",\"Mars\",\"Mars\",\"Earth\",\"Mars\",\"Earth\",\"Earth\",\"Earth\",\"Europa\",\"Europa\",\"Earth\",\"Earth\",\"Europa\",\"Europa\",null,\"Earth\",\"Earth\",\"Earth\",\"Mars\",\"Earth\",\"Earth\",\"Earth\",\"Earth\",\"Earth\",\"Earth\",\"Earth\",\"Earth\",\"Earth\",\"Earth\",\"Earth\",\"Earth\",\"Earth\",\"Europa\",\"Europa\",\"Europa\",\"Earth\",\"Mars\",\"Earth\",\"Europa\",\"Earth\",\"Mars\",\"Mars\",\"Earth\",\"Earth\",\"Mars\",\"Earth\",\"Earth\",\"Earth\",\"Earth\",\"Mars\",\"Mars\",\"Mars\",\"Earth\",\"Earth\",\"Earth\",\"Mars\",\"Europa\",\"Europa\",\"Europa\",\"Europa\",\"Earth\",\"Earth\",\"Earth\",\"Earth\",\"Earth\",\"Europa\",\"Europa\",\"Earth\",\"Earth\",\"Europa\",\"Earth\",\"Earth\",\"Earth\",\"Earth\",\"Europa\",\"Mars\",\"Europa\",\"Earth\",\"Earth\",\"Earth\",\"Europa\",\"Earth\",\"Earth\",\"Earth\",\"Mars\",\"Mars\",\"Mars\",\"Europa\",\"Earth\",\"Mars\",\"Earth\",\"Earth\",\"Earth\",\"Mars\",\"Earth\",\"Earth\",\"Earth\",\"Mars\",\"Earth\",\"Earth\",\"Earth\",null,\"Earth\",\"Mars\",\"Earth\",\"Earth\",\"Mars\",\"Mars\",\"Earth\",\"Europa\",\"Earth\",\"Earth\",\"Europa\",\"Europa\",\"Mars\",\"Mars\",\"Mars\",\"Mars\",null,\"Earth\",\"Earth\",\"Earth\",\"Earth\",\"Earth\",\"Earth\",\"Mars\",\"Europa\",\"Mars\",\"Mars\",\"Earth\",\"Earth\",\"Earth\",\"Earth\",\"Earth\",\"Earth\",null,\"Earth\",\"Earth\",\"Europa\",\"Europa\",\"Earth\",\"Earth\",\"Earth\",\"Europa\",\"Europa\",\"Earth\",\"Earth\",\"Earth\",\"Earth\",\"Earth\",\"Mars\",\"Earth\",\"Earth\",\"Mars\",\"Earth\",\"Mars\",\"Earth\",\"Earth\",\"Earth\",\"Earth\",\"Mars\",\"Earth\",\"Earth\",\"Earth\",\"Earth\",\"Earth\",\"Mars\",\"Earth\",\"Earth\",\"Earth\",\"Earth\",\"Mars\",\"Mars\",\"Mars\",\"Earth\",\"Earth\",\"Earth\",\"Earth\",\"Earth\",\"Earth\",\"Earth\",\"Earth\",\"Earth\",\"Earth\",\"Earth\",\"Earth\",\"Mars\",\"Earth\",\"Earth\",\"Earth\",\"Earth\",\"Earth\",\"Mars\",\"Europa\",\"Europa\",\"Earth\",\"Mars\",\"Mars\",\"Mars\",\"Earth\",\"Europa\",\"Mars\",\"Earth\",\"Earth\",\"Earth\",\"Earth\",\"Earth\",\"Earth\",\"Mars\",\"Earth\",\"Earth\",\"Earth\",\"Earth\",\"Earth\",\"Mars\",\"Mars\",\"Europa\",\"Europa\",\"Earth\",\"Earth\",\"Earth\",\"Mars\",\"Earth\",\"Europa\",\"Europa\",\"Europa\",\"Earth\",null,\"Mars\",\"Earth\",\"Earth\",\"Mars\",\"Earth\",\"Earth\",\"Earth\",\"Earth\",\"Mars\",\"Earth\",\"Earth\",\"Earth\",\"Earth\",\"Earth\",\"Earth\",\"Mars\",\"Earth\",\"Earth\",\"Mars\",\"Earth\",\"Earth\",\"Earth\",\"Mars\",\"Earth\",\"Earth\",\"Earth\",\"Earth\",\"Earth\",\"Earth\",\"Earth\",\"Earth\",\"Earth\",\"Earth\",\"Mars\",\"Mars\",\"Mars\",\"Earth\",\"Earth\",\"Earth\",\"Mars\",\"Mars\",\"Europa\",\"Earth\",\"Europa\",\"Europa\",\"Europa\",\"Europa\",\"Earth\",\"Earth\",\"Earth\",\"Mars\",\"Earth\",\"Mars\",\"Earth\",\"Earth\",\"Earth\",\"Mars\",\"Earth\",\"Europa\",\"Mars\",\"Mars\",\"Mars\",\"Earth\",\"Earth\",\"Earth\",\"Mars\",\"Earth\",\"Earth\",\"Europa\",\"Earth\",\"Mars\",\"Earth\",\"Earth\",\"Earth\",\"Europa\",\"Europa\",\"Earth\",\"Earth\",\"Earth\",\"Earth\",\"Earth\",\"Earth\",\"Earth\",\"Europa\",\"Europa\",\"Europa\",\"Europa\",\"Earth\",\"Europa\",\"Earth\",\"Mars\",\"Earth\",\"Earth\",\"Europa\",\"Earth\",\"Earth\",\"Earth\",\"Earth\",\"Europa\",\"Earth\",\"Earth\",\"Earth\",\"Mars\",\"Earth\",\"Europa\",\"Mars\",\"Mars\",\"Earth\",\"Earth\",\"Mars\",\"Earth\",\"Earth\",\"Earth\",\"Mars\",\"Europa\",\"Europa\",null,\"Earth\",\"Earth\",\"Europa\",\"Mars\",\"Earth\",\"Mars\",\"Mars\",\"Earth\",\"Earth\",\"Earth\",\"Earth\",\"Earth\",\"Earth\",\"Mars\",\"Earth\",\"Earth\",\"Earth\",\"Earth\",\"Earth\",\"Earth\",\"Mars\",\"Mars\",\"Europa\",\"Europa\",\"Mars\",\"Earth\",\"Earth\",\"Earth\",\"Mars\",\"Earth\",\"Earth\",\"Europa\",\"Europa\",\"Europa\",\"Europa\",\"Earth\",\"Earth\",\"Europa\",\"Europa\",\"Europa\",\"Europa\",\"Europa\",\"Earth\",\"Earth\",\"Earth\",\"Mars\",\"Mars\",\"Europa\",\"Earth\",\"Earth\",\"Mars\",\"Earth\",\"Earth\",\"Mars\",\"Mars\",\"Mars\",\"Earth\",\"Europa\",\"Europa\",\"Earth\",\"Earth\",\"Earth\",\"Earth\",\"Earth\",\"Earth\",\"Earth\",\"Mars\",\"Europa\",\"Mars\",\"Mars\",\"Mars\",\"Mars\",\"Mars\",\"Earth\",\"Earth\",\"Earth\",\"Earth\",\"Earth\",\"Earth\",\"Earth\",\"Earth\",\"Earth\",\"Earth\",\"Earth\",\"Mars\",\"Earth\",\"Europa\",\"Earth\",\"Earth\",\"Europa\",\"Europa\",\"Earth\",\"Earth\",\"Earth\",\"Mars\",\"Europa\",\"Earth\",\"Mars\",\"Earth\",\"Earth\",\"Europa\",\"Mars\",\"Europa\",\"Europa\",\"Europa\",\"Europa\",\"Earth\",\"Europa\",\"Earth\",\"Earth\",\"Europa\",\"Europa\",\"Earth\",\"Europa\",\"Earth\",\"Earth\",\"Earth\",\"Mars\",null,\"Europa\",\"Europa\",\"Europa\",\"Earth\",\"Earth\",\"Mars\",\"Earth\",\"Europa\",\"Earth\",\"Earth\",\"Earth\",\"Earth\",\"Earth\",\"Earth\",\"Europa\",\"Europa\",\"Earth\",\"Earth\",\"Earth\",\"Earth\",\"Earth\",\"Earth\",\"Europa\",\"Earth\",\"Earth\",\"Earth\",\"Earth\",\"Europa\",\"Earth\",\"Mars\",\"Mars\",\"Europa\",\"Earth\",\"Europa\",\"Mars\",\"Earth\",\"Europa\",\"Earth\",\"Mars\",\"Earth\",\"Mars\",\"Mars\",\"Earth\",\"Earth\",\"Earth\",\"Earth\",\"Earth\",\"Mars\",\"Europa\",\"Mars\",\"Mars\",\"Earth\",\"Mars\",\"Europa\",\"Europa\",\"Mars\",\"Mars\",\"Earth\",\"Earth\",\"Earth\",\"Earth\",\"Earth\",\"Mars\",\"Europa\",\"Mars\",\"Europa\",\"Europa\",\"Europa\",\"Earth\",\"Earth\",\"Europa\",\"Europa\",\"Earth\",\"Earth\",\"Earth\",\"Earth\",\"Mars\",\"Earth\",\"Mars\",\"Earth\",\"Mars\",\"Earth\",\"Earth\",\"Earth\",\"Europa\",\"Europa\",\"Mars\",\"Earth\",\"Europa\",\"Earth\",\"Earth\",\"Europa\",\"Earth\",\"Earth\",\"Earth\",\"Mars\",\"Mars\",\"Earth\",\"Earth\",\"Europa\",\"Mars\",\"Earth\",\"Earth\",\"Earth\",\"Earth\",\"Earth\",\"Earth\",\"Earth\",\"Earth\",\"Earth\",\"Earth\",\"Earth\",\"Earth\",\"Europa\",\"Earth\",\"Mars\",\"Earth\",\"Mars\",null,\"Mars\",\"Earth\",\"Earth\",\"Mars\",\"Europa\",\"Europa\",\"Earth\",\"Earth\",\"Earth\",\"Mars\",\"Earth\",\"Earth\",\"Earth\",\"Europa\",\"Earth\",\"Earth\",\"Earth\",\"Earth\",\"Earth\",\"Earth\",\"Earth\",\"Earth\",\"Europa\",\"Earth\",\"Earth\",\"Earth\",\"Earth\",\"Earth\",\"Europa\",\"Mars\",\"Mars\",null,\"Europa\",\"Mars\",\"Earth\",\"Earth\",\"Earth\",\"Earth\",\"Europa\",\"Earth\",\"Earth\",\"Earth\",\"Mars\",\"Mars\",\"Europa\",\"Europa\",\"Earth\",\"Earth\",\"Mars\",\"Mars\",\"Earth\",\"Europa\",\"Europa\",\"Earth\",\"Europa\",\"Europa\",\"Earth\",\"Earth\",\"Earth\",\"Mars\",\"Earth\",\"Earth\",\"Earth\",\"Europa\",\"Europa\",\"Mars\",\"Europa\",\"Earth\",\"Earth\",\"Earth\",\"Earth\",\"Earth\",\"Europa\",\"Europa\",\"Europa\",\"Europa\",\"Mars\",\"Earth\",\"Earth\",\"Earth\",\"Mars\",\"Earth\",\"Earth\",\"Earth\",\"Earth\",\"Earth\",\"Earth\",\"Earth\",\"Mars\",\"Earth\",\"Europa\",\"Mars\",\"Earth\",\"Earth\",\"Mars\",\"Earth\",\"Earth\",\"Earth\",\"Europa\",\"Earth\",\"Earth\",\"Mars\",\"Earth\",null,\"Earth\",\"Earth\",\"Earth\",\"Earth\",\"Mars\",\"Europa\",\"Earth\",\"Earth\",\"Earth\",\"Earth\",\"Earth\",\"Earth\",\"Europa\",\"Earth\",\"Earth\",\"Earth\",\"Earth\",\"Mars\",\"Earth\",\"Earth\",\"Earth\",\"Earth\",\"Earth\",\"Mars\",\"Mars\",\"Mars\",\"Europa\",\"Earth\",\"Europa\",\"Europa\",\"Earth\",\"Earth\",\"Earth\",\"Earth\",\"Earth\",\"Earth\",\"Earth\",\"Earth\",\"Earth\",\"Earth\",\"Mars\",\"Mars\",\"Earth\",\"Europa\",\"Europa\",\"Earth\",\"Earth\",\"Mars\",\"Europa\",\"Mars\",\"Mars\",\"Europa\",\"Europa\",\"Mars\",\"Mars\",\"Mars\",\"Earth\",null,\"Earth\",\"Earth\",\"Mars\",\"Europa\",\"Earth\",\"Mars\",\"Earth\",\"Mars\",\"Mars\",\"Mars\",\"Mars\",\"Mars\",\"Earth\",\"Mars\",\"Earth\",null,\"Mars\",\"Mars\",\"Mars\",\"Europa\",\"Earth\",\"Earth\",\"Earth\",\"Earth\",\"Earth\",\"Mars\",\"Mars\",\"Earth\",\"Mars\",\"Mars\",null,\"Earth\",\"Mars\",\"Mars\",\"Earth\",\"Mars\",\"Earth\",\"Earth\",\"Earth\",\"Earth\",\"Earth\",null,\"Earth\",\"Mars\",\"Mars\",\"Earth\",\"Earth\",\"Europa\",\"Mars\",\"Mars\",null,\"Europa\",\"Europa\",\"Europa\",\"Earth\",\"Earth\",\"Earth\",\"Earth\",\"Mars\",\"Europa\",\"Earth\",\"Earth\",\"Europa\",\"Earth\",\"Mars\",\"Earth\",\"Earth\",\"Mars\",\"Earth\",\"Mars\",\"Earth\",\"Earth\",\"Europa\",\"Earth\",\"Mars\",\"Earth\",\"Earth\",\"Earth\",\"Earth\",\"Earth\",\"Earth\",\"Earth\",\"Europa\",\"Mars\",\"Mars\",\"Mars\",\"Europa\",\"Mars\",\"Europa\",\"Mars\",\"Mars\",\"Earth\",\"Mars\",\"Europa\",\"Europa\",\"Europa\",\"Europa\",\"Europa\",\"Earth\",\"Earth\",\"Earth\",\"Mars\",\"Earth\",\"Earth\",\"Earth\",\"Earth\",\"Earth\",\"Earth\",\"Earth\",\"Europa\",\"Europa\",null,\"Earth\",\"Europa\",\"Europa\",\"Mars\",\"Mars\",\"Mars\",\"Mars\",\"Earth\",\"Earth\",\"Earth\",\"Earth\",\"Mars\",\"Mars\",\"Mars\",\"Europa\",\"Europa\",\"Europa\",\"Earth\",\"Earth\",\"Earth\",\"Earth\",\"Earth\",\"Earth\",\"Earth\",\"Earth\",\"Earth\",\"Europa\",\"Mars\",\"Europa\",\"Earth\",\"Mars\",\"Mars\",\"Earth\",\"Earth\",\"Mars\",\"Earth\",\"Earth\",\"Earth\",\"Earth\",\"Europa\",\"Earth\",\"Mars\",\"Earth\",\"Earth\",\"Earth\",\"Earth\",\"Earth\",\"Earth\",\"Europa\",\"Europa\",\"Earth\",\"Earth\",\"Earth\",\"Europa\",\"Earth\",\"Earth\",\"Earth\",\"Earth\",\"Earth\",\"Earth\",\"Earth\",\"Earth\",\"Earth\",\"Earth\",\"Earth\",\"Earth\",\"Europa\",\"Mars\",\"Earth\",\"Earth\",\"Earth\",\"Earth\",\"Earth\",\"Earth\",\"Europa\",\"Europa\",\"Europa\",\"Mars\",\"Earth\",\"Earth\",\"Earth\",\"Earth\",\"Earth\",\"Earth\",\"Earth\",\"Europa\",\"Mars\",\"Mars\",\"Earth\",\"Europa\",\"Earth\",\"Earth\",\"Earth\",\"Earth\",\"Earth\",\"Earth\",\"Mars\",\"Earth\",\"Earth\",\"Earth\",\"Europa\",\"Mars\",\"Earth\",\"Earth\",\"Earth\",\"Earth\",\"Earth\",\"Earth\",\"Earth\",\"Earth\",\"Earth\",\"Mars\",\"Mars\",\"Earth\",\"Mars\",\"Mars\",\"Earth\",\"Earth\",\"Mars\",\"Earth\",\"Earth\",\"Europa\",\"Earth\",\"Earth\",\"Earth\",\"Earth\",\"Earth\",\"Europa\",\"Europa\",\"Europa\",\"Europa\",\"Europa\",\"Europa\",\"Europa\",\"Europa\",\"Europa\",\"Mars\",null,\"Mars\",\"Mars\",\"Earth\",\"Earth\",\"Mars\",\"Mars\",\"Mars\",\"Mars\",\"Earth\",\"Europa\",\"Europa\",\"Mars\",\"Earth\",\"Earth\",\"Earth\",\"Mars\",\"Mars\",\"Mars\",\"Europa\",\"Europa\",\"Mars\",\"Mars\",\"Mars\",\"Mars\",null,\"Earth\",\"Mars\",\"Mars\",\"Earth\",\"Earth\",\"Europa\",\"Earth\",\"Earth\",\"Earth\",\"Earth\",\"Earth\",\"Earth\",\"Earth\",\"Earth\",\"Earth\",\"Earth\",\"Earth\",\"Earth\",\"Earth\",\"Europa\",\"Europa\",\"Earth\",null,\"Mars\",\"Mars\",\"Earth\",\"Mars\",\"Earth\",\"Mars\",\"Mars\",\"Earth\",\"Europa\",\"Mars\",\"Earth\",\"Europa\",\"Europa\",\"Mars\",\"Mars\",\"Mars\",\"Europa\",\"Europa\",\"Europa\",\"Earth\",\"Mars\",\"Mars\",\"Earth\",\"Earth\",\"Earth\",\"Mars\",\"Mars\",\"Earth\",\"Earth\",\"Earth\",\"Europa\",null,\"Europa\",\"Europa\",\"Mars\",\"Mars\",\"Europa\",\"Mars\",\"Mars\",\"Europa\",\"Europa\",\"Earth\",\"Earth\",\"Earth\",\"Earth\",\"Earth\",\"Earth\",\"Earth\",\"Europa\",\"Europa\",\"Europa\",\"Earth\",\"Earth\",\"Mars\",\"Earth\",\"Earth\",\"Earth\",\"Earth\",\"Earth\",\"Earth\",\"Earth\",\"Earth\",\"Earth\",\"Earth\",\"Europa\",\"Earth\",\"Earth\",\"Europa\",\"Europa\",\"Europa\",\"Mars\",\"Earth\",\"Mars\",\"Mars\",\"Europa\",\"Earth\",\"Earth\",\"Earth\",\"Earth\",\"Earth\",\"Mars\",\"Earth\",\"Earth\",\"Earth\",\"Mars\",\"Earth\",\"Earth\",\"Earth\",\"Mars\",\"Mars\",\"Mars\",\"Mars\",null,null,\"Earth\",\"Earth\",\"Earth\",\"Earth\",\"Mars\",\"Mars\",\"Europa\",\"Mars\",\"Earth\",\"Earth\",\"Earth\",\"Earth\",\"Earth\",\"Earth\",\"Earth\",\"Europa\",\"Earth\",\"Europa\",null,\"Europa\",\"Earth\",\"Earth\",\"Earth\",\"Europa\",\"Europa\",\"Earth\",\"Earth\",\"Earth\",\"Earth\",\"Earth\",\"Earth\",\"Earth\",\"Earth\",\"Earth\",null,\"Europa\",\"Mars\",\"Mars\",\"Mars\",\"Europa\",\"Earth\",\"Earth\",\"Earth\",\"Earth\",\"Earth\",\"Earth\",\"Europa\",\"Mars\",\"Earth\",\"Earth\",\"Europa\",null,\"Earth\",\"Earth\",\"Earth\",\"Mars\",\"Earth\",\"Earth\",\"Earth\",\"Earth\",\"Europa\",\"Earth\",\"Earth\",null,null,\"Earth\",\"Earth\",\"Earth\",\"Earth\",\"Europa\",\"Earth\",\"Europa\",\"Mars\",\"Mars\",\"Mars\",\"Earth\",\"Earth\",\"Earth\",\"Earth\",\"Europa\",\"Earth\",\"Earth\",\"Earth\",\"Earth\",\"Earth\",\"Earth\",\"Mars\",\"Mars\",\"Europa\",\"Mars\",\"Earth\",\"Europa\",\"Earth\",\"Mars\",\"Earth\",\"Earth\",\"Earth\",\"Mars\",\"Mars\",\"Earth\",\"Europa\",\"Europa\",\"Mars\",\"Earth\",\"Mars\",\"Earth\",\"Europa\",\"Earth\",\"Europa\",\"Mars\",\"Earth\",\"Earth\",\"Earth\",\"Europa\",\"Earth\",\"Earth\",\"Europa\",\"Mars\",\"Europa\",\"Europa\",\"Earth\",\"Earth\",\"Earth\",\"Earth\",\"Mars\",\"Mars\",\"Europa\",\"Earth\",\"Earth\",\"Mars\",\"Mars\",\"Mars\",null,\"Earth\",\"Europa\",\"Europa\",\"Earth\",\"Earth\",\"Mars\",\"Mars\",\"Earth\",\"Earth\",\"Earth\",\"Earth\",\"Earth\",\"Europa\",\"Mars\",\"Earth\",\"Europa\",\"Europa\",\"Earth\",\"Earth\",\"Earth\",\"Earth\",\"Earth\",\"Mars\",\"Earth\",\"Earth\",\"Earth\",\"Earth\",\"Earth\",\"Earth\",\"Europa\",\"Europa\",\"Europa\",\"Mars\",\"Earth\",\"Earth\",\"Earth\",\"Earth\",\"Earth\",\"Earth\",\"Earth\",\"Earth\",\"Earth\",\"Europa\",\"Europa\",\"Earth\",\"Earth\",\"Mars\",\"Mars\",\"Earth\",\"Europa\",\"Europa\",\"Earth\",\"Earth\",\"Europa\",\"Europa\",\"Earth\",\"Earth\",\"Earth\",\"Mars\",\"Europa\",\"Mars\",\"Earth\",\"Earth\",\"Earth\",\"Europa\",\"Europa\",\"Europa\",\"Europa\",\"Earth\",\"Earth\",\"Mars\",\"Mars\",\"Mars\",\"Mars\",\"Mars\",\"Earth\",\"Mars\",\"Mars\",\"Earth\",\"Mars\",\"Europa\",\"Earth\",\"Mars\",\"Earth\",\"Mars\",\"Earth\",\"Mars\",\"Earth\",\"Earth\",\"Earth\",\"Earth\",\"Earth\",\"Earth\",\"Earth\",\"Earth\",\"Earth\",\"Earth\",\"Earth\",\"Earth\",\"Earth\",\"Earth\",\"Europa\",\"Europa\",\"Earth\",\"Earth\",\"Earth\",\"Earth\",\"Earth\",\"Earth\",\"Earth\",\"Earth\",\"Earth\",\"Mars\",\"Earth\",\"Europa\",\"Earth\",\"Earth\",\"Earth\",\"Earth\",\"Mars\",\"Earth\",\"Earth\",\"Earth\",\"Europa\",\"Mars\",\"Earth\",\"Europa\",\"Earth\",\"Earth\",\"Europa\",\"Europa\",\"Earth\",\"Earth\",\"Mars\",\"Mars\",\"Mars\",\"Earth\",\"Earth\",\"Europa\",\"Mars\",\"Europa\",\"Mars\",\"Earth\",\"Earth\",\"Earth\",\"Mars\",\"Europa\",\"Earth\",\"Europa\",\"Mars\",\"Mars\",\"Earth\",\"Europa\",\"Earth\",\"Earth\",\"Earth\",\"Mars\",\"Earth\",\"Earth\",\"Earth\",\"Mars\",null,\"Earth\",\"Earth\",\"Mars\",\"Earth\",\"Earth\",\"Europa\",\"Earth\",\"Earth\",\"Mars\",\"Mars\",\"Europa\",null,\"Earth\",\"Earth\",\"Earth\",\"Mars\",\"Mars\",null,\"Europa\",\"Earth\",\"Europa\",null,\"Earth\",\"Europa\",\"Earth\",\"Earth\",\"Mars\",\"Mars\",\"Earth\",\"Mars\",\"Earth\",\"Earth\",\"Europa\",\"Earth\",\"Earth\",\"Earth\",\"Earth\",\"Mars\",\"Earth\",\"Earth\",\"Europa\",\"Europa\",\"Earth\",\"Earth\",\"Mars\",\"Mars\",\"Earth\",\"Earth\",\"Earth\",\"Mars\",\"Mars\",\"Earth\",\"Mars\",\"Earth\",\"Europa\",\"Mars\",\"Earth\",\"Earth\",\"Earth\",\"Earth\",\"Earth\",\"Earth\",\"Earth\",\"Earth\",\"Earth\",\"Earth\",\"Earth\",\"Earth\",\"Earth\",\"Mars\",\"Earth\",\"Earth\",\"Earth\",\"Earth\",\"Europa\",\"Europa\",\"Europa\",\"Europa\",\"Earth\",null,\"Europa\",\"Earth\",\"Mars\",\"Earth\",\"Earth\",\"Earth\",\"Earth\",\"Earth\",\"Earth\",\"Earth\",\"Europa\",\"Europa\",\"Europa\",\"Earth\",\"Earth\",\"Earth\",\"Earth\",\"Mars\",\"Mars\",\"Mars\",\"Earth\",\"Mars\",\"Earth\",\"Mars\",\"Europa\",\"Earth\",\"Mars\",\"Earth\",\"Earth\",\"Europa\",\"Earth\",\"Earth\",\"Earth\",\"Europa\",\"Europa\",\"Europa\",\"Earth\",\"Earth\",\"Mars\",\"Earth\",\"Earth\",\"Mars\",\"Earth\",\"Earth\",\"Earth\",\"Europa\",\"Europa\",\"Europa\",\"Europa\",\"Europa\",\"Mars\",\"Mars\",\"Earth\",\"Europa\",\"Mars\",\"Earth\",\"Europa\",\"Mars\",\"Mars\",\"Earth\",null,\"Mars\",\"Earth\",\"Earth\",\"Earth\",\"Earth\",\"Earth\",\"Earth\",\"Earth\",\"Earth\",\"Mars\",\"Earth\",\"Europa\",\"Europa\",\"Mars\",\"Mars\",\"Earth\",\"Mars\",\"Earth\",\"Earth\",\"Mars\",\"Mars\",\"Earth\",\"Mars\",\"Earth\",\"Earth\",\"Earth\",\"Earth\",\"Earth\",null,\"Mars\",\"Earth\",\"Earth\",null,null,\"Europa\",\"Mars\",\"Europa\",\"Europa\",\"Earth\",\"Earth\",\"Mars\",\"Earth\",\"Europa\",\"Earth\",\"Earth\",\"Earth\",\"Earth\",\"Mars\",\"Mars\",\"Earth\",\"Earth\",\"Earth\",\"Earth\",\"Earth\",\"Earth\",\"Earth\",\"Earth\",\"Earth\",\"Earth\",\"Europa\",\"Europa\",\"Earth\",\"Mars\",\"Earth\",\"Earth\",\"Mars\",\"Earth\",\"Europa\",\"Earth\",\"Earth\",\"Europa\",\"Mars\",\"Earth\",\"Europa\",\"Earth\",\"Earth\",\"Earth\",\"Earth\",\"Earth\",\"Earth\",\"Mars\",\"Earth\",\"Earth\",\"Earth\",\"Mars\",\"Earth\",\"Europa\",\"Earth\",\"Earth\",\"Europa\",\"Earth\",\"Mars\",\"Earth\",\"Mars\",\"Mars\",null,\"Earth\",\"Earth\",\"Mars\",\"Earth\",\"Earth\",\"Europa\",\"Earth\",\"Mars\",\"Earth\",\"Earth\",\"Earth\",\"Mars\",\"Earth\",\"Europa\",\"Earth\",\"Earth\",\"Earth\",\"Europa\",\"Earth\",\"Europa\",\"Europa\",\"Earth\",\"Earth\",\"Earth\",\"Earth\",\"Earth\",\"Earth\",\"Earth\",\"Europa\",\"Earth\",\"Earth\",\"Mars\",\"Mars\",\"Earth\",\"Earth\",\"Europa\",\"Earth\",\"Earth\",null,\"Europa\",\"Earth\",\"Earth\",\"Earth\",\"Mars\",\"Mars\",\"Europa\",\"Mars\",\"Earth\",\"Earth\",\"Earth\",\"Earth\",\"Mars\",\"Earth\",\"Europa\",\"Mars\",null,\"Europa\",\"Europa\",\"Earth\",\"Earth\",\"Earth\",\"Earth\",\"Earth\",\"Earth\",\"Mars\",\"Earth\",\"Earth\",\"Earth\",\"Europa\",\"Earth\",\"Earth\",\"Earth\",\"Earth\",\"Europa\",\"Earth\",\"Mars\",\"Mars\",\"Mars\",\"Earth\",\"Mars\",\"Earth\",\"Earth\",\"Earth\",\"Earth\",null,\"Earth\",\"Earth\",\"Earth\",\"Earth\",\"Mars\",\"Europa\",\"Mars\",\"Earth\",\"Earth\",\"Earth\",\"Earth\",\"Europa\",\"Mars\",\"Europa\",\"Europa\",\"Mars\",\"Earth\",\"Earth\",\"Earth\",\"Earth\",\"Earth\",\"Earth\",\"Earth\",\"Earth\",\"Europa\",\"Europa\",\"Mars\",\"Mars\",\"Europa\",\"Europa\",\"Earth\",\"Earth\",\"Europa\",\"Earth\",\"Earth\",null,\"Mars\",\"Earth\",null,\"Earth\",null,\"Mars\",\"Earth\",\"Earth\",\"Earth\",\"Earth\",\"Earth\",\"Mars\",\"Earth\",\"Earth\",null,\"Earth\",\"Earth\",\"Earth\",null,\"Mars\",\"Mars\",\"Europa\",\"Earth\",\"Earth\",\"Earth\",\"Earth\",\"Earth\",\"Earth\",\"Earth\",\"Mars\",\"Earth\",\"Mars\",\"Earth\",null,\"Mars\",\"Earth\",\"Earth\",\"Earth\",\"Earth\",\"Earth\",\"Europa\",\"Earth\",\"Earth\",\"Earth\",\"Earth\",\"Earth\",null,\"Earth\",\"Earth\",\"Earth\",\"Earth\",\"Earth\",\"Mars\",\"Earth\",\"Earth\",\"Earth\",\"Earth\",\"Earth\",\"Earth\",\"Earth\",\"Earth\",\"Earth\",\"Earth\",\"Europa\",\"Europa\",\"Earth\",\"Earth\",\"Earth\",\"Earth\",\"Earth\",\"Earth\",\"Earth\",\"Earth\",\"Europa\",\"Earth\",\"Earth\",\"Europa\",\"Earth\",\"Earth\",\"Europa\",\"Europa\",\"Mars\",\"Earth\",null,\"Mars\",\"Mars\",\"Earth\",\"Earth\",\"Earth\",\"Earth\",\"Earth\",\"Europa\",\"Europa\",\"Europa\",\"Earth\",\"Earth\",\"Europa\",\"Mars\",\"Mars\",\"Earth\",\"Earth\",\"Earth\",\"Earth\",\"Earth\",\"Earth\",\"Earth\",\"Mars\",\"Europa\",\"Earth\",\"Earth\",\"Earth\",\"Earth\",\"Earth\",\"Earth\",\"Earth\",\"Earth\",\"Earth\",\"Mars\",\"Mars\",\"Earth\",\"Earth\",\"Earth\",null,\"Earth\",\"Earth\",\"Earth\",\"Earth\",\"Mars\",\"Mars\",\"Earth\",\"Europa\",\"Earth\",null,\"Mars\",\"Earth\",\"Mars\",\"Earth\",\"Earth\",\"Europa\",\"Earth\",\"Europa\",\"Europa\",\"Earth\",\"Earth\",\"Earth\",\"Earth\",\"Europa\",\"Earth\",\"Mars\",\"Mars\",\"Earth\",\"Europa\",\"Europa\",\"Earth\",\"Mars\",\"Earth\",\"Earth\",\"Earth\",\"Earth\",\"Mars\",\"Europa\",\"Earth\",\"Earth\",\"Earth\",\"Europa\",\"Europa\",\"Earth\",\"Earth\",\"Earth\",\"Earth\",\"Earth\",\"Earth\",\"Earth\",\"Earth\",\"Mars\",\"Europa\",\"Earth\",\"Earth\",\"Europa\",\"Earth\",\"Earth\",\"Earth\",\"Earth\",\"Mars\",\"Earth\",\"Earth\",\"Earth\",\"Earth\",\"Earth\",\"Mars\",\"Earth\",\"Earth\",\"Europa\",\"Earth\",\"Mars\",\"Earth\",\"Earth\",\"Earth\",\"Earth\",\"Earth\",\"Earth\",\"Europa\",\"Earth\",\"Earth\",\"Earth\",\"Earth\",\"Europa\",\"Earth\",\"Earth\",\"Earth\",\"Earth\",\"Europa\",\"Europa\",\"Europa\",\"Europa\",\"Earth\",\"Mars\",\"Earth\",\"Earth\",\"Earth\",\"Earth\",\"Mars\",\"Earth\",\"Mars\",\"Earth\",\"Earth\",\"Earth\",\"Earth\",\"Earth\",\"Earth\",\"Earth\",\"Earth\",\"Earth\",\"Earth\",\"Earth\",\"Earth\",\"Earth\",\"Earth\",\"Earth\",\"Earth\",\"Earth\",\"Mars\",\"Earth\",\"Earth\",\"Earth\",\"Earth\",\"Mars\",\"Europa\",\"Earth\",null,\"Earth\",\"Mars\",\"Mars\",\"Mars\",\"Earth\",\"Mars\",null,\"Europa\",\"Earth\",\"Mars\",\"Earth\",\"Earth\",\"Europa\",\"Earth\",\"Earth\",\"Earth\",\"Mars\",\"Mars\",\"Earth\",\"Earth\",\"Europa\",\"Earth\",\"Earth\",\"Earth\",\"Earth\",\"Earth\",\"Europa\",\"Mars\",\"Mars\",\"Europa\",\"Europa\",\"Earth\",\"Europa\",\"Earth\",\"Earth\",\"Earth\",\"Earth\",\"Europa\",\"Europa\",\"Earth\",\"Earth\",\"Earth\",\"Earth\",\"Earth\",\"Mars\",\"Earth\",\"Earth\",\"Earth\",\"Europa\",\"Earth\",\"Earth\",\"Earth\",\"Earth\",\"Earth\",\"Earth\",\"Earth\",\"Earth\",\"Europa\",\"Europa\",\"Mars\",\"Earth\",\"Earth\",\"Earth\",\"Earth\",\"Europa\",\"Earth\",\"Earth\",\"Earth\",\"Earth\",\"Europa\",\"Earth\",\"Earth\",\"Mars\",\"Mars\",\"Earth\",\"Earth\",\"Europa\",\"Mars\",\"Europa\",\"Earth\",\"Earth\",\"Europa\",\"Earth\",\"Earth\",\"Earth\",\"Mars\",\"Earth\",\"Mars\",\"Europa\",\"Europa\",\"Earth\",\"Earth\",\"Europa\",\"Europa\",\"Earth\",\"Earth\",\"Earth\",\"Earth\",\"Earth\",\"Europa\",\"Earth\",\"Mars\",\"Europa\",\"Europa\",\"Earth\",\"Earth\",\"Earth\",\"Mars\",\"Europa\",\"Europa\",\"Earth\",\"Mars\",\"Earth\",\"Europa\",\"Mars\",\"Earth\",\"Earth\",\"Mars\",\"Mars\",\"Earth\",\"Earth\",\"Earth\",\"Europa\",\"Mars\",\"Mars\",\"Europa\",\"Mars\",\"Earth\",\"Earth\",\"Earth\",\"Mars\",\"Europa\",\"Mars\",\"Mars\",\"Earth\",\"Earth\",\"Mars\",\"Mars\",null,\"Europa\",\"Europa\",\"Earth\",\"Earth\",\"Earth\",\"Earth\",\"Earth\",\"Earth\",\"Earth\",\"Mars\",\"Europa\",\"Europa\",\"Earth\",\"Earth\",\"Earth\",\"Earth\",\"Earth\",null,\"Mars\",\"Europa\",\"Europa\",\"Mars\",\"Earth\",\"Earth\",\"Earth\",\"Earth\",\"Earth\",\"Mars\",\"Earth\",\"Earth\",\"Earth\",\"Mars\",\"Earth\",\"Mars\",\"Mars\",\"Earth\",\"Mars\",\"Earth\",\"Mars\",\"Earth\",\"Earth\",\"Europa\",\"Europa\",\"Earth\",\"Europa\",\"Europa\",\"Mars\",\"Earth\",\"Earth\",\"Mars\",\"Mars\",\"Mars\",\"Earth\",\"Earth\",\"Earth\",\"Earth\",\"Mars\",\"Mars\",\"Mars\",\"Earth\",\"Earth\",\"Earth\",\"Earth\",\"Earth\",\"Earth\",\"Mars\",\"Mars\",\"Earth\",\"Mars\",\"Earth\",\"Earth\",\"Earth\",\"Earth\",\"Earth\",\"Europa\",\"Europa\",\"Mars\",\"Mars\",\"Earth\",\"Earth\",\"Earth\",\"Earth\",\"Earth\",\"Earth\",\"Earth\",\"Europa\",\"Europa\",\"Earth\",\"Earth\",\"Earth\",\"Europa\",\"Earth\",\"Earth\",\"Mars\",\"Earth\",\"Earth\",\"Mars\",\"Earth\",\"Earth\",\"Earth\",\"Earth\",\"Mars\",\"Mars\",\"Earth\",\"Earth\",\"Earth\",\"Earth\",\"Earth\",\"Earth\",\"Europa\",\"Mars\",\"Earth\",\"Earth\",\"Earth\",\"Mars\",\"Earth\",\"Earth\",\"Earth\",\"Earth\",\"Earth\",\"Earth\",\"Earth\",\"Earth\",\"Earth\",\"Earth\",\"Earth\",\"Earth\",\"Earth\",\"Earth\",\"Earth\",\"Mars\",\"Earth\",\"Earth\",\"Europa\",\"Earth\",\"Earth\",\"Europa\",\"Earth\",\"Europa\",\"Europa\",\"Europa\",\"Mars\",\"Earth\",\"Earth\",\"Earth\",\"Earth\",\"Earth\",\"Europa\",\"Earth\",\"Earth\",\"Mars\",\"Mars\",\"Earth\",\"Earth\",\"Europa\",\"Mars\",\"Europa\",\"Earth\",\"Earth\",\"Earth\",null,\"Mars\",\"Earth\",\"Earth\",null,\"Earth\",\"Earth\",\"Earth\",\"Earth\",\"Earth\",\"Earth\",\"Earth\",\"Earth\",\"Europa\",\"Europa\",\"Earth\",\"Earth\",\"Mars\",\"Mars\",\"Earth\",\"Europa\",\"Europa\",\"Europa\",\"Earth\",\"Earth\",\"Earth\",\"Earth\",\"Earth\",\"Earth\",\"Earth\",\"Earth\",\"Earth\",\"Earth\",\"Earth\",null,\"Earth\",\"Mars\",\"Mars\",\"Earth\",\"Europa\",\"Earth\",\"Earth\",\"Earth\",\"Mars\",\"Mars\",\"Earth\",\"Earth\",\"Earth\",\"Earth\",\"Earth\",\"Earth\",\"Earth\",\"Earth\",\"Earth\",\"Earth\",\"Europa\",\"Mars\",\"Earth\",\"Europa\",\"Earth\",\"Earth\",\"Earth\",\"Mars\",\"Earth\",\"Earth\",\"Earth\",\"Earth\",\"Earth\",\"Earth\",\"Earth\",\"Earth\",\"Europa\",\"Earth\",\"Earth\",\"Mars\",\"Earth\",\"Mars\",\"Earth\",null,\"Earth\",\"Mars\",\"Europa\",\"Europa\",\"Earth\",\"Mars\",\"Europa\",\"Earth\",\"Earth\",\"Earth\",\"Europa\",\"Earth\",\"Earth\",\"Mars\",\"Earth\",\"Earth\",\"Europa\",\"Europa\",\"Earth\",\"Mars\",\"Mars\",\"Europa\",\"Earth\",\"Earth\",\"Earth\",\"Earth\",\"Earth\",\"Earth\",\"Earth\",\"Earth\",\"Earth\",\"Earth\",\"Earth\",null,\"Europa\",\"Europa\",\"Earth\",\"Earth\",\"Earth\",\"Earth\",\"Earth\",\"Earth\",\"Earth\",\"Earth\",\"Earth\",\"Mars\",\"Mars\",\"Earth\",\"Earth\",\"Earth\",\"Earth\",\"Mars\",\"Earth\",\"Earth\",\"Earth\",\"Earth\",\"Europa\",\"Mars\",\"Mars\",\"Earth\",\"Earth\",\"Mars\",\"Mars\",\"Earth\",\"Earth\",\"Earth\",\"Earth\",\"Europa\",\"Earth\",\"Earth\",\"Earth\",\"Earth\",\"Earth\",\"Earth\",\"Mars\",\"Earth\",\"Earth\",\"Europa\",\"Earth\",\"Earth\",\"Earth\",\"Earth\",\"Earth\",\"Earth\",\"Mars\",\"Europa\",\"Earth\",\"Earth\",\"Earth\",\"Earth\",null,\"Europa\",\"Europa\",\"Europa\",\"Europa\",\"Europa\",\"Earth\",\"Earth\",\"Earth\",\"Earth\",\"Earth\",\"Mars\",\"Earth\",\"Earth\",\"Earth\",\"Earth\",\"Mars\",\"Earth\",\"Earth\",\"Mars\",\"Mars\",\"Earth\",\"Earth\",null,\"Earth\",\"Earth\",\"Europa\",\"Europa\",\"Earth\",\"Europa\"],\"xaxis\":\"x\",\"yaxis\":\"y\",\"type\":\"histogram\"},{\"alignmentgroup\":\"True\",\"bingroup\":\"x\",\"hovertemplate\":\"Transported=True<br>HomePlanet=%{x}<br>count=%{y}<extra></extra>\",\"legendgroup\":\"True\",\"marker\":{\"color\":\"#EF553B\",\"pattern\":{\"shape\":\"\"}},\"name\":\"True\",\"offsetgroup\":\"True\",\"orientation\":\"v\",\"showlegend\":true,\"x\":[\"Earth\",\"Earth\",\"Earth\",\"Earth\",\"Earth\",\"Earth\",\"Europa\",\"Europa\",\"Europa\",\"Mars\",\"Earth\",\"Mars\",\"Earth\",\"Earth\",\"Europa\",\"Mars\",\"Mars\",\"Mars\",\"Europa\",\"Earth\",\"Earth\",\"Earth\",\"Mars\",\"Earth\",\"Europa\",\"Europa\",\"Europa\",\"Mars\",null,\"Earth\",\"Earth\",\"Earth\",\"Europa\",\"Mars\",\"Mars\",\"Mars\",\"Mars\",\"Earth\",\"Europa\",\"Mars\",\"Earth\",\"Earth\",\"Earth\",\"Earth\",\"Earth\",\"Earth\",\"Mars\",\"Earth\",\"Earth\",\"Earth\",\"Europa\",\"Europa\",\"Europa\",\"Europa\",\"Earth\",\"Mars\",\"Europa\",\"Europa\",\"Mars\",\"Mars\",\"Earth\",\"Mars\",\"Earth\",\"Earth\",\"Europa\",\"Earth\",\"Earth\",\"Earth\",\"Earth\",\"Europa\",\"Europa\",\"Earth\",\"Mars\",\"Mars\",\"Earth\",\"Earth\",\"Earth\",\"Earth\",\"Earth\",\"Europa\",\"Earth\",\"Earth\",\"Earth\",\"Mars\",\"Mars\",\"Mars\",\"Earth\",\"Earth\",\"Europa\",\"Europa\",\"Europa\",\"Europa\",\"Europa\",\"Europa\",null,\"Mars\",\"Mars\",\"Earth\",\"Earth\",\"Earth\",\"Earth\",\"Mars\",\"Mars\",\"Mars\",\"Earth\",\"Europa\",\"Mars\",\"Mars\",\"Mars\",\"Europa\",null,\"Earth\",\"Europa\",\"Mars\",\"Earth\",\"Europa\",\"Earth\",\"Europa\",\"Earth\",\"Earth\",\"Earth\",\"Earth\",\"Earth\",\"Europa\",\"Europa\",\"Europa\",\"Europa\",\"Europa\",\"Europa\",\"Europa\",\"Europa\",\"Europa\",\"Europa\",\"Earth\",\"Europa\",null,\"Earth\",\"Earth\",\"Earth\",\"Earth\",\"Earth\",null,\"Europa\",\"Europa\",\"Earth\",\"Europa\",\"Europa\",\"Mars\",\"Mars\",\"Mars\",\"Mars\",\"Earth\",\"Europa\",\"Earth\",\"Mars\",\"Mars\",\"Earth\",\"Earth\",\"Europa\",\"Earth\",\"Earth\",\"Earth\",\"Mars\",\"Earth\",\"Mars\",\"Earth\",\"Europa\",\"Europa\",\"Europa\",\"Europa\",\"Earth\",\"Europa\",\"Europa\",\"Europa\",\"Earth\",\"Earth\",\"Europa\",\"Earth\",\"Mars\",null,\"Mars\",\"Europa\",\"Europa\",\"Europa\",\"Europa\",\"Mars\",\"Mars\",\"Europa\",\"Europa\",\"Europa\",\"Europa\",\"Earth\",\"Mars\",\"Europa\",\"Mars\",\"Earth\",\"Earth\",\"Europa\",\"Europa\",\"Earth\",\"Earth\",\"Earth\",\"Mars\",\"Europa\",\"Europa\",\"Europa\",\"Europa\",\"Europa\",\"Europa\",\"Earth\",\"Europa\",\"Earth\",\"Earth\",\"Earth\",\"Earth\",\"Earth\",\"Mars\",null,\"Europa\",\"Earth\",\"Mars\",\"Mars\",\"Earth\",\"Earth\",\"Europa\",\"Europa\",\"Mars\",\"Mars\",\"Mars\",\"Europa\",\"Europa\",\"Europa\",\"Europa\",null,\"Mars\",\"Earth\",\"Europa\",\"Europa\",\"Europa\",\"Earth\",\"Europa\",null,\"Earth\",\"Earth\",\"Earth\",\"Earth\",\"Mars\",\"Earth\",\"Earth\",\"Europa\",\"Europa\",null,\"Europa\",\"Mars\",\"Earth\",\"Mars\",\"Mars\",\"Earth\",\"Europa\",\"Europa\",\"Europa\",\"Europa\",\"Earth\",\"Earth\",null,\"Europa\",\"Europa\",\"Mars\",\"Earth\",\"Europa\",\"Earth\",\"Europa\",\"Europa\",\"Europa\",\"Europa\",\"Europa\",\"Europa\",\"Europa\",\"Earth\",\"Earth\",\"Mars\",\"Mars\",\"Mars\",\"Mars\",\"Mars\",\"Mars\",\"Europa\",\"Mars\",\"Earth\",\"Mars\",\"Mars\",\"Mars\",\"Europa\",\"Mars\",\"Mars\",\"Earth\",\"Earth\",\"Europa\",\"Earth\",\"Earth\",\"Earth\",\"Earth\",\"Europa\",\"Europa\",\"Earth\",\"Earth\",\"Mars\",\"Mars\",\"Earth\",\"Europa\",\"Earth\",\"Europa\",\"Europa\",\"Europa\",\"Europa\",\"Mars\",\"Europa\",\"Europa\",\"Mars\",\"Mars\",\"Earth\",\"Mars\",\"Mars\",\"Earth\",\"Earth\",\"Earth\",null,\"Earth\",\"Mars\",\"Mars\",\"Mars\",\"Mars\",\"Mars\",\"Europa\",\"Mars\",\"Mars\",\"Europa\",\"Earth\",\"Earth\",\"Mars\",\"Europa\",\"Earth\",\"Earth\",\"Earth\",\"Earth\",\"Europa\",\"Europa\",\"Europa\",\"Mars\",\"Earth\",\"Earth\",\"Earth\",\"Earth\",\"Europa\",\"Earth\",\"Earth\",\"Earth\",\"Mars\",\"Europa\",\"Earth\",\"Europa\",\"Europa\",\"Europa\",\"Europa\",\"Europa\",\"Europa\",\"Mars\",\"Europa\",\"Europa\",\"Earth\",\"Earth\",\"Europa\",null,\"Europa\",\"Earth\",\"Mars\",\"Europa\",\"Earth\",\"Europa\",\"Earth\",\"Mars\",\"Mars\",\"Europa\",\"Mars\",\"Mars\",\"Europa\",\"Earth\",\"Mars\",\"Mars\",\"Mars\",\"Mars\",\"Mars\",\"Europa\",\"Earth\",\"Earth\",\"Earth\",\"Earth\",\"Earth\",\"Earth\",\"Earth\",\"Earth\",\"Earth\",\"Earth\",\"Europa\",\"Mars\",\"Mars\",\"Europa\",\"Europa\",\"Mars\",null,\"Earth\",\"Europa\",\"Europa\",\"Earth\",\"Europa\",\"Europa\",\"Earth\",\"Europa\",\"Earth\",\"Earth\",\"Mars\",\"Earth\",\"Earth\",\"Earth\",null,\"Europa\",\"Europa\",\"Europa\",\"Europa\",\"Mars\",\"Mars\",\"Europa\",\"Earth\",\"Earth\",\"Earth\",\"Mars\",\"Europa\",\"Earth\",\"Earth\",\"Earth\",\"Earth\",\"Earth\",\"Earth\",\"Earth\",\"Earth\",\"Mars\",\"Earth\",\"Europa\",\"Europa\",\"Mars\",\"Earth\",\"Earth\",\"Europa\",\"Earth\",\"Earth\",\"Earth\",\"Earth\",\"Earth\",\"Earth\",\"Earth\",\"Europa\",\"Europa\",\"Europa\",\"Europa\",\"Europa\",\"Mars\",\"Mars\",\"Europa\",\"Earth\",\"Earth\",\"Europa\",\"Europa\",\"Earth\",\"Mars\",\"Earth\",\"Earth\",\"Mars\",\"Earth\",\"Mars\",\"Mars\",\"Mars\",\"Earth\",\"Mars\",\"Earth\",\"Earth\",\"Europa\",\"Earth\",\"Earth\",\"Mars\",\"Mars\",\"Earth\",null,\"Mars\",\"Europa\",null,\"Europa\",\"Mars\",\"Mars\",\"Europa\",\"Europa\",\"Mars\",\"Mars\",\"Mars\",\"Earth\",\"Earth\",\"Earth\",null,\"Mars\",\"Mars\",\"Europa\",\"Mars\",\"Mars\",\"Mars\",\"Europa\",\"Europa\",\"Earth\",\"Earth\",\"Earth\",\"Earth\",\"Earth\",\"Earth\",\"Europa\",\"Mars\",\"Mars\",\"Europa\",\"Earth\",\"Europa\",\"Europa\",\"Europa\",\"Earth\",\"Earth\",\"Earth\",\"Europa\",\"Europa\",\"Europa\",\"Europa\",\"Europa\",\"Earth\",\"Earth\",\"Europa\",\"Europa\",\"Europa\",\"Earth\",\"Europa\",\"Europa\",\"Europa\",\"Earth\",\"Europa\",\"Europa\",\"Mars\",\"Earth\",\"Earth\",\"Mars\",\"Europa\",\"Europa\",\"Mars\",\"Mars\",\"Mars\",\"Earth\",\"Earth\",\"Earth\",\"Europa\",\"Europa\",\"Earth\",\"Mars\",\"Earth\",\"Earth\",\"Earth\",\"Earth\",\"Earth\",\"Earth\",\"Earth\",\"Earth\",\"Europa\",\"Earth\",\"Mars\",\"Mars\",\"Earth\",\"Europa\",\"Earth\",\"Earth\",\"Earth\",\"Europa\",\"Europa\",\"Earth\",\"Earth\",\"Europa\",\"Earth\",\"Mars\",\"Mars\",\"Earth\",\"Earth\",\"Europa\",\"Earth\",\"Mars\",\"Mars\",\"Mars\",\"Mars\",\"Europa\",\"Europa\",\"Europa\",\"Europa\",\"Earth\",\"Mars\",\"Earth\",\"Earth\",\"Earth\",\"Europa\",\"Europa\",\"Europa\",\"Europa\",\"Earth\",\"Mars\",\"Earth\",\"Europa\",\"Earth\",\"Earth\",\"Earth\",\"Earth\",\"Earth\",\"Mars\",\"Earth\",\"Earth\",null,\"Europa\",\"Earth\",\"Mars\",\"Mars\",\"Mars\",\"Earth\",\"Mars\",\"Earth\",\"Europa\",\"Earth\",\"Europa\",\"Earth\",\"Earth\",\"Europa\",\"Earth\",\"Earth\",\"Earth\",\"Earth\",\"Earth\",\"Earth\",\"Mars\",\"Earth\",\"Earth\",\"Earth\",\"Earth\",\"Earth\",\"Earth\",\"Europa\",\"Europa\",\"Europa\",\"Europa\",\"Europa\",\"Europa\",\"Europa\",\"Europa\",\"Earth\",\"Earth\",\"Europa\",\"Mars\",\"Earth\",\"Earth\",\"Earth\",\"Earth\",\"Europa\",\"Earth\",\"Europa\",\"Europa\",\"Europa\",\"Europa\",\"Earth\",\"Europa\",\"Europa\",\"Europa\",\"Europa\",\"Earth\",\"Earth\",\"Earth\",\"Mars\",\"Mars\",\"Mars\",\"Mars\",\"Earth\",\"Earth\",\"Earth\",\"Earth\",\"Earth\",\"Earth\",\"Earth\",\"Earth\",\"Europa\",\"Europa\",\"Earth\",\"Mars\",\"Europa\",\"Europa\",\"Earth\",\"Mars\",\"Europa\",\"Europa\",\"Mars\",\"Europa\",\"Europa\",\"Mars\",\"Europa\",\"Europa\",\"Earth\",\"Europa\",\"Mars\",\"Europa\",\"Europa\",\"Europa\",\"Europa\",\"Earth\",\"Mars\",\"Earth\",\"Earth\",\"Mars\",\"Mars\",\"Earth\",\"Europa\",\"Europa\",\"Europa\",\"Europa\",\"Europa\",\"Earth\",\"Europa\",\"Europa\",\"Earth\",\"Europa\",\"Europa\",\"Earth\",\"Earth\",\"Europa\",\"Earth\",\"Europa\",\"Europa\",\"Earth\",\"Earth\",\"Earth\",\"Earth\",\"Mars\",\"Earth\",\"Earth\",\"Earth\",\"Europa\",\"Europa\",\"Earth\",\"Europa\",\"Earth\",\"Earth\",\"Earth\",\"Earth\",\"Earth\",\"Earth\",\"Earth\",\"Earth\",\"Earth\",\"Mars\",\"Europa\",\"Earth\",\"Europa\",\"Mars\",\"Mars\",\"Earth\",\"Earth\",\"Earth\",null,\"Earth\",\"Europa\",\"Mars\",\"Mars\",\"Mars\",\"Earth\",\"Earth\",\"Earth\",\"Europa\",\"Mars\",\"Earth\",\"Earth\",\"Earth\",\"Earth\",\"Earth\",\"Earth\",\"Earth\",\"Mars\",\"Earth\",\"Earth\",\"Earth\",\"Earth\",\"Earth\",\"Europa\",\"Mars\",\"Europa\",\"Europa\",\"Europa\",\"Europa\",\"Mars\",\"Europa\",\"Earth\",\"Mars\",\"Earth\",\"Earth\",\"Europa\",\"Europa\",\"Europa\",\"Earth\",\"Earth\",\"Earth\",\"Mars\",\"Earth\",\"Earth\",null,\"Europa\",\"Europa\",\"Earth\",\"Earth\",null,\"Earth\",\"Europa\",\"Europa\",\"Europa\",\"Europa\",\"Europa\",\"Mars\",\"Earth\",\"Earth\",\"Earth\",\"Earth\",\"Europa\",\"Earth\",\"Earth\",\"Mars\",\"Mars\",\"Earth\",\"Earth\",\"Mars\",\"Europa\",\"Earth\",\"Earth\",\"Europa\",\"Europa\",\"Earth\",\"Europa\",\"Europa\",\"Europa\",\"Europa\",\"Europa\",\"Europa\",\"Europa\",\"Europa\",\"Europa\",\"Europa\",\"Europa\",\"Earth\",\"Europa\",\"Earth\",\"Earth\",\"Mars\",\"Europa\",\"Europa\",\"Earth\",\"Earth\",\"Earth\",\"Earth\",\"Earth\",\"Earth\",\"Europa\",\"Europa\",\"Europa\",\"Europa\",\"Europa\",\"Europa\",\"Europa\",\"Europa\",\"Mars\",null,\"Earth\",\"Earth\",\"Europa\",\"Mars\",\"Earth\",\"Mars\",\"Earth\",\"Earth\",\"Europa\",\"Europa\",\"Europa\",\"Europa\",\"Earth\",\"Earth\",\"Europa\",null,\"Earth\",\"Earth\",\"Earth\",\"Earth\",\"Mars\",\"Europa\",\"Europa\",\"Earth\",\"Mars\",\"Earth\",\"Earth\",\"Earth\",\"Mars\",null,\"Earth\",\"Earth\",\"Earth\",\"Earth\",\"Earth\",\"Europa\",\"Earth\",\"Europa\",\"Earth\",\"Europa\",\"Europa\",\"Earth\",\"Europa\",\"Europa\",\"Europa\",\"Earth\",\"Earth\",\"Earth\",\"Mars\",\"Mars\",\"Europa\",\"Mars\",\"Earth\",\"Europa\",\"Europa\",\"Mars\",\"Earth\",\"Earth\",\"Mars\",\"Mars\",\"Mars\",\"Mars\",\"Earth\",\"Mars\",\"Earth\",\"Earth\",\"Mars\",\"Mars\",\"Europa\",\"Earth\",\"Earth\",\"Mars\",\"Mars\",\"Mars\",\"Europa\",\"Mars\",\"Earth\",\"Earth\",\"Earth\",\"Mars\",\"Mars\",\"Earth\",\"Europa\",\"Europa\",\"Earth\",\"Europa\",\"Europa\",\"Earth\",\"Europa\",\"Europa\",\"Europa\",\"Earth\",\"Earth\",\"Earth\",\"Earth\",\"Mars\",\"Mars\",\"Mars\",\"Europa\",\"Europa\",\"Europa\",\"Earth\",\"Earth\",\"Europa\",\"Europa\",\"Earth\",\"Europa\",\"Europa\",\"Earth\",\"Earth\",\"Earth\",\"Mars\",\"Mars\",\"Mars\",\"Earth\",\"Earth\",\"Earth\",\"Europa\",\"Europa\",\"Europa\",\"Earth\",\"Mars\",\"Earth\",\"Earth\",\"Mars\",\"Europa\",\"Europa\",\"Europa\",\"Europa\",\"Europa\",\"Europa\",\"Europa\",\"Europa\",\"Europa\",\"Europa\",\"Earth\",\"Earth\",\"Europa\",\"Mars\",\"Europa\",\"Earth\",\"Earth\",\"Earth\",\"Earth\",\"Earth\",\"Earth\",\"Mars\",\"Mars\",\"Earth\",\"Earth\",\"Europa\",\"Earth\",\"Europa\",\"Mars\",\"Earth\",\"Europa\",\"Earth\",\"Earth\",null,\"Earth\",null,\"Earth\",\"Europa\",\"Europa\",null,\"Mars\",\"Earth\",\"Earth\",\"Earth\",\"Earth\",\"Earth\",\"Earth\",\"Mars\",\"Earth\",\"Mars\",\"Mars\",\"Europa\",\"Europa\",\"Mars\",\"Earth\",\"Mars\",\"Earth\",\"Mars\",\"Mars\",\"Mars\",\"Earth\",\"Earth\",\"Earth\",\"Mars\",\"Europa\",\"Europa\",\"Europa\",\"Mars\",\"Europa\",\"Mars\",\"Europa\",\"Europa\",\"Europa\",\"Mars\",\"Europa\",\"Europa\",\"Europa\",\"Europa\",\"Earth\",\"Mars\",\"Europa\",\"Europa\",\"Europa\",\"Earth\",\"Mars\",\"Earth\",\"Mars\",\"Europa\",\"Earth\",\"Europa\",\"Europa\",\"Mars\",\"Earth\",\"Earth\",\"Earth\",\"Earth\",\"Europa\",\"Europa\",\"Europa\",\"Europa\",\"Mars\",\"Mars\",\"Mars\",\"Mars\",\"Earth\",\"Mars\",\"Europa\",\"Mars\",\"Earth\",\"Europa\",\"Europa\",\"Europa\",\"Earth\",\"Europa\",\"Europa\",\"Europa\",\"Earth\",\"Europa\",\"Mars\",\"Mars\",\"Mars\",\"Mars\",\"Mars\",\"Mars\",\"Mars\",\"Mars\",\"Europa\",\"Europa\",\"Europa\",\"Europa\",\"Earth\",null,\"Earth\",\"Europa\",\"Mars\",\"Mars\",\"Mars\",\"Europa\",\"Europa\",\"Europa\",\"Europa\",\"Europa\",\"Earth\",\"Mars\",\"Earth\",\"Earth\",\"Mars\",\"Europa\",\"Europa\",\"Earth\",\"Europa\",\"Earth\",\"Earth\",\"Earth\",\"Earth\",\"Europa\",\"Europa\",\"Europa\",\"Earth\",\"Mars\",\"Mars\",\"Mars\",\"Europa\",\"Earth\",\"Europa\",\"Earth\",\"Mars\",\"Europa\",\"Europa\",\"Mars\",\"Earth\",null,\"Earth\",\"Earth\",\"Mars\",\"Europa\",\"Earth\",\"Earth\",\"Mars\",\"Earth\",\"Earth\",\"Mars\",\"Earth\",\"Europa\",\"Earth\",\"Earth\",\"Earth\",\"Earth\",\"Earth\",\"Mars\",\"Mars\",\"Europa\",\"Earth\",\"Europa\",\"Earth\",\"Europa\",\"Europa\",\"Earth\",\"Earth\",\"Europa\",\"Europa\",null,\"Earth\",\"Earth\",\"Earth\",\"Mars\",\"Earth\",null,\"Mars\",\"Mars\",\"Mars\",\"Earth\",\"Earth\",null,\"Earth\",\"Earth\",\"Mars\",\"Europa\",\"Mars\",\"Europa\",\"Europa\",\"Europa\",\"Earth\",\"Earth\",\"Earth\",\"Europa\",\"Europa\",\"Europa\",\"Europa\",\"Earth\",\"Earth\",\"Mars\",\"Mars\",\"Europa\",\"Earth\",\"Earth\",\"Europa\",\"Europa\",\"Earth\",\"Europa\",\"Mars\",\"Earth\",\"Europa\",\"Earth\",\"Earth\",\"Earth\",\"Mars\",\"Earth\",\"Earth\",\"Mars\",\"Mars\",\"Mars\",\"Earth\",\"Mars\",\"Mars\",\"Mars\",\"Europa\",\"Europa\",\"Earth\",\"Europa\",\"Earth\",\"Earth\",\"Earth\",\"Europa\",null,\"Earth\",\"Earth\",\"Earth\",\"Europa\",\"Earth\",\"Europa\",\"Earth\",\"Earth\",\"Europa\",\"Europa\",\"Europa\",\"Europa\",\"Europa\",\"Earth\",\"Mars\",\"Mars\",\"Earth\",\"Mars\",\"Earth\",\"Earth\",\"Europa\",\"Europa\",\"Europa\",\"Mars\",\"Europa\",\"Earth\",\"Earth\",\"Earth\",\"Europa\",\"Earth\",\"Earth\",\"Europa\",\"Mars\",\"Earth\",\"Europa\",\"Europa\",\"Earth\",\"Mars\",\"Earth\",\"Europa\",\"Europa\",\"Mars\",\"Mars\",\"Mars\",\"Earth\",\"Earth\",\"Europa\",\"Earth\",\"Earth\",\"Earth\",\"Mars\",\"Mars\",\"Mars\",\"Earth\",\"Earth\",\"Mars\",\"Mars\",\"Mars\",\"Europa\",\"Europa\",\"Earth\",\"Earth\",null,\"Mars\",\"Europa\",\"Earth\",\"Mars\",\"Mars\",\"Earth\",\"Earth\",\"Earth\",\"Mars\",\"Earth\",\"Mars\",\"Earth\",\"Earth\",\"Earth\",\"Mars\",\"Mars\",\"Europa\",\"Europa\",\"Earth\",\"Europa\",\"Europa\",\"Mars\",\"Mars\",\"Mars\",\"Earth\",\"Earth\",\"Mars\",null,\"Earth\",\"Earth\",\"Earth\",\"Earth\",\"Earth\",\"Europa\",\"Europa\",\"Europa\",\"Mars\",\"Mars\",\"Earth\",\"Mars\",\"Earth\",\"Europa\",\"Earth\",\"Europa\",\"Europa\",\"Earth\",\"Earth\",\"Earth\",\"Earth\",\"Earth\",\"Earth\",\"Europa\",\"Europa\",\"Europa\",\"Europa\",\"Earth\",\"Europa\",\"Europa\",\"Europa\",\"Earth\",\"Earth\",\"Earth\",\"Earth\",\"Earth\",\"Europa\",\"Europa\",\"Europa\",\"Europa\",\"Mars\",\"Earth\",\"Earth\",\"Earth\",\"Mars\",\"Earth\",\"Earth\",\"Earth\",\"Earth\",\"Europa\",\"Europa\",\"Europa\",\"Europa\",\"Europa\",\"Europa\",\"Europa\",\"Europa\",\"Earth\",\"Europa\",\"Europa\",\"Mars\",\"Mars\",\"Earth\",\"Earth\",null,\"Mars\",\"Mars\",\"Mars\",\"Europa\",\"Earth\",\"Earth\",\"Europa\",\"Earth\",\"Europa\",\"Europa\",\"Europa\",\"Europa\",\"Europa\",\"Mars\",\"Mars\",\"Mars\",\"Earth\",\"Earth\",\"Earth\",\"Mars\",\"Earth\",\"Earth\",\"Mars\",\"Mars\",\"Mars\",\"Europa\",\"Earth\",\"Earth\",\"Earth\",\"Earth\",\"Earth\",\"Europa\",\"Earth\",\"Earth\",\"Earth\",\"Earth\",\"Earth\",\"Earth\",\"Europa\",\"Europa\",null,\"Mars\",\"Europa\",\"Europa\",\"Earth\",\"Europa\",\"Europa\",\"Earth\",\"Mars\",\"Earth\",\"Earth\",\"Earth\",\"Europa\",\"Europa\",null,\"Earth\",\"Europa\",\"Europa\",\"Europa\",\"Europa\",\"Earth\",\"Europa\",\"Europa\",\"Mars\",\"Earth\",\"Mars\",\"Earth\",\"Europa\",\"Earth\",\"Europa\",\"Earth\",\"Europa\",\"Europa\",\"Europa\",\"Europa\",\"Europa\",\"Earth\",\"Earth\",\"Earth\",\"Earth\",\"Europa\",\"Europa\",\"Earth\",\"Mars\",\"Europa\",\"Europa\",\"Europa\",\"Europa\",\"Europa\",\"Europa\",\"Mars\",\"Earth\",\"Earth\",\"Earth\",\"Europa\",\"Mars\",\"Earth\",\"Earth\",\"Earth\",\"Earth\",\"Earth\",\"Europa\",\"Europa\",null,\"Mars\",\"Earth\",\"Earth\",\"Mars\",\"Mars\",\"Europa\",\"Earth\",\"Mars\",\"Europa\",\"Europa\",\"Europa\",\"Earth\",\"Europa\",\"Earth\",\"Earth\",\"Mars\",\"Mars\",\"Mars\",\"Mars\",\"Earth\",\"Earth\",\"Earth\",\"Mars\",null,\"Earth\",\"Mars\",\"Earth\",\"Earth\",\"Mars\",\"Earth\",\"Europa\",\"Mars\",\"Earth\",\"Mars\",\"Earth\",\"Mars\",\"Europa\",\"Europa\",\"Europa\",\"Europa\",\"Europa\",\"Earth\",\"Earth\",\"Earth\",\"Earth\",\"Earth\",\"Earth\",\"Europa\",\"Europa\",\"Earth\",\"Earth\",\"Mars\",\"Earth\",\"Europa\",\"Earth\",\"Earth\",\"Mars\",\"Mars\",\"Mars\",\"Mars\",\"Mars\",\"Mars\",\"Europa\",\"Earth\",\"Earth\",\"Earth\",\"Europa\",\"Europa\",\"Mars\",\"Earth\",\"Europa\",\"Europa\",\"Earth\",\"Earth\",\"Europa\",\"Europa\",\"Mars\",\"Mars\",\"Mars\",\"Mars\",\"Earth\",\"Earth\",\"Europa\",\"Europa\",\"Europa\",null,\"Mars\",\"Earth\",\"Earth\",\"Mars\",\"Mars\",\"Europa\",\"Europa\",\"Europa\",\"Earth\",\"Earth\",\"Mars\",\"Earth\",\"Earth\",\"Earth\",\"Earth\",\"Europa\",\"Europa\",\"Earth\",\"Europa\",\"Europa\",\"Earth\",\"Europa\",\"Earth\",\"Mars\",\"Europa\",\"Europa\",\"Mars\",\"Europa\",\"Europa\",\"Earth\",\"Earth\",\"Mars\",\"Earth\",\"Earth\",\"Earth\",\"Earth\",null,\"Mars\",\"Earth\",\"Earth\",\"Earth\",\"Earth\",\"Earth\",\"Earth\",\"Earth\",\"Mars\",\"Mars\",\"Europa\",\"Europa\",\"Earth\",\"Earth\",\"Mars\",\"Mars\",\"Mars\",\"Earth\",null,\"Earth\",\"Europa\",\"Europa\",\"Europa\",\"Earth\",\"Mars\",\"Europa\",\"Mars\",\"Mars\",\"Earth\",\"Mars\",\"Earth\",\"Earth\",\"Europa\",\"Europa\",\"Europa\",\"Europa\",\"Europa\",\"Europa\",\"Mars\",\"Earth\",\"Earth\",\"Earth\",\"Europa\",\"Mars\",\"Mars\",\"Mars\",\"Europa\",\"Earth\",\"Earth\",\"Earth\",\"Earth\",\"Earth\",\"Europa\",\"Europa\",\"Mars\",\"Earth\",\"Europa\",\"Europa\",\"Earth\",\"Earth\",\"Earth\",\"Earth\",\"Mars\",null,\"Earth\",\"Europa\",\"Earth\",\"Earth\",\"Earth\",\"Europa\",\"Earth\",\"Earth\",\"Earth\",\"Earth\",\"Europa\",\"Earth\",\"Earth\",\"Earth\",\"Earth\",\"Earth\",\"Europa\",\"Europa\",\"Mars\",\"Mars\",\"Earth\",\"Earth\",\"Mars\",\"Mars\",\"Mars\",\"Europa\",\"Earth\",\"Earth\",\"Mars\",\"Earth\",\"Earth\",\"Earth\",\"Earth\",\"Earth\",\"Mars\",\"Europa\",\"Earth\",\"Earth\",\"Europa\",\"Earth\",\"Earth\",\"Earth\",\"Earth\",\"Europa\",\"Earth\",\"Earth\",\"Europa\",\"Earth\",\"Earth\",\"Earth\",\"Earth\",\"Earth\",\"Earth\",\"Earth\",\"Earth\",\"Earth\",\"Earth\",\"Earth\",\"Earth\",\"Earth\",\"Earth\",\"Earth\",\"Earth\",\"Earth\",\"Mars\",\"Earth\",\"Mars\",\"Mars\",\"Earth\",\"Europa\",\"Earth\",null,\"Europa\",\"Europa\",\"Earth\",\"Europa\",\"Earth\",\"Earth\",\"Europa\",\"Europa\",\"Europa\",\"Mars\",\"Mars\",\"Earth\",\"Earth\",\"Earth\",\"Mars\",\"Mars\",\"Earth\",\"Earth\",\"Europa\",\"Earth\",\"Europa\",\"Europa\",\"Earth\",\"Europa\",\"Europa\",\"Europa\",\"Mars\",\"Earth\",\"Mars\",\"Earth\",\"Europa\",\"Earth\",\"Europa\",\"Europa\",\"Earth\",\"Earth\",\"Europa\",\"Europa\",\"Mars\",\"Earth\",\"Earth\",\"Europa\",\"Mars\",\"Mars\",\"Mars\",\"Europa\",null,\"Europa\",\"Europa\",\"Europa\",\"Earth\",\"Earth\",\"Earth\",\"Mars\",\"Mars\",\"Earth\",\"Earth\",\"Europa\",\"Europa\",\"Europa\",\"Europa\",\"Europa\",\"Mars\",null,\"Mars\",\"Mars\",\"Mars\",\"Mars\",\"Mars\",\"Mars\",\"Mars\",\"Europa\",\"Europa\",\"Europa\",\"Europa\",\"Europa\",\"Europa\",\"Europa\",\"Europa\",\"Europa\",\"Earth\",\"Earth\",\"Earth\",\"Mars\",\"Earth\",\"Earth\",\"Earth\",\"Earth\",\"Earth\",\"Earth\",null,\"Europa\",\"Europa\",\"Europa\",\"Europa\",null,\"Europa\",null,\"Mars\",\"Mars\",\"Mars\",\"Earth\",\"Mars\",\"Mars\",\"Earth\",\"Europa\",\"Earth\",\"Europa\",\"Europa\",\"Mars\",\"Earth\",\"Earth\",\"Europa\",\"Europa\",\"Europa\",\"Earth\",\"Europa\",\"Earth\",\"Earth\",\"Earth\",\"Mars\",\"Earth\",\"Mars\",\"Europa\",\"Earth\",\"Earth\",\"Earth\",\"Europa\",\"Earth\",\"Earth\",\"Europa\",\"Mars\",\"Europa\",\"Earth\",\"Earth\",\"Mars\",\"Mars\",null,\"Europa\",\"Earth\",\"Earth\",\"Earth\",\"Earth\",\"Mars\",\"Earth\",\"Earth\",\"Earth\",\"Mars\",\"Mars\",\"Mars\",\"Mars\",\"Mars\",\"Earth\",\"Mars\",\"Earth\",\"Europa\",\"Europa\",\"Europa\",\"Europa\",\"Europa\",\"Mars\",\"Europa\",\"Europa\",\"Europa\",\"Earth\",\"Earth\",\"Earth\",\"Earth\",\"Europa\",\"Earth\",\"Europa\",\"Europa\",\"Europa\",\"Earth\",\"Europa\",\"Mars\",\"Earth\",\"Europa\",\"Earth\",\"Earth\",\"Earth\",\"Mars\",\"Europa\",null,\"Europa\",\"Europa\",\"Mars\",\"Earth\",\"Earth\",\"Europa\",\"Europa\",\"Europa\",\"Europa\",\"Mars\",\"Mars\",\"Earth\",\"Earth\",\"Mars\",\"Mars\",\"Earth\",\"Earth\",\"Europa\",\"Earth\",\"Mars\",\"Europa\",\"Earth\",\"Europa\",\"Europa\",\"Europa\",\"Mars\",\"Europa\",\"Earth\",\"Earth\",\"Earth\",null,\"Europa\",\"Europa\",\"Europa\",\"Europa\",\"Europa\",\"Europa\",\"Earth\",\"Earth\",\"Mars\",\"Europa\",\"Europa\",\"Europa\",null,\"Earth\",\"Earth\",\"Earth\",\"Earth\",\"Mars\",\"Europa\",\"Europa\",\"Earth\",\"Europa\",\"Earth\",\"Earth\",\"Earth\",\"Europa\",\"Earth\",\"Earth\",\"Earth\",\"Mars\",\"Earth\",\"Earth\",\"Earth\",\"Mars\",\"Earth\",\"Earth\",\"Earth\",\"Earth\",null,\"Europa\",\"Mars\",\"Mars\",\"Mars\",\"Europa\",\"Europa\",\"Europa\",\"Earth\",\"Earth\",\"Earth\",\"Earth\",\"Europa\",\"Earth\",\"Europa\",\"Earth\",\"Earth\",\"Earth\",\"Europa\",\"Europa\",\"Earth\",\"Earth\",\"Earth\",\"Earth\",\"Mars\",\"Earth\",\"Earth\",\"Europa\",\"Europa\",\"Europa\",\"Europa\",\"Earth\",\"Earth\",\"Mars\",\"Mars\",\"Europa\",\"Europa\",\"Europa\",\"Mars\",\"Mars\",\"Mars\",\"Mars\",\"Earth\",\"Europa\",\"Europa\",null,\"Earth\",\"Europa\",\"Earth\",\"Earth\",\"Earth\",\"Europa\",\"Mars\",\"Mars\",\"Earth\",\"Europa\",\"Europa\",\"Europa\",\"Europa\",\"Europa\",\"Europa\",\"Europa\",\"Europa\",\"Earth\",\"Europa\",\"Europa\",\"Europa\",\"Earth\",\"Europa\",\"Earth\",\"Earth\",\"Earth\",\"Europa\",\"Europa\",\"Earth\",null,\"Europa\",\"Earth\",\"Europa\",\"Europa\",null,\"Earth\",\"Earth\",\"Europa\",\"Europa\",\"Earth\",\"Earth\",\"Earth\",\"Earth\",\"Earth\",\"Earth\",\"Earth\",\"Europa\",\"Europa\",\"Earth\",\"Europa\",\"Mars\",\"Mars\",\"Mars\",\"Earth\",\"Europa\",\"Europa\",\"Europa\",\"Earth\",\"Mars\",\"Mars\",\"Mars\",\"Earth\",\"Mars\",\"Earth\",\"Mars\",\"Earth\",\"Earth\",\"Earth\",\"Europa\",\"Europa\",\"Europa\",\"Europa\",\"Europa\",\"Mars\",\"Europa\",\"Europa\",\"Europa\",\"Earth\",\"Earth\",\"Mars\",\"Mars\",\"Mars\",\"Europa\",\"Europa\",\"Europa\",\"Mars\",\"Europa\",\"Europa\",\"Mars\",\"Mars\",\"Earth\",\"Earth\",\"Earth\",\"Earth\",\"Earth\",\"Mars\",\"Mars\",\"Mars\",\"Earth\",\"Earth\",\"Mars\",\"Europa\",\"Europa\",\"Europa\",\"Mars\",\"Europa\",\"Europa\",\"Earth\",\"Earth\",\"Europa\",\"Earth\",\"Mars\",\"Mars\",\"Earth\",\"Mars\",\"Mars\",\"Mars\",\"Earth\",\"Earth\",\"Earth\",\"Europa\",\"Earth\",\"Earth\",\"Mars\",\"Mars\",\"Mars\",\"Mars\",null,\"Mars\",\"Earth\",\"Earth\",\"Mars\",\"Mars\",\"Mars\",\"Earth\",null,\"Europa\",\"Europa\",\"Earth\",\"Earth\",\"Earth\",\"Earth\",\"Earth\",\"Earth\",\"Earth\",\"Earth\",\"Earth\",\"Europa\",\"Mars\",\"Mars\",\"Earth\",\"Mars\",null,\"Mars\",\"Earth\",\"Europa\",\"Earth\",\"Earth\",\"Europa\",\"Europa\",\"Earth\",\"Earth\",\"Earth\",\"Earth\",\"Earth\",\"Mars\",\"Mars\",\"Mars\",\"Europa\",\"Earth\",\"Earth\",\"Mars\",\"Mars\",\"Mars\",\"Mars\",\"Mars\",\"Mars\",\"Mars\",\"Mars\",\"Mars\",\"Europa\",\"Europa\",\"Mars\",\"Mars\",\"Mars\",\"Mars\",\"Earth\",\"Earth\",\"Earth\",\"Earth\",\"Earth\",\"Mars\",\"Europa\",\"Earth\",\"Mars\",\"Mars\",\"Earth\",\"Earth\",\"Mars\",\"Earth\",\"Europa\",\"Earth\",\"Europa\",\"Earth\",\"Earth\",\"Earth\",\"Earth\",\"Earth\",\"Earth\",\"Earth\",\"Earth\",\"Earth\",\"Mars\",\"Europa\",\"Earth\",\"Earth\",\"Europa\",\"Europa\",\"Europa\",\"Mars\",\"Mars\",\"Earth\",\"Earth\",\"Mars\",\"Mars\",\"Earth\",\"Earth\",\"Europa\",\"Europa\",\"Earth\",\"Mars\",\"Mars\",\"Earth\",\"Earth\",\"Earth\",\"Mars\",\"Mars\",\"Earth\",\"Mars\",\"Mars\",\"Europa\",\"Europa\",\"Europa\",\"Europa\",\"Earth\",\"Europa\",\"Earth\",\"Earth\",\"Earth\",\"Mars\",\"Earth\",\"Earth\",\"Europa\",null,\"Earth\",\"Mars\",\"Earth\",\"Earth\",\"Earth\",\"Europa\",\"Earth\",\"Earth\",\"Earth\",\"Earth\",\"Earth\",\"Europa\",\"Europa\",\"Europa\",\"Europa\",\"Europa\",\"Mars\",\"Mars\",\"Earth\",\"Europa\",\"Earth\",\"Mars\",\"Earth\",\"Earth\",\"Earth\",\"Earth\",\"Earth\",null,\"Europa\",\"Earth\",\"Mars\",\"Mars\",\"Mars\",\"Earth\",\"Earth\",\"Earth\",\"Earth\",\"Mars\",\"Europa\",\"Europa\",\"Earth\",\"Mars\",\"Mars\",\"Earth\",\"Earth\",\"Earth\",\"Mars\",\"Mars\",\"Europa\",\"Europa\",\"Europa\",\"Earth\",\"Europa\",\"Earth\",\"Earth\",\"Earth\",\"Earth\",\"Mars\",\"Europa\",\"Europa\",\"Europa\",\"Earth\",\"Earth\",\"Earth\",\"Earth\",\"Earth\",\"Earth\",\"Earth\",\"Europa\",\"Earth\",\"Earth\",\"Earth\",\"Europa\",\"Europa\",\"Mars\",\"Mars\",\"Mars\",\"Mars\",\"Earth\",\"Earth\",\"Mars\",\"Mars\",\"Earth\",\"Earth\",\"Earth\",\"Earth\",\"Earth\",\"Earth\",\"Earth\",\"Earth\",\"Earth\",\"Earth\",\"Mars\",\"Mars\",\"Earth\",\"Earth\",\"Europa\",\"Europa\",\"Europa\",\"Europa\",\"Mars\",\"Europa\",\"Earth\",\"Earth\",\"Earth\",\"Earth\",\"Earth\",\"Earth\",\"Mars\",\"Europa\",\"Earth\",\"Europa\",\"Earth\",\"Earth\",\"Earth\",\"Earth\",\"Earth\",\"Earth\",\"Europa\",\"Earth\",\"Earth\",\"Earth\",\"Earth\",\"Europa\",\"Europa\",\"Earth\",\"Earth\",\"Earth\",\"Mars\",\"Earth\",\"Europa\",\"Europa\",\"Earth\",\"Europa\",\"Mars\",\"Europa\",\"Mars\",\"Mars\",\"Earth\",\"Mars\",\"Earth\",\"Earth\",\"Earth\",\"Earth\",\"Mars\",\"Earth\",\"Europa\",\"Earth\",\"Mars\",\"Europa\",\"Europa\",\"Earth\",\"Earth\",\"Mars\",\"Earth\",\"Europa\",\"Mars\",\"Europa\",\"Europa\",null,\"Europa\",\"Earth\",\"Europa\",\"Europa\",\"Europa\",\"Europa\",\"Earth\",\"Mars\",\"Earth\",\"Earth\",\"Earth\",\"Mars\",\"Mars\",\"Mars\",\"Mars\",\"Mars\",\"Earth\",\"Earth\",\"Earth\",\"Mars\",\"Mars\",\"Mars\",\"Earth\",\"Europa\",\"Mars\",null,\"Earth\",\"Earth\",\"Mars\",\"Earth\",\"Europa\",\"Earth\",\"Mars\",\"Mars\",\"Earth\",null,\"Europa\",\"Earth\",\"Mars\",\"Europa\",\"Europa\",\"Europa\",\"Europa\",\"Earth\",\"Earth\",\"Earth\",\"Earth\",\"Earth\",\"Mars\",\"Mars\",\"Europa\",\"Europa\",\"Europa\",\"Earth\",\"Earth\",\"Earth\",\"Europa\",\"Europa\",\"Earth\",\"Earth\",\"Europa\",\"Earth\",\"Earth\",\"Earth\",\"Europa\",\"Earth\",\"Earth\",\"Earth\",\"Earth\",\"Earth\",\"Earth\",\"Earth\",\"Earth\",\"Earth\",\"Earth\",\"Earth\",\"Mars\",\"Mars\",\"Earth\",\"Earth\",\"Earth\",\"Mars\",\"Mars\",\"Mars\",\"Earth\",\"Mars\",\"Europa\",\"Earth\",\"Earth\",\"Earth\",\"Earth\",\"Earth\",\"Mars\",null,\"Earth\",\"Earth\",\"Europa\",\"Europa\",\"Europa\",\"Earth\",\"Mars\",\"Mars\",\"Earth\",\"Earth\",\"Europa\",\"Europa\",\"Earth\",\"Earth\",\"Mars\",\"Earth\",\"Earth\",\"Earth\",\"Earth\",\"Earth\",\"Earth\",\"Europa\",\"Europa\",\"Europa\",\"Europa\",\"Earth\",\"Europa\",\"Europa\",\"Earth\",\"Earth\",\"Earth\",\"Earth\",\"Earth\",\"Earth\",\"Earth\",\"Earth\",\"Mars\",\"Earth\",\"Earth\",\"Earth\",\"Europa\",\"Europa\",\"Europa\",\"Mars\",\"Earth\",\"Mars\",\"Europa\",\"Europa\",\"Earth\",\"Earth\",\"Earth\",\"Europa\",\"Earth\",\"Earth\",\"Earth\",\"Earth\",\"Earth\",\"Earth\",null,\"Europa\",\"Europa\",\"Earth\",\"Earth\",\"Earth\",\"Earth\",\"Earth\",\"Earth\",\"Mars\",\"Earth\",\"Earth\",\"Earth\",\"Earth\",\"Earth\",\"Earth\",\"Europa\",\"Earth\",\"Europa\",\"Earth\",\"Earth\",\"Earth\",\"Earth\",\"Earth\",\"Earth\",\"Earth\",\"Earth\",\"Earth\",\"Europa\",\"Earth\",\"Earth\",\"Europa\",\"Mars\",\"Earth\",\"Earth\",\"Europa\",\"Europa\",\"Earth\",\"Earth\",\"Earth\",\"Earth\",\"Earth\",\"Earth\",\"Europa\",\"Earth\",\"Earth\",\"Europa\",\"Europa\",\"Europa\",\"Europa\",\"Earth\",\"Europa\",\"Earth\",\"Europa\",\"Europa\",\"Europa\",\"Earth\",\"Mars\",\"Earth\",\"Europa\",\"Earth\",null,\"Mars\",\"Earth\",\"Earth\",null,\"Europa\",\"Earth\",\"Earth\",\"Earth\",\"Earth\",\"Earth\",\"Earth\",\"Earth\",\"Mars\",\"Mars\",\"Mars\",\"Mars\",\"Mars\",\"Earth\",\"Mars\",\"Europa\",\"Earth\",\"Earth\",\"Earth\",\"Earth\",\"Europa\",null,\"Earth\",\"Earth\",\"Europa\",\"Europa\",\"Europa\",\"Europa\",\"Earth\",\"Earth\",\"Earth\",\"Earth\",\"Earth\",\"Earth\",\"Europa\",\"Europa\",\"Earth\",\"Earth\",\"Mars\",\"Mars\",\"Earth\",\"Earth\",\"Earth\",\"Earth\",\"Earth\",\"Mars\",\"Mars\",\"Mars\",\"Europa\",\"Mars\",\"Earth\",\"Earth\",\"Earth\",\"Earth\",\"Earth\",\"Earth\",\"Earth\",\"Earth\",\"Earth\",\"Earth\",\"Europa\",\"Earth\",\"Mars\",\"Mars\",\"Mars\",\"Earth\",\"Earth\",\"Earth\",\"Earth\",\"Earth\",\"Earth\",\"Earth\",\"Earth\",\"Europa\",\"Earth\",\"Mars\",\"Europa\",\"Europa\",\"Europa\",\"Earth\",\"Europa\",\"Europa\",\"Earth\",\"Earth\",\"Earth\",\"Earth\",\"Earth\",\"Earth\",\"Earth\",\"Earth\",\"Europa\",\"Mars\",\"Mars\",\"Europa\",\"Europa\",\"Europa\",\"Europa\",\"Europa\",\"Europa\",\"Earth\",\"Earth\",\"Earth\",\"Earth\",\"Earth\",\"Europa\",\"Earth\",\"Mars\",\"Europa\",\"Europa\",\"Europa\",\"Europa\",null,\"Mars\",\"Mars\",\"Mars\",\"Earth\",\"Europa\",\"Earth\",\"Earth\",\"Europa\",\"Earth\",\"Mars\",\"Earth\",\"Earth\",\"Earth\",\"Mars\",\"Europa\",\"Earth\",\"Earth\",\"Earth\",\"Europa\",\"Europa\",\"Mars\",\"Mars\",\"Earth\",\"Earth\",\"Mars\",\"Europa\",\"Europa\",\"Europa\",\"Europa\",\"Earth\",\"Earth\",\"Earth\",\"Earth\",\"Earth\",\"Earth\",\"Earth\",null,\"Earth\",\"Earth\",\"Mars\",\"Mars\",\"Mars\",\"Earth\",\"Europa\",null,\"Europa\",\"Earth\",\"Earth\",\"Earth\",\"Earth\",\"Mars\",\"Europa\",\"Earth\",\"Earth\",null,\"Europa\",\"Earth\",\"Earth\",\"Mars\",\"Europa\",\"Earth\",\"Earth\",\"Earth\",\"Earth\",\"Europa\",\"Mars\",\"Earth\",\"Earth\",\"Earth\",\"Earth\",\"Europa\",\"Europa\",\"Europa\",\"Mars\",\"Mars\",\"Earth\",\"Earth\",\"Europa\",\"Earth\",\"Europa\",\"Earth\",\"Europa\",\"Europa\",\"Europa\",\"Europa\",\"Mars\",\"Earth\",\"Europa\",\"Earth\",\"Mars\",\"Earth\",\"Europa\",\"Europa\",\"Mars\",\"Earth\",\"Earth\",\"Earth\",\"Earth\",\"Earth\",\"Earth\",\"Mars\",\"Europa\",\"Europa\",\"Europa\",\"Europa\",\"Europa\",\"Europa\",\"Earth\",\"Mars\",\"Mars\",\"Earth\",\"Earth\",\"Europa\",\"Europa\",\"Earth\",\"Earth\",\"Earth\",\"Earth\",\"Earth\",\"Earth\",\"Europa\",\"Earth\",\"Earth\",\"Mars\",\"Europa\",\"Earth\",\"Earth\",\"Mars\",\"Earth\",\"Europa\",\"Europa\",\"Europa\",\"Europa\",\"Earth\",\"Mars\",\"Mars\",\"Europa\",\"Mars\",\"Mars\",\"Mars\",\"Earth\",\"Europa\",\"Mars\",\"Earth\",\"Earth\",\"Mars\",\"Europa\",\"Mars\",\"Mars\",\"Mars\",\"Earth\",\"Earth\",\"Earth\",\"Earth\",\"Earth\",\"Earth\",\"Europa\",\"Europa\",\"Earth\",\"Mars\",\"Europa\",\"Earth\",\"Mars\",\"Europa\",\"Mars\",\"Earth\",\"Earth\",\"Earth\",\"Earth\",\"Europa\",\"Europa\",\"Earth\",\"Earth\",\"Earth\",\"Europa\",\"Earth\",\"Europa\",\"Mars\",\"Earth\",\"Earth\",\"Earth\",\"Earth\",\"Europa\",\"Europa\",\"Earth\",\"Earth\",\"Earth\",\"Earth\",\"Earth\",\"Earth\",\"Mars\",\"Europa\",\"Europa\",\"Earth\",\"Europa\",\"Earth\",\"Earth\",\"Earth\",\"Mars\",\"Earth\",\"Earth\",\"Europa\",\"Earth\",\"Earth\",\"Earth\",\"Earth\",\"Earth\",\"Earth\",\"Europa\",\"Mars\",\"Earth\",\"Earth\",\"Earth\",\"Mars\",\"Earth\",\"Europa\",\"Earth\",\"Earth\",null,\"Europa\",\"Europa\",\"Europa\",\"Earth\",null,\"Earth\",\"Earth\",\"Mars\",\"Earth\",\"Mars\",\"Europa\",\"Europa\",\"Europa\",\"Earth\",\"Mars\",\"Earth\",\"Earth\",\"Earth\",\"Earth\",\"Earth\",\"Earth\",\"Earth\",\"Earth\",\"Europa\",\"Earth\",\"Earth\",\"Earth\",\"Earth\",\"Earth\",\"Earth\",\"Europa\",\"Europa\",\"Earth\",\"Earth\",\"Mars\",\"Earth\",\"Earth\",\"Europa\",\"Mars\",\"Europa\",\"Europa\",\"Earth\",\"Mars\",\"Mars\",\"Earth\",\"Earth\",\"Earth\",\"Earth\",\"Earth\",\"Earth\",\"Earth\",\"Earth\",\"Earth\",\"Earth\",\"Earth\",\"Earth\",\"Earth\",\"Europa\",\"Earth\",\"Earth\",\"Earth\",\"Earth\",\"Earth\",\"Earth\",\"Mars\",\"Mars\",\"Mars\",\"Mars\",\"Earth\",\"Europa\",\"Europa\",\"Mars\",\"Mars\",\"Earth\",\"Mars\",\"Mars\",\"Earth\",\"Earth\",\"Europa\",\"Europa\",null,\"Earth\",\"Earth\",\"Earth\",\"Earth\",\"Earth\",\"Earth\",\"Europa\",null,\"Earth\",\"Earth\",\"Earth\",\"Earth\",\"Earth\",\"Earth\",\"Earth\",\"Earth\",\"Europa\",\"Earth\",\"Earth\",\"Mars\",\"Mars\",\"Earth\",\"Earth\",null,\"Earth\",\"Earth\",\"Earth\",\"Mars\",\"Europa\",\"Europa\",\"Earth\",\"Earth\",\"Earth\",\"Earth\",\"Europa\",\"Mars\",\"Earth\",\"Earth\",\"Earth\",\"Mars\",\"Europa\",\"Earth\",\"Mars\",\"Europa\",\"Earth\",\"Earth\",\"Earth\",\"Mars\",\"Earth\",\"Europa\",\"Earth\",\"Earth\",\"Earth\",null,\"Earth\",\"Earth\",\"Europa\",\"Europa\",null,\"Earth\",\"Europa\",\"Europa\",\"Earth\",\"Earth\",\"Earth\",\"Earth\",\"Earth\",\"Earth\",\"Earth\",\"Mars\",\"Europa\",\"Mars\",\"Earth\",\"Earth\",\"Earth\",\"Europa\",\"Europa\",\"Europa\",\"Earth\",\"Earth\",\"Mars\",\"Mars\",\"Mars\",\"Mars\",\"Mars\",\"Europa\",\"Europa\",\"Europa\",\"Europa\",\"Earth\",\"Earth\",\"Earth\",\"Europa\",\"Earth\",\"Europa\",\"Earth\",\"Earth\",\"Europa\",\"Europa\",\"Earth\",\"Europa\",\"Europa\",\"Europa\",\"Europa\",\"Europa\",\"Earth\",\"Earth\",\"Mars\",\"Europa\",\"Earth\",\"Europa\",\"Europa\",\"Europa\",\"Europa\",\"Earth\",\"Earth\",\"Europa\",\"Earth\",\"Europa\",\"Europa\",\"Europa\",\"Europa\",\"Mars\",\"Earth\",\"Earth\",\"Earth\",\"Earth\",\"Europa\",\"Mars\",\"Mars\",\"Earth\",\"Mars\",\"Europa\",\"Europa\",\"Earth\",\"Earth\",\"Mars\",\"Mars\",\"Earth\",\"Mars\",\"Mars\",\"Earth\",\"Earth\",\"Earth\",\"Earth\",\"Europa\",\"Europa\",\"Europa\",\"Europa\",\"Europa\",\"Europa\",\"Earth\",\"Earth\",\"Earth\",\"Earth\",\"Earth\",\"Mars\",\"Mars\",\"Mars\",\"Earth\",\"Europa\",\"Earth\",\"Europa\",\"Earth\",\"Mars\",\"Mars\",\"Mars\",null,\"Mars\",\"Mars\",\"Earth\",\"Earth\",\"Earth\",\"Earth\",\"Earth\",\"Mars\",\"Europa\",\"Europa\",\"Europa\",\"Earth\",\"Mars\",\"Earth\",\"Earth\",\"Mars\",\"Mars\",\"Mars\",\"Europa\",\"Europa\",\"Europa\",\"Earth\",\"Europa\",\"Europa\",\"Europa\",\"Earth\",\"Earth\",\"Earth\",\"Europa\",\"Europa\",\"Europa\",\"Europa\",\"Earth\",\"Europa\",\"Earth\",\"Mars\",\"Earth\",\"Mars\",\"Mars\",\"Earth\",\"Europa\",\"Mars\",\"Mars\",\"Mars\",\"Mars\",\"Mars\",\"Europa\",\"Europa\",\"Earth\",\"Europa\",\"Earth\",\"Mars\",\"Mars\",\"Earth\",\"Mars\",\"Mars\",\"Mars\",\"Earth\",\"Europa\",\"Europa\",\"Europa\",\"Europa\",\"Europa\",\"Earth\",null,\"Earth\",\"Earth\",\"Earth\",\"Earth\",\"Europa\",\"Earth\",\"Mars\",\"Earth\",\"Mars\",\"Europa\",\"Europa\",\"Europa\",\"Europa\",\"Europa\",\"Europa\",\"Europa\",\"Europa\",\"Europa\",\"Europa\",\"Europa\",\"Europa\",\"Europa\",\"Europa\",\"Europa\",\"Earth\",\"Earth\",\"Earth\",\"Earth\",null,\"Earth\",\"Mars\",\"Earth\",\"Europa\",\"Europa\",\"Earth\",\"Europa\",\"Europa\",\"Earth\",null,\"Europa\",\"Earth\",\"Earth\",\"Europa\",\"Europa\",\"Earth\",\"Earth\",\"Earth\",\"Europa\",\"Earth\",\"Earth\",\"Earth\",\"Earth\",\"Earth\",\"Earth\",\"Earth\",\"Earth\",\"Mars\",\"Earth\",\"Earth\",\"Earth\",\"Europa\",\"Mars\",\"Earth\",\"Earth\",\"Earth\",\"Earth\",\"Earth\",\"Earth\",\"Europa\",\"Europa\",\"Mars\",\"Mars\",\"Earth\",\"Europa\",\"Earth\",\"Earth\",\"Europa\",\"Earth\",\"Europa\",\"Europa\",\"Europa\",\"Earth\",\"Europa\",null,\"Mars\",\"Earth\",\"Europa\",\"Europa\",\"Europa\",\"Europa\",\"Europa\",\"Earth\",\"Mars\",\"Europa\",\"Mars\",\"Earth\",\"Earth\",\"Mars\",\"Mars\",\"Mars\",\"Mars\",\"Mars\",\"Europa\",\"Earth\",\"Mars\",\"Europa\",\"Earth\",\"Earth\",\"Earth\",\"Europa\",\"Europa\",\"Earth\",\"Mars\",\"Earth\",\"Europa\",\"Earth\",\"Europa\",\"Europa\",\"Europa\",\"Earth\",\"Earth\",\"Earth\",\"Europa\",\"Earth\",\"Earth\",\"Earth\",\"Earth\",\"Mars\",\"Earth\",\"Mars\",\"Europa\",\"Europa\",\"Europa\",\"Europa\",\"Earth\",\"Earth\",\"Earth\",\"Mars\",\"Mars\",\"Europa\",\"Mars\",\"Mars\",\"Europa\",\"Earth\",\"Earth\",\"Earth\",\"Earth\",\"Europa\",\"Europa\",\"Earth\",\"Earth\",\"Earth\",\"Earth\",\"Europa\",\"Mars\",\"Earth\",\"Europa\",\"Europa\",\"Europa\",\"Europa\",\"Earth\",\"Earth\",\"Mars\",\"Mars\",\"Earth\",\"Earth\",\"Europa\",\"Mars\",\"Europa\",\"Mars\",\"Earth\",\"Earth\",\"Earth\",\"Europa\",\"Europa\",\"Europa\",\"Earth\",\"Earth\",\"Earth\",\"Europa\",\"Europa\",\"Earth\",\"Mars\",\"Europa\",\"Europa\",\"Earth\",\"Europa\",\"Europa\",\"Europa\",\"Europa\",\"Europa\",\"Earth\",\"Europa\",\"Europa\",\"Earth\",\"Earth\",\"Mars\",\"Earth\",\"Earth\",\"Earth\",\"Mars\",\"Europa\",\"Europa\",\"Europa\",\"Europa\",\"Europa\",\"Earth\",\"Europa\",\"Europa\",\"Europa\",\"Europa\",\"Europa\",\"Earth\",\"Earth\",\"Europa\",\"Earth\",\"Earth\",\"Mars\",\"Mars\",\"Mars\",\"Europa\",\"Mars\",\"Mars\",\"Earth\",\"Earth\",\"Mars\",\"Earth\",\"Mars\",\"Europa\",\"Mars\",\"Mars\",\"Earth\",\"Europa\",\"Europa\",\"Europa\",\"Mars\",\"Mars\",\"Earth\",\"Earth\",\"Mars\",\"Europa\",\"Earth\",\"Earth\",\"Earth\",\"Europa\",\"Earth\",\"Earth\",\"Europa\",\"Europa\",\"Earth\",\"Earth\",\"Mars\",\"Earth\",\"Earth\",\"Earth\",\"Europa\",\"Mars\",\"Europa\",\"Europa\",\"Europa\",\"Europa\",\"Europa\",\"Earth\",\"Earth\",\"Mars\",\"Europa\",\"Europa\",\"Europa\",\"Europa\",\"Europa\",\"Europa\",\"Earth\",\"Earth\",\"Europa\",\"Earth\",\"Europa\",\"Europa\",\"Earth\",\"Mars\",\"Mars\",\"Mars\",\"Europa\",\"Europa\",\"Earth\",\"Earth\",\"Europa\",\"Europa\",\"Europa\",\"Mars\",\"Earth\",\"Europa\",\"Europa\",\"Earth\",\"Earth\",\"Europa\",\"Earth\",\"Europa\",\"Europa\",\"Earth\",\"Earth\",\"Earth\",\"Earth\",\"Europa\",\"Europa\",\"Earth\",\"Earth\",\"Mars\",\"Europa\",\"Mars\",\"Earth\",\"Earth\",\"Europa\",\"Earth\",\"Mars\",\"Europa\",\"Europa\",\"Europa\",\"Europa\",\"Mars\",\"Earth\",\"Earth\",null,\"Europa\",\"Europa\",\"Europa\",\"Europa\",\"Mars\",\"Mars\",\"Europa\",\"Earth\",\"Europa\",\"Europa\",\"Mars\",\"Mars\",\"Mars\",\"Europa\",\"Europa\",\"Mars\",\"Europa\",\"Europa\",\"Earth\",\"Europa\",\"Europa\",\"Earth\",\"Earth\",\"Earth\",\"Earth\",\"Earth\",\"Earth\",\"Mars\",\"Earth\",\"Earth\",\"Mars\",\"Mars\",\"Europa\",\"Mars\",\"Earth\",\"Earth\",\"Mars\",\"Mars\",\"Earth\",\"Earth\",\"Earth\",\"Earth\",\"Earth\",\"Earth\",\"Europa\",\"Europa\",\"Europa\",\"Mars\",\"Mars\",\"Europa\",\"Mars\",\"Mars\",\"Mars\",null,\"Earth\",\"Earth\",\"Europa\",\"Europa\",\"Europa\",\"Europa\",\"Earth\",\"Earth\",\"Earth\",\"Earth\",\"Europa\",\"Earth\",\"Earth\",\"Earth\",\"Earth\",\"Europa\",\"Earth\",\"Earth\",\"Earth\",\"Mars\",\"Earth\",\"Europa\",\"Earth\",\"Mars\",\"Earth\",\"Earth\",\"Earth\",\"Europa\",\"Mars\",\"Europa\",\"Earth\",\"Earth\",\"Mars\",\"Mars\",\"Earth\",\"Earth\",\"Earth\",\"Europa\",\"Europa\",\"Europa\",\"Europa\",\"Mars\",\"Earth\",\"Earth\",\"Earth\",\"Earth\",\"Earth\",\"Mars\",\"Mars\",\"Europa\",\"Europa\",null,\"Earth\",\"Europa\",\"Europa\",\"Mars\",\"Mars\",\"Mars\",\"Mars\",\"Earth\",\"Europa\",\"Earth\",\"Europa\",\"Europa\",\"Europa\",\"Europa\",\"Earth\",\"Earth\",\"Mars\",\"Mars\",\"Earth\",\"Earth\",\"Europa\",\"Mars\",\"Mars\",\"Earth\",\"Europa\",\"Europa\",\"Mars\",\"Europa\",\"Europa\",\"Europa\",\"Mars\",\"Europa\",\"Europa\",\"Europa\",\"Mars\",\"Europa\",\"Europa\",\"Europa\",\"Europa\",\"Europa\",\"Europa\",\"Earth\",\"Earth\",\"Earth\",\"Europa\",\"Europa\",\"Europa\",\"Mars\",\"Mars\",\"Mars\",\"Mars\",\"Europa\",\"Earth\",\"Europa\",\"Earth\",\"Europa\",\"Earth\",\"Earth\",\"Europa\",\"Earth\",\"Europa\",\"Europa\",\"Europa\",\"Europa\",\"Europa\",\"Europa\",\"Europa\",\"Earth\",\"Europa\",\"Europa\",\"Europa\",\"Europa\",\"Earth\",\"Europa\",\"Earth\",\"Europa\",\"Mars\",\"Earth\",\"Earth\",\"Mars\",\"Europa\",\"Europa\",\"Earth\",\"Earth\",\"Earth\",\"Earth\",\"Europa\",\"Europa\",\"Europa\",\"Earth\",\"Earth\",\"Mars\",\"Mars\",\"Earth\",\"Earth\",\"Earth\",\"Earth\",\"Earth\",\"Earth\",\"Earth\",\"Earth\",\"Europa\",\"Europa\",\"Earth\",\"Earth\",\"Earth\",\"Europa\",\"Earth\",\"Earth\",\"Europa\",\"Europa\",null,\"Europa\",\"Europa\",\"Europa\",\"Mars\",\"Earth\",\"Earth\",\"Earth\",\"Europa\",\"Earth\",\"Europa\",\"Europa\",\"Mars\",\"Mars\",\"Mars\",\"Mars\",\"Mars\",\"Earth\",\"Earth\",\"Earth\",\"Earth\",\"Europa\",\"Earth\",\"Mars\",\"Earth\",\"Earth\",\"Mars\",\"Earth\",\"Mars\",\"Europa\",\"Mars\",\"Earth\",\"Mars\",\"Mars\",\"Mars\",\"Mars\",\"Europa\",\"Europa\",\"Earth\",\"Earth\",\"Earth\",\"Earth\",\"Europa\",\"Mars\",\"Mars\",\"Europa\",\"Earth\",\"Earth\",\"Earth\",\"Europa\",\"Europa\",\"Europa\",null,\"Mars\",\"Mars\",\"Earth\",null,\"Earth\",\"Earth\",\"Earth\",\"Mars\",\"Mars\",\"Mars\",\"Europa\",\"Europa\",\"Mars\",\"Mars\",\"Mars\",\"Mars\",\"Europa\",\"Europa\",\"Europa\",\"Europa\",\"Earth\",\"Earth\",\"Earth\",\"Earth\",\"Earth\",\"Mars\",\"Mars\",\"Earth\",\"Europa\",\"Earth\",\"Mars\",\"Earth\",\"Earth\",\"Earth\",\"Earth\",\"Earth\",\"Earth\",\"Earth\",\"Europa\",\"Europa\",\"Europa\",\"Europa\",\"Earth\",\"Earth\",\"Earth\",\"Earth\",\"Earth\",\"Europa\",\"Earth\",\"Earth\",\"Earth\",\"Earth\",\"Europa\",\"Earth\",\"Earth\",\"Europa\",\"Europa\",\"Mars\",\"Europa\",\"Europa\",\"Europa\",\"Europa\",\"Europa\",\"Europa\",\"Europa\",\"Europa\",\"Europa\",\"Earth\",\"Mars\",\"Earth\",\"Earth\",\"Mars\",\"Europa\",\"Europa\",\"Earth\",\"Earth\",\"Mars\",\"Earth\",\"Mars\",\"Europa\",\"Mars\",\"Europa\",\"Earth\",\"Earth\",\"Mars\",\"Mars\",\"Mars\",\"Earth\",\"Earth\",\"Earth\",\"Europa\",\"Mars\",\"Mars\",\"Mars\",\"Mars\",\"Earth\",\"Europa\",\"Europa\",\"Europa\",\"Mars\",\"Mars\",\"Earth\",\"Europa\",\"Earth\",\"Earth\",\"Mars\",\"Mars\",\"Mars\",\"Mars\",\"Europa\",\"Europa\",\"Mars\",\"Mars\",\"Europa\",\"Europa\",\"Earth\",\"Earth\",\"Earth\",\"Mars\",\"Europa\",\"Europa\",\"Europa\",\"Earth\",\"Earth\",\"Earth\",\"Earth\",\"Earth\",\"Earth\",\"Mars\",\"Earth\",\"Europa\",\"Earth\",\"Mars\",null,\"Mars\",\"Earth\",\"Earth\",\"Mars\",\"Mars\",\"Earth\",\"Europa\",\"Europa\",\"Earth\",\"Earth\",\"Europa\",\"Mars\",\"Mars\",\"Earth\",\"Earth\",\"Earth\",\"Mars\",\"Earth\",\"Europa\",\"Europa\",\"Europa\",\"Mars\",\"Mars\",\"Earth\",\"Earth\",\"Earth\",\"Earth\",\"Mars\",\"Europa\",\"Mars\",\"Mars\",\"Mars\",\"Europa\",\"Earth\",\"Europa\",\"Earth\",\"Earth\",\"Earth\",\"Earth\",\"Mars\",\"Mars\",\"Europa\",\"Europa\",\"Europa\",\"Earth\",\"Earth\",\"Mars\",\"Mars\",\"Mars\",\"Earth\",\"Earth\",\"Earth\",\"Europa\",\"Earth\",\"Earth\",\"Mars\",\"Mars\",\"Earth\",\"Europa\",\"Earth\",\"Europa\",\"Earth\",\"Earth\",\"Earth\",\"Earth\",\"Earth\",\"Earth\",\"Europa\",\"Mars\",\"Earth\",\"Europa\",null,\"Europa\",\"Europa\",\"Earth\",\"Earth\",\"Earth\",\"Mars\",\"Earth\",\"Earth\",\"Earth\",\"Mars\",\"Mars\",\"Earth\",\"Earth\",\"Mars\",\"Europa\",\"Earth\",null,\"Earth\",\"Mars\",\"Earth\",\"Mars\",null,\"Mars\",\"Europa\",\"Europa\",\"Europa\",\"Europa\",\"Europa\",\"Earth\",\"Mars\",\"Europa\",\"Europa\",\"Earth\",\"Earth\",\"Earth\",\"Earth\",\"Mars\",\"Europa\",\"Mars\",\"Earth\",\"Earth\",\"Earth\",\"Earth\",\"Earth\",\"Mars\",\"Mars\",\"Earth\",\"Earth\",\"Europa\",\"Earth\",\"Mars\",\"Earth\",\"Earth\",\"Earth\",\"Earth\",\"Europa\",\"Earth\",\"Europa\",null,\"Mars\",\"Earth\",\"Mars\",\"Europa\",\"Earth\",\"Earth\",\"Mars\",\"Europa\",\"Earth\",\"Europa\",\"Earth\",\"Mars\",\"Mars\",\"Europa\",\"Europa\",\"Mars\",\"Earth\",\"Europa\",\"Earth\",\"Earth\",\"Earth\",\"Earth\",\"Europa\",\"Europa\",\"Europa\",\"Earth\",\"Earth\",\"Europa\",\"Europa\",\"Earth\",\"Mars\",\"Earth\",\"Europa\",\"Earth\",\"Mars\",\"Earth\",\"Mars\",\"Earth\",\"Europa\",\"Europa\",\"Europa\",\"Earth\",\"Europa\",\"Earth\",\"Europa\",null,\"Europa\",\"Europa\",\"Europa\",\"Europa\",\"Europa\",\"Europa\",\"Europa\",null,\"Europa\",\"Earth\",\"Earth\",\"Earth\",\"Earth\",\"Earth\",\"Earth\",\"Earth\",\"Earth\",\"Earth\",\"Earth\",\"Europa\",\"Earth\",\"Mars\",\"Earth\",\"Europa\",\"Earth\",\"Europa\",\"Earth\",\"Earth\",\"Earth\",\"Mars\",\"Mars\",\"Mars\",\"Mars\",\"Europa\",\"Earth\",\"Europa\",\"Europa\",\"Mars\",\"Earth\",\"Europa\",\"Earth\",\"Earth\",\"Earth\",\"Earth\",\"Europa\",\"Earth\",\"Earth\",\"Earth\",\"Europa\",\"Mars\",\"Earth\",\"Europa\",\"Earth\",\"Earth\",\"Earth\",\"Earth\",\"Earth\",\"Mars\",\"Earth\",\"Earth\",\"Mars\",\"Mars\",\"Europa\",\"Europa\",\"Europa\",\"Europa\",\"Europa\",\"Earth\",\"Mars\",\"Europa\",\"Europa\",\"Europa\",\"Earth\",\"Earth\",\"Earth\",\"Europa\",\"Earth\",\"Earth\",\"Earth\",\"Mars\",\"Earth\",\"Earth\",\"Earth\",\"Europa\",\"Mars\",\"Mars\",\"Earth\",\"Earth\",\"Earth\",\"Earth\",\"Earth\",null,\"Europa\",\"Mars\",\"Europa\",\"Europa\",\"Earth\",\"Earth\",\"Earth\",\"Europa\",\"Europa\",\"Europa\",\"Earth\",\"Earth\",\"Earth\",null,\"Europa\",\"Europa\",\"Earth\",\"Europa\"],\"xaxis\":\"x\",\"yaxis\":\"y\",\"type\":\"histogram\"}],                        {\"template\":{\"data\":{\"histogram2dcontour\":[{\"type\":\"histogram2dcontour\",\"colorbar\":{\"outlinewidth\":0,\"ticks\":\"\"},\"colorscale\":[[0.0,\"#0d0887\"],[0.1111111111111111,\"#46039f\"],[0.2222222222222222,\"#7201a8\"],[0.3333333333333333,\"#9c179e\"],[0.4444444444444444,\"#bd3786\"],[0.5555555555555556,\"#d8576b\"],[0.6666666666666666,\"#ed7953\"],[0.7777777777777778,\"#fb9f3a\"],[0.8888888888888888,\"#fdca26\"],[1.0,\"#f0f921\"]]}],\"choropleth\":[{\"type\":\"choropleth\",\"colorbar\":{\"outlinewidth\":0,\"ticks\":\"\"}}],\"histogram2d\":[{\"type\":\"histogram2d\",\"colorbar\":{\"outlinewidth\":0,\"ticks\":\"\"},\"colorscale\":[[0.0,\"#0d0887\"],[0.1111111111111111,\"#46039f\"],[0.2222222222222222,\"#7201a8\"],[0.3333333333333333,\"#9c179e\"],[0.4444444444444444,\"#bd3786\"],[0.5555555555555556,\"#d8576b\"],[0.6666666666666666,\"#ed7953\"],[0.7777777777777778,\"#fb9f3a\"],[0.8888888888888888,\"#fdca26\"],[1.0,\"#f0f921\"]]}],\"heatmap\":[{\"type\":\"heatmap\",\"colorbar\":{\"outlinewidth\":0,\"ticks\":\"\"},\"colorscale\":[[0.0,\"#0d0887\"],[0.1111111111111111,\"#46039f\"],[0.2222222222222222,\"#7201a8\"],[0.3333333333333333,\"#9c179e\"],[0.4444444444444444,\"#bd3786\"],[0.5555555555555556,\"#d8576b\"],[0.6666666666666666,\"#ed7953\"],[0.7777777777777778,\"#fb9f3a\"],[0.8888888888888888,\"#fdca26\"],[1.0,\"#f0f921\"]]}],\"heatmapgl\":[{\"type\":\"heatmapgl\",\"colorbar\":{\"outlinewidth\":0,\"ticks\":\"\"},\"colorscale\":[[0.0,\"#0d0887\"],[0.1111111111111111,\"#46039f\"],[0.2222222222222222,\"#7201a8\"],[0.3333333333333333,\"#9c179e\"],[0.4444444444444444,\"#bd3786\"],[0.5555555555555556,\"#d8576b\"],[0.6666666666666666,\"#ed7953\"],[0.7777777777777778,\"#fb9f3a\"],[0.8888888888888888,\"#fdca26\"],[1.0,\"#f0f921\"]]}],\"contourcarpet\":[{\"type\":\"contourcarpet\",\"colorbar\":{\"outlinewidth\":0,\"ticks\":\"\"}}],\"contour\":[{\"type\":\"contour\",\"colorbar\":{\"outlinewidth\":0,\"ticks\":\"\"},\"colorscale\":[[0.0,\"#0d0887\"],[0.1111111111111111,\"#46039f\"],[0.2222222222222222,\"#7201a8\"],[0.3333333333333333,\"#9c179e\"],[0.4444444444444444,\"#bd3786\"],[0.5555555555555556,\"#d8576b\"],[0.6666666666666666,\"#ed7953\"],[0.7777777777777778,\"#fb9f3a\"],[0.8888888888888888,\"#fdca26\"],[1.0,\"#f0f921\"]]}],\"surface\":[{\"type\":\"surface\",\"colorbar\":{\"outlinewidth\":0,\"ticks\":\"\"},\"colorscale\":[[0.0,\"#0d0887\"],[0.1111111111111111,\"#46039f\"],[0.2222222222222222,\"#7201a8\"],[0.3333333333333333,\"#9c179e\"],[0.4444444444444444,\"#bd3786\"],[0.5555555555555556,\"#d8576b\"],[0.6666666666666666,\"#ed7953\"],[0.7777777777777778,\"#fb9f3a\"],[0.8888888888888888,\"#fdca26\"],[1.0,\"#f0f921\"]]}],\"mesh3d\":[{\"type\":\"mesh3d\",\"colorbar\":{\"outlinewidth\":0,\"ticks\":\"\"}}],\"scatter\":[{\"fillpattern\":{\"fillmode\":\"overlay\",\"size\":10,\"solidity\":0.2},\"type\":\"scatter\"}],\"parcoords\":[{\"type\":\"parcoords\",\"line\":{\"colorbar\":{\"outlinewidth\":0,\"ticks\":\"\"}}}],\"scatterpolargl\":[{\"type\":\"scatterpolargl\",\"marker\":{\"colorbar\":{\"outlinewidth\":0,\"ticks\":\"\"}}}],\"bar\":[{\"error_x\":{\"color\":\"#2a3f5f\"},\"error_y\":{\"color\":\"#2a3f5f\"},\"marker\":{\"line\":{\"color\":\"#E5ECF6\",\"width\":0.5},\"pattern\":{\"fillmode\":\"overlay\",\"size\":10,\"solidity\":0.2}},\"type\":\"bar\"}],\"scattergeo\":[{\"type\":\"scattergeo\",\"marker\":{\"colorbar\":{\"outlinewidth\":0,\"ticks\":\"\"}}}],\"scatterpolar\":[{\"type\":\"scatterpolar\",\"marker\":{\"colorbar\":{\"outlinewidth\":0,\"ticks\":\"\"}}}],\"histogram\":[{\"marker\":{\"pattern\":{\"fillmode\":\"overlay\",\"size\":10,\"solidity\":0.2}},\"type\":\"histogram\"}],\"scattergl\":[{\"type\":\"scattergl\",\"marker\":{\"colorbar\":{\"outlinewidth\":0,\"ticks\":\"\"}}}],\"scatter3d\":[{\"type\":\"scatter3d\",\"line\":{\"colorbar\":{\"outlinewidth\":0,\"ticks\":\"\"}},\"marker\":{\"colorbar\":{\"outlinewidth\":0,\"ticks\":\"\"}}}],\"scattermapbox\":[{\"type\":\"scattermapbox\",\"marker\":{\"colorbar\":{\"outlinewidth\":0,\"ticks\":\"\"}}}],\"scatterternary\":[{\"type\":\"scatterternary\",\"marker\":{\"colorbar\":{\"outlinewidth\":0,\"ticks\":\"\"}}}],\"scattercarpet\":[{\"type\":\"scattercarpet\",\"marker\":{\"colorbar\":{\"outlinewidth\":0,\"ticks\":\"\"}}}],\"carpet\":[{\"aaxis\":{\"endlinecolor\":\"#2a3f5f\",\"gridcolor\":\"white\",\"linecolor\":\"white\",\"minorgridcolor\":\"white\",\"startlinecolor\":\"#2a3f5f\"},\"baxis\":{\"endlinecolor\":\"#2a3f5f\",\"gridcolor\":\"white\",\"linecolor\":\"white\",\"minorgridcolor\":\"white\",\"startlinecolor\":\"#2a3f5f\"},\"type\":\"carpet\"}],\"table\":[{\"cells\":{\"fill\":{\"color\":\"#EBF0F8\"},\"line\":{\"color\":\"white\"}},\"header\":{\"fill\":{\"color\":\"#C8D4E3\"},\"line\":{\"color\":\"white\"}},\"type\":\"table\"}],\"barpolar\":[{\"marker\":{\"line\":{\"color\":\"#E5ECF6\",\"width\":0.5},\"pattern\":{\"fillmode\":\"overlay\",\"size\":10,\"solidity\":0.2}},\"type\":\"barpolar\"}],\"pie\":[{\"automargin\":true,\"type\":\"pie\"}]},\"layout\":{\"autotypenumbers\":\"strict\",\"colorway\":[\"#636efa\",\"#EF553B\",\"#00cc96\",\"#ab63fa\",\"#FFA15A\",\"#19d3f3\",\"#FF6692\",\"#B6E880\",\"#FF97FF\",\"#FECB52\"],\"font\":{\"color\":\"#2a3f5f\"},\"hovermode\":\"closest\",\"hoverlabel\":{\"align\":\"left\"},\"paper_bgcolor\":\"white\",\"plot_bgcolor\":\"#E5ECF6\",\"polar\":{\"bgcolor\":\"#E5ECF6\",\"angularaxis\":{\"gridcolor\":\"white\",\"linecolor\":\"white\",\"ticks\":\"\"},\"radialaxis\":{\"gridcolor\":\"white\",\"linecolor\":\"white\",\"ticks\":\"\"}},\"ternary\":{\"bgcolor\":\"#E5ECF6\",\"aaxis\":{\"gridcolor\":\"white\",\"linecolor\":\"white\",\"ticks\":\"\"},\"baxis\":{\"gridcolor\":\"white\",\"linecolor\":\"white\",\"ticks\":\"\"},\"caxis\":{\"gridcolor\":\"white\",\"linecolor\":\"white\",\"ticks\":\"\"}},\"coloraxis\":{\"colorbar\":{\"outlinewidth\":0,\"ticks\":\"\"}},\"colorscale\":{\"sequential\":[[0.0,\"#0d0887\"],[0.1111111111111111,\"#46039f\"],[0.2222222222222222,\"#7201a8\"],[0.3333333333333333,\"#9c179e\"],[0.4444444444444444,\"#bd3786\"],[0.5555555555555556,\"#d8576b\"],[0.6666666666666666,\"#ed7953\"],[0.7777777777777778,\"#fb9f3a\"],[0.8888888888888888,\"#fdca26\"],[1.0,\"#f0f921\"]],\"sequentialminus\":[[0.0,\"#0d0887\"],[0.1111111111111111,\"#46039f\"],[0.2222222222222222,\"#7201a8\"],[0.3333333333333333,\"#9c179e\"],[0.4444444444444444,\"#bd3786\"],[0.5555555555555556,\"#d8576b\"],[0.6666666666666666,\"#ed7953\"],[0.7777777777777778,\"#fb9f3a\"],[0.8888888888888888,\"#fdca26\"],[1.0,\"#f0f921\"]],\"diverging\":[[0,\"#8e0152\"],[0.1,\"#c51b7d\"],[0.2,\"#de77ae\"],[0.3,\"#f1b6da\"],[0.4,\"#fde0ef\"],[0.5,\"#f7f7f7\"],[0.6,\"#e6f5d0\"],[0.7,\"#b8e186\"],[0.8,\"#7fbc41\"],[0.9,\"#4d9221\"],[1,\"#276419\"]]},\"xaxis\":{\"gridcolor\":\"white\",\"linecolor\":\"white\",\"ticks\":\"\",\"title\":{\"standoff\":15},\"zerolinecolor\":\"white\",\"automargin\":true,\"zerolinewidth\":2},\"yaxis\":{\"gridcolor\":\"white\",\"linecolor\":\"white\",\"ticks\":\"\",\"title\":{\"standoff\":15},\"zerolinecolor\":\"white\",\"automargin\":true,\"zerolinewidth\":2},\"scene\":{\"xaxis\":{\"backgroundcolor\":\"#E5ECF6\",\"gridcolor\":\"white\",\"linecolor\":\"white\",\"showbackground\":true,\"ticks\":\"\",\"zerolinecolor\":\"white\",\"gridwidth\":2},\"yaxis\":{\"backgroundcolor\":\"#E5ECF6\",\"gridcolor\":\"white\",\"linecolor\":\"white\",\"showbackground\":true,\"ticks\":\"\",\"zerolinecolor\":\"white\",\"gridwidth\":2},\"zaxis\":{\"backgroundcolor\":\"#E5ECF6\",\"gridcolor\":\"white\",\"linecolor\":\"white\",\"showbackground\":true,\"ticks\":\"\",\"zerolinecolor\":\"white\",\"gridwidth\":2}},\"shapedefaults\":{\"line\":{\"color\":\"#2a3f5f\"}},\"annotationdefaults\":{\"arrowcolor\":\"#2a3f5f\",\"arrowhead\":0,\"arrowwidth\":1},\"geo\":{\"bgcolor\":\"white\",\"landcolor\":\"#E5ECF6\",\"subunitcolor\":\"white\",\"showland\":true,\"showlakes\":true,\"lakecolor\":\"white\"},\"title\":{\"x\":0.05},\"mapbox\":{\"style\":\"light\"}}},\"xaxis\":{\"anchor\":\"y\",\"domain\":[0.0,1.0],\"title\":{\"text\":\"HomePlanet\"}},\"yaxis\":{\"anchor\":\"x\",\"domain\":[0.0,1.0],\"title\":{\"text\":\"count\"}},\"legend\":{\"title\":{\"text\":\"Transported\"},\"tracegroupgap\":0},\"margin\":{\"t\":60},\"barmode\":\"group\"},                        {\"responsive\": true}                    ).then(function(){\n",
       "                            \n",
       "var gd = document.getElementById('b1f3a9b9-27ad-48e8-9156-34dc79107cfa');\n",
       "var x = new MutationObserver(function (mutations, observer) {{\n",
       "        var display = window.getComputedStyle(gd).display;\n",
       "        if (!display || display === 'none') {{\n",
       "            console.log([gd, 'removed!']);\n",
       "            Plotly.purge(gd);\n",
       "            observer.disconnect();\n",
       "        }}\n",
       "}});\n",
       "\n",
       "// Listen for the removal of the full notebook cells\n",
       "var notebookContainer = gd.closest('#notebook-container');\n",
       "if (notebookContainer) {{\n",
       "    x.observe(notebookContainer, {childList: true});\n",
       "}}\n",
       "\n",
       "// Listen for the clearing of the current output cell\n",
       "var outputEl = gd.closest('.output');\n",
       "if (outputEl) {{\n",
       "    x.observe(outputEl, {childList: true});\n",
       "}}\n",
       "\n",
       "                        })                };                });            </script>        </div>"
      ]
     },
     "metadata": {},
     "output_type": "display_data"
    }
   ],
   "source": [
    "px.histogram(df,x='HomePlanet',color='Transported',barmode='group')"
   ]
  },
  {
   "cell_type": "code",
   "execution_count": 9,
   "id": "bdf08b9f",
   "metadata": {
    "execution": {
     "iopub.execute_input": "2023-02-22T05:13:51.280457Z",
     "iopub.status.busy": "2023-02-22T05:13:51.279614Z",
     "iopub.status.idle": "2023-02-22T05:13:51.379569Z",
     "shell.execute_reply": "2023-02-22T05:13:51.378130Z"
    },
    "papermill": {
     "duration": 0.120424,
     "end_time": "2023-02-22T05:13:51.382967",
     "exception": false,
     "start_time": "2023-02-22T05:13:51.262543",
     "status": "completed"
    },
    "tags": []
   },
   "outputs": [
    {
     "data": {
      "text/html": [
       "<div>                            <div id=\"b80631f9-d6eb-40ae-921a-3e0c0bcdfabc\" class=\"plotly-graph-div\" style=\"height:525px; width:100%;\"></div>            <script type=\"text/javascript\">                require([\"plotly\"], function(Plotly) {                    window.PLOTLYENV=window.PLOTLYENV || {};                                    if (document.getElementById(\"b80631f9-d6eb-40ae-921a-3e0c0bcdfabc\")) {                    Plotly.newPlot(                        \"b80631f9-d6eb-40ae-921a-3e0c0bcdfabc\",                        [{\"alignmentgroup\":\"True\",\"bingroup\":\"x\",\"hovertemplate\":\"Transported=False<br>CryoSleep=%{x}<br>count=%{y}<extra></extra>\",\"legendgroup\":\"False\",\"marker\":{\"color\":\"#636efa\",\"pattern\":{\"shape\":\"\"}},\"name\":\"False\",\"offsetgroup\":\"False\",\"orientation\":\"v\",\"showlegend\":true,\"x\":[false,false,false,false,false,false,false,false,true,true,true,true,false,false,false,false,false,false,false,false,false,true,false,true,false,false,false,false,true,false,false,false,false,false,false,false,false,false,false,true,false,false,false,false,false,false,false,false,true,null,false,true,false,false,null,false,false,false,false,false,false,false,false,false,false,false,false,false,false,true,false,false,true,false,true,false,false,false,false,false,false,false,false,true,false,false,false,false,false,true,false,true,false,false,false,false,false,false,true,false,false,false,false,false,false,false,false,true,false,false,false,false,false,true,false,false,false,null,false,true,false,false,false,true,false,false,false,false,false,false,false,false,false,false,false,false,false,true,false,false,false,false,false,false,false,false,false,false,true,true,true,false,false,false,false,true,false,true,false,false,false,false,false,false,false,false,false,true,false,false,false,false,false,false,false,true,false,true,true,false,false,false,false,false,false,false,false,false,false,true,false,false,false,false,false,true,false,false,false,false,false,false,false,false,false,false,false,false,false,false,false,false,true,false,false,true,false,false,false,false,true,false,false,false,false,false,false,false,false,false,null,true,false,false,false,false,false,false,false,false,false,false,false,false,true,true,false,false,false,false,false,false,false,false,false,false,false,false,false,false,false,false,false,false,null,true,false,false,false,false,false,false,false,false,false,true,false,false,true,false,false,false,true,true,false,false,false,false,false,false,false,false,true,false,false,false,false,false,false,false,false,false,false,false,false,false,false,false,true,false,false,false,false,false,false,true,true,true,false,true,true,true,false,false,false,false,false,false,false,false,false,false,false,null,false,false,true,true,false,false,false,true,false,false,false,false,false,false,false,true,false,false,false,false,true,null,false,false,false,true,false,null,true,true,false,false,false,false,false,false,true,false,false,false,true,false,false,false,false,false,false,false,false,false,false,false,true,false,false,false,false,false,false,false,null,false,true,false,false,true,false,true,false,false,false,false,false,false,false,false,false,false,false,true,false,false,true,true,true,false,false,false,false,false,false,false,false,false,true,false,false,false,false,false,false,false,false,false,false,false,false,false,false,false,false,true,false,false,false,false,true,false,true,false,false,false,false,false,false,true,false,false,false,false,true,false,false,false,false,true,false,false,false,true,false,false,false,false,true,true,false,false,false,false,false,false,false,true,false,false,false,false,true,false,false,false,false,false,false,false,false,false,false,false,false,true,false,true,null,false,false,false,false,false,null,false,true,true,false,false,false,false,false,false,false,null,false,false,false,false,false,false,false,false,true,true,false,false,false,false,false,false,false,true,false,false,true,false,false,false,false,false,false,false,false,null,false,false,false,false,false,true,false,false,false,false,false,false,false,false,false,false,false,false,false,true,true,true,true,false,false,false,false,false,false,false,true,false,false,false,false,false,false,false,false,false,false,false,false,false,false,false,true,false,false,true,true,true,false,false,false,false,false,false,false,false,false,null,false,false,false,true,true,false,false,false,false,false,false,false,true,false,false,false,false,true,false,false,false,true,null,true,false,false,false,false,false,true,false,false,false,false,false,false,true,false,null,false,false,true,false,false,false,false,false,true,false,false,false,false,false,false,false,false,null,false,false,false,false,false,false,false,false,true,false,true,false,false,true,false,false,false,false,false,false,false,true,false,true,false,false,false,false,false,false,false,false,false,false,false,null,false,false,false,false,true,false,false,false,false,false,false,null,false,false,false,false,false,false,false,false,false,false,false,false,false,false,false,false,false,false,false,false,false,false,false,false,false,false,false,false,false,false,false,true,false,false,false,false,false,true,false,false,false,false,false,false,false,false,false,false,true,false,false,false,false,false,false,false,false,false,false,false,false,false,false,true,false,false,true,false,false,false,false,true,false,true,true,false,false,false,false,false,null,false,false,false,false,false,false,false,false,true,false,false,false,true,true,false,false,false,false,false,false,true,false,false,false,false,false,false,false,false,false,false,false,false,false,false,null,null,false,false,false,true,false,true,false,false,false,false,false,false,true,false,false,false,false,false,false,true,true,false,false,false,false,false,false,false,false,false,false,true,true,false,false,true,true,false,false,false,false,true,true,false,false,false,false,false,false,false,false,false,false,false,false,false,true,false,false,false,false,false,false,false,false,false,false,false,false,false,false,false,false,true,false,false,null,false,false,true,true,null,false,false,false,false,true,false,false,false,true,true,true,false,true,false,false,true,false,true,false,false,false,false,false,true,false,true,true,true,false,true,false,false,false,false,false,false,false,false,false,false,false,false,false,true,false,false,false,false,false,false,false,false,false,false,false,false,false,true,false,false,false,false,false,false,false,false,false,true,false,true,false,false,null,false,false,false,false,false,false,false,true,false,false,false,true,true,false,false,false,null,true,false,false,false,false,false,false,false,false,false,false,false,false,false,false,false,false,false,false,false,false,false,false,false,false,true,false,false,true,false,false,true,false,true,true,true,false,false,false,false,false,false,false,false,false,false,null,false,false,true,true,false,false,true,false,true,false,false,false,false,false,false,false,false,false,false,false,false,true,false,false,null,false,false,true,false,false,false,false,false,false,false,false,false,true,false,false,false,true,false,false,false,false,false,false,false,false,false,null,false,false,false,false,false,false,false,false,false,false,true,false,false,false,false,false,null,false,false,false,null,false,false,false,false,false,false,false,false,false,false,false,true,false,false,false,false,true,false,false,true,false,true,false,false,true,false,true,false,false,false,false,false,false,true,null,true,false,false,false,false,false,false,false,true,true,false,false,false,false,false,false,false,true,true,true,null,false,false,null,false,false,false,false,false,false,false,true,false,false,false,false,false,false,true,false,false,false,false,false,false,false,false,false,true,true,false,false,false,true,true,true,false,false,false,false,false,false,false,false,false,true,true,false,false,false,false,false,false,false,false,false,false,false,false,false,false,false,false,false,false,false,false,false,false,true,false,false,false,true,false,false,false,false,true,false,false,false,false,false,false,false,false,false,false,false,false,false,false,false,false,false,false,null,false,false,false,false,false,false,false,false,false,false,false,false,false,true,true,true,false,false,null,false,false,false,false,false,false,false,false,false,false,false,false,false,true,false,false,false,false,false,false,false,true,true,false,false,false,false,false,true,false,false,false,false,false,false,false,true,false,false,false,false,false,false,false,false,false,true,false,false,false,false,false,false,false,false,false,false,false,false,false,false,true,false,false,false,false,false,false,false,false,false,false,false,true,false,false,false,false,null,true,false,false,false,false,true,false,false,false,false,false,false,false,false,true,false,false,true,true,false,false,false,false,false,false,false,false,false,false,false,false,true,true,false,false,false,null,true,false,false,false,false,false,false,false,false,false,false,false,false,false,false,false,false,false,false,false,false,true,false,true,false,false,false,false,false,true,false,false,false,false,false,false,false,false,false,false,false,true,false,true,false,false,false,false,false,false,false,false,false,true,false,false,true,true,false,false,false,false,false,false,false,false,false,false,false,null,false,false,false,false,false,false,false,false,false,false,false,false,false,false,false,false,false,false,false,false,false,false,false,false,true,true,false,false,true,false,false,false,false,false,false,false,false,false,false,true,false,true,false,false,false,false,false,null,false,false,false,false,false,false,false,false,false,false,null,false,false,false,false,false,false,false,true,false,false,false,true,false,false,false,false,false,false,false,false,false,true,false,false,false,true,false,null,true,false,false,false,false,false,true,null,false,false,false,false,false,true,false,false,false,false,true,false,false,false,false,false,false,false,false,false,false,false,false,false,false,false,true,false,false,false,false,false,false,false,false,false,true,false,true,false,false,false,false,false,true,false,false,false,false,true,true,false,false,false,false,false,false,false,false,false,false,true,false,false,null,false,true,false,false,false,false,false,false,null,false,false,false,false,false,false,false,false,false,true,true,false,true,false,false,true,false,false,false,false,false,false,false,false,true,false,false,false,false,true,false,false,false,false,true,false,false,false,false,false,true,false,false,true,false,false,false,false,false,false,false,false,false,false,false,false,false,false,false,true,true,false,false,true,false,false,true,false,false,false,false,false,false,false,true,false,false,false,false,null,false,false,false,false,false,false,false,false,false,false,true,false,false,false,false,false,false,false,false,false,false,true,true,true,false,false,false,false,false,false,true,false,false,false,false,false,false,false,false,false,false,false,false,false,true,false,false,false,false,false,false,false,false,false,false,false,false,true,false,false,false,true,false,false,false,false,false,false,false,false,false,false,false,false,false,false,false,true,false,false,false,false,false,false,false,true,false,null,false,true,true,true,false,false,false,false,false,false,false,true,false,false,false,null,false,false,false,false,true,true,false,false,false,false,false,true,false,false,false,false,true,false,false,false,false,false,false,false,false,false,false,false,false,false,false,false,false,false,false,false,false,false,false,false,false,false,false,false,false,false,false,true,false,false,false,false,false,false,true,false,false,false,false,false,true,false,true,false,true,false,false,false,false,false,false,false,false,false,false,false,false,false,false,false,true,false,false,false,true,true,false,true,false,false,false,false,true,false,false,false,false,false,false,false,true,false,false,false,false,false,false,false,false,false,false,false,false,false,false,false,false,true,false,true,false,true,true,null,true,false,false,false,false,false,true,false,false,false,false,false,false,true,false,true,false,true,false,true,false,true,false,false,false,true,false,false,false,false,false,false,null,false,false,false,true,false,false,false,false,false,false,false,true,false,true,false,false,false,true,true,false,false,true,false,false,false,false,true,false,false,false,true,false,false,false,false,false,true,false,false,false,false,false,false,false,false,false,false,false,false,false,false,false,false,false,false,false,false,false,false,false,false,false,false,false,false,false,false,false,false,true,false,false,false,false,false,false,false,false,false,false,false,true,false,true,false,false,false,false,null,false,false,false,false,false,false,true,true,false,false,false,false,false,false,false,false,false,false,false,false,true,false,false,false,false,false,false,false,false,false,false,false,false,false,false,false,false,false,false,false,true,false,false,false,false,false,true,false,false,null,false,false,false,false,false,false,false,false,true,true,false,false,false,false,false,false,false,false,false,true,false,false,false,false,false,false,false,false,false,false,false,false,false,false,true,false,false,false,false,false,false,true,false,true,false,false,false,false,true,false,false,false,false,false,false,false,false,false,false,false,false,false,false,false,false,false,false,false,false,false,false,false,false,false,false,false,false,null,false,false,null,false,false,false,false,false,false,false,false,false,false,false,false,null,false,false,false,false,true,false,false,false,false,false,false,false,false,false,false,false,false,false,false,false,false,false,false,false,true,true,false,true,false,false,false,true,true,false,false,false,false,false,false,false,false,false,false,false,true,false,false,false,false,false,true,true,false,false,false,false,false,false,false,false,false,false,false,false,false,false,false,false,false,false,false,false,false,false,false,false,false,false,false,false,true,false,false,false,false,false,false,false,false,false,false,false,false,false,false,false,false,false,null,false,false,false,false,false,false,false,false,true,false,false,false,false,false,false,false,false,true,false,false,false,false,false,false,true,false,false,false,false,false,false,false,false,true,true,false,false,null,false,false,false,false,false,true,false,false,false,false,false,true,false,false,false,true,false,false,false,false,false,false,false,false,false,false,false,false,false,true,false,false,false,false,false,false,false,false,false,false,false,false,false,false,false,false,false,true,false,false,false,true,true,false,false,false,null,true,true,false,false,false,false,false,false,false,false,false,false,false,false,true,false,false,false,false,false,false,false,false,false,false,false,false,false,false,false,false,false,false,false,false,false,false,true,false,true,false,false,null,false,false,false,false,false,false,false,false,true,false,false,false,false,false,false,true,false,false,false,false,false,false,false,false,false,false,false,false,false,false,false,false,false,false,false,false,false,false,false,false,false,false,false,false,false,false,null,false,false,false,false,false,false,false,false,false,false,false,false,false,false,false,false,false,false,false,false,false,false,false,false,false,false,false,false,false,false,null,false,false,false,false,false,false,false,true,false,false,true,false,false,false,false,false,false,false,false,false,false,false,false,false,false,false,false,false,true,false,false,false,false,false,false,false,true,false,false,false,false,false,false,false,false,false,false,false,false,false,false,false,true,true,false,false,false,false,false,false,false,false,null,false,false,false,false,false,false,false,false,true,false,false,false,false,false,false,false,false,false,false,false,false,false,false,false,false,true,null,false,false,false,true,false,false,false,false,false,false,false,false,false,false,true,false,false,true,false,false,false,false,false,false,true,false,false,false,false,false,false,false,false,true,false,false,true,false,false,false,false,false,null,false,false,false,false,false,false,false,false,false,false,false,null,false,false,false,false,false,false,false,false,false,null,false,false,false,false,false,false,false,false,false,true,false,false,false,false,false,false,false,false,false,false,false,false,false,false,false,true,false,false,false,false,false,false,false,false,false,false,false,false,false,false,false,false,true,false,false,false,false,false,false,false,false,false,false,false,false,false,false,false,false,false,false,null,false,false,false,false,false,false,false,false,false,false,false,false,false,false,false,false,false,false,false,false,false,false,false,false,false,false,false,false,false,false,false,false,false,false,true,false,false,false,false,false,false,true,true,false,true,false,false,true,false,false,false,false,false,false,false,true,null,false,false,false,false,false,false,true,true,false,false,false,false,false,false,false,false,false,false,false,false,false,false,false,false,false,false,false,false,false,false,false,false,null,false,false,true,false,false,true,false,false,false,false,false,false,null,false,false,false,false,false,false,false,false,false,false,false,true,false,false,true,false,true,false,false,false,false,false,false,false,false,false,false,false,false,false,false,false,false,false,false,false,false,false,false,false,false,false,false,false,false,false,false,false,false,false,false,false,false,false,false,false,false,false,false,false,false,false,false,false,false,false,false,false,false,false,false,false,false,true,true,false,false,false,false,false,false,false,false,false,false,false,true,true,true,true,true,false,false,false,false,false,false,false,false,false,false,false,false,false,false,false,false,true,false,false,false,false,false,false,false,false,false,false,false,false,false,true,false,false,false,false,false,false,null,false,false,false,false,false,false,false,false,null,false,true,false,false,true,false,false,false,false,false,false,false,false,false,true,false,false,false,false,false,false,false,true,false,false,false,false,false,false,null,false,false,false,false,false,false,false,false,false,false,false,false,false,false,false,false,false,true,false,false,false,false,false,true,false,false,true,false,false,false,false,false,true,true,false,false,false,true,false,null,false,false,false,true,false,false,false,false,false,false,false,false,false,false,false,false,false,false,false,false,false,null,false,false,false,false,false,false,false,false,false,false,false,true,false,false,false,false,false,null,false,false,false,true,false,false,false,false,false,true,false,false,false,false,false,false,false,false,false,true,false,false,false,false,false,false,null,false,false,false,false,false,false,false,false,true,false,true,false,false,false,false,false,false,false,false,true,true,false,false,false,true,false,false,false,false,false,false,false,false,false,false,false,false,true,false,false,false,false,false,null,false,false,false,false,false,false,false,false,false,false,false,false,false,false,false,false,false,false,false,false,false,false,false,false,false,false,false,false,false,false,false,false,false,false,false,false,false,false,false,false,false,false,false,true,false,false,false,false,false,false,false,false,false,false,false,false,false,true,false,false,false,false,false,true,false,false,false,true,false,true,false,false,false,false,null,false,false,false,false,false,false,true,false,false,false,false,false,false,false,false,false,false,false,false,true,false,false,false,false,false,false,false,false,false,false,false,true,false,false,false,false,false,false,false,false,false,false,false,false,true,false,true,false,false,false,false,null,false,true,false,false,false,false,false,null,false,false,false,false,false,false,false,false,false,false,false,true,false,false,false,false,false,false,false,false,true,false,false,false,false,false,false,false,false,false,false,false,false,false,false,false,false,false,false,false,false,false,false,false,false,false,false,null,false,false,false,false,false,false,false,false,false,false,false,false,false,false,false,false,false,false,false,false,false,false,true,false,false,false,false,false,false,false,true,false,false,false,true,true,false,false,false,false,false,null,false,false,false,false,false,false,false,false,false,false,false,null,false,true,true,true,false,false,false,false,false,false,true,false,false,false,false,false,false,false,false,false,false,false,false,false,false,false,false,false,false,null,null,false,true,false,false,false,false,false,false,false,false,false,false,false,false,true,false,false,false,false,true,false,false,false,true,true,false,false,false,false,false,false,false,false,null,false,false,false,false,false,false,false,false,false,false,false,false,false,false,false,true,true,true,false,false,false,true,false,true,false,true,false,false,false,false,false,false,false,false,true,false,false,false,false,true,null,false,false,false,false,false,false,false,false,false,false,false,false,false,false,false,false,false,true,false,false,false,false,false,false,false,false,false,true,false,false,false,false,false,false,false,true,false,false,false,false,false,false,false,false,false,false,false,false,false,true,false,false,true,false,false,false,false,false,false,true,false,false,false,false,false,null,false,true,false,false,false,false,false,false,false,true,false,false,null,false,false,false,false,false,false,false,false,true,false,false,false,null,false,true,false,null,true,false,false,false,false,false,true,false,true,false,false,false,false,false,false,false,false,false,false,false,false,false,null,false,false,false,false,false,false,false,false,false,false,false,false,false,true,false,false,true,false,false,false,false,false,false,false,false,false,false,false,true,false,false,false,false,true,true,false,false,false,false,true,false,false,false,false,false,false,false,false,false,false,false,false,true,false,false,false,false,false,false,false,false,true,false,false,false,false,false,false,false,false,false,false,false,false,false,false,false,false,true,true,false,false,false,true,false,false,false,false,true,false,true,false,false,false,true,false,false,false,false,true,false,true,true,false,false,false,false,false,false,false,false,false,false,false,false,false,false,false,false,false,false,false,true,false,false,false,false,false,false,false,false,false,null,false,false,false,false,null,false,true,false,false,false,false,false,false,false,false,true,false,false,false,true,false,false,null,true,false,false,false,false,true,true,false,false,false,false,false,false,false,false,true,false,false,false,false,false,false,false,false,false,false,false,false,false,false,false,false,true,false,true,true,false,false,false,false,false,null,false,false,false,false,false,true,false,false,false,false,false,null,false,false,false,false,false,false,true,true,false,false,false,false,false,false,false,false,false,false,true,false,false,false,false,false,true,false,null,true,false,false,false,false,false,false,false,false,false,false,false,true,false,false,false,false,false,null,false,true,null,false,false,false,false,false,false,true,null,true,false,false,false,false,false,false,null,false,false,false,false,false,false,false,false,false,false,true,false,false,false,false,false,false,false,false,true,false,true,false,false,null,false,false,false,false,false,false,false,false,false,false,false,true,false,true,true,false,false,false,true,false,false,false,false,false,false,false,false,false,false,false,true,false,false,true,false,false,false,false,true,true,false,false,false,false,false,false,false,false,false,false,false,false,false,false,false,false,false,false,false,false,false,false,false,false,false,false,false,false,true,false,true,false,false,false,false,false,false,false,false,false,false,false,true,false,false,false,false,false,false,true,false,false,false,false,false,false,false,null,false,false,false,false,false,false,false,false,false,false,false,false,false,false,false,false,false,false,false,false,false,false,false,false,false,false,false,false,true,true,false,false,false,false,false,false,false,false,true,false,false,false,false,false,false,false,false,false,false,false,false,true,false,true,false,false,false,false,false,false,false,true,false,false,false,false,true,false,false,false,false,true,false,false,false,false,false,false,false,false,false,false,false,false,false,false,false,false,false,false,false,false,false,false,false,false,true,false,false,false,false,false,false,true,false,false,false,false,false,false,false,false,false,false,false,false,false,false,false,true,false,false,true,false,false,null,false,false,true,false,false,false,true,false,true,false,false,false,false,false,false,false,false,false,false,false,false,null,true,false,false,false,false,false,true,false,false,false,false,false,false,false,false,false,false,false,false,false,false,false,true,false,null,true,false,false,false,false,true,false,false,false,false,false,true,false,false,false,false,true,false,false,false,false,false,true,false,true,false,false,false,true,false,false,false,false,false,false,false,false,false,false,true,false,false,false,false,false,false,false,true,false,false,false,false,null,false,false,false,false,true,false,false,false,false,false,null,false,false,false,false,false,false,false,false,false,false,true,false,false,false,true,null,false,false,true,false,false,true,true,false,true,false,false,false,true,false],\"xaxis\":\"x\",\"yaxis\":\"y\",\"type\":\"histogram\"},{\"alignmentgroup\":\"True\",\"bingroup\":\"x\",\"hovertemplate\":\"Transported=True<br>CryoSleep=%{x}<br>count=%{y}<extra></extra>\",\"legendgroup\":\"True\",\"marker\":{\"color\":\"#EF553B\",\"pattern\":{\"shape\":\"\"}},\"name\":\"True\",\"offsetgroup\":\"True\",\"orientation\":\"v\",\"showlegend\":true,\"x\":[false,false,false,false,true,false,true,true,false,false,false,true,false,false,true,false,false,false,true,true,true,true,true,false,false,true,false,true,true,true,false,false,false,false,false,true,false,false,true,true,true,true,true,true,false,null,true,false,true,false,false,true,true,false,false,null,false,true,true,true,true,true,false,true,true,true,false,true,true,true,true,false,true,true,true,true,null,false,false,true,false,true,true,true,false,false,null,true,true,true,true,false,true,false,true,false,true,true,true,false,true,true,true,true,true,true,true,true,true,false,true,false,true,true,true,true,false,true,false,false,false,true,false,true,true,true,true,false,true,null,false,false,true,false,true,true,false,false,true,false,false,true,false,true,false,false,false,true,true,false,false,true,true,true,false,null,true,true,true,true,true,false,true,false,true,false,true,true,true,true,false,true,true,true,false,false,false,true,true,true,false,false,true,true,false,true,true,false,false,false,true,false,true,null,true,true,false,true,true,false,true,true,true,true,true,true,null,true,true,false,true,true,false,false,false,false,true,true,false,true,true,true,true,true,true,true,true,false,false,true,true,true,true,true,true,false,false,false,true,true,true,true,true,false,false,true,true,true,false,true,true,true,true,true,false,false,true,false,true,true,false,true,false,false,false,true,true,true,true,true,false,false,true,true,true,true,true,true,false,true,true,true,true,true,true,true,true,false,true,false,false,true,false,true,true,false,true,true,false,false,true,false,true,true,true,false,true,true,false,true,false,false,false,true,true,false,true,true,true,true,true,null,false,false,true,false,false,true,true,false,false,true,true,true,true,true,true,false,false,true,true,true,true,false,true,false,true,true,null,true,false,true,true,null,false,false,false,null,true,true,true,true,true,true,true,false,false,true,true,false,true,true,true,false,false,true,true,true,true,true,null,true,true,true,true,false,false,false,false,true,false,true,false,true,false,false,true,false,true,false,false,false,false,true,true,true,false,true,true,true,true,true,true,true,false,true,true,false,true,false,false,false,false,true,false,false,true,false,true,true,true,false,true,true,false,true,false,false,false,true,false,false,true,true,false,true,false,true,true,true,true,false,false,true,true,true,true,true,false,false,false,false,true,true,false,false,true,true,true,false,true,true,true,true,true,false,true,true,false,false,true,true,false,true,false,true,true,false,true,true,false,true,true,true,false,true,true,true,true,true,true,true,false,true,false,false,true,true,false,true,true,false,true,false,false,false,true,false,null,true,false,true,false,false,true,false,false,true,true,true,false,false,true,true,false,true,true,false,true,true,true,true,true,true,false,false,false,true,true,true,false,true,true,true,true,true,false,false,false,false,false,true,true,false,false,true,true,false,false,false,true,true,false,true,false,true,false,false,true,true,false,false,false,true,false,false,false,false,true,true,true,true,true,false,true,true,true,true,false,false,true,true,false,false,true,false,false,false,false,true,true,false,false,true,true,true,true,true,true,true,false,true,true,false,true,true,false,true,false,true,true,false,true,true,false,false,true,true,false,false,false,true,true,true,true,false,false,true,true,true,false,false,true,true,true,true,false,false,true,true,true,true,true,false,false,true,true,false,false,true,true,true,true,false,true,false,true,false,false,true,true,true,true,true,true,false,false,false,null,true,true,false,false,false,true,true,true,true,true,true,false,true,false,false,false,false,true,null,false,false,true,false,true,true,false,true,true,true,false,false,true,true,true,true,false,false,false,false,false,false,true,true,true,true,true,false,false,false,false,true,true,false,true,false,true,true,false,null,true,true,true,true,true,true,true,false,false,true,false,true,false,false,true,true,false,true,true,true,true,true,true,false,true,false,false,true,true,false,true,false,true,false,false,true,false,true,true,true,true,false,false,false,true,false,false,true,true,false,false,true,true,true,false,true,false,false,false,true,true,false,false,true,true,true,true,false,false,false,true,false,false,false,false,false,false,false,true,false,false,true,true,true,false,true,false,true,true,false,false,true,false,true,false,null,true,false,false,false,false,false,true,true,true,true,false,false,true,false,true,false,false,false,true,false,true,false,false,true,true,true,false,true,false,false,true,true,true,true,true,true,true,true,false,true,false,true,false,null,false,false,true,true,true,false,false,false,false,true,true,false,true,true,true,true,true,false,true,false,false,false,true,false,true,true,false,false,true,true,false,false,false,false,true,false,false,false,false,false,false,true,true,false,false,true,true,false,true,false,true,true,false,false,true,true,false,false,true,false,true,false,false,true,true,false,true,true,false,true,true,true,true,false,false,true,false,false,true,false,false,false,true,true,false,true,false,true,true,true,false,true,true,false,false,true,true,true,false,true,true,false,false,false,true,false,false,true,false,true,true,true,false,false,true,false,false,false,false,false,true,true,false,true,true,true,true,true,true,false,true,true,true,false,true,true,true,false,true,true,true,false,false,false,true,false,false,true,false,false,true,false,true,true,true,false,true,true,true,true,false,true,true,true,false,false,true,true,true,true,true,false,true,false,true,true,true,true,false,true,true,true,true,true,true,true,false,true,true,true,false,true,true,true,true,false,true,true,true,true,true,false,true,true,true,false,false,false,false,true,false,false,false,true,true,true,true,false,null,false,true,true,true,false,true,false,true,true,true,false,true,true,true,true,true,false,null,false,true,true,true,false,true,true,true,false,false,true,true,true,true,true,true,false,false,true,false,true,true,false,false,true,false,true,false,false,false,false,false,false,true,true,true,false,true,false,true,false,false,true,true,true,true,true,true,false,true,true,true,true,true,false,false,true,false,null,false,false,true,false,true,true,true,false,false,false,false,true,true,false,true,false,true,false,true,false,false,true,true,false,true,true,false,true,true,false,true,false,true,true,true,true,true,true,true,null,false,false,false,true,true,false,true,true,true,true,false,false,true,false,true,true,false,true,true,false,true,false,false,true,false,true,false,true,false,false,false,false,true,false,false,true,true,true,true,true,true,false,false,true,false,false,false,false,true,false,false,true,false,true,true,true,false,false,true,true,true,true,false,true,false,false,null,false,true,true,false,true,true,true,false,true,true,true,true,true,false,true,false,true,null,false,true,false,false,true,false,true,true,false,true,false,true,true,true,true,true,true,false,true,false,false,true,true,true,true,false,true,true,true,false,false,true,true,false,true,false,false,true,false,true,true,false,false,false,true,true,true,false,false,true,true,true,true,true,false,false,null,true,false,false,true,true,true,false,true,false,true,true,false,false,false,null,true,true,false,false,true,true,true,true,true,true,false,true,true,false,false,true,true,true,false,true,false,true,false,false,true,true,false,false,null,true,true,true,false,true,false,true,true,true,true,true,true,true,true,true,false,true,true,true,true,true,true,true,false,true,false,false,false,false,true,true,true,false,true,true,true,true,true,true,false,true,true,false,true,true,false,false,true,false,false,true,false,true,true,true,false,false,true,null,true,true,true,false,false,true,true,true,true,true,null,true,false,false,true,false,false,true,false,false,true,true,true,true,true,true,true,true,true,true,true,true,false,null,false,false,false,true,false,false,true,false,false,false,false,true,true,true,false,false,true,true,true,true,false,true,true,true,true,true,true,true,false,true,true,true,true,true,true,false,true,true,false,true,false,true,true,false,true,false,true,true,false,true,false,false,true,false,false,false,true,true,false,true,null,true,true,true,true,null,null,true,true,false,false,false,false,true,true,true,false,true,true,false,false,true,false,true,true,true,true,true,true,true,true,true,false,false,true,true,true,true,true,false,false,true,true,true,false,false,true,false,true,true,false,true,true,false,false,true,true,true,true,true,true,false,false,true,true,true,true,true,true,true,true,false,false,true,true,true,false,true,true,true,true,true,false,true,true,true,true,true,true,false,true,false,true,false,false,false,false,false,true,true,false,true,false,false,true,false,false,true,true,true,true,false,true,true,true,true,true,false,false,false,false,true,true,false,true,true,false,true,true,false,true,false,true,true,false,false,true,false,false,false,false,true,true,true,true,false,true,true,true,false,true,false,false,null,true,true,true,true,true,true,false,true,false,true,true,false,true,true,true,false,false,true,false,false,true,false,true,true,true,false,true,true,true,null,null,true,false,false,false,true,false,true,false,false,true,true,false,true,false,false,false,true,true,false,true,true,false,false,false,false,false,true,false,true,true,true,false,false,true,false,true,true,false,true,true,false,true,true,null,false,true,true,false,true,true,false,true,true,true,true,true,true,true,false,true,false,true,true,true,false,false,false,false,false,false,true,true,false,true,null,false,true,true,false,true,false,true,null,false,true,true,true,true,true,false,true,false,false,true,true,false,true,false,true,false,true,false,true,true,true,true,false,true,true,false,true,false,true,true,false,true,false,false,true,true,false,false,true,false,true,true,false,false,false,true,true,true,true,true,true,true,true,true,true,true,false,true,false,false,false,false,false,false,true,null,true,false,true,false,true,false,false,true,true,true,false,true,true,false,true,true,true,false,true,false,false,false,true,false,false,false,false,true,true,true,true,false,true,true,false,false,false,null,false,true,false,true,true,false,false,true,true,false,true,false,false,false,false,false,false,false,true,false,false,true,true,false,false,true,false,false,true,false,false,true,null,true,true,null,true,false,false,true,false,false,false,false,false,false,true,true,false,true,false,true,null,true,true,true,true,false,false,true,true,false,true,false,false,true,true,false,true,true,false,true,false,null,true,false,false,true,false,true,true,true,false,false,true,true,true,true,false,true,true,true,true,true,false,false,true,true,true,true,false,true,false,true,true,false,true,false,false,false,false,false,true,true,true,false,false,false,true,true,true,false,false,true,true,true,true,null,false,false,false,false,false,true,true,true,true,true,false,null,true,false,false,true,false,true,true,true,false,false,true,true,true,null,false,true,false,true,false,false,true,false,false,true,false,true,true,true,false,false,true,true,true,true,false,false,false,false,false,true,false,false,false,false,true,true,true,false,true,true,false,true,true,true,false,true,true,true,true,true,false,false,true,null,false,false,false,true,true,false,false,true,true,true,false,true,true,false,true,false,false,false,false,true,false,true,true,true,false,false,false,true,false,null,false,false,true,true,true,true,true,false,false,true,false,true,false,true,true,true,false,true,true,true,true,false,true,true,true,false,true,false,false,false,true,true,true,true,true,false,false,true,false,true,false,false,true,true,true,true,false,true,false,true,true,false,false,true,true,true,true,false,false,false,false,false,false,false,false,false,false,true,false,true,true,false,false,true,false,false,true,true,true,true,false,true,false,true,false,true,false,true,true,true,true,false,false,false,true,false,false,true,true,false,null,true,false,true,false,false,true,true,true,true,false,true,false,true,false,true,false,true,false,true,true,true,false,true,false,null,null,false,false,false,true,true,true,true,true,true,true,true,true,true,false,true,true,true,false,false,true,true,true,false,false,true,false,true,false,true,true,true,true,true,true,false,false,true,false,null,false,true,false,false,false,false,false,true,true,false,false,true,false,true,true,true,false,true,true,true,true,true,true,true,false,true,false,false,true,true,false,true,true,false,false,true,false,true,false,true,true,false,true,true,true,false,null,true,true,true,false,false,false,true,true,false,true,true,null,true,false,false,true,true,false,true,true,true,false,true,false,null,true,false,true,false,false,false,true,true,false,true,true,true,true,true,false,false,false,true,true,true,false,true,true,false,false,false,true,false,false,false,true,true,true,false,true,false,true,true,true,false,false,false,true,false,false,true,false,false,false,true,false,false,false,true,true,true,true,true,true,false,false,true,true,false,true,true,false,false,true,true,true,true,false,true,false,false,true,false,false,true,true,false,false,true,false,false,true,true,false,true,true,true,true,false,false,false,true,true,false,false,true,false,true,true,false,false,false,true,true,true,null,false,true,false,true,false,false,true,false,true,false,true,false,true,true,true,true,null,true,false,null,false,true,true,false,true,true,false,true,false,false,true,true,true,true,false,true,true,false,true,true,false,true,false,true,false,true,true,false,true,true,false,false,false,false,false,false,false,true,true,true,true,false,false,false,true,true,true,false,true,true,false,true,true,false,true,true,false,true,true,true,true,true,false,true,true,true,true,true,false,false,false,true,false,true,false,false,false,true,true,false,true,false,false,true,true,false,true,true,false,false,true,false,true,true,true,true,false,true,true,true,false,false,true,true,false,false,false,true,false,false,true,true,true,false,true,true,true,true,false,false,true,true,false,true,true,true,true,true,false,false,false,false,false,true,false,false,false,true,true,false,false,true,false,true,true,false,true,true,false,true,false,false,true,true,false,false,true,true,true,false,true,true,true,true,true,false,true,false,false,true,true,false,false,false,true,false,true,false,false,true,false,false,true,false,true,true,true,true,true,true,true,false,true,true,false,true,true,null,true,true,true,false,true,false,true,true,true,true,true,true,false,false,false,null,false,true,true,false,false,true,false,false,false,true,false,true,false,true,true,true,true,true,false,false,false,true,false,false,true,true,true,null,true,true,true,true,false,true,false,false,true,true,true,false,false,true,true,false,true,true,false,true,true,false,false,true,false,true,true,true,false,true,true,null,true,true,true,false,false,true,false,true,false,true,false,true,false,true,true,false,false,false,false,false,true,false,false,null,false,true,false,true,true,true,false,false,true,true,true,false,true,true,false,true,true,false,true,false,false,false,false,false,false,true,false,false,true,true,false,false,true,true,true,false,false,false,false,false,false,null,false,false,false,true,true,false,false,false,null,false,false,true,true,null,true,false,false,false,true,true,false,true,false,true,true,true,false,false,true,true,true,false,true,false,true,true,true,false,true,false,false,false,true,false,true,false,true,true,false,true,true,true,false,false,null,true,false,true,true,true,false,true,true,null,false,true,true,true,true,true,false,false,true,true,true,true,true,true,true,true,false,false,true,true,true,true,false,true,false,false,false,true,false,false,false,false,false,false,true,true,false,true,true,true,false,true,false,false,false,true,true,true,true,true,false,true,false,true,true,true,true,false,null,false,false,false,false,true,false,false,true,false,true,false,true,false,true,false,null,true,false,false,true,false,true,true,false,false,null,false,true,true,false,true,true,true,true,false,true,false,false,false,true,false,true,true,false,false,true,false,false,false,false,true,true,false,true,false,false,false,false,true,false,false,true,false,true,true,true,false,true,true,true,true,true,false,true,false,false,null,true,false,true,true,true,false,true,false,null,true,true,true,true,true,false,true,true,false,false,true,false,true,false,true,true,true,true,true,true,true,false,false,true,true,false,false,true,false,true,true,false,true,true,true,true,false,true,true,false,false,true,false,false,true,true,false,false,false,true,false,true,false,true,true,true,true,true,true,false,false,false,false,true,true,false,false,false,false,true,false,true,false,false,true,null,false,true,false,true,false,true,false,true,true,false,false,true,false,false,true,true,false,false,false,false,true,true,true,false,false,true,true,true,true,true,true,true,true,false,true,true,true,true,true,null,null,true,false,true,false,true,false,false,true,false,false,false,true,true,null,true,true,false,false,true,false,false,true,true,true,true,true,true,false,false,true,true,true,true,true,true,false,null,true,true,true,true,false,false,true,false,false,true,true,true,false,false,false,false,true,true,true,false,false,true,true,false,false,false,false,true,false,false,true,true,true,true,true,false,true,true,false,true,false,false,false,true,true,false,false,false,false,false,true,true,false,false,true,false,true,true,true,false,true,false,true,false,false,true,true,true,null,true,true,false,true,true,true,true,true,true,true,false,true,true,false,true,true,true,true,true,true,false,false,false,true,true,false,true,false,null,true,true,false,false,false,false,false,false,true,true,false,false,true,true,false,true,true,true,false,true,false,false,true,false,false,false,true,false,true,true,false,false,true,false,true,true,true,true,false,true,true,false,true,false,false,false,true,true,false,false,true,false,false,false,true,true,true,false,true,true,true,true,false,true,false,false,true,false,true,true,true,true,false,true,false,false,true,false,false,true,true,true,true,true,false,null,true,true,false,false,true,true,true,true,null,true,true,true,false,true,false,false,true,true,true,false,false,false,false,true,false,true,true,true,true,false,true,false,false,true,false,true,false,false,true,false,true,true,true,true,false,false,true,true,true,false,false,true,false,true,true,false,true,true,true,true,false,false,false,true,false,null,true,false,false,false,false,true,true,true,true,true,false,false,true,false,false,false,true,false,false,true,true,false,true,false,true,false,true,null,true,false,true,true,true,null,false,true,true,true,false,null,true,false,false,true,false,true,true,true,false,true,false,true,true,true,true,true,true,false,true,true,true,false,true,true,false,null,true,false,false,false,false,false,true,null,true,true,true,true,true,false,true,false,true,true,false,true,false,true,true,true,true,true,true,false,true,false,false,false,true,true,false,false,true,false,false,false,true,false,true,true,false,false,false,true,false,true,true,true,false,true,true,true,false,false,true,false,true,false,null,true,false,true,false,true,false,false,true,false,null,true,true,false,true,false,true,false,true,false,true,true,true,true,true,true,true,true,false,false,true,true,false,false,true,true,true,true,false,true,true,false,false,true,true,true,false,true,true,true,true,true,true,true,true,false,false,null,true,false,false,null,true,false,false,false,true,false,false,true,true,true,false,true,false,true,true,true,true,true,true,true,true,true,false,true,true,false,false,true,true,false,false,true,false,true,false,true,true,true,true,true,true,true,true,false,null,false,true,true,true,false,true,true,false,true,true,true,true,true,false,false,false,true,true,true,true,true,true,false,false,true,false,true,true,false,true,true,true,true,false,false,true,true,true,true,true,false,true,true,true,true,false,true,true,true,false,false,true,true,false,true,true,false,true,false,true,true,true,false,false,true,true,true,true,true,false,true,false,false,false,true,true,true,true,true,true,false,true,false,true,true,false,false,true,true,true,null,true,true,false,true,false,true,true,true,true,true,true,true,false,false,false,true,true,true,true,false,true,true,true,true,false,true,true,false,true,false,false,false,true,false,false,false,true,false,true,false,true,false,true,true,true,true,true,null,false,true,false,true,true,false,true,true,true,false,true,true,false,true,false,false,true,false,true,true,false,true,false,false,true,false,true,true,false,true,true,false,true,true,false,true,false,false,true,false,true,true,true,true,false,true,true,false,true,false,true,false,true,true,true,false,true,false,false,false,true,true,false,true,false,true,true,true,false,false,false,true,true,true,null,true,true,false,false,true,true,true,true,false,false,false,true,false,true,true,false,true,true,true,true,false,true,true,true,true,true,false,true,true,false,true,true,true,true,true,true,false,true,true,true,false,true,false,false,true,false,true,true,false,true,false,false,true,false,true,true,true,true,true,true,false,false,false,true,false,true,false,true,true,false,true,true,false,true,true,true,false,true,true,true,true,false,false,false,true,true,true,false,true,true,true,true,false,false,false,false,false,true,false,true,true,true,false,false,false,false,true,true,true,false,true,false,false,true,true,false,true,true,false,false,true,true,true,true,true,true,true,true,true,true,true,true,false,true,true,true,true,true,false,true,false,false,false,true,true,false,true,true,true,true,false,false,false,false,true,false,true,true,true,true,true,false,false,false,false,true,true,true,false,true,true,false,false,true,false,true,true,false,true,true,true,false,null,false,true,null,true,false,false,true,false,true,false,true,false,false,true,true,false,true,false,false,true,true,false,true,true,false,true,false,false,false,false,false,false,true,false,true,false,false,true,true,true,true,true,true,false,true,true,false,false,true,true,true,false,true,false,false,false,true,true,true,true,true,true,false,false,true,true,true,false,true,true,true,false,true,false,true,true,false,true,false,false,false,false,false,true,true,true,false,true,false,false,true,true,false,false,true,false,true,true,true,true,false,false,true,null,true,false,true,true,true,false,true,true,false,true,true,true,true,true,true,true,false,true,true,true,false,true,true,true,true,false,true,false,false,false,false,true,true,true,false,true,true,true,false,true,true,true,true,true,true,true,false,true,true,true,true,true,false,false,false,false,false,true,true,true,false,true,false,true,true,true,false,false,false,true,true,true,true,true,true,true,true,true,true,true,true,false,false,true,true,false,true,true,true,false,false,false,false,true,true,false,false,true,false,false,true,true,false,false,null,false,true,false,true,true,true,true,true,false,false,true,false,true,false,true,true,true,true,false,true,false,false,false,false,true,null,false,false,true,false,true,true,true,null,true,true,true,true,true,false,true,false,null,false,false],\"xaxis\":\"x\",\"yaxis\":\"y\",\"type\":\"histogram\"}],                        {\"template\":{\"data\":{\"histogram2dcontour\":[{\"type\":\"histogram2dcontour\",\"colorbar\":{\"outlinewidth\":0,\"ticks\":\"\"},\"colorscale\":[[0.0,\"#0d0887\"],[0.1111111111111111,\"#46039f\"],[0.2222222222222222,\"#7201a8\"],[0.3333333333333333,\"#9c179e\"],[0.4444444444444444,\"#bd3786\"],[0.5555555555555556,\"#d8576b\"],[0.6666666666666666,\"#ed7953\"],[0.7777777777777778,\"#fb9f3a\"],[0.8888888888888888,\"#fdca26\"],[1.0,\"#f0f921\"]]}],\"choropleth\":[{\"type\":\"choropleth\",\"colorbar\":{\"outlinewidth\":0,\"ticks\":\"\"}}],\"histogram2d\":[{\"type\":\"histogram2d\",\"colorbar\":{\"outlinewidth\":0,\"ticks\":\"\"},\"colorscale\":[[0.0,\"#0d0887\"],[0.1111111111111111,\"#46039f\"],[0.2222222222222222,\"#7201a8\"],[0.3333333333333333,\"#9c179e\"],[0.4444444444444444,\"#bd3786\"],[0.5555555555555556,\"#d8576b\"],[0.6666666666666666,\"#ed7953\"],[0.7777777777777778,\"#fb9f3a\"],[0.8888888888888888,\"#fdca26\"],[1.0,\"#f0f921\"]]}],\"heatmap\":[{\"type\":\"heatmap\",\"colorbar\":{\"outlinewidth\":0,\"ticks\":\"\"},\"colorscale\":[[0.0,\"#0d0887\"],[0.1111111111111111,\"#46039f\"],[0.2222222222222222,\"#7201a8\"],[0.3333333333333333,\"#9c179e\"],[0.4444444444444444,\"#bd3786\"],[0.5555555555555556,\"#d8576b\"],[0.6666666666666666,\"#ed7953\"],[0.7777777777777778,\"#fb9f3a\"],[0.8888888888888888,\"#fdca26\"],[1.0,\"#f0f921\"]]}],\"heatmapgl\":[{\"type\":\"heatmapgl\",\"colorbar\":{\"outlinewidth\":0,\"ticks\":\"\"},\"colorscale\":[[0.0,\"#0d0887\"],[0.1111111111111111,\"#46039f\"],[0.2222222222222222,\"#7201a8\"],[0.3333333333333333,\"#9c179e\"],[0.4444444444444444,\"#bd3786\"],[0.5555555555555556,\"#d8576b\"],[0.6666666666666666,\"#ed7953\"],[0.7777777777777778,\"#fb9f3a\"],[0.8888888888888888,\"#fdca26\"],[1.0,\"#f0f921\"]]}],\"contourcarpet\":[{\"type\":\"contourcarpet\",\"colorbar\":{\"outlinewidth\":0,\"ticks\":\"\"}}],\"contour\":[{\"type\":\"contour\",\"colorbar\":{\"outlinewidth\":0,\"ticks\":\"\"},\"colorscale\":[[0.0,\"#0d0887\"],[0.1111111111111111,\"#46039f\"],[0.2222222222222222,\"#7201a8\"],[0.3333333333333333,\"#9c179e\"],[0.4444444444444444,\"#bd3786\"],[0.5555555555555556,\"#d8576b\"],[0.6666666666666666,\"#ed7953\"],[0.7777777777777778,\"#fb9f3a\"],[0.8888888888888888,\"#fdca26\"],[1.0,\"#f0f921\"]]}],\"surface\":[{\"type\":\"surface\",\"colorbar\":{\"outlinewidth\":0,\"ticks\":\"\"},\"colorscale\":[[0.0,\"#0d0887\"],[0.1111111111111111,\"#46039f\"],[0.2222222222222222,\"#7201a8\"],[0.3333333333333333,\"#9c179e\"],[0.4444444444444444,\"#bd3786\"],[0.5555555555555556,\"#d8576b\"],[0.6666666666666666,\"#ed7953\"],[0.7777777777777778,\"#fb9f3a\"],[0.8888888888888888,\"#fdca26\"],[1.0,\"#f0f921\"]]}],\"mesh3d\":[{\"type\":\"mesh3d\",\"colorbar\":{\"outlinewidth\":0,\"ticks\":\"\"}}],\"scatter\":[{\"fillpattern\":{\"fillmode\":\"overlay\",\"size\":10,\"solidity\":0.2},\"type\":\"scatter\"}],\"parcoords\":[{\"type\":\"parcoords\",\"line\":{\"colorbar\":{\"outlinewidth\":0,\"ticks\":\"\"}}}],\"scatterpolargl\":[{\"type\":\"scatterpolargl\",\"marker\":{\"colorbar\":{\"outlinewidth\":0,\"ticks\":\"\"}}}],\"bar\":[{\"error_x\":{\"color\":\"#2a3f5f\"},\"error_y\":{\"color\":\"#2a3f5f\"},\"marker\":{\"line\":{\"color\":\"#E5ECF6\",\"width\":0.5},\"pattern\":{\"fillmode\":\"overlay\",\"size\":10,\"solidity\":0.2}},\"type\":\"bar\"}],\"scattergeo\":[{\"type\":\"scattergeo\",\"marker\":{\"colorbar\":{\"outlinewidth\":0,\"ticks\":\"\"}}}],\"scatterpolar\":[{\"type\":\"scatterpolar\",\"marker\":{\"colorbar\":{\"outlinewidth\":0,\"ticks\":\"\"}}}],\"histogram\":[{\"marker\":{\"pattern\":{\"fillmode\":\"overlay\",\"size\":10,\"solidity\":0.2}},\"type\":\"histogram\"}],\"scattergl\":[{\"type\":\"scattergl\",\"marker\":{\"colorbar\":{\"outlinewidth\":0,\"ticks\":\"\"}}}],\"scatter3d\":[{\"type\":\"scatter3d\",\"line\":{\"colorbar\":{\"outlinewidth\":0,\"ticks\":\"\"}},\"marker\":{\"colorbar\":{\"outlinewidth\":0,\"ticks\":\"\"}}}],\"scattermapbox\":[{\"type\":\"scattermapbox\",\"marker\":{\"colorbar\":{\"outlinewidth\":0,\"ticks\":\"\"}}}],\"scatterternary\":[{\"type\":\"scatterternary\",\"marker\":{\"colorbar\":{\"outlinewidth\":0,\"ticks\":\"\"}}}],\"scattercarpet\":[{\"type\":\"scattercarpet\",\"marker\":{\"colorbar\":{\"outlinewidth\":0,\"ticks\":\"\"}}}],\"carpet\":[{\"aaxis\":{\"endlinecolor\":\"#2a3f5f\",\"gridcolor\":\"white\",\"linecolor\":\"white\",\"minorgridcolor\":\"white\",\"startlinecolor\":\"#2a3f5f\"},\"baxis\":{\"endlinecolor\":\"#2a3f5f\",\"gridcolor\":\"white\",\"linecolor\":\"white\",\"minorgridcolor\":\"white\",\"startlinecolor\":\"#2a3f5f\"},\"type\":\"carpet\"}],\"table\":[{\"cells\":{\"fill\":{\"color\":\"#EBF0F8\"},\"line\":{\"color\":\"white\"}},\"header\":{\"fill\":{\"color\":\"#C8D4E3\"},\"line\":{\"color\":\"white\"}},\"type\":\"table\"}],\"barpolar\":[{\"marker\":{\"line\":{\"color\":\"#E5ECF6\",\"width\":0.5},\"pattern\":{\"fillmode\":\"overlay\",\"size\":10,\"solidity\":0.2}},\"type\":\"barpolar\"}],\"pie\":[{\"automargin\":true,\"type\":\"pie\"}]},\"layout\":{\"autotypenumbers\":\"strict\",\"colorway\":[\"#636efa\",\"#EF553B\",\"#00cc96\",\"#ab63fa\",\"#FFA15A\",\"#19d3f3\",\"#FF6692\",\"#B6E880\",\"#FF97FF\",\"#FECB52\"],\"font\":{\"color\":\"#2a3f5f\"},\"hovermode\":\"closest\",\"hoverlabel\":{\"align\":\"left\"},\"paper_bgcolor\":\"white\",\"plot_bgcolor\":\"#E5ECF6\",\"polar\":{\"bgcolor\":\"#E5ECF6\",\"angularaxis\":{\"gridcolor\":\"white\",\"linecolor\":\"white\",\"ticks\":\"\"},\"radialaxis\":{\"gridcolor\":\"white\",\"linecolor\":\"white\",\"ticks\":\"\"}},\"ternary\":{\"bgcolor\":\"#E5ECF6\",\"aaxis\":{\"gridcolor\":\"white\",\"linecolor\":\"white\",\"ticks\":\"\"},\"baxis\":{\"gridcolor\":\"white\",\"linecolor\":\"white\",\"ticks\":\"\"},\"caxis\":{\"gridcolor\":\"white\",\"linecolor\":\"white\",\"ticks\":\"\"}},\"coloraxis\":{\"colorbar\":{\"outlinewidth\":0,\"ticks\":\"\"}},\"colorscale\":{\"sequential\":[[0.0,\"#0d0887\"],[0.1111111111111111,\"#46039f\"],[0.2222222222222222,\"#7201a8\"],[0.3333333333333333,\"#9c179e\"],[0.4444444444444444,\"#bd3786\"],[0.5555555555555556,\"#d8576b\"],[0.6666666666666666,\"#ed7953\"],[0.7777777777777778,\"#fb9f3a\"],[0.8888888888888888,\"#fdca26\"],[1.0,\"#f0f921\"]],\"sequentialminus\":[[0.0,\"#0d0887\"],[0.1111111111111111,\"#46039f\"],[0.2222222222222222,\"#7201a8\"],[0.3333333333333333,\"#9c179e\"],[0.4444444444444444,\"#bd3786\"],[0.5555555555555556,\"#d8576b\"],[0.6666666666666666,\"#ed7953\"],[0.7777777777777778,\"#fb9f3a\"],[0.8888888888888888,\"#fdca26\"],[1.0,\"#f0f921\"]],\"diverging\":[[0,\"#8e0152\"],[0.1,\"#c51b7d\"],[0.2,\"#de77ae\"],[0.3,\"#f1b6da\"],[0.4,\"#fde0ef\"],[0.5,\"#f7f7f7\"],[0.6,\"#e6f5d0\"],[0.7,\"#b8e186\"],[0.8,\"#7fbc41\"],[0.9,\"#4d9221\"],[1,\"#276419\"]]},\"xaxis\":{\"gridcolor\":\"white\",\"linecolor\":\"white\",\"ticks\":\"\",\"title\":{\"standoff\":15},\"zerolinecolor\":\"white\",\"automargin\":true,\"zerolinewidth\":2},\"yaxis\":{\"gridcolor\":\"white\",\"linecolor\":\"white\",\"ticks\":\"\",\"title\":{\"standoff\":15},\"zerolinecolor\":\"white\",\"automargin\":true,\"zerolinewidth\":2},\"scene\":{\"xaxis\":{\"backgroundcolor\":\"#E5ECF6\",\"gridcolor\":\"white\",\"linecolor\":\"white\",\"showbackground\":true,\"ticks\":\"\",\"zerolinecolor\":\"white\",\"gridwidth\":2},\"yaxis\":{\"backgroundcolor\":\"#E5ECF6\",\"gridcolor\":\"white\",\"linecolor\":\"white\",\"showbackground\":true,\"ticks\":\"\",\"zerolinecolor\":\"white\",\"gridwidth\":2},\"zaxis\":{\"backgroundcolor\":\"#E5ECF6\",\"gridcolor\":\"white\",\"linecolor\":\"white\",\"showbackground\":true,\"ticks\":\"\",\"zerolinecolor\":\"white\",\"gridwidth\":2}},\"shapedefaults\":{\"line\":{\"color\":\"#2a3f5f\"}},\"annotationdefaults\":{\"arrowcolor\":\"#2a3f5f\",\"arrowhead\":0,\"arrowwidth\":1},\"geo\":{\"bgcolor\":\"white\",\"landcolor\":\"#E5ECF6\",\"subunitcolor\":\"white\",\"showland\":true,\"showlakes\":true,\"lakecolor\":\"white\"},\"title\":{\"x\":0.05},\"mapbox\":{\"style\":\"light\"}}},\"xaxis\":{\"anchor\":\"y\",\"domain\":[0.0,1.0],\"title\":{\"text\":\"CryoSleep\"}},\"yaxis\":{\"anchor\":\"x\",\"domain\":[0.0,1.0],\"title\":{\"text\":\"count\"}},\"legend\":{\"title\":{\"text\":\"Transported\"},\"tracegroupgap\":0},\"margin\":{\"t\":60},\"barmode\":\"group\"},                        {\"responsive\": true}                    ).then(function(){\n",
       "                            \n",
       "var gd = document.getElementById('b80631f9-d6eb-40ae-921a-3e0c0bcdfabc');\n",
       "var x = new MutationObserver(function (mutations, observer) {{\n",
       "        var display = window.getComputedStyle(gd).display;\n",
       "        if (!display || display === 'none') {{\n",
       "            console.log([gd, 'removed!']);\n",
       "            Plotly.purge(gd);\n",
       "            observer.disconnect();\n",
       "        }}\n",
       "}});\n",
       "\n",
       "// Listen for the removal of the full notebook cells\n",
       "var notebookContainer = gd.closest('#notebook-container');\n",
       "if (notebookContainer) {{\n",
       "    x.observe(notebookContainer, {childList: true});\n",
       "}}\n",
       "\n",
       "// Listen for the clearing of the current output cell\n",
       "var outputEl = gd.closest('.output');\n",
       "if (outputEl) {{\n",
       "    x.observe(outputEl, {childList: true});\n",
       "}}\n",
       "\n",
       "                        })                };                });            </script>        </div>"
      ]
     },
     "metadata": {},
     "output_type": "display_data"
    }
   ],
   "source": [
    "px.histogram(df,x='CryoSleep',color='Transported',barmode='group')"
   ]
  },
  {
   "cell_type": "code",
   "execution_count": 10,
   "id": "7ddd987a",
   "metadata": {
    "execution": {
     "iopub.execute_input": "2023-02-22T05:13:51.417930Z",
     "iopub.status.busy": "2023-02-22T05:13:51.417451Z",
     "iopub.status.idle": "2023-02-22T05:13:51.519614Z",
     "shell.execute_reply": "2023-02-22T05:13:51.518198Z"
    },
    "papermill": {
     "duration": 0.125718,
     "end_time": "2023-02-22T05:13:51.524930",
     "exception": false,
     "start_time": "2023-02-22T05:13:51.399212",
     "status": "completed"
    },
    "tags": []
   },
   "outputs": [
    {
     "data": {
      "text/html": [
       "<div>                            <div id=\"5ec2b7a6-871d-4248-a325-9ade453beb56\" class=\"plotly-graph-div\" style=\"height:525px; width:100%;\"></div>            <script type=\"text/javascript\">                require([\"plotly\"], function(Plotly) {                    window.PLOTLYENV=window.PLOTLYENV || {};                                    if (document.getElementById(\"5ec2b7a6-871d-4248-a325-9ade453beb56\")) {                    Plotly.newPlot(                        \"5ec2b7a6-871d-4248-a325-9ade453beb56\",                        [{\"alignmentgroup\":\"True\",\"bingroup\":\"x\",\"hovertemplate\":\"Transported=False<br>Destination=%{x}<br>count=%{y}<extra></extra>\",\"legendgroup\":\"False\",\"marker\":{\"color\":\"#636efa\",\"pattern\":{\"shape\":\"\"}},\"name\":\"False\",\"offsetgroup\":\"False\",\"orientation\":\"v\",\"showlegend\":true,\"x\":[\"TRAPPIST-1e\",\"TRAPPIST-1e\",\"TRAPPIST-1e\",\"TRAPPIST-1e\",\"TRAPPIST-1e\",\"55 Cancri e\",\"55 Cancri e\",\"55 Cancri e\",\"TRAPPIST-1e\",\"55 Cancri e\",\"55 Cancri e\",\"PSO J318.5-22\",\"TRAPPIST-1e\",\"TRAPPIST-1e\",\"TRAPPIST-1e\",\"55 Cancri e\",\"TRAPPIST-1e\",\"TRAPPIST-1e\",\"55 Cancri e\",\"55 Cancri e\",\"55 Cancri e\",\"55 Cancri e\",\"TRAPPIST-1e\",\"TRAPPIST-1e\",\"TRAPPIST-1e\",\"55 Cancri e\",\"TRAPPIST-1e\",\"TRAPPIST-1e\",\"PSO J318.5-22\",\"TRAPPIST-1e\",\"TRAPPIST-1e\",\"TRAPPIST-1e\",\"55 Cancri e\",\"TRAPPIST-1e\",\"TRAPPIST-1e\",\"TRAPPIST-1e\",\"TRAPPIST-1e\",\"PSO J318.5-22\",\"TRAPPIST-1e\",\"TRAPPIST-1e\",\"TRAPPIST-1e\",\"TRAPPIST-1e\",\"TRAPPIST-1e\",\"TRAPPIST-1e\",\"TRAPPIST-1e\",\"TRAPPIST-1e\",\"PSO J318.5-22\",\"TRAPPIST-1e\",\"TRAPPIST-1e\",\"TRAPPIST-1e\",\"TRAPPIST-1e\",\"TRAPPIST-1e\",\"TRAPPIST-1e\",\"TRAPPIST-1e\",\"TRAPPIST-1e\",\"TRAPPIST-1e\",\"TRAPPIST-1e\",\"TRAPPIST-1e\",\"TRAPPIST-1e\",\"TRAPPIST-1e\",\"TRAPPIST-1e\",\"TRAPPIST-1e\",\"TRAPPIST-1e\",\"PSO J318.5-22\",null,\"TRAPPIST-1e\",\"TRAPPIST-1e\",\"TRAPPIST-1e\",\"TRAPPIST-1e\",\"55 Cancri e\",null,\"TRAPPIST-1e\",\"PSO J318.5-22\",\"TRAPPIST-1e\",\"TRAPPIST-1e\",\"TRAPPIST-1e\",\"55 Cancri e\",\"TRAPPIST-1e\",\"TRAPPIST-1e\",\"TRAPPIST-1e\",\"TRAPPIST-1e\",\"TRAPPIST-1e\",\"55 Cancri e\",\"55 Cancri e\",\"TRAPPIST-1e\",\"TRAPPIST-1e\",\"TRAPPIST-1e\",\"PSO J318.5-22\",\"TRAPPIST-1e\",\"TRAPPIST-1e\",\"TRAPPIST-1e\",\"PSO J318.5-22\",\"TRAPPIST-1e\",\"TRAPPIST-1e\",\"TRAPPIST-1e\",\"TRAPPIST-1e\",\"55 Cancri e\",\"TRAPPIST-1e\",\"TRAPPIST-1e\",\"TRAPPIST-1e\",\"TRAPPIST-1e\",\"55 Cancri e\",\"55 Cancri e\",\"TRAPPIST-1e\",\"TRAPPIST-1e\",\"TRAPPIST-1e\",\"TRAPPIST-1e\",\"TRAPPIST-1e\",\"TRAPPIST-1e\",\"TRAPPIST-1e\",\"TRAPPIST-1e\",\"TRAPPIST-1e\",\"TRAPPIST-1e\",\"PSO J318.5-22\",\"TRAPPIST-1e\",\"TRAPPIST-1e\",\"TRAPPIST-1e\",\"55 Cancri e\",\"TRAPPIST-1e\",\"TRAPPIST-1e\",\"TRAPPIST-1e\",\"TRAPPIST-1e\",\"TRAPPIST-1e\",\"PSO J318.5-22\",\"TRAPPIST-1e\",\"TRAPPIST-1e\",\"55 Cancri e\",\"TRAPPIST-1e\",\"TRAPPIST-1e\",\"TRAPPIST-1e\",\"TRAPPIST-1e\",\"TRAPPIST-1e\",\"TRAPPIST-1e\",\"TRAPPIST-1e\",\"55 Cancri e\",\"TRAPPIST-1e\",\"55 Cancri e\",\"TRAPPIST-1e\",\"TRAPPIST-1e\",\"TRAPPIST-1e\",\"55 Cancri e\",\"TRAPPIST-1e\",\"TRAPPIST-1e\",\"TRAPPIST-1e\",\"55 Cancri e\",\"TRAPPIST-1e\",\"TRAPPIST-1e\",\"TRAPPIST-1e\",\"PSO J318.5-22\",\"55 Cancri e\",\"TRAPPIST-1e\",\"TRAPPIST-1e\",\"TRAPPIST-1e\",\"TRAPPIST-1e\",\"TRAPPIST-1e\",\"PSO J318.5-22\",\"PSO J318.5-22\",\"TRAPPIST-1e\",\"TRAPPIST-1e\",\"TRAPPIST-1e\",\"TRAPPIST-1e\",\"PSO J318.5-22\",\"TRAPPIST-1e\",\"55 Cancri e\",\"TRAPPIST-1e\",\"TRAPPIST-1e\",\"TRAPPIST-1e\",\"TRAPPIST-1e\",\"TRAPPIST-1e\",\"55 Cancri e\",\"55 Cancri e\",\"TRAPPIST-1e\",\"TRAPPIST-1e\",null,\"TRAPPIST-1e\",\"PSO J318.5-22\",\"TRAPPIST-1e\",\"TRAPPIST-1e\",\"TRAPPIST-1e\",\"TRAPPIST-1e\",\"TRAPPIST-1e\",\"55 Cancri e\",\"55 Cancri e\",\"TRAPPIST-1e\",\"TRAPPIST-1e\",\"TRAPPIST-1e\",\"55 Cancri e\",\"TRAPPIST-1e\",\"TRAPPIST-1e\",\"TRAPPIST-1e\",\"TRAPPIST-1e\",\"TRAPPIST-1e\",\"55 Cancri e\",\"TRAPPIST-1e\",\"TRAPPIST-1e\",\"TRAPPIST-1e\",\"55 Cancri e\",\"TRAPPIST-1e\",\"TRAPPIST-1e\",\"TRAPPIST-1e\",\"PSO J318.5-22\",\"TRAPPIST-1e\",\"PSO J318.5-22\",\"55 Cancri e\",\"55 Cancri e\",\"TRAPPIST-1e\",\"TRAPPIST-1e\",\"TRAPPIST-1e\",\"TRAPPIST-1e\",\"TRAPPIST-1e\",\"TRAPPIST-1e\",\"TRAPPIST-1e\",\"TRAPPIST-1e\",\"TRAPPIST-1e\",\"TRAPPIST-1e\",null,\"TRAPPIST-1e\",\"TRAPPIST-1e\",\"TRAPPIST-1e\",\"TRAPPIST-1e\",\"TRAPPIST-1e\",\"TRAPPIST-1e\",\"PSO J318.5-22\",\"TRAPPIST-1e\",\"PSO J318.5-22\",\"TRAPPIST-1e\",\"TRAPPIST-1e\",\"TRAPPIST-1e\",\"TRAPPIST-1e\",\"55 Cancri e\",\"TRAPPIST-1e\",\"PSO J318.5-22\",\"TRAPPIST-1e\",\"TRAPPIST-1e\",\"TRAPPIST-1e\",\"TRAPPIST-1e\",\"TRAPPIST-1e\",\"TRAPPIST-1e\",\"55 Cancri e\",\"TRAPPIST-1e\",\"TRAPPIST-1e\",\"TRAPPIST-1e\",\"55 Cancri e\",\"TRAPPIST-1e\",\"PSO J318.5-22\",\"55 Cancri e\",\"TRAPPIST-1e\",\"TRAPPIST-1e\",\"TRAPPIST-1e\",\"TRAPPIST-1e\",\"TRAPPIST-1e\",\"TRAPPIST-1e\",\"TRAPPIST-1e\",\"TRAPPIST-1e\",\"55 Cancri e\",\"TRAPPIST-1e\",\"TRAPPIST-1e\",\"TRAPPIST-1e\",\"PSO J318.5-22\",\"TRAPPIST-1e\",\"TRAPPIST-1e\",\"55 Cancri e\",null,\"TRAPPIST-1e\",\"TRAPPIST-1e\",\"TRAPPIST-1e\",\"TRAPPIST-1e\",\"TRAPPIST-1e\",\"TRAPPIST-1e\",null,\"TRAPPIST-1e\",\"TRAPPIST-1e\",\"TRAPPIST-1e\",\"TRAPPIST-1e\",\"TRAPPIST-1e\",\"PSO J318.5-22\",\"TRAPPIST-1e\",\"TRAPPIST-1e\",\"PSO J318.5-22\",\"TRAPPIST-1e\",\"55 Cancri e\",\"TRAPPIST-1e\",\"TRAPPIST-1e\",\"TRAPPIST-1e\",\"TRAPPIST-1e\",\"TRAPPIST-1e\",\"TRAPPIST-1e\",\"TRAPPIST-1e\",\"55 Cancri e\",\"TRAPPIST-1e\",\"TRAPPIST-1e\",\"TRAPPIST-1e\",\"TRAPPIST-1e\",\"PSO J318.5-22\",\"TRAPPIST-1e\",\"PSO J318.5-22\",\"TRAPPIST-1e\",\"TRAPPIST-1e\",\"55 Cancri e\",\"TRAPPIST-1e\",\"TRAPPIST-1e\",\"TRAPPIST-1e\",\"TRAPPIST-1e\",null,\"TRAPPIST-1e\",\"TRAPPIST-1e\",\"TRAPPIST-1e\",\"PSO J318.5-22\",\"TRAPPIST-1e\",\"TRAPPIST-1e\",\"TRAPPIST-1e\",\"TRAPPIST-1e\",\"TRAPPIST-1e\",\"TRAPPIST-1e\",\"TRAPPIST-1e\",\"PSO J318.5-22\",\"TRAPPIST-1e\",\"TRAPPIST-1e\",\"TRAPPIST-1e\",\"PSO J318.5-22\",\"TRAPPIST-1e\",\"TRAPPIST-1e\",\"TRAPPIST-1e\",\"TRAPPIST-1e\",\"TRAPPIST-1e\",\"TRAPPIST-1e\",\"TRAPPIST-1e\",\"TRAPPIST-1e\",\"TRAPPIST-1e\",\"TRAPPIST-1e\",\"55 Cancri e\",\"TRAPPIST-1e\",\"TRAPPIST-1e\",\"TRAPPIST-1e\",\"TRAPPIST-1e\",\"TRAPPIST-1e\",\"PSO J318.5-22\",\"PSO J318.5-22\",\"TRAPPIST-1e\",\"TRAPPIST-1e\",\"PSO J318.5-22\",\"TRAPPIST-1e\",\"TRAPPIST-1e\",\"55 Cancri e\",\"TRAPPIST-1e\",\"TRAPPIST-1e\",\"55 Cancri e\",\"55 Cancri e\",\"TRAPPIST-1e\",\"TRAPPIST-1e\",\"55 Cancri e\",\"55 Cancri e\",\"TRAPPIST-1e\",\"55 Cancri e\",\"PSO J318.5-22\",\"TRAPPIST-1e\",\"TRAPPIST-1e\",\"TRAPPIST-1e\",\"55 Cancri e\",\"TRAPPIST-1e\",\"TRAPPIST-1e\",\"TRAPPIST-1e\",\"PSO J318.5-22\",\"TRAPPIST-1e\",\"55 Cancri e\",\"TRAPPIST-1e\",\"TRAPPIST-1e\",null,\"PSO J318.5-22\",\"TRAPPIST-1e\",\"TRAPPIST-1e\",\"55 Cancri e\",\"TRAPPIST-1e\",\"TRAPPIST-1e\",\"PSO J318.5-22\",\"PSO J318.5-22\",\"TRAPPIST-1e\",\"TRAPPIST-1e\",\"55 Cancri e\",\"TRAPPIST-1e\",\"TRAPPIST-1e\",\"TRAPPIST-1e\",\"TRAPPIST-1e\",\"PSO J318.5-22\",\"TRAPPIST-1e\",\"55 Cancri e\",\"TRAPPIST-1e\",\"TRAPPIST-1e\",\"TRAPPIST-1e\",\"TRAPPIST-1e\",\"TRAPPIST-1e\",\"55 Cancri e\",\"PSO J318.5-22\",\"TRAPPIST-1e\",\"TRAPPIST-1e\",\"55 Cancri e\",\"TRAPPIST-1e\",\"55 Cancri e\",\"TRAPPIST-1e\",\"TRAPPIST-1e\",\"TRAPPIST-1e\",\"TRAPPIST-1e\",\"TRAPPIST-1e\",\"TRAPPIST-1e\",\"PSO J318.5-22\",\"TRAPPIST-1e\",\"TRAPPIST-1e\",\"TRAPPIST-1e\",\"TRAPPIST-1e\",\"PSO J318.5-22\",\"TRAPPIST-1e\",\"TRAPPIST-1e\",\"TRAPPIST-1e\",\"TRAPPIST-1e\",\"TRAPPIST-1e\",\"TRAPPIST-1e\",\"TRAPPIST-1e\",\"TRAPPIST-1e\",\"55 Cancri e\",\"TRAPPIST-1e\",\"PSO J318.5-22\",\"55 Cancri e\",\"TRAPPIST-1e\",\"TRAPPIST-1e\",\"55 Cancri e\",\"TRAPPIST-1e\",\"TRAPPIST-1e\",\"PSO J318.5-22\",\"PSO J318.5-22\",\"55 Cancri e\",\"TRAPPIST-1e\",\"TRAPPIST-1e\",\"TRAPPIST-1e\",\"TRAPPIST-1e\",\"TRAPPIST-1e\",\"TRAPPIST-1e\",\"TRAPPIST-1e\",\"TRAPPIST-1e\",\"TRAPPIST-1e\",\"TRAPPIST-1e\",\"TRAPPIST-1e\",\"55 Cancri e\",\"55 Cancri e\",\"TRAPPIST-1e\",\"PSO J318.5-22\",\"55 Cancri e\",\"TRAPPIST-1e\",\"TRAPPIST-1e\",\"TRAPPIST-1e\",\"TRAPPIST-1e\",\"TRAPPIST-1e\",\"TRAPPIST-1e\",\"TRAPPIST-1e\",\"TRAPPIST-1e\",\"TRAPPIST-1e\",\"TRAPPIST-1e\",\"TRAPPIST-1e\",\"TRAPPIST-1e\",\"55 Cancri e\",\"PSO J318.5-22\",\"TRAPPIST-1e\",\"TRAPPIST-1e\",\"TRAPPIST-1e\",\"PSO J318.5-22\",\"TRAPPIST-1e\",\"TRAPPIST-1e\",\"55 Cancri e\",\"55 Cancri e\",\"55 Cancri e\",\"TRAPPIST-1e\",\"TRAPPIST-1e\",\"TRAPPIST-1e\",null,\"TRAPPIST-1e\",\"TRAPPIST-1e\",\"TRAPPIST-1e\",\"TRAPPIST-1e\",\"TRAPPIST-1e\",\"TRAPPIST-1e\",\"TRAPPIST-1e\",\"TRAPPIST-1e\",\"TRAPPIST-1e\",\"TRAPPIST-1e\",\"55 Cancri e\",\"55 Cancri e\",\"55 Cancri e\",\"TRAPPIST-1e\",\"TRAPPIST-1e\",\"TRAPPIST-1e\",\"TRAPPIST-1e\",\"TRAPPIST-1e\",\"TRAPPIST-1e\",\"PSO J318.5-22\",\"TRAPPIST-1e\",\"TRAPPIST-1e\",\"TRAPPIST-1e\",\"TRAPPIST-1e\",\"TRAPPIST-1e\",\"TRAPPIST-1e\",\"TRAPPIST-1e\",\"55 Cancri e\",\"PSO J318.5-22\",\"TRAPPIST-1e\",\"TRAPPIST-1e\",\"TRAPPIST-1e\",\"PSO J318.5-22\",\"TRAPPIST-1e\",\"TRAPPIST-1e\",\"TRAPPIST-1e\",\"55 Cancri e\",\"55 Cancri e\",\"TRAPPIST-1e\",\"TRAPPIST-1e\",\"TRAPPIST-1e\",\"TRAPPIST-1e\",\"TRAPPIST-1e\",\"TRAPPIST-1e\",\"PSO J318.5-22\",\"TRAPPIST-1e\",\"TRAPPIST-1e\",\"TRAPPIST-1e\",\"PSO J318.5-22\",\"TRAPPIST-1e\",\"TRAPPIST-1e\",\"TRAPPIST-1e\",\"PSO J318.5-22\",\"TRAPPIST-1e\",\"TRAPPIST-1e\",\"TRAPPIST-1e\",\"TRAPPIST-1e\",\"TRAPPIST-1e\",\"TRAPPIST-1e\",\"TRAPPIST-1e\",\"TRAPPIST-1e\",\"TRAPPIST-1e\",\"TRAPPIST-1e\",\"TRAPPIST-1e\",\"TRAPPIST-1e\",\"55 Cancri e\",\"55 Cancri e\",\"TRAPPIST-1e\",\"55 Cancri e\",\"TRAPPIST-1e\",\"TRAPPIST-1e\",\"TRAPPIST-1e\",\"55 Cancri e\",\"55 Cancri e\",\"TRAPPIST-1e\",\"TRAPPIST-1e\",\"TRAPPIST-1e\",\"55 Cancri e\",\"55 Cancri e\",\"TRAPPIST-1e\",\"55 Cancri e\",\"TRAPPIST-1e\",\"TRAPPIST-1e\",\"TRAPPIST-1e\",\"TRAPPIST-1e\",\"TRAPPIST-1e\",\"TRAPPIST-1e\",\"TRAPPIST-1e\",\"TRAPPIST-1e\",\"TRAPPIST-1e\",\"TRAPPIST-1e\",\"TRAPPIST-1e\",\"TRAPPIST-1e\",\"TRAPPIST-1e\",\"TRAPPIST-1e\",\"TRAPPIST-1e\",\"55 Cancri e\",\"TRAPPIST-1e\",\"55 Cancri e\",\"TRAPPIST-1e\",\"TRAPPIST-1e\",\"TRAPPIST-1e\",\"PSO J318.5-22\",\"TRAPPIST-1e\",\"TRAPPIST-1e\",\"TRAPPIST-1e\",\"TRAPPIST-1e\",\"TRAPPIST-1e\",\"TRAPPIST-1e\",\"TRAPPIST-1e\",\"TRAPPIST-1e\",\"TRAPPIST-1e\",\"TRAPPIST-1e\",\"TRAPPIST-1e\",\"55 Cancri e\",\"55 Cancri e\",\"TRAPPIST-1e\",\"TRAPPIST-1e\",\"TRAPPIST-1e\",\"TRAPPIST-1e\",\"TRAPPIST-1e\",\"TRAPPIST-1e\",\"TRAPPIST-1e\",\"55 Cancri e\",\"TRAPPIST-1e\",\"55 Cancri e\",\"TRAPPIST-1e\",\"TRAPPIST-1e\",\"TRAPPIST-1e\",\"PSO J318.5-22\",\"TRAPPIST-1e\",\"55 Cancri e\",\"TRAPPIST-1e\",\"TRAPPIST-1e\",\"PSO J318.5-22\",\"TRAPPIST-1e\",\"55 Cancri e\",\"TRAPPIST-1e\",\"TRAPPIST-1e\",\"TRAPPIST-1e\",\"TRAPPIST-1e\",\"TRAPPIST-1e\",\"TRAPPIST-1e\",\"TRAPPIST-1e\",\"TRAPPIST-1e\",\"55 Cancri e\",\"TRAPPIST-1e\",\"TRAPPIST-1e\",\"TRAPPIST-1e\",\"TRAPPIST-1e\",\"55 Cancri e\",\"55 Cancri e\",\"TRAPPIST-1e\",\"TRAPPIST-1e\",\"TRAPPIST-1e\",\"55 Cancri e\",\"TRAPPIST-1e\",\"55 Cancri e\",\"55 Cancri e\",\"TRAPPIST-1e\",\"TRAPPIST-1e\",\"TRAPPIST-1e\",\"TRAPPIST-1e\",\"TRAPPIST-1e\",\"TRAPPIST-1e\",\"PSO J318.5-22\",\"TRAPPIST-1e\",\"55 Cancri e\",\"TRAPPIST-1e\",\"TRAPPIST-1e\",\"TRAPPIST-1e\",\"TRAPPIST-1e\",\"TRAPPIST-1e\",\"PSO J318.5-22\",\"PSO J318.5-22\",\"TRAPPIST-1e\",\"TRAPPIST-1e\",\"TRAPPIST-1e\",\"TRAPPIST-1e\",\"TRAPPIST-1e\",\"55 Cancri e\",\"TRAPPIST-1e\",\"TRAPPIST-1e\",\"TRAPPIST-1e\",\"TRAPPIST-1e\",\"TRAPPIST-1e\",\"TRAPPIST-1e\",\"TRAPPIST-1e\",\"TRAPPIST-1e\",\"55 Cancri e\",null,\"TRAPPIST-1e\",\"TRAPPIST-1e\",\"TRAPPIST-1e\",\"TRAPPIST-1e\",\"TRAPPIST-1e\",null,\"TRAPPIST-1e\",\"TRAPPIST-1e\",\"TRAPPIST-1e\",\"TRAPPIST-1e\",\"TRAPPIST-1e\",\"TRAPPIST-1e\",\"TRAPPIST-1e\",\"TRAPPIST-1e\",\"TRAPPIST-1e\",\"TRAPPIST-1e\",\"PSO J318.5-22\",\"TRAPPIST-1e\",\"55 Cancri e\",\"PSO J318.5-22\",\"TRAPPIST-1e\",\"TRAPPIST-1e\",\"TRAPPIST-1e\",\"TRAPPIST-1e\",\"TRAPPIST-1e\",\"TRAPPIST-1e\",\"55 Cancri e\",\"55 Cancri e\",\"TRAPPIST-1e\",\"TRAPPIST-1e\",\"TRAPPIST-1e\",\"TRAPPIST-1e\",\"TRAPPIST-1e\",\"TRAPPIST-1e\",\"TRAPPIST-1e\",null,\"TRAPPIST-1e\",\"TRAPPIST-1e\",\"TRAPPIST-1e\",\"TRAPPIST-1e\",\"TRAPPIST-1e\",\"55 Cancri e\",\"55 Cancri e\",\"TRAPPIST-1e\",\"55 Cancri e\",\"TRAPPIST-1e\",\"55 Cancri e\",\"TRAPPIST-1e\",\"55 Cancri e\",\"TRAPPIST-1e\",\"TRAPPIST-1e\",\"TRAPPIST-1e\",\"PSO J318.5-22\",\"PSO J318.5-22\",\"TRAPPIST-1e\",\"TRAPPIST-1e\",\"PSO J318.5-22\",\"TRAPPIST-1e\",\"TRAPPIST-1e\",\"TRAPPIST-1e\",\"55 Cancri e\",\"TRAPPIST-1e\",\"TRAPPIST-1e\",\"TRAPPIST-1e\",\"TRAPPIST-1e\",\"TRAPPIST-1e\",\"TRAPPIST-1e\",\"55 Cancri e\",\"TRAPPIST-1e\",\"TRAPPIST-1e\",\"TRAPPIST-1e\",\"TRAPPIST-1e\",\"TRAPPIST-1e\",\"TRAPPIST-1e\",\"TRAPPIST-1e\",\"TRAPPIST-1e\",\"TRAPPIST-1e\",\"55 Cancri e\",\"TRAPPIST-1e\",\"55 Cancri e\",\"TRAPPIST-1e\",\"TRAPPIST-1e\",\"TRAPPIST-1e\",\"TRAPPIST-1e\",\"TRAPPIST-1e\",\"TRAPPIST-1e\",\"TRAPPIST-1e\",\"TRAPPIST-1e\",\"TRAPPIST-1e\",\"55 Cancri e\",\"TRAPPIST-1e\",\"TRAPPIST-1e\",\"TRAPPIST-1e\",\"TRAPPIST-1e\",\"55 Cancri e\",\"TRAPPIST-1e\",\"TRAPPIST-1e\",\"PSO J318.5-22\",\"TRAPPIST-1e\",\"TRAPPIST-1e\",\"TRAPPIST-1e\",\"TRAPPIST-1e\",\"TRAPPIST-1e\",\"TRAPPIST-1e\",\"TRAPPIST-1e\",\"TRAPPIST-1e\",\"TRAPPIST-1e\",\"TRAPPIST-1e\",\"55 Cancri e\",\"TRAPPIST-1e\",\"TRAPPIST-1e\",\"TRAPPIST-1e\",\"TRAPPIST-1e\",\"TRAPPIST-1e\",\"TRAPPIST-1e\",\"55 Cancri e\",\"TRAPPIST-1e\",\"TRAPPIST-1e\",\"PSO J318.5-22\",\"PSO J318.5-22\",\"TRAPPIST-1e\",\"TRAPPIST-1e\",\"TRAPPIST-1e\",\"TRAPPIST-1e\",\"TRAPPIST-1e\",\"55 Cancri e\",\"TRAPPIST-1e\",\"TRAPPIST-1e\",\"TRAPPIST-1e\",\"55 Cancri e\",\"55 Cancri e\",\"TRAPPIST-1e\",\"55 Cancri e\",\"PSO J318.5-22\",null,\"TRAPPIST-1e\",\"TRAPPIST-1e\",\"TRAPPIST-1e\",\"TRAPPIST-1e\",\"TRAPPIST-1e\",\"TRAPPIST-1e\",\"TRAPPIST-1e\",\"TRAPPIST-1e\",\"PSO J318.5-22\",\"TRAPPIST-1e\",\"TRAPPIST-1e\",\"55 Cancri e\",\"TRAPPIST-1e\",\"TRAPPIST-1e\",\"55 Cancri e\",\"TRAPPIST-1e\",\"55 Cancri e\",\"PSO J318.5-22\",\"TRAPPIST-1e\",\"TRAPPIST-1e\",\"TRAPPIST-1e\",\"55 Cancri e\",\"55 Cancri e\",\"TRAPPIST-1e\",\"TRAPPIST-1e\",\"TRAPPIST-1e\",\"TRAPPIST-1e\",\"TRAPPIST-1e\",\"TRAPPIST-1e\",\"TRAPPIST-1e\",\"TRAPPIST-1e\",\"TRAPPIST-1e\",\"TRAPPIST-1e\",\"TRAPPIST-1e\",\"PSO J318.5-22\",\"TRAPPIST-1e\",\"TRAPPIST-1e\",\"TRAPPIST-1e\",\"TRAPPIST-1e\",\"TRAPPIST-1e\",\"TRAPPIST-1e\",\"TRAPPIST-1e\",\"TRAPPIST-1e\",\"TRAPPIST-1e\",\"TRAPPIST-1e\",\"TRAPPIST-1e\",\"TRAPPIST-1e\",\"TRAPPIST-1e\",\"TRAPPIST-1e\",\"TRAPPIST-1e\",\"TRAPPIST-1e\",\"55 Cancri e\",\"TRAPPIST-1e\",\"TRAPPIST-1e\",\"PSO J318.5-22\",\"TRAPPIST-1e\",\"TRAPPIST-1e\",\"PSO J318.5-22\",\"TRAPPIST-1e\",\"TRAPPIST-1e\",\"TRAPPIST-1e\",\"PSO J318.5-22\",\"TRAPPIST-1e\",\"TRAPPIST-1e\",\"TRAPPIST-1e\",\"TRAPPIST-1e\",\"55 Cancri e\",null,\"TRAPPIST-1e\",\"55 Cancri e\",\"TRAPPIST-1e\",\"TRAPPIST-1e\",\"TRAPPIST-1e\",\"PSO J318.5-22\",\"TRAPPIST-1e\",\"TRAPPIST-1e\",\"55 Cancri e\",\"PSO J318.5-22\",\"55 Cancri e\",\"TRAPPIST-1e\",\"TRAPPIST-1e\",\"TRAPPIST-1e\",\"TRAPPIST-1e\",\"55 Cancri e\",\"TRAPPIST-1e\",\"TRAPPIST-1e\",\"55 Cancri e\",\"TRAPPIST-1e\",\"55 Cancri e\",\"TRAPPIST-1e\",\"TRAPPIST-1e\",\"TRAPPIST-1e\",\"55 Cancri e\",\"PSO J318.5-22\",\"TRAPPIST-1e\",\"55 Cancri e\",\"55 Cancri e\",\"TRAPPIST-1e\",\"TRAPPIST-1e\",\"55 Cancri e\",\"TRAPPIST-1e\",\"TRAPPIST-1e\",\"PSO J318.5-22\",\"TRAPPIST-1e\",\"TRAPPIST-1e\",\"TRAPPIST-1e\",\"TRAPPIST-1e\",\"PSO J318.5-22\",\"55 Cancri e\",\"TRAPPIST-1e\",\"55 Cancri e\",\"TRAPPIST-1e\",\"55 Cancri e\",\"TRAPPIST-1e\",\"TRAPPIST-1e\",\"TRAPPIST-1e\",\"TRAPPIST-1e\",\"TRAPPIST-1e\",\"TRAPPIST-1e\",\"TRAPPIST-1e\",\"TRAPPIST-1e\",\"TRAPPIST-1e\",\"TRAPPIST-1e\",\"PSO J318.5-22\",\"TRAPPIST-1e\",\"TRAPPIST-1e\",\"TRAPPIST-1e\",\"55 Cancri e\",\"TRAPPIST-1e\",\"TRAPPIST-1e\",\"TRAPPIST-1e\",\"TRAPPIST-1e\",\"TRAPPIST-1e\",\"55 Cancri e\",\"TRAPPIST-1e\",\"55 Cancri e\",\"55 Cancri e\",\"PSO J318.5-22\",\"TRAPPIST-1e\",\"TRAPPIST-1e\",\"55 Cancri e\",\"TRAPPIST-1e\",\"TRAPPIST-1e\",\"TRAPPIST-1e\",\"TRAPPIST-1e\",\"TRAPPIST-1e\",\"55 Cancri e\",\"TRAPPIST-1e\",\"TRAPPIST-1e\",\"55 Cancri e\",\"TRAPPIST-1e\",\"TRAPPIST-1e\",\"TRAPPIST-1e\",\"55 Cancri e\",\"TRAPPIST-1e\",\"TRAPPIST-1e\",\"TRAPPIST-1e\",\"TRAPPIST-1e\",\"TRAPPIST-1e\",\"TRAPPIST-1e\",\"TRAPPIST-1e\",\"TRAPPIST-1e\",\"TRAPPIST-1e\",\"TRAPPIST-1e\",\"TRAPPIST-1e\",\"TRAPPIST-1e\",\"TRAPPIST-1e\",\"TRAPPIST-1e\",\"TRAPPIST-1e\",\"TRAPPIST-1e\",\"55 Cancri e\",\"TRAPPIST-1e\",\"TRAPPIST-1e\",\"PSO J318.5-22\",\"TRAPPIST-1e\",\"TRAPPIST-1e\",\"TRAPPIST-1e\",\"TRAPPIST-1e\",\"TRAPPIST-1e\",\"TRAPPIST-1e\",\"PSO J318.5-22\",\"TRAPPIST-1e\",\"55 Cancri e\",\"TRAPPIST-1e\",\"PSO J318.5-22\",\"TRAPPIST-1e\",\"TRAPPIST-1e\",\"TRAPPIST-1e\",\"TRAPPIST-1e\",\"TRAPPIST-1e\",\"TRAPPIST-1e\",\"TRAPPIST-1e\",\"TRAPPIST-1e\",\"PSO J318.5-22\",\"55 Cancri e\",\"TRAPPIST-1e\",\"55 Cancri e\",\"PSO J318.5-22\",\"TRAPPIST-1e\",\"PSO J318.5-22\",\"55 Cancri e\",\"TRAPPIST-1e\",\"TRAPPIST-1e\",\"TRAPPIST-1e\",\"55 Cancri e\",\"55 Cancri e\",\"55 Cancri e\",\"TRAPPIST-1e\",\"TRAPPIST-1e\",\"TRAPPIST-1e\",\"TRAPPIST-1e\",\"TRAPPIST-1e\",\"55 Cancri e\",\"TRAPPIST-1e\",\"PSO J318.5-22\",\"TRAPPIST-1e\",\"TRAPPIST-1e\",\"55 Cancri e\",\"TRAPPIST-1e\",\"TRAPPIST-1e\",\"55 Cancri e\",\"TRAPPIST-1e\",\"TRAPPIST-1e\",\"TRAPPIST-1e\",\"TRAPPIST-1e\",\"TRAPPIST-1e\",\"55 Cancri e\",\"PSO J318.5-22\",\"TRAPPIST-1e\",\"TRAPPIST-1e\",\"TRAPPIST-1e\",\"TRAPPIST-1e\",\"TRAPPIST-1e\",\"PSO J318.5-22\",\"TRAPPIST-1e\",\"TRAPPIST-1e\",\"TRAPPIST-1e\",\"TRAPPIST-1e\",\"TRAPPIST-1e\",\"55 Cancri e\",\"55 Cancri e\",\"TRAPPIST-1e\",\"TRAPPIST-1e\",\"TRAPPIST-1e\",\"TRAPPIST-1e\",\"TRAPPIST-1e\",\"TRAPPIST-1e\",\"PSO J318.5-22\",\"TRAPPIST-1e\",\"PSO J318.5-22\",\"55 Cancri e\",\"TRAPPIST-1e\",\"TRAPPIST-1e\",\"TRAPPIST-1e\",\"TRAPPIST-1e\",\"PSO J318.5-22\",\"TRAPPIST-1e\",\"TRAPPIST-1e\",\"TRAPPIST-1e\",\"TRAPPIST-1e\",\"TRAPPIST-1e\",\"TRAPPIST-1e\",\"TRAPPIST-1e\",\"TRAPPIST-1e\",\"TRAPPIST-1e\",\"TRAPPIST-1e\",\"TRAPPIST-1e\",\"PSO J318.5-22\",\"TRAPPIST-1e\",\"TRAPPIST-1e\",\"TRAPPIST-1e\",\"TRAPPIST-1e\",\"TRAPPIST-1e\",\"PSO J318.5-22\",\"TRAPPIST-1e\",\"TRAPPIST-1e\",\"TRAPPIST-1e\",\"TRAPPIST-1e\",\"55 Cancri e\",\"TRAPPIST-1e\",\"PSO J318.5-22\",\"TRAPPIST-1e\",\"TRAPPIST-1e\",\"TRAPPIST-1e\",\"55 Cancri e\",\"TRAPPIST-1e\",null,\"PSO J318.5-22\",\"TRAPPIST-1e\",\"TRAPPIST-1e\",\"55 Cancri e\",\"TRAPPIST-1e\",\"TRAPPIST-1e\",\"TRAPPIST-1e\",\"TRAPPIST-1e\",\"PSO J318.5-22\",\"TRAPPIST-1e\",\"TRAPPIST-1e\",\"TRAPPIST-1e\",\"TRAPPIST-1e\",null,\"TRAPPIST-1e\",\"PSO J318.5-22\",\"TRAPPIST-1e\",\"TRAPPIST-1e\",\"TRAPPIST-1e\",\"55 Cancri e\",\"TRAPPIST-1e\",\"TRAPPIST-1e\",\"TRAPPIST-1e\",\"55 Cancri e\",\"TRAPPIST-1e\",\"TRAPPIST-1e\",\"TRAPPIST-1e\",\"TRAPPIST-1e\",\"55 Cancri e\",\"TRAPPIST-1e\",null,\"TRAPPIST-1e\",\"TRAPPIST-1e\",\"55 Cancri e\",\"TRAPPIST-1e\",\"TRAPPIST-1e\",\"TRAPPIST-1e\",\"TRAPPIST-1e\",\"PSO J318.5-22\",\"TRAPPIST-1e\",\"55 Cancri e\",\"TRAPPIST-1e\",\"TRAPPIST-1e\",\"TRAPPIST-1e\",\"TRAPPIST-1e\",\"TRAPPIST-1e\",\"55 Cancri e\",\"TRAPPIST-1e\",\"55 Cancri e\",\"TRAPPIST-1e\",\"TRAPPIST-1e\",\"PSO J318.5-22\",\"TRAPPIST-1e\",\"55 Cancri e\",\"55 Cancri e\",\"55 Cancri e\",\"55 Cancri e\",\"TRAPPIST-1e\",\"TRAPPIST-1e\",\"TRAPPIST-1e\",\"55 Cancri e\",\"55 Cancri e\",\"TRAPPIST-1e\",\"PSO J318.5-22\",\"TRAPPIST-1e\",\"TRAPPIST-1e\",\"TRAPPIST-1e\",\"TRAPPIST-1e\",\"TRAPPIST-1e\",\"TRAPPIST-1e\",\"TRAPPIST-1e\",\"PSO J318.5-22\",\"55 Cancri e\",\"PSO J318.5-22\",\"TRAPPIST-1e\",\"TRAPPIST-1e\",\"TRAPPIST-1e\",\"TRAPPIST-1e\",\"TRAPPIST-1e\",\"PSO J318.5-22\",\"PSO J318.5-22\",\"55 Cancri e\",\"TRAPPIST-1e\",\"55 Cancri e\",\"TRAPPIST-1e\",\"55 Cancri e\",\"TRAPPIST-1e\",\"55 Cancri e\",\"TRAPPIST-1e\",\"TRAPPIST-1e\",\"PSO J318.5-22\",\"TRAPPIST-1e\",\"TRAPPIST-1e\",\"TRAPPIST-1e\",\"TRAPPIST-1e\",\"TRAPPIST-1e\",\"55 Cancri e\",\"TRAPPIST-1e\",\"55 Cancri e\",\"TRAPPIST-1e\",\"PSO J318.5-22\",\"TRAPPIST-1e\",\"TRAPPIST-1e\",\"TRAPPIST-1e\",\"TRAPPIST-1e\",\"TRAPPIST-1e\",\"TRAPPIST-1e\",\"TRAPPIST-1e\",\"TRAPPIST-1e\",\"TRAPPIST-1e\",\"55 Cancri e\",\"TRAPPIST-1e\",\"TRAPPIST-1e\",\"TRAPPIST-1e\",null,\"TRAPPIST-1e\",\"55 Cancri e\",\"TRAPPIST-1e\",\"TRAPPIST-1e\",\"TRAPPIST-1e\",\"TRAPPIST-1e\",\"TRAPPIST-1e\",\"TRAPPIST-1e\",\"TRAPPIST-1e\",\"TRAPPIST-1e\",\"TRAPPIST-1e\",\"55 Cancri e\",\"TRAPPIST-1e\",\"55 Cancri e\",null,\"TRAPPIST-1e\",\"PSO J318.5-22\",\"55 Cancri e\",\"TRAPPIST-1e\",\"TRAPPIST-1e\",\"PSO J318.5-22\",\"TRAPPIST-1e\",\"PSO J318.5-22\",\"TRAPPIST-1e\",\"TRAPPIST-1e\",\"TRAPPIST-1e\",\"TRAPPIST-1e\",\"TRAPPIST-1e\",\"TRAPPIST-1e\",\"TRAPPIST-1e\",\"TRAPPIST-1e\",\"TRAPPIST-1e\",\"TRAPPIST-1e\",\"PSO J318.5-22\",\"55 Cancri e\",\"55 Cancri e\",\"TRAPPIST-1e\",\"TRAPPIST-1e\",\"TRAPPIST-1e\",\"PSO J318.5-22\",\"TRAPPIST-1e\",\"55 Cancri e\",\"TRAPPIST-1e\",\"TRAPPIST-1e\",\"TRAPPIST-1e\",\"TRAPPIST-1e\",\"TRAPPIST-1e\",\"TRAPPIST-1e\",\"55 Cancri e\",\"55 Cancri e\",\"TRAPPIST-1e\",\"55 Cancri e\",\"TRAPPIST-1e\",\"55 Cancri e\",\"55 Cancri e\",\"TRAPPIST-1e\",\"TRAPPIST-1e\",\"TRAPPIST-1e\",\"TRAPPIST-1e\",\"55 Cancri e\",\"TRAPPIST-1e\",\"TRAPPIST-1e\",null,\"TRAPPIST-1e\",\"TRAPPIST-1e\",\"55 Cancri e\",\"TRAPPIST-1e\",\"55 Cancri e\",\"TRAPPIST-1e\",\"TRAPPIST-1e\",\"TRAPPIST-1e\",\"TRAPPIST-1e\",\"TRAPPIST-1e\",\"TRAPPIST-1e\",\"TRAPPIST-1e\",\"TRAPPIST-1e\",\"TRAPPIST-1e\",\"TRAPPIST-1e\",\"TRAPPIST-1e\",\"TRAPPIST-1e\",\"TRAPPIST-1e\",\"TRAPPIST-1e\",\"TRAPPIST-1e\",\"TRAPPIST-1e\",\"PSO J318.5-22\",\"TRAPPIST-1e\",\"TRAPPIST-1e\",\"TRAPPIST-1e\",\"TRAPPIST-1e\",\"PSO J318.5-22\",\"TRAPPIST-1e\",\"TRAPPIST-1e\",\"TRAPPIST-1e\",\"TRAPPIST-1e\",\"TRAPPIST-1e\",\"TRAPPIST-1e\",\"55 Cancri e\",\"TRAPPIST-1e\",\"TRAPPIST-1e\",\"TRAPPIST-1e\",\"TRAPPIST-1e\",\"TRAPPIST-1e\",\"TRAPPIST-1e\",\"TRAPPIST-1e\",\"PSO J318.5-22\",\"55 Cancri e\",\"55 Cancri e\",\"TRAPPIST-1e\",\"TRAPPIST-1e\",\"TRAPPIST-1e\",\"PSO J318.5-22\",\"55 Cancri e\",\"TRAPPIST-1e\",\"55 Cancri e\",\"TRAPPIST-1e\",\"TRAPPIST-1e\",\"TRAPPIST-1e\",\"PSO J318.5-22\",\"TRAPPIST-1e\",\"PSO J318.5-22\",\"TRAPPIST-1e\",\"55 Cancri e\",\"TRAPPIST-1e\",\"TRAPPIST-1e\",\"TRAPPIST-1e\",\"TRAPPIST-1e\",\"TRAPPIST-1e\",\"TRAPPIST-1e\",\"TRAPPIST-1e\",\"TRAPPIST-1e\",\"TRAPPIST-1e\",\"55 Cancri e\",\"TRAPPIST-1e\",\"55 Cancri e\",\"55 Cancri e\",\"55 Cancri e\",\"TRAPPIST-1e\",\"55 Cancri e\",\"PSO J318.5-22\",\"TRAPPIST-1e\",\"TRAPPIST-1e\",\"TRAPPIST-1e\",\"TRAPPIST-1e\",\"TRAPPIST-1e\",\"TRAPPIST-1e\",\"TRAPPIST-1e\",\"TRAPPIST-1e\",\"TRAPPIST-1e\",\"55 Cancri e\",\"TRAPPIST-1e\",\"55 Cancri e\",\"TRAPPIST-1e\",\"TRAPPIST-1e\",\"TRAPPIST-1e\",\"TRAPPIST-1e\",\"TRAPPIST-1e\",\"TRAPPIST-1e\",null,\"55 Cancri e\",\"TRAPPIST-1e\",\"PSO J318.5-22\",\"TRAPPIST-1e\",\"PSO J318.5-22\",\"TRAPPIST-1e\",\"TRAPPIST-1e\",\"TRAPPIST-1e\",\"TRAPPIST-1e\",\"TRAPPIST-1e\",\"55 Cancri e\",\"TRAPPIST-1e\",\"TRAPPIST-1e\",\"TRAPPIST-1e\",\"TRAPPIST-1e\",\"TRAPPIST-1e\",null,\"TRAPPIST-1e\",\"TRAPPIST-1e\",\"PSO J318.5-22\",\"PSO J318.5-22\",\"TRAPPIST-1e\",\"55 Cancri e\",\"TRAPPIST-1e\",\"TRAPPIST-1e\",\"TRAPPIST-1e\",\"TRAPPIST-1e\",\"55 Cancri e\",\"TRAPPIST-1e\",\"TRAPPIST-1e\",\"TRAPPIST-1e\",\"PSO J318.5-22\",\"TRAPPIST-1e\",\"TRAPPIST-1e\",\"TRAPPIST-1e\",\"TRAPPIST-1e\",\"TRAPPIST-1e\",\"TRAPPIST-1e\",\"TRAPPIST-1e\",\"TRAPPIST-1e\",\"55 Cancri e\",\"55 Cancri e\",\"PSO J318.5-22\",\"TRAPPIST-1e\",\"55 Cancri e\",\"TRAPPIST-1e\",\"55 Cancri e\",\"TRAPPIST-1e\",\"55 Cancri e\",\"TRAPPIST-1e\",\"TRAPPIST-1e\",\"TRAPPIST-1e\",\"TRAPPIST-1e\",\"TRAPPIST-1e\",\"TRAPPIST-1e\",\"TRAPPIST-1e\",\"PSO J318.5-22\",\"TRAPPIST-1e\",\"TRAPPIST-1e\",\"TRAPPIST-1e\",\"TRAPPIST-1e\",\"TRAPPIST-1e\",\"TRAPPIST-1e\",\"55 Cancri e\",\"TRAPPIST-1e\",\"TRAPPIST-1e\",\"TRAPPIST-1e\",\"55 Cancri e\",\"PSO J318.5-22\",\"TRAPPIST-1e\",\"55 Cancri e\",\"TRAPPIST-1e\",null,\"55 Cancri e\",\"55 Cancri e\",\"PSO J318.5-22\",\"TRAPPIST-1e\",\"TRAPPIST-1e\",\"TRAPPIST-1e\",\"TRAPPIST-1e\",\"55 Cancri e\",\"TRAPPIST-1e\",\"TRAPPIST-1e\",\"PSO J318.5-22\",\"55 Cancri e\",\"TRAPPIST-1e\",\"TRAPPIST-1e\",\"TRAPPIST-1e\",\"TRAPPIST-1e\",\"TRAPPIST-1e\",\"TRAPPIST-1e\",\"55 Cancri e\",\"TRAPPIST-1e\",\"TRAPPIST-1e\",\"55 Cancri e\",\"PSO J318.5-22\",\"TRAPPIST-1e\",\"TRAPPIST-1e\",\"TRAPPIST-1e\",\"55 Cancri e\",null,null,\"TRAPPIST-1e\",\"55 Cancri e\",\"PSO J318.5-22\",\"TRAPPIST-1e\",\"TRAPPIST-1e\",\"TRAPPIST-1e\",\"55 Cancri e\",\"TRAPPIST-1e\",\"PSO J318.5-22\",\"TRAPPIST-1e\",\"TRAPPIST-1e\",\"TRAPPIST-1e\",\"TRAPPIST-1e\",\"TRAPPIST-1e\",\"TRAPPIST-1e\",\"PSO J318.5-22\",\"55 Cancri e\",\"TRAPPIST-1e\",\"TRAPPIST-1e\",\"PSO J318.5-22\",\"TRAPPIST-1e\",\"PSO J318.5-22\",\"TRAPPIST-1e\",\"TRAPPIST-1e\",\"TRAPPIST-1e\",\"TRAPPIST-1e\",\"TRAPPIST-1e\",null,\"TRAPPIST-1e\",\"PSO J318.5-22\",\"TRAPPIST-1e\",\"TRAPPIST-1e\",\"TRAPPIST-1e\",\"55 Cancri e\",\"PSO J318.5-22\",\"TRAPPIST-1e\",\"TRAPPIST-1e\",\"55 Cancri e\",\"TRAPPIST-1e\",\"55 Cancri e\",\"TRAPPIST-1e\",\"PSO J318.5-22\",\"TRAPPIST-1e\",\"TRAPPIST-1e\",\"TRAPPIST-1e\",\"55 Cancri e\",\"TRAPPIST-1e\",\"TRAPPIST-1e\",\"TRAPPIST-1e\",\"TRAPPIST-1e\",\"TRAPPIST-1e\",\"TRAPPIST-1e\",\"55 Cancri e\",\"TRAPPIST-1e\",\"TRAPPIST-1e\",\"TRAPPIST-1e\",\"55 Cancri e\",\"TRAPPIST-1e\",\"TRAPPIST-1e\",\"TRAPPIST-1e\",\"TRAPPIST-1e\",\"PSO J318.5-22\",\"TRAPPIST-1e\",\"PSO J318.5-22\",\"TRAPPIST-1e\",\"TRAPPIST-1e\",\"TRAPPIST-1e\",\"TRAPPIST-1e\",\"TRAPPIST-1e\",\"TRAPPIST-1e\",\"TRAPPIST-1e\",\"TRAPPIST-1e\",\"55 Cancri e\",\"TRAPPIST-1e\",\"TRAPPIST-1e\",\"TRAPPIST-1e\",\"TRAPPIST-1e\",\"TRAPPIST-1e\",\"TRAPPIST-1e\",\"TRAPPIST-1e\",\"TRAPPIST-1e\",\"TRAPPIST-1e\",\"TRAPPIST-1e\",\"TRAPPIST-1e\",\"TRAPPIST-1e\",\"55 Cancri e\",\"TRAPPIST-1e\",\"55 Cancri e\",\"TRAPPIST-1e\",\"TRAPPIST-1e\",\"TRAPPIST-1e\",\"TRAPPIST-1e\",\"PSO J318.5-22\",\"TRAPPIST-1e\",\"TRAPPIST-1e\",\"TRAPPIST-1e\",\"PSO J318.5-22\",\"TRAPPIST-1e\",\"TRAPPIST-1e\",\"TRAPPIST-1e\",\"TRAPPIST-1e\",\"TRAPPIST-1e\",\"TRAPPIST-1e\",\"55 Cancri e\",\"TRAPPIST-1e\",\"PSO J318.5-22\",\"TRAPPIST-1e\",\"TRAPPIST-1e\",\"TRAPPIST-1e\",\"TRAPPIST-1e\",\"TRAPPIST-1e\",\"TRAPPIST-1e\",\"55 Cancri e\",\"TRAPPIST-1e\",\"TRAPPIST-1e\",\"TRAPPIST-1e\",\"55 Cancri e\",\"TRAPPIST-1e\",\"TRAPPIST-1e\",\"55 Cancri e\",\"TRAPPIST-1e\",\"TRAPPIST-1e\",\"TRAPPIST-1e\",\"55 Cancri e\",\"TRAPPIST-1e\",\"TRAPPIST-1e\",\"TRAPPIST-1e\",\"PSO J318.5-22\",\"PSO J318.5-22\",\"55 Cancri e\",\"TRAPPIST-1e\",\"TRAPPIST-1e\",\"55 Cancri e\",\"TRAPPIST-1e\",\"TRAPPIST-1e\",\"TRAPPIST-1e\",\"TRAPPIST-1e\",\"TRAPPIST-1e\",\"TRAPPIST-1e\",\"TRAPPIST-1e\",\"55 Cancri e\",\"55 Cancri e\",\"TRAPPIST-1e\",\"TRAPPIST-1e\",\"55 Cancri e\",\"TRAPPIST-1e\",\"TRAPPIST-1e\",\"TRAPPIST-1e\",\"TRAPPIST-1e\",\"55 Cancri e\",\"TRAPPIST-1e\",\"TRAPPIST-1e\",\"TRAPPIST-1e\",\"PSO J318.5-22\",\"TRAPPIST-1e\",\"TRAPPIST-1e\",\"TRAPPIST-1e\",\"TRAPPIST-1e\",\"TRAPPIST-1e\",\"TRAPPIST-1e\",\"TRAPPIST-1e\",\"TRAPPIST-1e\",\"TRAPPIST-1e\",\"TRAPPIST-1e\",\"55 Cancri e\",\"TRAPPIST-1e\",\"TRAPPIST-1e\",\"55 Cancri e\",\"TRAPPIST-1e\",\"TRAPPIST-1e\",\"TRAPPIST-1e\",null,\"TRAPPIST-1e\",\"TRAPPIST-1e\",\"TRAPPIST-1e\",\"PSO J318.5-22\",\"55 Cancri e\",\"TRAPPIST-1e\",\"TRAPPIST-1e\",\"55 Cancri e\",\"TRAPPIST-1e\",\"TRAPPIST-1e\",\"TRAPPIST-1e\",\"TRAPPIST-1e\",\"55 Cancri e\",\"55 Cancri e\",\"TRAPPIST-1e\",\"55 Cancri e\",\"TRAPPIST-1e\",\"TRAPPIST-1e\",\"TRAPPIST-1e\",\"TRAPPIST-1e\",\"55 Cancri e\",\"PSO J318.5-22\",\"TRAPPIST-1e\",\"TRAPPIST-1e\",\"TRAPPIST-1e\",\"TRAPPIST-1e\",\"TRAPPIST-1e\",\"TRAPPIST-1e\",\"TRAPPIST-1e\",\"TRAPPIST-1e\",\"TRAPPIST-1e\",\"TRAPPIST-1e\",\"TRAPPIST-1e\",\"55 Cancri e\",\"TRAPPIST-1e\",\"TRAPPIST-1e\",\"TRAPPIST-1e\",\"55 Cancri e\",\"TRAPPIST-1e\",\"PSO J318.5-22\",\"TRAPPIST-1e\",\"TRAPPIST-1e\",\"PSO J318.5-22\",\"TRAPPIST-1e\",\"PSO J318.5-22\",\"TRAPPIST-1e\",\"PSO J318.5-22\",\"55 Cancri e\",\"TRAPPIST-1e\",\"TRAPPIST-1e\",\"55 Cancri e\",\"TRAPPIST-1e\",\"PSO J318.5-22\",\"55 Cancri e\",\"TRAPPIST-1e\",\"TRAPPIST-1e\",\"TRAPPIST-1e\",\"55 Cancri e\",\"55 Cancri e\",\"TRAPPIST-1e\",\"TRAPPIST-1e\",\"TRAPPIST-1e\",\"55 Cancri e\",\"TRAPPIST-1e\",\"TRAPPIST-1e\",\"TRAPPIST-1e\",\"TRAPPIST-1e\",\"PSO J318.5-22\",\"TRAPPIST-1e\",\"TRAPPIST-1e\",\"TRAPPIST-1e\",\"PSO J318.5-22\",\"TRAPPIST-1e\",\"TRAPPIST-1e\",\"TRAPPIST-1e\",\"PSO J318.5-22\",\"55 Cancri e\",\"PSO J318.5-22\",\"55 Cancri e\",\"TRAPPIST-1e\",\"TRAPPIST-1e\",\"55 Cancri e\",\"TRAPPIST-1e\",\"TRAPPIST-1e\",\"TRAPPIST-1e\",\"TRAPPIST-1e\",\"TRAPPIST-1e\",\"TRAPPIST-1e\",\"PSO J318.5-22\",\"TRAPPIST-1e\",\"TRAPPIST-1e\",\"TRAPPIST-1e\",\"TRAPPIST-1e\",\"TRAPPIST-1e\",\"TRAPPIST-1e\",\"TRAPPIST-1e\",\"TRAPPIST-1e\",\"TRAPPIST-1e\",\"TRAPPIST-1e\",\"PSO J318.5-22\",\"PSO J318.5-22\",\"TRAPPIST-1e\",\"TRAPPIST-1e\",\"55 Cancri e\",\"TRAPPIST-1e\",\"TRAPPIST-1e\",\"TRAPPIST-1e\",\"TRAPPIST-1e\",\"TRAPPIST-1e\",\"TRAPPIST-1e\",\"TRAPPIST-1e\",\"TRAPPIST-1e\",\"TRAPPIST-1e\",\"TRAPPIST-1e\",\"55 Cancri e\",\"55 Cancri e\",\"TRAPPIST-1e\",\"TRAPPIST-1e\",\"TRAPPIST-1e\",\"TRAPPIST-1e\",\"55 Cancri e\",\"TRAPPIST-1e\",\"TRAPPIST-1e\",\"TRAPPIST-1e\",\"55 Cancri e\",\"TRAPPIST-1e\",\"TRAPPIST-1e\",\"55 Cancri e\",\"TRAPPIST-1e\",\"PSO J318.5-22\",\"TRAPPIST-1e\",\"55 Cancri e\",\"TRAPPIST-1e\",\"TRAPPIST-1e\",\"TRAPPIST-1e\",\"55 Cancri e\",\"55 Cancri e\",\"TRAPPIST-1e\",\"TRAPPIST-1e\",\"TRAPPIST-1e\",\"TRAPPIST-1e\",\"PSO J318.5-22\",\"TRAPPIST-1e\",\"PSO J318.5-22\",\"TRAPPIST-1e\",\"TRAPPIST-1e\",\"TRAPPIST-1e\",\"TRAPPIST-1e\",\"TRAPPIST-1e\",\"TRAPPIST-1e\",\"55 Cancri e\",\"TRAPPIST-1e\",\"55 Cancri e\",\"TRAPPIST-1e\",\"TRAPPIST-1e\",\"55 Cancri e\",\"TRAPPIST-1e\",\"55 Cancri e\",\"TRAPPIST-1e\",\"55 Cancri e\",\"PSO J318.5-22\",\"TRAPPIST-1e\",\"TRAPPIST-1e\",\"55 Cancri e\",\"TRAPPIST-1e\",\"TRAPPIST-1e\",\"TRAPPIST-1e\",\"PSO J318.5-22\",\"TRAPPIST-1e\",\"TRAPPIST-1e\",\"55 Cancri e\",\"TRAPPIST-1e\",\"TRAPPIST-1e\",\"TRAPPIST-1e\",\"TRAPPIST-1e\",\"PSO J318.5-22\",\"TRAPPIST-1e\",\"55 Cancri e\",\"TRAPPIST-1e\",\"TRAPPIST-1e\",\"TRAPPIST-1e\",\"TRAPPIST-1e\",\"TRAPPIST-1e\",\"TRAPPIST-1e\",\"TRAPPIST-1e\",\"TRAPPIST-1e\",\"TRAPPIST-1e\",\"TRAPPIST-1e\",\"TRAPPIST-1e\",\"TRAPPIST-1e\",\"55 Cancri e\",\"TRAPPIST-1e\",\"55 Cancri e\",\"TRAPPIST-1e\",\"TRAPPIST-1e\",\"PSO J318.5-22\",\"PSO J318.5-22\",\"TRAPPIST-1e\",\"TRAPPIST-1e\",\"TRAPPIST-1e\",\"TRAPPIST-1e\",\"55 Cancri e\",\"TRAPPIST-1e\",\"55 Cancri e\",\"TRAPPIST-1e\",\"TRAPPIST-1e\",\"55 Cancri e\",\"TRAPPIST-1e\",\"TRAPPIST-1e\",\"TRAPPIST-1e\",\"TRAPPIST-1e\",\"TRAPPIST-1e\",\"TRAPPIST-1e\",\"TRAPPIST-1e\",\"55 Cancri e\",\"TRAPPIST-1e\",\"PSO J318.5-22\",\"TRAPPIST-1e\",\"55 Cancri e\",\"TRAPPIST-1e\",\"TRAPPIST-1e\",\"TRAPPIST-1e\",\"TRAPPIST-1e\",\"TRAPPIST-1e\",\"TRAPPIST-1e\",\"55 Cancri e\",\"TRAPPIST-1e\",\"TRAPPIST-1e\",\"TRAPPIST-1e\",\"TRAPPIST-1e\",\"TRAPPIST-1e\",\"TRAPPIST-1e\",\"55 Cancri e\",\"TRAPPIST-1e\",\"TRAPPIST-1e\",\"TRAPPIST-1e\",\"TRAPPIST-1e\",\"TRAPPIST-1e\",\"TRAPPIST-1e\",\"TRAPPIST-1e\",\"TRAPPIST-1e\",\"TRAPPIST-1e\",\"TRAPPIST-1e\",\"PSO J318.5-22\",\"PSO J318.5-22\",\"TRAPPIST-1e\",\"55 Cancri e\",\"TRAPPIST-1e\",\"TRAPPIST-1e\",\"PSO J318.5-22\",\"TRAPPIST-1e\",\"TRAPPIST-1e\",\"55 Cancri e\",\"TRAPPIST-1e\",\"TRAPPIST-1e\",\"TRAPPIST-1e\",\"55 Cancri e\",\"TRAPPIST-1e\",\"TRAPPIST-1e\",\"TRAPPIST-1e\",\"TRAPPIST-1e\",\"TRAPPIST-1e\",\"TRAPPIST-1e\",\"TRAPPIST-1e\",null,\"TRAPPIST-1e\",\"TRAPPIST-1e\",\"TRAPPIST-1e\",\"TRAPPIST-1e\",\"55 Cancri e\",\"TRAPPIST-1e\",\"TRAPPIST-1e\",\"TRAPPIST-1e\",\"TRAPPIST-1e\",\"55 Cancri e\",\"TRAPPIST-1e\",\"PSO J318.5-22\",\"TRAPPIST-1e\",\"TRAPPIST-1e\",\"TRAPPIST-1e\",null,\"PSO J318.5-22\",\"TRAPPIST-1e\",\"TRAPPIST-1e\",\"TRAPPIST-1e\",\"TRAPPIST-1e\",\"TRAPPIST-1e\",\"55 Cancri e\",null,\"55 Cancri e\",\"55 Cancri e\",\"PSO J318.5-22\",\"TRAPPIST-1e\",\"TRAPPIST-1e\",\"TRAPPIST-1e\",\"TRAPPIST-1e\",\"PSO J318.5-22\",\"TRAPPIST-1e\",\"TRAPPIST-1e\",\"TRAPPIST-1e\",\"TRAPPIST-1e\",\"TRAPPIST-1e\",\"TRAPPIST-1e\",\"TRAPPIST-1e\",\"TRAPPIST-1e\",\"TRAPPIST-1e\",\"TRAPPIST-1e\",\"TRAPPIST-1e\",\"PSO J318.5-22\",\"TRAPPIST-1e\",\"TRAPPIST-1e\",\"TRAPPIST-1e\",\"TRAPPIST-1e\",\"PSO J318.5-22\",\"TRAPPIST-1e\",\"TRAPPIST-1e\",\"TRAPPIST-1e\",\"TRAPPIST-1e\",\"TRAPPIST-1e\",\"PSO J318.5-22\",\"TRAPPIST-1e\",\"PSO J318.5-22\",\"55 Cancri e\",\"TRAPPIST-1e\",\"TRAPPIST-1e\",\"55 Cancri e\",\"TRAPPIST-1e\",\"TRAPPIST-1e\",\"55 Cancri e\",\"TRAPPIST-1e\",\"TRAPPIST-1e\",\"TRAPPIST-1e\",\"TRAPPIST-1e\",\"TRAPPIST-1e\",\"TRAPPIST-1e\",\"TRAPPIST-1e\",\"TRAPPIST-1e\",\"TRAPPIST-1e\",\"55 Cancri e\",\"55 Cancri e\",\"TRAPPIST-1e\",\"TRAPPIST-1e\",\"TRAPPIST-1e\",\"TRAPPIST-1e\",\"55 Cancri e\",\"TRAPPIST-1e\",\"PSO J318.5-22\",\"TRAPPIST-1e\",\"TRAPPIST-1e\",\"TRAPPIST-1e\",\"TRAPPIST-1e\",\"TRAPPIST-1e\",\"TRAPPIST-1e\",\"TRAPPIST-1e\",\"PSO J318.5-22\",\"TRAPPIST-1e\",\"TRAPPIST-1e\",\"TRAPPIST-1e\",\"TRAPPIST-1e\",\"TRAPPIST-1e\",\"55 Cancri e\",\"55 Cancri e\",\"TRAPPIST-1e\",\"TRAPPIST-1e\",\"TRAPPIST-1e\",\"TRAPPIST-1e\",\"TRAPPIST-1e\",\"55 Cancri e\",\"TRAPPIST-1e\",\"TRAPPIST-1e\",\"TRAPPIST-1e\",\"TRAPPIST-1e\",\"55 Cancri e\",\"55 Cancri e\",\"55 Cancri e\",\"TRAPPIST-1e\",\"TRAPPIST-1e\",\"55 Cancri e\",\"TRAPPIST-1e\",\"TRAPPIST-1e\",\"TRAPPIST-1e\",\"TRAPPIST-1e\",\"TRAPPIST-1e\",\"TRAPPIST-1e\",\"TRAPPIST-1e\",\"PSO J318.5-22\",\"PSO J318.5-22\",\"TRAPPIST-1e\",\"TRAPPIST-1e\",\"55 Cancri e\",\"TRAPPIST-1e\",\"55 Cancri e\",\"PSO J318.5-22\",\"TRAPPIST-1e\",\"TRAPPIST-1e\",\"TRAPPIST-1e\",\"PSO J318.5-22\",\"TRAPPIST-1e\",\"55 Cancri e\",\"TRAPPIST-1e\",\"TRAPPIST-1e\",\"PSO J318.5-22\",\"TRAPPIST-1e\",\"TRAPPIST-1e\",\"TRAPPIST-1e\",\"TRAPPIST-1e\",\"55 Cancri e\",\"TRAPPIST-1e\",\"TRAPPIST-1e\",\"TRAPPIST-1e\",\"55 Cancri e\",\"TRAPPIST-1e\",\"TRAPPIST-1e\",\"55 Cancri e\",\"TRAPPIST-1e\",\"55 Cancri e\",\"55 Cancri e\",\"TRAPPIST-1e\",\"55 Cancri e\",\"TRAPPIST-1e\",\"55 Cancri e\",\"55 Cancri e\",\"TRAPPIST-1e\",\"TRAPPIST-1e\",\"TRAPPIST-1e\",\"TRAPPIST-1e\",\"TRAPPIST-1e\",\"TRAPPIST-1e\",\"55 Cancri e\",\"PSO J318.5-22\",\"TRAPPIST-1e\",\"TRAPPIST-1e\",\"TRAPPIST-1e\",\"TRAPPIST-1e\",\"TRAPPIST-1e\",\"TRAPPIST-1e\",\"TRAPPIST-1e\",\"TRAPPIST-1e\",\"55 Cancri e\",\"TRAPPIST-1e\",\"TRAPPIST-1e\",\"TRAPPIST-1e\",\"TRAPPIST-1e\",\"TRAPPIST-1e\",\"TRAPPIST-1e\",\"TRAPPIST-1e\",\"55 Cancri e\",\"TRAPPIST-1e\",\"TRAPPIST-1e\",\"TRAPPIST-1e\",\"TRAPPIST-1e\",\"TRAPPIST-1e\",\"TRAPPIST-1e\",\"55 Cancri e\",\"TRAPPIST-1e\",\"TRAPPIST-1e\",\"TRAPPIST-1e\",\"TRAPPIST-1e\",\"55 Cancri e\",\"TRAPPIST-1e\",\"55 Cancri e\",\"PSO J318.5-22\",\"TRAPPIST-1e\",\"TRAPPIST-1e\",\"TRAPPIST-1e\",\"55 Cancri e\",\"TRAPPIST-1e\",\"TRAPPIST-1e\",\"TRAPPIST-1e\",\"TRAPPIST-1e\",\"TRAPPIST-1e\",\"PSO J318.5-22\",\"TRAPPIST-1e\",\"TRAPPIST-1e\",\"TRAPPIST-1e\",null,\"55 Cancri e\",\"TRAPPIST-1e\",\"TRAPPIST-1e\",\"TRAPPIST-1e\",\"TRAPPIST-1e\",\"TRAPPIST-1e\",\"PSO J318.5-22\",null,\"TRAPPIST-1e\",\"TRAPPIST-1e\",\"TRAPPIST-1e\",\"55 Cancri e\",\"TRAPPIST-1e\",\"TRAPPIST-1e\",\"TRAPPIST-1e\",\"55 Cancri e\",\"TRAPPIST-1e\",\"PSO J318.5-22\",\"PSO J318.5-22\",\"TRAPPIST-1e\",\"55 Cancri e\",\"TRAPPIST-1e\",\"TRAPPIST-1e\",\"TRAPPIST-1e\",\"TRAPPIST-1e\",\"TRAPPIST-1e\",\"TRAPPIST-1e\",\"PSO J318.5-22\",\"TRAPPIST-1e\",null,\"TRAPPIST-1e\",\"TRAPPIST-1e\",\"TRAPPIST-1e\",\"TRAPPIST-1e\",\"TRAPPIST-1e\",\"55 Cancri e\",\"TRAPPIST-1e\",\"TRAPPIST-1e\",\"55 Cancri e\",\"TRAPPIST-1e\",\"PSO J318.5-22\",\"TRAPPIST-1e\",\"TRAPPIST-1e\",\"TRAPPIST-1e\",\"TRAPPIST-1e\",\"TRAPPIST-1e\",\"TRAPPIST-1e\",\"TRAPPIST-1e\",\"TRAPPIST-1e\",\"TRAPPIST-1e\",\"TRAPPIST-1e\",\"TRAPPIST-1e\",\"TRAPPIST-1e\",\"55 Cancri e\",\"55 Cancri e\",\"TRAPPIST-1e\",\"PSO J318.5-22\",\"TRAPPIST-1e\",\"55 Cancri e\",\"TRAPPIST-1e\",\"TRAPPIST-1e\",\"TRAPPIST-1e\",\"55 Cancri e\",\"TRAPPIST-1e\",\"55 Cancri e\",\"TRAPPIST-1e\",\"TRAPPIST-1e\",\"TRAPPIST-1e\",\"TRAPPIST-1e\",\"TRAPPIST-1e\",\"55 Cancri e\",\"TRAPPIST-1e\",\"TRAPPIST-1e\",\"55 Cancri e\",\"PSO J318.5-22\",\"TRAPPIST-1e\",\"TRAPPIST-1e\",\"TRAPPIST-1e\",\"TRAPPIST-1e\",\"TRAPPIST-1e\",\"TRAPPIST-1e\",\"TRAPPIST-1e\",\"55 Cancri e\",\"TRAPPIST-1e\",\"TRAPPIST-1e\",\"TRAPPIST-1e\",\"TRAPPIST-1e\",\"55 Cancri e\",\"TRAPPIST-1e\",\"TRAPPIST-1e\",\"TRAPPIST-1e\",\"55 Cancri e\",\"TRAPPIST-1e\",\"TRAPPIST-1e\",\"TRAPPIST-1e\",\"TRAPPIST-1e\",\"TRAPPIST-1e\",\"PSO J318.5-22\",\"TRAPPIST-1e\",\"PSO J318.5-22\",\"TRAPPIST-1e\",\"TRAPPIST-1e\",\"55 Cancri e\",\"55 Cancri e\",\"TRAPPIST-1e\",\"TRAPPIST-1e\",\"TRAPPIST-1e\",\"TRAPPIST-1e\",\"55 Cancri e\",\"55 Cancri e\",\"TRAPPIST-1e\",\"TRAPPIST-1e\",\"TRAPPIST-1e\",\"55 Cancri e\",\"55 Cancri e\",\"TRAPPIST-1e\",\"TRAPPIST-1e\",\"TRAPPIST-1e\",\"TRAPPIST-1e\",\"55 Cancri e\",\"TRAPPIST-1e\",\"TRAPPIST-1e\",\"TRAPPIST-1e\",\"TRAPPIST-1e\",\"55 Cancri e\",\"PSO J318.5-22\",\"TRAPPIST-1e\",\"TRAPPIST-1e\",\"TRAPPIST-1e\",\"TRAPPIST-1e\",\"TRAPPIST-1e\",\"TRAPPIST-1e\",\"55 Cancri e\",\"TRAPPIST-1e\",null,\"PSO J318.5-22\",\"TRAPPIST-1e\",\"TRAPPIST-1e\",\"TRAPPIST-1e\",\"TRAPPIST-1e\",\"TRAPPIST-1e\",\"TRAPPIST-1e\",null,\"TRAPPIST-1e\",\"TRAPPIST-1e\",\"TRAPPIST-1e\",\"TRAPPIST-1e\",\"TRAPPIST-1e\",\"TRAPPIST-1e\",\"55 Cancri e\",\"TRAPPIST-1e\",\"TRAPPIST-1e\",\"TRAPPIST-1e\",\"TRAPPIST-1e\",\"TRAPPIST-1e\",\"TRAPPIST-1e\",\"PSO J318.5-22\",\"55 Cancri e\",null,\"55 Cancri e\",\"TRAPPIST-1e\",\"TRAPPIST-1e\",\"TRAPPIST-1e\",\"TRAPPIST-1e\",\"TRAPPIST-1e\",\"TRAPPIST-1e\",\"TRAPPIST-1e\",\"55 Cancri e\",\"55 Cancri e\",\"TRAPPIST-1e\",\"TRAPPIST-1e\",\"55 Cancri e\",\"TRAPPIST-1e\",\"TRAPPIST-1e\",\"TRAPPIST-1e\",\"TRAPPIST-1e\",\"TRAPPIST-1e\",\"PSO J318.5-22\",\"55 Cancri e\",\"TRAPPIST-1e\",null,\"TRAPPIST-1e\",\"TRAPPIST-1e\",\"TRAPPIST-1e\",\"TRAPPIST-1e\",\"TRAPPIST-1e\",\"TRAPPIST-1e\",\"PSO J318.5-22\",\"TRAPPIST-1e\",\"55 Cancri e\",\"TRAPPIST-1e\",\"TRAPPIST-1e\",\"TRAPPIST-1e\",\"55 Cancri e\",\"TRAPPIST-1e\",\"TRAPPIST-1e\",\"TRAPPIST-1e\",\"TRAPPIST-1e\",\"55 Cancri e\",\"55 Cancri e\",\"TRAPPIST-1e\",\"TRAPPIST-1e\",null,\"55 Cancri e\",\"TRAPPIST-1e\",\"TRAPPIST-1e\",\"TRAPPIST-1e\",\"TRAPPIST-1e\",\"TRAPPIST-1e\",\"PSO J318.5-22\",\"TRAPPIST-1e\",\"TRAPPIST-1e\",\"TRAPPIST-1e\",\"TRAPPIST-1e\",null,\"TRAPPIST-1e\",\"TRAPPIST-1e\",\"TRAPPIST-1e\",\"TRAPPIST-1e\",\"TRAPPIST-1e\",\"TRAPPIST-1e\",\"55 Cancri e\",\"TRAPPIST-1e\",\"TRAPPIST-1e\",\"55 Cancri e\",\"55 Cancri e\",\"PSO J318.5-22\",\"TRAPPIST-1e\",\"TRAPPIST-1e\",\"TRAPPIST-1e\",\"55 Cancri e\",\"TRAPPIST-1e\",\"TRAPPIST-1e\",\"TRAPPIST-1e\",\"PSO J318.5-22\",\"TRAPPIST-1e\",\"TRAPPIST-1e\",\"TRAPPIST-1e\",\"PSO J318.5-22\",\"TRAPPIST-1e\",\"TRAPPIST-1e\",\"TRAPPIST-1e\",\"55 Cancri e\",\"TRAPPIST-1e\",\"55 Cancri e\",\"TRAPPIST-1e\",\"TRAPPIST-1e\",\"TRAPPIST-1e\",\"PSO J318.5-22\",\"55 Cancri e\",\"TRAPPIST-1e\",\"TRAPPIST-1e\",\"TRAPPIST-1e\",\"TRAPPIST-1e\",\"TRAPPIST-1e\",\"55 Cancri e\",\"TRAPPIST-1e\",\"TRAPPIST-1e\",\"PSO J318.5-22\",\"TRAPPIST-1e\",\"TRAPPIST-1e\",\"TRAPPIST-1e\",\"PSO J318.5-22\",\"TRAPPIST-1e\",\"TRAPPIST-1e\",\"TRAPPIST-1e\",\"TRAPPIST-1e\",\"PSO J318.5-22\",\"TRAPPIST-1e\",null,\"TRAPPIST-1e\",\"TRAPPIST-1e\",\"TRAPPIST-1e\",\"TRAPPIST-1e\",\"TRAPPIST-1e\",\"PSO J318.5-22\",\"TRAPPIST-1e\",\"TRAPPIST-1e\",\"TRAPPIST-1e\",\"TRAPPIST-1e\",\"TRAPPIST-1e\",\"TRAPPIST-1e\",\"TRAPPIST-1e\",\"55 Cancri e\",\"TRAPPIST-1e\",\"TRAPPIST-1e\",\"55 Cancri e\",\"TRAPPIST-1e\",\"55 Cancri e\",\"55 Cancri e\",\"TRAPPIST-1e\",\"PSO J318.5-22\",\"TRAPPIST-1e\",\"TRAPPIST-1e\",\"TRAPPIST-1e\",\"TRAPPIST-1e\",\"55 Cancri e\",\"TRAPPIST-1e\",\"TRAPPIST-1e\",\"TRAPPIST-1e\",\"PSO J318.5-22\",\"55 Cancri e\",\"55 Cancri e\",\"55 Cancri e\",null,\"55 Cancri e\",\"55 Cancri e\",\"PSO J318.5-22\",\"TRAPPIST-1e\",\"PSO J318.5-22\",\"TRAPPIST-1e\",\"TRAPPIST-1e\",null,\"TRAPPIST-1e\",\"TRAPPIST-1e\",\"TRAPPIST-1e\",\"TRAPPIST-1e\",\"TRAPPIST-1e\",\"TRAPPIST-1e\",\"TRAPPIST-1e\",\"TRAPPIST-1e\",\"PSO J318.5-22\",\"55 Cancri e\",\"55 Cancri e\",\"TRAPPIST-1e\",\"TRAPPIST-1e\",\"TRAPPIST-1e\",\"TRAPPIST-1e\",null,\"55 Cancri e\",\"TRAPPIST-1e\",\"TRAPPIST-1e\",\"TRAPPIST-1e\",\"PSO J318.5-22\",\"55 Cancri e\",\"TRAPPIST-1e\",\"TRAPPIST-1e\",\"TRAPPIST-1e\",\"55 Cancri e\",\"TRAPPIST-1e\",\"TRAPPIST-1e\",\"TRAPPIST-1e\",\"TRAPPIST-1e\",\"TRAPPIST-1e\",\"TRAPPIST-1e\",\"55 Cancri e\",\"TRAPPIST-1e\",\"55 Cancri e\",\"TRAPPIST-1e\",\"TRAPPIST-1e\",\"TRAPPIST-1e\",\"TRAPPIST-1e\",\"TRAPPIST-1e\",\"TRAPPIST-1e\",\"TRAPPIST-1e\",\"TRAPPIST-1e\",\"TRAPPIST-1e\",\"TRAPPIST-1e\",\"TRAPPIST-1e\",\"TRAPPIST-1e\",\"TRAPPIST-1e\",\"TRAPPIST-1e\",\"PSO J318.5-22\",\"TRAPPIST-1e\",\"PSO J318.5-22\",\"PSO J318.5-22\",\"TRAPPIST-1e\",\"55 Cancri e\",\"TRAPPIST-1e\",\"55 Cancri e\",\"TRAPPIST-1e\",\"TRAPPIST-1e\",\"TRAPPIST-1e\",\"TRAPPIST-1e\",\"TRAPPIST-1e\",null,\"TRAPPIST-1e\",\"PSO J318.5-22\",\"TRAPPIST-1e\",\"TRAPPIST-1e\",\"TRAPPIST-1e\",\"55 Cancri e\",\"TRAPPIST-1e\",\"55 Cancri e\",\"55 Cancri e\",\"TRAPPIST-1e\",\"TRAPPIST-1e\",\"TRAPPIST-1e\",\"TRAPPIST-1e\",\"TRAPPIST-1e\",\"TRAPPIST-1e\",\"TRAPPIST-1e\",\"55 Cancri e\",\"TRAPPIST-1e\",\"55 Cancri e\",\"TRAPPIST-1e\",\"TRAPPIST-1e\",\"TRAPPIST-1e\",\"TRAPPIST-1e\",\"TRAPPIST-1e\",\"TRAPPIST-1e\",\"TRAPPIST-1e\",\"TRAPPIST-1e\",\"55 Cancri e\",null,\"TRAPPIST-1e\",\"TRAPPIST-1e\",\"TRAPPIST-1e\",\"55 Cancri e\",\"PSO J318.5-22\",\"TRAPPIST-1e\",\"TRAPPIST-1e\",\"TRAPPIST-1e\",\"TRAPPIST-1e\",\"TRAPPIST-1e\",\"TRAPPIST-1e\",\"TRAPPIST-1e\",\"TRAPPIST-1e\",\"TRAPPIST-1e\",\"55 Cancri e\",\"TRAPPIST-1e\",\"TRAPPIST-1e\",\"TRAPPIST-1e\",\"TRAPPIST-1e\",\"TRAPPIST-1e\",\"TRAPPIST-1e\",\"TRAPPIST-1e\",\"TRAPPIST-1e\",\"PSO J318.5-22\",\"TRAPPIST-1e\",\"TRAPPIST-1e\",\"TRAPPIST-1e\",\"TRAPPIST-1e\",\"PSO J318.5-22\",\"TRAPPIST-1e\",\"TRAPPIST-1e\",\"TRAPPIST-1e\",\"TRAPPIST-1e\",\"TRAPPIST-1e\",\"TRAPPIST-1e\",\"TRAPPIST-1e\",\"TRAPPIST-1e\",\"PSO J318.5-22\",\"TRAPPIST-1e\",\"PSO J318.5-22\",\"TRAPPIST-1e\",\"TRAPPIST-1e\",\"TRAPPIST-1e\",\"TRAPPIST-1e\",\"TRAPPIST-1e\",\"PSO J318.5-22\",\"55 Cancri e\",\"TRAPPIST-1e\",\"55 Cancri e\",\"TRAPPIST-1e\",\"55 Cancri e\",\"TRAPPIST-1e\",\"55 Cancri e\",\"TRAPPIST-1e\",\"TRAPPIST-1e\",\"TRAPPIST-1e\",\"TRAPPIST-1e\",\"TRAPPIST-1e\",\"TRAPPIST-1e\",\"55 Cancri e\",\"55 Cancri e\",\"TRAPPIST-1e\",\"TRAPPIST-1e\",\"TRAPPIST-1e\",\"TRAPPIST-1e\",\"TRAPPIST-1e\",\"TRAPPIST-1e\",\"TRAPPIST-1e\",\"PSO J318.5-22\",\"TRAPPIST-1e\",\"TRAPPIST-1e\",\"TRAPPIST-1e\",\"TRAPPIST-1e\",\"TRAPPIST-1e\",\"TRAPPIST-1e\",\"55 Cancri e\",\"TRAPPIST-1e\",\"TRAPPIST-1e\",\"TRAPPIST-1e\",\"PSO J318.5-22\",\"55 Cancri e\",\"TRAPPIST-1e\",\"TRAPPIST-1e\",\"TRAPPIST-1e\",\"PSO J318.5-22\",\"TRAPPIST-1e\",\"TRAPPIST-1e\",\"55 Cancri e\",\"TRAPPIST-1e\",\"TRAPPIST-1e\",\"55 Cancri e\",\"TRAPPIST-1e\",\"PSO J318.5-22\",\"TRAPPIST-1e\",\"TRAPPIST-1e\",\"TRAPPIST-1e\",\"55 Cancri e\",\"TRAPPIST-1e\",\"TRAPPIST-1e\",\"TRAPPIST-1e\",\"TRAPPIST-1e\",\"TRAPPIST-1e\",\"TRAPPIST-1e\",\"TRAPPIST-1e\",\"55 Cancri e\",\"TRAPPIST-1e\",\"TRAPPIST-1e\",\"55 Cancri e\",\"55 Cancri e\",\"TRAPPIST-1e\",\"TRAPPIST-1e\",\"PSO J318.5-22\",\"PSO J318.5-22\",\"55 Cancri e\",\"55 Cancri e\",\"TRAPPIST-1e\",\"TRAPPIST-1e\",\"TRAPPIST-1e\",\"55 Cancri e\",\"TRAPPIST-1e\",\"TRAPPIST-1e\",\"55 Cancri e\",\"TRAPPIST-1e\",\"TRAPPIST-1e\",\"PSO J318.5-22\",\"TRAPPIST-1e\",\"TRAPPIST-1e\",\"TRAPPIST-1e\",\"TRAPPIST-1e\",\"TRAPPIST-1e\",\"TRAPPIST-1e\",\"55 Cancri e\",\"TRAPPIST-1e\",\"TRAPPIST-1e\",\"TRAPPIST-1e\",\"55 Cancri e\",\"55 Cancri e\",\"TRAPPIST-1e\",\"TRAPPIST-1e\",\"TRAPPIST-1e\",\"PSO J318.5-22\",\"TRAPPIST-1e\",\"55 Cancri e\",\"TRAPPIST-1e\",\"55 Cancri e\",\"TRAPPIST-1e\",\"TRAPPIST-1e\",\"TRAPPIST-1e\",\"55 Cancri e\",\"TRAPPIST-1e\",\"55 Cancri e\",\"55 Cancri e\",\"TRAPPIST-1e\",\"TRAPPIST-1e\",\"TRAPPIST-1e\",\"TRAPPIST-1e\",\"TRAPPIST-1e\",\"TRAPPIST-1e\",\"TRAPPIST-1e\",\"TRAPPIST-1e\",\"TRAPPIST-1e\",\"TRAPPIST-1e\",\"55 Cancri e\",\"TRAPPIST-1e\",\"TRAPPIST-1e\",\"TRAPPIST-1e\",null,\"TRAPPIST-1e\",\"TRAPPIST-1e\",\"55 Cancri e\",\"55 Cancri e\",\"TRAPPIST-1e\",\"TRAPPIST-1e\",\"TRAPPIST-1e\",\"TRAPPIST-1e\",\"PSO J318.5-22\",\"TRAPPIST-1e\",\"TRAPPIST-1e\",\"PSO J318.5-22\",\"TRAPPIST-1e\",\"PSO J318.5-22\",\"TRAPPIST-1e\",\"PSO J318.5-22\",\"TRAPPIST-1e\",\"TRAPPIST-1e\",\"TRAPPIST-1e\",\"TRAPPIST-1e\",\"55 Cancri e\",\"TRAPPIST-1e\",\"PSO J318.5-22\",\"TRAPPIST-1e\",\"55 Cancri e\",\"PSO J318.5-22\",\"PSO J318.5-22\",\"TRAPPIST-1e\",\"55 Cancri e\",\"TRAPPIST-1e\",\"TRAPPIST-1e\",null,\"TRAPPIST-1e\",\"TRAPPIST-1e\",\"TRAPPIST-1e\",\"TRAPPIST-1e\",\"TRAPPIST-1e\",\"TRAPPIST-1e\",\"55 Cancri e\",\"TRAPPIST-1e\",\"TRAPPIST-1e\",null,\"55 Cancri e\",\"TRAPPIST-1e\",\"TRAPPIST-1e\",\"55 Cancri e\",null,\"TRAPPIST-1e\",\"TRAPPIST-1e\",\"TRAPPIST-1e\",\"TRAPPIST-1e\",\"TRAPPIST-1e\",\"TRAPPIST-1e\",\"TRAPPIST-1e\",\"TRAPPIST-1e\",\"TRAPPIST-1e\",\"TRAPPIST-1e\",\"TRAPPIST-1e\",\"TRAPPIST-1e\",\"TRAPPIST-1e\",\"TRAPPIST-1e\",\"TRAPPIST-1e\",\"TRAPPIST-1e\",\"TRAPPIST-1e\",\"TRAPPIST-1e\",\"TRAPPIST-1e\",null,\"55 Cancri e\",\"TRAPPIST-1e\",\"TRAPPIST-1e\",\"55 Cancri e\",\"PSO J318.5-22\",\"TRAPPIST-1e\",null,\"TRAPPIST-1e\",\"TRAPPIST-1e\",\"TRAPPIST-1e\",\"TRAPPIST-1e\",\"TRAPPIST-1e\",\"TRAPPIST-1e\",\"TRAPPIST-1e\",\"TRAPPIST-1e\",\"55 Cancri e\",null,\"55 Cancri e\",\"55 Cancri e\",\"55 Cancri e\",\"TRAPPIST-1e\",\"55 Cancri e\",\"TRAPPIST-1e\",\"TRAPPIST-1e\",\"TRAPPIST-1e\",\"TRAPPIST-1e\",\"TRAPPIST-1e\",\"55 Cancri e\",\"TRAPPIST-1e\",\"TRAPPIST-1e\",\"TRAPPIST-1e\",\"TRAPPIST-1e\",\"TRAPPIST-1e\",\"55 Cancri e\",\"TRAPPIST-1e\",\"55 Cancri e\",\"TRAPPIST-1e\",\"TRAPPIST-1e\",\"55 Cancri e\",\"TRAPPIST-1e\",\"TRAPPIST-1e\",\"TRAPPIST-1e\",\"55 Cancri e\",\"TRAPPIST-1e\",\"TRAPPIST-1e\",\"TRAPPIST-1e\",\"TRAPPIST-1e\",\"55 Cancri e\",\"TRAPPIST-1e\",\"55 Cancri e\",\"TRAPPIST-1e\",\"TRAPPIST-1e\",\"TRAPPIST-1e\",\"TRAPPIST-1e\",\"55 Cancri e\",\"TRAPPIST-1e\",\"TRAPPIST-1e\",\"TRAPPIST-1e\",\"TRAPPIST-1e\",\"55 Cancri e\",\"TRAPPIST-1e\",\"TRAPPIST-1e\",\"TRAPPIST-1e\",\"55 Cancri e\",\"TRAPPIST-1e\",\"TRAPPIST-1e\",\"TRAPPIST-1e\",\"TRAPPIST-1e\",\"55 Cancri e\",\"TRAPPIST-1e\",\"TRAPPIST-1e\",\"TRAPPIST-1e\",\"TRAPPIST-1e\",\"PSO J318.5-22\",\"TRAPPIST-1e\",\"TRAPPIST-1e\",null,\"TRAPPIST-1e\",\"TRAPPIST-1e\",\"TRAPPIST-1e\",\"TRAPPIST-1e\",null,\"TRAPPIST-1e\",\"PSO J318.5-22\",\"TRAPPIST-1e\",\"55 Cancri e\",\"TRAPPIST-1e\",\"TRAPPIST-1e\",\"55 Cancri e\",\"TRAPPIST-1e\",\"55 Cancri e\",\"TRAPPIST-1e\",\"55 Cancri e\",\"TRAPPIST-1e\",\"TRAPPIST-1e\",\"TRAPPIST-1e\",\"TRAPPIST-1e\",\"TRAPPIST-1e\",\"TRAPPIST-1e\",\"55 Cancri e\",\"55 Cancri e\",\"PSO J318.5-22\",\"TRAPPIST-1e\",\"TRAPPIST-1e\",\"TRAPPIST-1e\",\"TRAPPIST-1e\",\"TRAPPIST-1e\",\"TRAPPIST-1e\",\"TRAPPIST-1e\",\"55 Cancri e\",\"TRAPPIST-1e\",\"TRAPPIST-1e\",\"TRAPPIST-1e\",\"TRAPPIST-1e\",\"TRAPPIST-1e\",\"TRAPPIST-1e\",\"TRAPPIST-1e\",\"TRAPPIST-1e\",\"PSO J318.5-22\",null,\"55 Cancri e\",\"TRAPPIST-1e\",\"TRAPPIST-1e\",\"TRAPPIST-1e\",\"TRAPPIST-1e\",\"TRAPPIST-1e\",\"55 Cancri e\",\"TRAPPIST-1e\",\"TRAPPIST-1e\",null,\"TRAPPIST-1e\",\"55 Cancri e\",\"TRAPPIST-1e\",\"TRAPPIST-1e\",\"TRAPPIST-1e\",\"PSO J318.5-22\",\"TRAPPIST-1e\",\"TRAPPIST-1e\",\"TRAPPIST-1e\",\"TRAPPIST-1e\",\"55 Cancri e\",\"55 Cancri e\",\"TRAPPIST-1e\",\"TRAPPIST-1e\",\"TRAPPIST-1e\",\"TRAPPIST-1e\",\"55 Cancri e\",\"55 Cancri e\",\"TRAPPIST-1e\",\"TRAPPIST-1e\",\"PSO J318.5-22\",\"PSO J318.5-22\",\"TRAPPIST-1e\",\"TRAPPIST-1e\",\"TRAPPIST-1e\",\"PSO J318.5-22\",\"TRAPPIST-1e\",\"TRAPPIST-1e\",\"TRAPPIST-1e\",null,\"TRAPPIST-1e\",\"TRAPPIST-1e\",\"TRAPPIST-1e\",\"55 Cancri e\",\"TRAPPIST-1e\",\"55 Cancri e\",\"TRAPPIST-1e\",\"TRAPPIST-1e\",\"TRAPPIST-1e\",\"55 Cancri e\",\"TRAPPIST-1e\",\"TRAPPIST-1e\",\"TRAPPIST-1e\",\"TRAPPIST-1e\",\"TRAPPIST-1e\",\"TRAPPIST-1e\",\"TRAPPIST-1e\",\"TRAPPIST-1e\",\"TRAPPIST-1e\",\"TRAPPIST-1e\",\"55 Cancri e\",\"TRAPPIST-1e\",\"TRAPPIST-1e\",\"TRAPPIST-1e\",\"TRAPPIST-1e\",\"TRAPPIST-1e\",\"55 Cancri e\",\"TRAPPIST-1e\",\"TRAPPIST-1e\",\"TRAPPIST-1e\",\"55 Cancri e\",null,\"TRAPPIST-1e\",\"TRAPPIST-1e\",\"TRAPPIST-1e\",\"PSO J318.5-22\",\"TRAPPIST-1e\",\"TRAPPIST-1e\",\"TRAPPIST-1e\",\"55 Cancri e\",\"TRAPPIST-1e\",\"55 Cancri e\",\"55 Cancri e\",\"TRAPPIST-1e\",\"TRAPPIST-1e\",\"55 Cancri e\",\"TRAPPIST-1e\",\"TRAPPIST-1e\",\"TRAPPIST-1e\",\"TRAPPIST-1e\",\"TRAPPIST-1e\",\"TRAPPIST-1e\",\"55 Cancri e\",\"TRAPPIST-1e\",\"TRAPPIST-1e\",\"TRAPPIST-1e\",\"TRAPPIST-1e\",\"TRAPPIST-1e\",\"TRAPPIST-1e\",\"55 Cancri e\",\"TRAPPIST-1e\",\"PSO J318.5-22\",\"55 Cancri e\",\"TRAPPIST-1e\",\"TRAPPIST-1e\",\"TRAPPIST-1e\",\"55 Cancri e\",\"TRAPPIST-1e\",\"TRAPPIST-1e\",\"TRAPPIST-1e\",\"PSO J318.5-22\",\"PSO J318.5-22\",\"TRAPPIST-1e\",\"PSO J318.5-22\",\"TRAPPIST-1e\",\"TRAPPIST-1e\",\"TRAPPIST-1e\",\"TRAPPIST-1e\",\"TRAPPIST-1e\",\"TRAPPIST-1e\",\"TRAPPIST-1e\",\"TRAPPIST-1e\",\"TRAPPIST-1e\",\"55 Cancri e\",\"55 Cancri e\",\"55 Cancri e\",\"TRAPPIST-1e\",\"TRAPPIST-1e\",\"TRAPPIST-1e\",\"TRAPPIST-1e\",\"TRAPPIST-1e\",\"TRAPPIST-1e\",\"TRAPPIST-1e\",\"TRAPPIST-1e\",\"TRAPPIST-1e\",null,\"PSO J318.5-22\",\"TRAPPIST-1e\",\"TRAPPIST-1e\",\"TRAPPIST-1e\",\"TRAPPIST-1e\",\"TRAPPIST-1e\",\"PSO J318.5-22\",\"TRAPPIST-1e\",\"TRAPPIST-1e\",\"TRAPPIST-1e\",\"55 Cancri e\",\"55 Cancri e\",\"TRAPPIST-1e\",\"TRAPPIST-1e\",\"55 Cancri e\",\"TRAPPIST-1e\",\"TRAPPIST-1e\",\"TRAPPIST-1e\",\"55 Cancri e\",\"TRAPPIST-1e\",\"TRAPPIST-1e\",\"TRAPPIST-1e\",\"PSO J318.5-22\",\"TRAPPIST-1e\",\"TRAPPIST-1e\",\"TRAPPIST-1e\",\"TRAPPIST-1e\",\"TRAPPIST-1e\",\"55 Cancri e\",\"TRAPPIST-1e\",\"PSO J318.5-22\",null,\"TRAPPIST-1e\",\"55 Cancri e\",\"TRAPPIST-1e\",\"TRAPPIST-1e\",\"TRAPPIST-1e\",\"TRAPPIST-1e\",\"TRAPPIST-1e\",\"55 Cancri e\",\"TRAPPIST-1e\",\"TRAPPIST-1e\",\"TRAPPIST-1e\",\"PSO J318.5-22\",\"55 Cancri e\",\"TRAPPIST-1e\",\"TRAPPIST-1e\",\"TRAPPIST-1e\",\"TRAPPIST-1e\",\"TRAPPIST-1e\",\"TRAPPIST-1e\",\"TRAPPIST-1e\",\"55 Cancri e\",\"TRAPPIST-1e\",\"TRAPPIST-1e\",\"TRAPPIST-1e\",\"TRAPPIST-1e\",\"TRAPPIST-1e\",\"55 Cancri e\",\"TRAPPIST-1e\",\"TRAPPIST-1e\",\"TRAPPIST-1e\",\"TRAPPIST-1e\",\"PSO J318.5-22\",\"TRAPPIST-1e\",\"TRAPPIST-1e\",\"TRAPPIST-1e\",\"55 Cancri e\",\"TRAPPIST-1e\",\"55 Cancri e\",\"TRAPPIST-1e\",\"TRAPPIST-1e\",\"TRAPPIST-1e\",\"TRAPPIST-1e\",\"55 Cancri e\",\"TRAPPIST-1e\",\"TRAPPIST-1e\",\"TRAPPIST-1e\",\"TRAPPIST-1e\",\"TRAPPIST-1e\",\"PSO J318.5-22\",\"TRAPPIST-1e\",\"TRAPPIST-1e\",\"TRAPPIST-1e\",\"TRAPPIST-1e\",\"TRAPPIST-1e\",\"55 Cancri e\",\"TRAPPIST-1e\",\"TRAPPIST-1e\",\"55 Cancri e\",\"PSO J318.5-22\",\"TRAPPIST-1e\",\"TRAPPIST-1e\",\"TRAPPIST-1e\",\"TRAPPIST-1e\",\"PSO J318.5-22\",\"TRAPPIST-1e\",\"TRAPPIST-1e\",\"TRAPPIST-1e\",null,\"PSO J318.5-22\",\"TRAPPIST-1e\",\"TRAPPIST-1e\",\"TRAPPIST-1e\",\"55 Cancri e\",\"TRAPPIST-1e\",\"TRAPPIST-1e\",\"55 Cancri e\",\"TRAPPIST-1e\",\"TRAPPIST-1e\",\"TRAPPIST-1e\",\"TRAPPIST-1e\",\"PSO J318.5-22\",\"TRAPPIST-1e\",\"TRAPPIST-1e\",\"55 Cancri e\",\"TRAPPIST-1e\",\"TRAPPIST-1e\",\"PSO J318.5-22\",\"TRAPPIST-1e\",\"TRAPPIST-1e\",\"TRAPPIST-1e\",\"TRAPPIST-1e\",\"TRAPPIST-1e\",\"TRAPPIST-1e\",\"TRAPPIST-1e\",\"55 Cancri e\",\"TRAPPIST-1e\",\"55 Cancri e\",\"TRAPPIST-1e\",\"PSO J318.5-22\",\"TRAPPIST-1e\",\"TRAPPIST-1e\",\"TRAPPIST-1e\",\"55 Cancri e\",\"TRAPPIST-1e\",\"PSO J318.5-22\",\"55 Cancri e\",\"PSO J318.5-22\",\"TRAPPIST-1e\",\"TRAPPIST-1e\",\"TRAPPIST-1e\",\"TRAPPIST-1e\",\"TRAPPIST-1e\",\"55 Cancri e\",\"TRAPPIST-1e\",\"TRAPPIST-1e\",\"55 Cancri e\",\"55 Cancri e\",\"TRAPPIST-1e\",\"55 Cancri e\",\"TRAPPIST-1e\",\"TRAPPIST-1e\",\"TRAPPIST-1e\",\"TRAPPIST-1e\",\"TRAPPIST-1e\",\"TRAPPIST-1e\",\"55 Cancri e\",\"TRAPPIST-1e\",\"TRAPPIST-1e\",\"TRAPPIST-1e\",\"TRAPPIST-1e\",\"55 Cancri e\",\"TRAPPIST-1e\",\"PSO J318.5-22\",\"TRAPPIST-1e\",\"55 Cancri e\",\"TRAPPIST-1e\",\"PSO J318.5-22\",\"55 Cancri e\",\"TRAPPIST-1e\",\"TRAPPIST-1e\",\"TRAPPIST-1e\",\"55 Cancri e\",\"TRAPPIST-1e\",\"TRAPPIST-1e\",\"TRAPPIST-1e\",\"TRAPPIST-1e\",\"TRAPPIST-1e\",\"TRAPPIST-1e\",null,\"TRAPPIST-1e\",\"TRAPPIST-1e\",\"TRAPPIST-1e\",\"TRAPPIST-1e\",\"PSO J318.5-22\",\"TRAPPIST-1e\",\"TRAPPIST-1e\",\"55 Cancri e\",\"TRAPPIST-1e\",\"TRAPPIST-1e\",\"TRAPPIST-1e\",null,\"TRAPPIST-1e\",\"TRAPPIST-1e\",\"TRAPPIST-1e\",\"TRAPPIST-1e\",\"TRAPPIST-1e\",\"TRAPPIST-1e\",\"55 Cancri e\",\"TRAPPIST-1e\",\"TRAPPIST-1e\",\"55 Cancri e\",\"TRAPPIST-1e\",\"TRAPPIST-1e\",\"PSO J318.5-22\",\"TRAPPIST-1e\",\"TRAPPIST-1e\",\"55 Cancri e\",\"TRAPPIST-1e\",\"55 Cancri e\",\"TRAPPIST-1e\",\"PSO J318.5-22\",\"TRAPPIST-1e\",null,\"55 Cancri e\",\"TRAPPIST-1e\",\"PSO J318.5-22\",\"TRAPPIST-1e\",\"PSO J318.5-22\",\"TRAPPIST-1e\",\"TRAPPIST-1e\",\"TRAPPIST-1e\",\"TRAPPIST-1e\",\"PSO J318.5-22\",\"55 Cancri e\",null,\"TRAPPIST-1e\",\"TRAPPIST-1e\",\"55 Cancri e\",\"55 Cancri e\",\"TRAPPIST-1e\",\"TRAPPIST-1e\",\"TRAPPIST-1e\",\"TRAPPIST-1e\",\"TRAPPIST-1e\",\"55 Cancri e\",\"TRAPPIST-1e\",\"TRAPPIST-1e\",null,\"TRAPPIST-1e\",\"PSO J318.5-22\",\"TRAPPIST-1e\",\"TRAPPIST-1e\",\"TRAPPIST-1e\",\"TRAPPIST-1e\",\"55 Cancri e\",\"PSO J318.5-22\",\"TRAPPIST-1e\",\"TRAPPIST-1e\",\"TRAPPIST-1e\",\"TRAPPIST-1e\",\"PSO J318.5-22\",\"PSO J318.5-22\",\"TRAPPIST-1e\",\"55 Cancri e\",\"TRAPPIST-1e\",\"TRAPPIST-1e\",\"PSO J318.5-22\",\"55 Cancri e\",\"TRAPPIST-1e\",\"TRAPPIST-1e\",\"TRAPPIST-1e\",\"PSO J318.5-22\",\"TRAPPIST-1e\",\"55 Cancri e\",\"PSO J318.5-22\",\"PSO J318.5-22\",\"TRAPPIST-1e\",\"TRAPPIST-1e\",\"TRAPPIST-1e\",\"55 Cancri e\",\"TRAPPIST-1e\",\"55 Cancri e\",\"TRAPPIST-1e\",\"TRAPPIST-1e\",\"TRAPPIST-1e\",\"TRAPPIST-1e\",\"TRAPPIST-1e\",\"TRAPPIST-1e\",\"TRAPPIST-1e\",\"TRAPPIST-1e\",\"55 Cancri e\",\"55 Cancri e\",\"TRAPPIST-1e\",\"55 Cancri e\",\"PSO J318.5-22\",\"TRAPPIST-1e\",\"TRAPPIST-1e\",\"TRAPPIST-1e\",\"PSO J318.5-22\",\"PSO J318.5-22\",\"TRAPPIST-1e\",\"TRAPPIST-1e\",null,\"TRAPPIST-1e\",\"55 Cancri e\",\"55 Cancri e\",\"55 Cancri e\",\"TRAPPIST-1e\",\"TRAPPIST-1e\",\"TRAPPIST-1e\",\"TRAPPIST-1e\",\"TRAPPIST-1e\",\"TRAPPIST-1e\",\"TRAPPIST-1e\",\"TRAPPIST-1e\",\"PSO J318.5-22\",\"TRAPPIST-1e\",\"TRAPPIST-1e\",\"TRAPPIST-1e\",\"TRAPPIST-1e\",\"PSO J318.5-22\",\"TRAPPIST-1e\",\"TRAPPIST-1e\",\"TRAPPIST-1e\",\"TRAPPIST-1e\",\"TRAPPIST-1e\",\"TRAPPIST-1e\",\"TRAPPIST-1e\",\"TRAPPIST-1e\",\"TRAPPIST-1e\",null,\"TRAPPIST-1e\",\"TRAPPIST-1e\",\"TRAPPIST-1e\",\"TRAPPIST-1e\",\"TRAPPIST-1e\",\"TRAPPIST-1e\",\"TRAPPIST-1e\",\"TRAPPIST-1e\",\"TRAPPIST-1e\",\"TRAPPIST-1e\",\"55 Cancri e\",\"55 Cancri e\",\"TRAPPIST-1e\",\"TRAPPIST-1e\",\"PSO J318.5-22\",\"TRAPPIST-1e\",\"TRAPPIST-1e\",\"TRAPPIST-1e\",null,null,\"TRAPPIST-1e\",\"TRAPPIST-1e\",\"TRAPPIST-1e\",\"TRAPPIST-1e\",\"TRAPPIST-1e\",\"TRAPPIST-1e\",\"TRAPPIST-1e\",\"TRAPPIST-1e\",\"TRAPPIST-1e\",\"55 Cancri e\",\"TRAPPIST-1e\",\"55 Cancri e\",\"TRAPPIST-1e\",\"TRAPPIST-1e\",\"TRAPPIST-1e\",\"TRAPPIST-1e\",\"55 Cancri e\",\"TRAPPIST-1e\",\"TRAPPIST-1e\",\"TRAPPIST-1e\",\"TRAPPIST-1e\",\"TRAPPIST-1e\",\"TRAPPIST-1e\",\"TRAPPIST-1e\",\"TRAPPIST-1e\",\"TRAPPIST-1e\",\"TRAPPIST-1e\",\"TRAPPIST-1e\",\"TRAPPIST-1e\",\"TRAPPIST-1e\",\"TRAPPIST-1e\",\"TRAPPIST-1e\",\"TRAPPIST-1e\",\"TRAPPIST-1e\",\"TRAPPIST-1e\",\"TRAPPIST-1e\",\"TRAPPIST-1e\",\"TRAPPIST-1e\",\"TRAPPIST-1e\",null,\"TRAPPIST-1e\",\"TRAPPIST-1e\",\"PSO J318.5-22\",\"TRAPPIST-1e\",\"55 Cancri e\",\"TRAPPIST-1e\",\"TRAPPIST-1e\",\"55 Cancri e\",\"TRAPPIST-1e\",\"TRAPPIST-1e\",\"TRAPPIST-1e\",\"TRAPPIST-1e\",\"TRAPPIST-1e\",\"TRAPPIST-1e\",\"PSO J318.5-22\",\"TRAPPIST-1e\",\"PSO J318.5-22\",\"TRAPPIST-1e\",\"TRAPPIST-1e\",\"TRAPPIST-1e\",null,\"55 Cancri e\",\"TRAPPIST-1e\",\"55 Cancri e\",\"TRAPPIST-1e\",\"55 Cancri e\",\"TRAPPIST-1e\",\"TRAPPIST-1e\",\"TRAPPIST-1e\",\"TRAPPIST-1e\",\"55 Cancri e\",\"TRAPPIST-1e\",\"TRAPPIST-1e\",\"TRAPPIST-1e\",\"TRAPPIST-1e\",\"PSO J318.5-22\",\"55 Cancri e\",\"TRAPPIST-1e\",\"TRAPPIST-1e\",\"PSO J318.5-22\",\"TRAPPIST-1e\",\"TRAPPIST-1e\",\"TRAPPIST-1e\",\"TRAPPIST-1e\",\"55 Cancri e\",\"PSO J318.5-22\",\"TRAPPIST-1e\",\"TRAPPIST-1e\",\"TRAPPIST-1e\",\"TRAPPIST-1e\",\"PSO J318.5-22\",\"TRAPPIST-1e\",\"TRAPPIST-1e\",\"55 Cancri e\",\"TRAPPIST-1e\",\"TRAPPIST-1e\",\"TRAPPIST-1e\",\"TRAPPIST-1e\",\"TRAPPIST-1e\",\"TRAPPIST-1e\",\"TRAPPIST-1e\",\"TRAPPIST-1e\",\"TRAPPIST-1e\",\"TRAPPIST-1e\",\"TRAPPIST-1e\",\"TRAPPIST-1e\",\"55 Cancri e\",\"PSO J318.5-22\",\"TRAPPIST-1e\",\"TRAPPIST-1e\",\"TRAPPIST-1e\",\"PSO J318.5-22\",\"PSO J318.5-22\",\"TRAPPIST-1e\",\"TRAPPIST-1e\",\"TRAPPIST-1e\",\"TRAPPIST-1e\",\"PSO J318.5-22\",\"TRAPPIST-1e\",\"55 Cancri e\",\"TRAPPIST-1e\",\"TRAPPIST-1e\",\"TRAPPIST-1e\",\"TRAPPIST-1e\",\"PSO J318.5-22\",\"TRAPPIST-1e\",\"TRAPPIST-1e\",\"55 Cancri e\",\"55 Cancri e\",\"TRAPPIST-1e\",\"TRAPPIST-1e\",\"TRAPPIST-1e\",\"TRAPPIST-1e\",\"PSO J318.5-22\",\"TRAPPIST-1e\",\"PSO J318.5-22\",\"55 Cancri e\",\"TRAPPIST-1e\",\"TRAPPIST-1e\",\"TRAPPIST-1e\",\"TRAPPIST-1e\",\"TRAPPIST-1e\",\"TRAPPIST-1e\",\"55 Cancri e\",\"55 Cancri e\",null,\"TRAPPIST-1e\",\"TRAPPIST-1e\",\"TRAPPIST-1e\",\"TRAPPIST-1e\",\"TRAPPIST-1e\",\"55 Cancri e\",\"TRAPPIST-1e\",\"TRAPPIST-1e\",\"TRAPPIST-1e\",\"55 Cancri e\",\"55 Cancri e\",\"TRAPPIST-1e\",\"55 Cancri e\",\"TRAPPIST-1e\",\"TRAPPIST-1e\",\"TRAPPIST-1e\",\"TRAPPIST-1e\",\"TRAPPIST-1e\",\"PSO J318.5-22\",\"TRAPPIST-1e\",\"TRAPPIST-1e\",\"TRAPPIST-1e\",\"TRAPPIST-1e\",\"PSO J318.5-22\",\"TRAPPIST-1e\",null,\"55 Cancri e\",\"TRAPPIST-1e\",\"TRAPPIST-1e\",\"TRAPPIST-1e\",\"TRAPPIST-1e\",\"TRAPPIST-1e\",\"TRAPPIST-1e\",null,\"TRAPPIST-1e\",\"PSO J318.5-22\",\"PSO J318.5-22\",\"TRAPPIST-1e\",\"TRAPPIST-1e\",\"55 Cancri e\",\"TRAPPIST-1e\",\"55 Cancri e\",\"TRAPPIST-1e\",\"TRAPPIST-1e\",\"TRAPPIST-1e\",\"TRAPPIST-1e\",\"TRAPPIST-1e\",\"TRAPPIST-1e\",\"TRAPPIST-1e\",\"TRAPPIST-1e\",\"TRAPPIST-1e\",\"TRAPPIST-1e\",\"TRAPPIST-1e\",\"TRAPPIST-1e\",\"PSO J318.5-22\",\"55 Cancri e\",\"PSO J318.5-22\",\"55 Cancri e\",\"TRAPPIST-1e\",\"TRAPPIST-1e\",\"TRAPPIST-1e\",\"55 Cancri e\",\"55 Cancri e\",null,\"TRAPPIST-1e\",\"TRAPPIST-1e\",\"55 Cancri e\",\"TRAPPIST-1e\",\"TRAPPIST-1e\",\"TRAPPIST-1e\",\"55 Cancri e\",\"PSO J318.5-22\",\"TRAPPIST-1e\",\"TRAPPIST-1e\",\"55 Cancri e\",\"55 Cancri e\",\"TRAPPIST-1e\",\"TRAPPIST-1e\",\"55 Cancri e\",\"TRAPPIST-1e\",\"55 Cancri e\",\"TRAPPIST-1e\",\"55 Cancri e\",\"TRAPPIST-1e\",\"TRAPPIST-1e\",\"TRAPPIST-1e\",\"TRAPPIST-1e\",\"TRAPPIST-1e\",\"TRAPPIST-1e\",\"PSO J318.5-22\",\"TRAPPIST-1e\",\"TRAPPIST-1e\",\"TRAPPIST-1e\",\"TRAPPIST-1e\",\"TRAPPIST-1e\",\"55 Cancri e\",\"TRAPPIST-1e\",\"PSO J318.5-22\",\"TRAPPIST-1e\",\"PSO J318.5-22\",\"PSO J318.5-22\",\"PSO J318.5-22\",\"TRAPPIST-1e\",\"TRAPPIST-1e\",\"TRAPPIST-1e\",\"TRAPPIST-1e\",\"TRAPPIST-1e\",\"TRAPPIST-1e\",\"TRAPPIST-1e\",\"TRAPPIST-1e\",\"TRAPPIST-1e\",\"55 Cancri e\",\"TRAPPIST-1e\",\"TRAPPIST-1e\",\"55 Cancri e\",\"55 Cancri e\",\"TRAPPIST-1e\",\"TRAPPIST-1e\",\"TRAPPIST-1e\",\"TRAPPIST-1e\",\"TRAPPIST-1e\",\"TRAPPIST-1e\",\"TRAPPIST-1e\",\"TRAPPIST-1e\",\"TRAPPIST-1e\",\"TRAPPIST-1e\",\"TRAPPIST-1e\",\"TRAPPIST-1e\",\"TRAPPIST-1e\",\"TRAPPIST-1e\",\"55 Cancri e\",\"TRAPPIST-1e\",\"TRAPPIST-1e\",\"TRAPPIST-1e\",\"TRAPPIST-1e\",\"TRAPPIST-1e\",\"TRAPPIST-1e\",\"TRAPPIST-1e\",\"55 Cancri e\",null,\"TRAPPIST-1e\",\"TRAPPIST-1e\",\"TRAPPIST-1e\",\"TRAPPIST-1e\",\"TRAPPIST-1e\",\"TRAPPIST-1e\",\"TRAPPIST-1e\",\"TRAPPIST-1e\",\"TRAPPIST-1e\",\"TRAPPIST-1e\",\"TRAPPIST-1e\",\"TRAPPIST-1e\",\"TRAPPIST-1e\",\"TRAPPIST-1e\",\"TRAPPIST-1e\",\"TRAPPIST-1e\",\"TRAPPIST-1e\",\"TRAPPIST-1e\",null,\"TRAPPIST-1e\",\"55 Cancri e\",\"TRAPPIST-1e\",\"TRAPPIST-1e\",\"TRAPPIST-1e\",\"TRAPPIST-1e\",\"TRAPPIST-1e\",\"TRAPPIST-1e\",\"TRAPPIST-1e\",\"TRAPPIST-1e\",\"TRAPPIST-1e\",\"TRAPPIST-1e\",\"TRAPPIST-1e\",\"TRAPPIST-1e\",\"PSO J318.5-22\",\"PSO J318.5-22\",\"TRAPPIST-1e\",\"55 Cancri e\",\"TRAPPIST-1e\",\"TRAPPIST-1e\",\"TRAPPIST-1e\",\"TRAPPIST-1e\",\"TRAPPIST-1e\",\"TRAPPIST-1e\",\"TRAPPIST-1e\",\"TRAPPIST-1e\",\"TRAPPIST-1e\",\"TRAPPIST-1e\",\"TRAPPIST-1e\",\"55 Cancri e\",\"TRAPPIST-1e\",\"PSO J318.5-22\",\"TRAPPIST-1e\",null,\"TRAPPIST-1e\",\"TRAPPIST-1e\",\"TRAPPIST-1e\",\"55 Cancri e\",\"TRAPPIST-1e\",\"PSO J318.5-22\",\"TRAPPIST-1e\",\"PSO J318.5-22\",\"TRAPPIST-1e\",\"55 Cancri e\",\"TRAPPIST-1e\",\"TRAPPIST-1e\",\"TRAPPIST-1e\",\"TRAPPIST-1e\",\"TRAPPIST-1e\",\"TRAPPIST-1e\",\"TRAPPIST-1e\",\"55 Cancri e\",\"TRAPPIST-1e\",\"55 Cancri e\",\"55 Cancri e\",\"55 Cancri e\",\"55 Cancri e\",\"TRAPPIST-1e\",\"TRAPPIST-1e\",\"TRAPPIST-1e\",\"TRAPPIST-1e\",\"TRAPPIST-1e\",\"PSO J318.5-22\",\"TRAPPIST-1e\",\"TRAPPIST-1e\",\"TRAPPIST-1e\",\"TRAPPIST-1e\",\"TRAPPIST-1e\",\"TRAPPIST-1e\",\"TRAPPIST-1e\",\"PSO J318.5-22\",\"PSO J318.5-22\",\"PSO J318.5-22\",\"PSO J318.5-22\",\"55 Cancri e\",\"TRAPPIST-1e\",\"TRAPPIST-1e\",\"55 Cancri e\",\"55 Cancri e\",\"55 Cancri e\",\"TRAPPIST-1e\",\"TRAPPIST-1e\",\"TRAPPIST-1e\",\"TRAPPIST-1e\",\"55 Cancri e\",\"TRAPPIST-1e\",\"TRAPPIST-1e\",\"55 Cancri e\",\"TRAPPIST-1e\",\"TRAPPIST-1e\",\"TRAPPIST-1e\",\"TRAPPIST-1e\",\"55 Cancri e\",\"TRAPPIST-1e\",\"TRAPPIST-1e\",\"TRAPPIST-1e\",\"TRAPPIST-1e\",\"PSO J318.5-22\",\"TRAPPIST-1e\",\"TRAPPIST-1e\",\"TRAPPIST-1e\",\"PSO J318.5-22\",\"55 Cancri e\",\"TRAPPIST-1e\",\"TRAPPIST-1e\",null,\"TRAPPIST-1e\",\"TRAPPIST-1e\",\"TRAPPIST-1e\",\"TRAPPIST-1e\",\"55 Cancri e\",\"TRAPPIST-1e\",\"TRAPPIST-1e\",\"TRAPPIST-1e\",\"TRAPPIST-1e\",\"TRAPPIST-1e\",\"55 Cancri e\",\"TRAPPIST-1e\",\"PSO J318.5-22\",\"TRAPPIST-1e\",\"PSO J318.5-22\",\"TRAPPIST-1e\",\"PSO J318.5-22\",\"TRAPPIST-1e\",\"55 Cancri e\",\"TRAPPIST-1e\",\"55 Cancri e\",\"55 Cancri e\",\"TRAPPIST-1e\",\"TRAPPIST-1e\",\"TRAPPIST-1e\",\"TRAPPIST-1e\",\"PSO J318.5-22\",\"TRAPPIST-1e\",\"TRAPPIST-1e\",\"TRAPPIST-1e\",\"TRAPPIST-1e\",\"TRAPPIST-1e\",\"TRAPPIST-1e\",\"TRAPPIST-1e\",\"TRAPPIST-1e\",\"TRAPPIST-1e\",\"TRAPPIST-1e\",\"TRAPPIST-1e\",\"TRAPPIST-1e\",\"TRAPPIST-1e\",\"55 Cancri e\",\"55 Cancri e\",\"TRAPPIST-1e\",\"TRAPPIST-1e\",\"TRAPPIST-1e\",\"PSO J318.5-22\",\"55 Cancri e\",\"TRAPPIST-1e\",\"TRAPPIST-1e\",\"TRAPPIST-1e\",\"TRAPPIST-1e\",\"TRAPPIST-1e\",\"55 Cancri e\",\"PSO J318.5-22\",\"TRAPPIST-1e\",\"TRAPPIST-1e\",\"TRAPPIST-1e\",\"TRAPPIST-1e\",\"TRAPPIST-1e\",\"TRAPPIST-1e\",\"TRAPPIST-1e\",\"TRAPPIST-1e\",\"TRAPPIST-1e\",\"TRAPPIST-1e\",\"TRAPPIST-1e\",\"TRAPPIST-1e\",\"TRAPPIST-1e\",\"TRAPPIST-1e\",\"55 Cancri e\",null,\"TRAPPIST-1e\",\"TRAPPIST-1e\",\"TRAPPIST-1e\",\"55 Cancri e\",\"55 Cancri e\",\"TRAPPIST-1e\",\"55 Cancri e\",\"TRAPPIST-1e\",\"TRAPPIST-1e\",\"PSO J318.5-22\",\"PSO J318.5-22\",\"TRAPPIST-1e\",\"TRAPPIST-1e\",\"TRAPPIST-1e\",\"TRAPPIST-1e\",\"55 Cancri e\",\"TRAPPIST-1e\",\"TRAPPIST-1e\",\"TRAPPIST-1e\",\"TRAPPIST-1e\",\"TRAPPIST-1e\",\"55 Cancri e\",\"TRAPPIST-1e\",\"PSO J318.5-22\",\"TRAPPIST-1e\",\"PSO J318.5-22\",\"55 Cancri e\",\"TRAPPIST-1e\",\"TRAPPIST-1e\",\"TRAPPIST-1e\",\"TRAPPIST-1e\",\"TRAPPIST-1e\",\"TRAPPIST-1e\",\"TRAPPIST-1e\",\"TRAPPIST-1e\",\"TRAPPIST-1e\",\"TRAPPIST-1e\",\"TRAPPIST-1e\",\"TRAPPIST-1e\",\"TRAPPIST-1e\",\"TRAPPIST-1e\",\"TRAPPIST-1e\",\"TRAPPIST-1e\",\"55 Cancri e\",\"PSO J318.5-22\",\"TRAPPIST-1e\",\"55 Cancri e\",\"TRAPPIST-1e\",\"TRAPPIST-1e\",\"TRAPPIST-1e\",\"TRAPPIST-1e\",\"TRAPPIST-1e\",\"TRAPPIST-1e\",\"TRAPPIST-1e\",\"TRAPPIST-1e\",\"TRAPPIST-1e\",\"PSO J318.5-22\",\"TRAPPIST-1e\",\"55 Cancri e\",\"TRAPPIST-1e\",\"PSO J318.5-22\",\"TRAPPIST-1e\",\"TRAPPIST-1e\",\"TRAPPIST-1e\",\"TRAPPIST-1e\",\"55 Cancri e\",\"55 Cancri e\",\"55 Cancri e\",\"TRAPPIST-1e\",\"TRAPPIST-1e\",\"55 Cancri e\",\"PSO J318.5-22\",\"TRAPPIST-1e\",\"55 Cancri e\",\"TRAPPIST-1e\",\"TRAPPIST-1e\",\"55 Cancri e\",\"55 Cancri e\",\"55 Cancri e\",\"TRAPPIST-1e\",\"55 Cancri e\",\"55 Cancri e\",\"55 Cancri e\",\"TRAPPIST-1e\",\"TRAPPIST-1e\",\"TRAPPIST-1e\",\"TRAPPIST-1e\",\"55 Cancri e\",\"55 Cancri e\",\"PSO J318.5-22\",\"TRAPPIST-1e\",\"TRAPPIST-1e\",\"TRAPPIST-1e\",\"TRAPPIST-1e\",\"TRAPPIST-1e\",\"PSO J318.5-22\",\"TRAPPIST-1e\",\"TRAPPIST-1e\",\"55 Cancri e\",\"TRAPPIST-1e\",\"TRAPPIST-1e\",\"55 Cancri e\",\"55 Cancri e\",\"TRAPPIST-1e\",\"TRAPPIST-1e\",\"TRAPPIST-1e\",\"TRAPPIST-1e\",\"TRAPPIST-1e\",\"TRAPPIST-1e\",\"TRAPPIST-1e\",\"TRAPPIST-1e\",\"TRAPPIST-1e\",\"TRAPPIST-1e\",\"TRAPPIST-1e\",\"TRAPPIST-1e\",\"TRAPPIST-1e\",\"PSO J318.5-22\",\"TRAPPIST-1e\",\"PSO J318.5-22\",\"TRAPPIST-1e\",\"TRAPPIST-1e\",null,\"TRAPPIST-1e\",\"PSO J318.5-22\",\"TRAPPIST-1e\",\"TRAPPIST-1e\",\"55 Cancri e\",\"TRAPPIST-1e\",\"55 Cancri e\",\"TRAPPIST-1e\",\"TRAPPIST-1e\",\"55 Cancri e\",\"55 Cancri e\",\"TRAPPIST-1e\",\"PSO J318.5-22\",null,\"PSO J318.5-22\",null,\"TRAPPIST-1e\",\"TRAPPIST-1e\",\"TRAPPIST-1e\",\"TRAPPIST-1e\",\"TRAPPIST-1e\",\"TRAPPIST-1e\",\"55 Cancri e\",\"TRAPPIST-1e\",\"TRAPPIST-1e\",\"55 Cancri e\",\"TRAPPIST-1e\",\"TRAPPIST-1e\",\"TRAPPIST-1e\",\"TRAPPIST-1e\",\"TRAPPIST-1e\",\"TRAPPIST-1e\",\"PSO J318.5-22\",\"TRAPPIST-1e\",\"TRAPPIST-1e\",\"TRAPPIST-1e\",\"TRAPPIST-1e\",\"TRAPPIST-1e\",\"TRAPPIST-1e\",\"TRAPPIST-1e\",\"TRAPPIST-1e\",null,\"TRAPPIST-1e\",\"PSO J318.5-22\",\"TRAPPIST-1e\",\"TRAPPIST-1e\",\"TRAPPIST-1e\",\"TRAPPIST-1e\",\"55 Cancri e\",\"TRAPPIST-1e\",\"TRAPPIST-1e\",\"55 Cancri e\",\"TRAPPIST-1e\",\"TRAPPIST-1e\",\"TRAPPIST-1e\",\"TRAPPIST-1e\",\"TRAPPIST-1e\",\"TRAPPIST-1e\",\"TRAPPIST-1e\",\"TRAPPIST-1e\",\"TRAPPIST-1e\",\"TRAPPIST-1e\",\"TRAPPIST-1e\",\"TRAPPIST-1e\",\"TRAPPIST-1e\",\"PSO J318.5-22\",\"TRAPPIST-1e\",\"TRAPPIST-1e\",\"PSO J318.5-22\",\"TRAPPIST-1e\",\"TRAPPIST-1e\",\"TRAPPIST-1e\",\"55 Cancri e\",\"TRAPPIST-1e\",null,\"PSO J318.5-22\",\"TRAPPIST-1e\",\"PSO J318.5-22\",\"PSO J318.5-22\",\"TRAPPIST-1e\",\"TRAPPIST-1e\",\"55 Cancri e\",\"TRAPPIST-1e\",\"TRAPPIST-1e\",\"TRAPPIST-1e\",\"55 Cancri e\",\"TRAPPIST-1e\",\"TRAPPIST-1e\",\"PSO J318.5-22\",\"PSO J318.5-22\",\"TRAPPIST-1e\",\"TRAPPIST-1e\",\"TRAPPIST-1e\",\"TRAPPIST-1e\",\"TRAPPIST-1e\",\"TRAPPIST-1e\",\"TRAPPIST-1e\",\"55 Cancri e\",\"TRAPPIST-1e\",\"TRAPPIST-1e\",\"TRAPPIST-1e\",\"TRAPPIST-1e\",\"TRAPPIST-1e\",\"TRAPPIST-1e\",\"TRAPPIST-1e\",\"TRAPPIST-1e\",\"TRAPPIST-1e\",\"TRAPPIST-1e\",\"TRAPPIST-1e\",null,\"TRAPPIST-1e\",\"PSO J318.5-22\",\"TRAPPIST-1e\",\"TRAPPIST-1e\",\"TRAPPIST-1e\",\"55 Cancri e\",\"TRAPPIST-1e\",\"55 Cancri e\",\"TRAPPIST-1e\",\"TRAPPIST-1e\",null,\"TRAPPIST-1e\",\"TRAPPIST-1e\",\"55 Cancri e\",\"PSO J318.5-22\",\"TRAPPIST-1e\",\"TRAPPIST-1e\",\"TRAPPIST-1e\",\"TRAPPIST-1e\",\"PSO J318.5-22\",\"TRAPPIST-1e\",\"TRAPPIST-1e\",\"PSO J318.5-22\",\"PSO J318.5-22\",\"TRAPPIST-1e\",\"PSO J318.5-22\",\"TRAPPIST-1e\",\"PSO J318.5-22\",\"55 Cancri e\",\"TRAPPIST-1e\",\"TRAPPIST-1e\",\"TRAPPIST-1e\",\"55 Cancri e\",\"TRAPPIST-1e\",\"55 Cancri e\",\"55 Cancri e\",\"TRAPPIST-1e\",\"TRAPPIST-1e\",\"TRAPPIST-1e\",\"TRAPPIST-1e\",\"TRAPPIST-1e\",\"TRAPPIST-1e\",\"55 Cancri e\",\"TRAPPIST-1e\",\"TRAPPIST-1e\",\"TRAPPIST-1e\",\"TRAPPIST-1e\",\"TRAPPIST-1e\",\"PSO J318.5-22\",\"TRAPPIST-1e\",\"TRAPPIST-1e\",\"TRAPPIST-1e\",\"PSO J318.5-22\",\"TRAPPIST-1e\",\"TRAPPIST-1e\",\"TRAPPIST-1e\",\"TRAPPIST-1e\",\"TRAPPIST-1e\",\"55 Cancri e\",\"TRAPPIST-1e\",\"55 Cancri e\",\"PSO J318.5-22\",\"TRAPPIST-1e\",\"TRAPPIST-1e\",\"TRAPPIST-1e\",\"TRAPPIST-1e\",\"55 Cancri e\",\"TRAPPIST-1e\",\"TRAPPIST-1e\",\"TRAPPIST-1e\",\"TRAPPIST-1e\",\"TRAPPIST-1e\",\"TRAPPIST-1e\",\"TRAPPIST-1e\",\"TRAPPIST-1e\",\"TRAPPIST-1e\",\"TRAPPIST-1e\",\"TRAPPIST-1e\",\"TRAPPIST-1e\",\"PSO J318.5-22\",\"TRAPPIST-1e\",\"TRAPPIST-1e\",\"PSO J318.5-22\",\"TRAPPIST-1e\",\"TRAPPIST-1e\",\"PSO J318.5-22\",\"55 Cancri e\",\"TRAPPIST-1e\",\"TRAPPIST-1e\",\"TRAPPIST-1e\",\"TRAPPIST-1e\",\"TRAPPIST-1e\",\"TRAPPIST-1e\",\"TRAPPIST-1e\",\"TRAPPIST-1e\",\"55 Cancri e\",\"TRAPPIST-1e\",\"TRAPPIST-1e\",\"TRAPPIST-1e\",\"55 Cancri e\",\"TRAPPIST-1e\",\"TRAPPIST-1e\",\"TRAPPIST-1e\",\"TRAPPIST-1e\",\"55 Cancri e\",\"TRAPPIST-1e\",\"PSO J318.5-22\",\"TRAPPIST-1e\",\"TRAPPIST-1e\",\"TRAPPIST-1e\",\"TRAPPIST-1e\",\"55 Cancri e\",\"TRAPPIST-1e\",\"PSO J318.5-22\",\"TRAPPIST-1e\",\"TRAPPIST-1e\",\"TRAPPIST-1e\",\"TRAPPIST-1e\",\"55 Cancri e\",\"55 Cancri e\",\"TRAPPIST-1e\",\"TRAPPIST-1e\",\"TRAPPIST-1e\",\"TRAPPIST-1e\",\"TRAPPIST-1e\",\"TRAPPIST-1e\",\"TRAPPIST-1e\",\"55 Cancri e\",\"TRAPPIST-1e\",\"55 Cancri e\",\"TRAPPIST-1e\",\"TRAPPIST-1e\",\"TRAPPIST-1e\",\"TRAPPIST-1e\",\"TRAPPIST-1e\",\"TRAPPIST-1e\",\"TRAPPIST-1e\",\"55 Cancri e\",\"TRAPPIST-1e\",\"TRAPPIST-1e\",\"55 Cancri e\",\"TRAPPIST-1e\",\"TRAPPIST-1e\",\"TRAPPIST-1e\",\"55 Cancri e\",\"55 Cancri e\",\"TRAPPIST-1e\",\"TRAPPIST-1e\",\"TRAPPIST-1e\",\"TRAPPIST-1e\",\"PSO J318.5-22\",\"TRAPPIST-1e\",\"55 Cancri e\",\"55 Cancri e\",\"TRAPPIST-1e\",\"TRAPPIST-1e\",\"TRAPPIST-1e\",\"PSO J318.5-22\",\"TRAPPIST-1e\",\"TRAPPIST-1e\",\"TRAPPIST-1e\",\"PSO J318.5-22\",\"PSO J318.5-22\",\"TRAPPIST-1e\",\"TRAPPIST-1e\",\"55 Cancri e\",\"TRAPPIST-1e\",\"PSO J318.5-22\",\"TRAPPIST-1e\",\"55 Cancri e\",\"55 Cancri e\",\"TRAPPIST-1e\",\"PSO J318.5-22\",\"TRAPPIST-1e\",\"TRAPPIST-1e\",\"TRAPPIST-1e\",\"TRAPPIST-1e\",\"TRAPPIST-1e\",\"TRAPPIST-1e\",\"TRAPPIST-1e\",\"TRAPPIST-1e\",\"TRAPPIST-1e\",\"PSO J318.5-22\",\"TRAPPIST-1e\",\"TRAPPIST-1e\",\"55 Cancri e\",\"TRAPPIST-1e\",\"PSO J318.5-22\",\"TRAPPIST-1e\",\"PSO J318.5-22\",\"TRAPPIST-1e\",\"55 Cancri e\",\"TRAPPIST-1e\",\"TRAPPIST-1e\",\"TRAPPIST-1e\",\"TRAPPIST-1e\",\"TRAPPIST-1e\",\"TRAPPIST-1e\",\"TRAPPIST-1e\",\"TRAPPIST-1e\",\"TRAPPIST-1e\",\"TRAPPIST-1e\",\"55 Cancri e\",\"TRAPPIST-1e\",\"TRAPPIST-1e\",\"TRAPPIST-1e\",\"TRAPPIST-1e\",\"TRAPPIST-1e\",\"55 Cancri e\",\"TRAPPIST-1e\",\"TRAPPIST-1e\",\"TRAPPIST-1e\",\"55 Cancri e\",\"TRAPPIST-1e\",\"TRAPPIST-1e\",\"PSO J318.5-22\",\"TRAPPIST-1e\",\"TRAPPIST-1e\",\"PSO J318.5-22\",\"TRAPPIST-1e\",\"55 Cancri e\",\"TRAPPIST-1e\",\"TRAPPIST-1e\",\"PSO J318.5-22\",\"PSO J318.5-22\",\"55 Cancri e\",\"TRAPPIST-1e\",\"TRAPPIST-1e\",null,\"55 Cancri e\",\"TRAPPIST-1e\",\"TRAPPIST-1e\",\"TRAPPIST-1e\",\"55 Cancri e\",\"TRAPPIST-1e\",\"TRAPPIST-1e\",\"TRAPPIST-1e\",\"TRAPPIST-1e\",null,\"TRAPPIST-1e\",\"TRAPPIST-1e\",\"TRAPPIST-1e\",\"TRAPPIST-1e\",\"TRAPPIST-1e\",\"TRAPPIST-1e\",\"TRAPPIST-1e\",\"TRAPPIST-1e\",\"PSO J318.5-22\",\"TRAPPIST-1e\",\"PSO J318.5-22\",\"TRAPPIST-1e\",\"TRAPPIST-1e\",\"55 Cancri e\",\"PSO J318.5-22\",\"55 Cancri e\"],\"xaxis\":\"x\",\"yaxis\":\"y\",\"type\":\"histogram\"},{\"alignmentgroup\":\"True\",\"bingroup\":\"x\",\"hovertemplate\":\"Transported=True<br>Destination=%{x}<br>count=%{y}<extra></extra>\",\"legendgroup\":\"True\",\"marker\":{\"color\":\"#EF553B\",\"pattern\":{\"shape\":\"\"}},\"name\":\"True\",\"offsetgroup\":\"True\",\"orientation\":\"v\",\"showlegend\":true,\"x\":[\"TRAPPIST-1e\",\"TRAPPIST-1e\",\"PSO J318.5-22\",\"TRAPPIST-1e\",\"TRAPPIST-1e\",\"TRAPPIST-1e\",\"55 Cancri e\",\"TRAPPIST-1e\",\"55 Cancri e\",\"TRAPPIST-1e\",\"TRAPPIST-1e\",\"TRAPPIST-1e\",\"TRAPPIST-1e\",\"TRAPPIST-1e\",\"TRAPPIST-1e\",\"TRAPPIST-1e\",\"TRAPPIST-1e\",\"TRAPPIST-1e\",\"55 Cancri e\",\"TRAPPIST-1e\",\"55 Cancri e\",\"PSO J318.5-22\",null,\"TRAPPIST-1e\",\"TRAPPIST-1e\",\"TRAPPIST-1e\",\"TRAPPIST-1e\",\"TRAPPIST-1e\",\"TRAPPIST-1e\",\"PSO J318.5-22\",\"TRAPPIST-1e\",\"TRAPPIST-1e\",\"TRAPPIST-1e\",\"TRAPPIST-1e\",\"TRAPPIST-1e\",\"TRAPPIST-1e\",\"TRAPPIST-1e\",\"TRAPPIST-1e\",\"TRAPPIST-1e\",\"PSO J318.5-22\",\"TRAPPIST-1e\",\"TRAPPIST-1e\",\"TRAPPIST-1e\",\"TRAPPIST-1e\",\"TRAPPIST-1e\",\"TRAPPIST-1e\",\"TRAPPIST-1e\",\"TRAPPIST-1e\",\"55 Cancri e\",\"TRAPPIST-1e\",\"TRAPPIST-1e\",\"TRAPPIST-1e\",\"TRAPPIST-1e\",\"55 Cancri e\",\"TRAPPIST-1e\",\"TRAPPIST-1e\",\"TRAPPIST-1e\",\"TRAPPIST-1e\",\"TRAPPIST-1e\",\"TRAPPIST-1e\",\"PSO J318.5-22\",\"TRAPPIST-1e\",\"TRAPPIST-1e\",\"TRAPPIST-1e\",\"55 Cancri e\",\"TRAPPIST-1e\",\"TRAPPIST-1e\",\"TRAPPIST-1e\",\"55 Cancri e\",\"TRAPPIST-1e\",\"TRAPPIST-1e\",\"TRAPPIST-1e\",\"TRAPPIST-1e\",\"TRAPPIST-1e\",\"PSO J318.5-22\",\"TRAPPIST-1e\",\"TRAPPIST-1e\",\"TRAPPIST-1e\",\"TRAPPIST-1e\",\"TRAPPIST-1e\",\"TRAPPIST-1e\",\"TRAPPIST-1e\",\"TRAPPIST-1e\",\"TRAPPIST-1e\",\"TRAPPIST-1e\",\"TRAPPIST-1e\",\"PSO J318.5-22\",\"TRAPPIST-1e\",\"TRAPPIST-1e\",\"TRAPPIST-1e\",\"55 Cancri e\",\"55 Cancri e\",\"TRAPPIST-1e\",\"55 Cancri e\",\"55 Cancri e\",\"TRAPPIST-1e\",\"TRAPPIST-1e\",\"TRAPPIST-1e\",\"TRAPPIST-1e\",\"TRAPPIST-1e\",\"TRAPPIST-1e\",\"TRAPPIST-1e\",\"TRAPPIST-1e\",\"TRAPPIST-1e\",\"PSO J318.5-22\",\"TRAPPIST-1e\",\"TRAPPIST-1e\",\"TRAPPIST-1e\",\"55 Cancri e\",\"55 Cancri e\",\"55 Cancri e\",\"TRAPPIST-1e\",\"TRAPPIST-1e\",\"TRAPPIST-1e\",\"TRAPPIST-1e\",\"TRAPPIST-1e\",\"55 Cancri e\",\"55 Cancri e\",\"55 Cancri e\",\"TRAPPIST-1e\",\"TRAPPIST-1e\",\"PSO J318.5-22\",\"TRAPPIST-1e\",\"TRAPPIST-1e\",\"55 Cancri e\",\"55 Cancri e\",\"55 Cancri e\",\"55 Cancri e\",\"TRAPPIST-1e\",\"TRAPPIST-1e\",\"55 Cancri e\",\"TRAPPIST-1e\",\"TRAPPIST-1e\",\"TRAPPIST-1e\",\"55 Cancri e\",\"TRAPPIST-1e\",\"TRAPPIST-1e\",\"PSO J318.5-22\",\"55 Cancri e\",\"55 Cancri e\",\"55 Cancri e\",\"PSO J318.5-22\",\"TRAPPIST-1e\",\"TRAPPIST-1e\",\"TRAPPIST-1e\",\"TRAPPIST-1e\",\"TRAPPIST-1e\",\"55 Cancri e\",\"55 Cancri e\",\"TRAPPIST-1e\",\"55 Cancri e\",\"TRAPPIST-1e\",\"55 Cancri e\",\"55 Cancri e\",\"TRAPPIST-1e\",\"TRAPPIST-1e\",\"PSO J318.5-22\",\"TRAPPIST-1e\",\"55 Cancri e\",\"TRAPPIST-1e\",\"PSO J318.5-22\",\"55 Cancri e\",\"TRAPPIST-1e\",\"TRAPPIST-1e\",\"TRAPPIST-1e\",\"TRAPPIST-1e\",\"55 Cancri e\",\"TRAPPIST-1e\",\"TRAPPIST-1e\",\"TRAPPIST-1e\",\"TRAPPIST-1e\",\"55 Cancri e\",\"55 Cancri e\",\"55 Cancri e\",\"55 Cancri e\",\"TRAPPIST-1e\",\"PSO J318.5-22\",\"TRAPPIST-1e\",\"TRAPPIST-1e\",\"55 Cancri e\",\"TRAPPIST-1e\",\"TRAPPIST-1e\",\"55 Cancri e\",\"TRAPPIST-1e\",\"TRAPPIST-1e\",\"TRAPPIST-1e\",\"TRAPPIST-1e\",\"TRAPPIST-1e\",\"TRAPPIST-1e\",\"55 Cancri e\",\"55 Cancri e\",\"TRAPPIST-1e\",\"TRAPPIST-1e\",\"55 Cancri e\",\"TRAPPIST-1e\",\"TRAPPIST-1e\",\"55 Cancri e\",\"TRAPPIST-1e\",\"55 Cancri e\",\"TRAPPIST-1e\",\"PSO J318.5-22\",\"TRAPPIST-1e\",\"TRAPPIST-1e\",\"TRAPPIST-1e\",\"55 Cancri e\",\"TRAPPIST-1e\",\"55 Cancri e\",\"TRAPPIST-1e\",\"TRAPPIST-1e\",\"PSO J318.5-22\",\"55 Cancri e\",\"PSO J318.5-22\",\"PSO J318.5-22\",\"TRAPPIST-1e\",\"55 Cancri e\",\"TRAPPIST-1e\",\"55 Cancri e\",\"TRAPPIST-1e\",\"55 Cancri e\",\"55 Cancri e\",\"TRAPPIST-1e\",\"TRAPPIST-1e\",\"TRAPPIST-1e\",\"TRAPPIST-1e\",\"55 Cancri e\",\"55 Cancri e\",\"55 Cancri e\",\"55 Cancri e\",\"TRAPPIST-1e\",\"55 Cancri e\",\"55 Cancri e\",null,\"55 Cancri e\",\"55 Cancri e\",\"TRAPPIST-1e\",\"TRAPPIST-1e\",\"TRAPPIST-1e\",\"55 Cancri e\",\"TRAPPIST-1e\",\"PSO J318.5-22\",\"TRAPPIST-1e\",\"TRAPPIST-1e\",\"TRAPPIST-1e\",\"TRAPPIST-1e\",\"TRAPPIST-1e\",\"TRAPPIST-1e\",\"TRAPPIST-1e\",\"55 Cancri e\",\"TRAPPIST-1e\",\"TRAPPIST-1e\",\"55 Cancri e\",\"55 Cancri e\",\"TRAPPIST-1e\",\"TRAPPIST-1e\",\"TRAPPIST-1e\",\"PSO J318.5-22\",\"TRAPPIST-1e\",\"TRAPPIST-1e\",\"55 Cancri e\",\"TRAPPIST-1e\",\"TRAPPIST-1e\",\"55 Cancri e\",\"TRAPPIST-1e\",\"PSO J318.5-22\",\"TRAPPIST-1e\",\"55 Cancri e\",\"TRAPPIST-1e\",\"TRAPPIST-1e\",\"TRAPPIST-1e\",\"55 Cancri e\",\"TRAPPIST-1e\",\"TRAPPIST-1e\",\"55 Cancri e\",\"TRAPPIST-1e\",null,\"55 Cancri e\",\"TRAPPIST-1e\",\"TRAPPIST-1e\",\"TRAPPIST-1e\",\"TRAPPIST-1e\",\"TRAPPIST-1e\",\"TRAPPIST-1e\",\"TRAPPIST-1e\",\"TRAPPIST-1e\",\"TRAPPIST-1e\",\"TRAPPIST-1e\",\"TRAPPIST-1e\",\"TRAPPIST-1e\",null,\"TRAPPIST-1e\",\"TRAPPIST-1e\",\"TRAPPIST-1e\",\"TRAPPIST-1e\",\"TRAPPIST-1e\",\"TRAPPIST-1e\",\"TRAPPIST-1e\",\"PSO J318.5-22\",\"TRAPPIST-1e\",\"TRAPPIST-1e\",\"TRAPPIST-1e\",\"55 Cancri e\",\"55 Cancri e\",\"TRAPPIST-1e\",\"55 Cancri e\",\"TRAPPIST-1e\",\"TRAPPIST-1e\",\"TRAPPIST-1e\",\"TRAPPIST-1e\",\"TRAPPIST-1e\",\"55 Cancri e\",\"TRAPPIST-1e\",\"55 Cancri e\",\"55 Cancri e\",\"55 Cancri e\",\"55 Cancri e\",\"TRAPPIST-1e\",\"TRAPPIST-1e\",\"55 Cancri e\",\"TRAPPIST-1e\",\"TRAPPIST-1e\",\"PSO J318.5-22\",\"TRAPPIST-1e\",\"TRAPPIST-1e\",\"TRAPPIST-1e\",\"TRAPPIST-1e\",\"TRAPPIST-1e\",\"TRAPPIST-1e\",\"PSO J318.5-22\",\"TRAPPIST-1e\",\"TRAPPIST-1e\",\"TRAPPIST-1e\",\"TRAPPIST-1e\",\"TRAPPIST-1e\",\"TRAPPIST-1e\",\"TRAPPIST-1e\",\"TRAPPIST-1e\",\"55 Cancri e\",\"TRAPPIST-1e\",\"55 Cancri e\",null,\"TRAPPIST-1e\",\"TRAPPIST-1e\",\"TRAPPIST-1e\",\"55 Cancri e\",\"TRAPPIST-1e\",\"55 Cancri e\",\"55 Cancri e\",\"55 Cancri e\",\"TRAPPIST-1e\",\"PSO J318.5-22\",null,\"55 Cancri e\",\"55 Cancri e\",\"55 Cancri e\",\"TRAPPIST-1e\",\"55 Cancri e\",\"TRAPPIST-1e\",\"TRAPPIST-1e\",\"55 Cancri e\",\"TRAPPIST-1e\",null,\"55 Cancri e\",\"55 Cancri e\",\"55 Cancri e\",\"TRAPPIST-1e\",null,\"PSO J318.5-22\",\"TRAPPIST-1e\",\"55 Cancri e\",\"55 Cancri e\",\"PSO J318.5-22\",\"55 Cancri e\",\"TRAPPIST-1e\",\"55 Cancri e\",\"TRAPPIST-1e\",\"TRAPPIST-1e\",\"55 Cancri e\",\"TRAPPIST-1e\",\"TRAPPIST-1e\",\"PSO J318.5-22\",\"55 Cancri e\",\"55 Cancri e\",\"55 Cancri e\",\"PSO J318.5-22\",\"TRAPPIST-1e\",\"55 Cancri e\",\"TRAPPIST-1e\",\"TRAPPIST-1e\",\"TRAPPIST-1e\",\"TRAPPIST-1e\",\"TRAPPIST-1e\",\"TRAPPIST-1e\",\"TRAPPIST-1e\",\"PSO J318.5-22\",\"55 Cancri e\",\"TRAPPIST-1e\",\"55 Cancri e\",\"55 Cancri e\",\"TRAPPIST-1e\",\"TRAPPIST-1e\",\"TRAPPIST-1e\",\"PSO J318.5-22\",\"TRAPPIST-1e\",\"55 Cancri e\",\"TRAPPIST-1e\",\"TRAPPIST-1e\",\"TRAPPIST-1e\",\"55 Cancri e\",\"TRAPPIST-1e\",\"55 Cancri e\",\"TRAPPIST-1e\",\"55 Cancri e\",\"55 Cancri e\",\"TRAPPIST-1e\",\"TRAPPIST-1e\",\"55 Cancri e\",\"55 Cancri e\",\"55 Cancri e\",\"55 Cancri e\",\"TRAPPIST-1e\",\"TRAPPIST-1e\",\"TRAPPIST-1e\",\"55 Cancri e\",\"TRAPPIST-1e\",\"TRAPPIST-1e\",\"TRAPPIST-1e\",\"55 Cancri e\",\"55 Cancri e\",\"TRAPPIST-1e\",\"TRAPPIST-1e\",\"TRAPPIST-1e\",\"55 Cancri e\",\"PSO J318.5-22\",\"TRAPPIST-1e\",\"TRAPPIST-1e\",\"TRAPPIST-1e\",\"TRAPPIST-1e\",\"TRAPPIST-1e\",\"TRAPPIST-1e\",null,\"TRAPPIST-1e\",\"TRAPPIST-1e\",\"55 Cancri e\",\"PSO J318.5-22\",\"TRAPPIST-1e\",\"TRAPPIST-1e\",\"55 Cancri e\",\"TRAPPIST-1e\",\"TRAPPIST-1e\",\"TRAPPIST-1e\",\"TRAPPIST-1e\",\"55 Cancri e\",null,\"PSO J318.5-22\",\"55 Cancri e\",\"TRAPPIST-1e\",\"TRAPPIST-1e\",\"TRAPPIST-1e\",\"55 Cancri e\",\"TRAPPIST-1e\",\"TRAPPIST-1e\",\"55 Cancri e\",\"55 Cancri e\",\"55 Cancri e\",\"TRAPPIST-1e\",\"55 Cancri e\",\"TRAPPIST-1e\",\"55 Cancri e\",\"TRAPPIST-1e\",\"TRAPPIST-1e\",\"55 Cancri e\",\"TRAPPIST-1e\",\"TRAPPIST-1e\",\"TRAPPIST-1e\",\"TRAPPIST-1e\",null,\"TRAPPIST-1e\",\"TRAPPIST-1e\",\"TRAPPIST-1e\",\"55 Cancri e\",\"TRAPPIST-1e\",\"TRAPPIST-1e\",\"55 Cancri e\",\"PSO J318.5-22\",\"PSO J318.5-22\",\"TRAPPIST-1e\",\"TRAPPIST-1e\",\"TRAPPIST-1e\",\"55 Cancri e\",\"TRAPPIST-1e\",\"TRAPPIST-1e\",\"TRAPPIST-1e\",\"55 Cancri e\",\"55 Cancri e\",\"TRAPPIST-1e\",\"TRAPPIST-1e\",\"TRAPPIST-1e\",\"TRAPPIST-1e\",\"TRAPPIST-1e\",\"TRAPPIST-1e\",\"TRAPPIST-1e\",\"TRAPPIST-1e\",\"TRAPPIST-1e\",\"TRAPPIST-1e\",null,\"TRAPPIST-1e\",\"55 Cancri e\",\"TRAPPIST-1e\",\"TRAPPIST-1e\",\"TRAPPIST-1e\",\"TRAPPIST-1e\",\"TRAPPIST-1e\",\"TRAPPIST-1e\",\"55 Cancri e\",\"55 Cancri e\",\"TRAPPIST-1e\",\"TRAPPIST-1e\",\"TRAPPIST-1e\",\"TRAPPIST-1e\",\"TRAPPIST-1e\",\"PSO J318.5-22\",\"55 Cancri e\",\"55 Cancri e\",\"TRAPPIST-1e\",\"55 Cancri e\",\"TRAPPIST-1e\",\"TRAPPIST-1e\",\"TRAPPIST-1e\",\"55 Cancri e\",\"TRAPPIST-1e\",\"TRAPPIST-1e\",\"TRAPPIST-1e\",\"TRAPPIST-1e\",\"55 Cancri e\",\"55 Cancri e\",null,\"TRAPPIST-1e\",\"55 Cancri e\",\"TRAPPIST-1e\",\"TRAPPIST-1e\",\"TRAPPIST-1e\",\"55 Cancri e\",\"TRAPPIST-1e\",\"TRAPPIST-1e\",\"55 Cancri e\",\"TRAPPIST-1e\",\"55 Cancri e\",\"TRAPPIST-1e\",\"TRAPPIST-1e\",\"TRAPPIST-1e\",\"PSO J318.5-22\",\"TRAPPIST-1e\",\"TRAPPIST-1e\",\"TRAPPIST-1e\",\"TRAPPIST-1e\",\"55 Cancri e\",\"TRAPPIST-1e\",\"TRAPPIST-1e\",\"TRAPPIST-1e\",\"TRAPPIST-1e\",\"TRAPPIST-1e\",\"TRAPPIST-1e\",\"55 Cancri e\",\"55 Cancri e\",\"TRAPPIST-1e\",\"TRAPPIST-1e\",\"TRAPPIST-1e\",\"55 Cancri e\",\"55 Cancri e\",\"TRAPPIST-1e\",\"55 Cancri e\",\"TRAPPIST-1e\",\"TRAPPIST-1e\",\"55 Cancri e\",\"TRAPPIST-1e\",\"TRAPPIST-1e\",\"TRAPPIST-1e\",\"TRAPPIST-1e\",\"TRAPPIST-1e\",\"PSO J318.5-22\",\"PSO J318.5-22\",\"TRAPPIST-1e\",\"TRAPPIST-1e\",\"TRAPPIST-1e\",\"PSO J318.5-22\",\"TRAPPIST-1e\",\"55 Cancri e\",\"PSO J318.5-22\",\"TRAPPIST-1e\",\"TRAPPIST-1e\",\"PSO J318.5-22\",\"PSO J318.5-22\",\"55 Cancri e\",\"PSO J318.5-22\",null,\"TRAPPIST-1e\",\"TRAPPIST-1e\",\"55 Cancri e\",\"55 Cancri e\",\"TRAPPIST-1e\",\"TRAPPIST-1e\",\"PSO J318.5-22\",\"TRAPPIST-1e\",\"55 Cancri e\",\"55 Cancri e\",\"TRAPPIST-1e\",\"PSO J318.5-22\",\"TRAPPIST-1e\",\"55 Cancri e\",\"55 Cancri e\",\"55 Cancri e\",\"TRAPPIST-1e\",null,\"55 Cancri e\",\"TRAPPIST-1e\",\"TRAPPIST-1e\",\"55 Cancri e\",\"TRAPPIST-1e\",\"TRAPPIST-1e\",\"TRAPPIST-1e\",\"TRAPPIST-1e\",\"PSO J318.5-22\",\"TRAPPIST-1e\",\"TRAPPIST-1e\",\"TRAPPIST-1e\",\"55 Cancri e\",\"TRAPPIST-1e\",\"TRAPPIST-1e\",\"TRAPPIST-1e\",\"PSO J318.5-22\",\"TRAPPIST-1e\",\"TRAPPIST-1e\",\"TRAPPIST-1e\",\"55 Cancri e\",\"TRAPPIST-1e\",\"TRAPPIST-1e\",\"PSO J318.5-22\",\"TRAPPIST-1e\",\"TRAPPIST-1e\",\"TRAPPIST-1e\",null,\"TRAPPIST-1e\",\"55 Cancri e\",\"PSO J318.5-22\",\"TRAPPIST-1e\",\"TRAPPIST-1e\",\"TRAPPIST-1e\",\"55 Cancri e\",\"PSO J318.5-22\",\"55 Cancri e\",\"PSO J318.5-22\",\"55 Cancri e\",\"TRAPPIST-1e\",\"TRAPPIST-1e\",\"55 Cancri e\",\"TRAPPIST-1e\",\"TRAPPIST-1e\",\"55 Cancri e\",\"TRAPPIST-1e\",\"TRAPPIST-1e\",\"TRAPPIST-1e\",\"55 Cancri e\",null,\"TRAPPIST-1e\",\"TRAPPIST-1e\",\"PSO J318.5-22\",\"TRAPPIST-1e\",\"TRAPPIST-1e\",\"PSO J318.5-22\",\"55 Cancri e\",\"TRAPPIST-1e\",\"TRAPPIST-1e\",\"55 Cancri e\",\"TRAPPIST-1e\",\"55 Cancri e\",\"TRAPPIST-1e\",\"55 Cancri e\",\"TRAPPIST-1e\",null,\"PSO J318.5-22\",\"TRAPPIST-1e\",\"TRAPPIST-1e\",\"TRAPPIST-1e\",\"TRAPPIST-1e\",\"TRAPPIST-1e\",\"55 Cancri e\",\"TRAPPIST-1e\",\"55 Cancri e\",\"55 Cancri e\",\"TRAPPIST-1e\",\"TRAPPIST-1e\",null,\"TRAPPIST-1e\",\"TRAPPIST-1e\",\"TRAPPIST-1e\",\"TRAPPIST-1e\",\"TRAPPIST-1e\",\"55 Cancri e\",\"TRAPPIST-1e\",\"TRAPPIST-1e\",\"TRAPPIST-1e\",\"55 Cancri e\",\"TRAPPIST-1e\",\"55 Cancri e\",\"PSO J318.5-22\",\"TRAPPIST-1e\",\"TRAPPIST-1e\",\"55 Cancri e\",\"TRAPPIST-1e\",\"TRAPPIST-1e\",\"55 Cancri e\",\"TRAPPIST-1e\",\"55 Cancri e\",\"TRAPPIST-1e\",\"TRAPPIST-1e\",\"TRAPPIST-1e\",\"PSO J318.5-22\",\"TRAPPIST-1e\",null,\"55 Cancri e\",\"TRAPPIST-1e\",\"TRAPPIST-1e\",\"TRAPPIST-1e\",\"TRAPPIST-1e\",\"55 Cancri e\",\"TRAPPIST-1e\",\"TRAPPIST-1e\",\"55 Cancri e\",\"TRAPPIST-1e\",\"55 Cancri e\",\"TRAPPIST-1e\",\"TRAPPIST-1e\",\"TRAPPIST-1e\",\"55 Cancri e\",\"TRAPPIST-1e\",\"55 Cancri e\",\"TRAPPIST-1e\",\"TRAPPIST-1e\",\"TRAPPIST-1e\",\"TRAPPIST-1e\",\"TRAPPIST-1e\",\"TRAPPIST-1e\",\"TRAPPIST-1e\",\"55 Cancri e\",\"TRAPPIST-1e\",\"PSO J318.5-22\",\"55 Cancri e\",\"TRAPPIST-1e\",\"55 Cancri e\",\"TRAPPIST-1e\",\"PSO J318.5-22\",\"TRAPPIST-1e\",\"TRAPPIST-1e\",\"TRAPPIST-1e\",\"TRAPPIST-1e\",\"TRAPPIST-1e\",\"TRAPPIST-1e\",\"55 Cancri e\",\"55 Cancri e\",\"PSO J318.5-22\",\"TRAPPIST-1e\",\"TRAPPIST-1e\",\"TRAPPIST-1e\",\"PSO J318.5-22\",\"TRAPPIST-1e\",\"TRAPPIST-1e\",\"TRAPPIST-1e\",\"TRAPPIST-1e\",\"TRAPPIST-1e\",\"PSO J318.5-22\",\"PSO J318.5-22\",\"55 Cancri e\",\"TRAPPIST-1e\",\"55 Cancri e\",\"TRAPPIST-1e\",\"TRAPPIST-1e\",\"PSO J318.5-22\",\"TRAPPIST-1e\",\"TRAPPIST-1e\",\"55 Cancri e\",null,\"TRAPPIST-1e\",\"55 Cancri e\",\"PSO J318.5-22\",\"55 Cancri e\",\"TRAPPIST-1e\",\"55 Cancri e\",\"PSO J318.5-22\",\"TRAPPIST-1e\",\"55 Cancri e\",\"TRAPPIST-1e\",\"55 Cancri e\",\"TRAPPIST-1e\",\"PSO J318.5-22\",\"TRAPPIST-1e\",\"TRAPPIST-1e\",\"55 Cancri e\",\"TRAPPIST-1e\",\"TRAPPIST-1e\",\"TRAPPIST-1e\",\"TRAPPIST-1e\",\"55 Cancri e\",\"TRAPPIST-1e\",\"TRAPPIST-1e\",\"TRAPPIST-1e\",\"55 Cancri e\",\"55 Cancri e\",\"TRAPPIST-1e\",\"55 Cancri e\",\"55 Cancri e\",\"TRAPPIST-1e\",\"TRAPPIST-1e\",\"TRAPPIST-1e\",\"TRAPPIST-1e\",\"PSO J318.5-22\",\"TRAPPIST-1e\",\"TRAPPIST-1e\",\"TRAPPIST-1e\",\"TRAPPIST-1e\",\"TRAPPIST-1e\",\"TRAPPIST-1e\",null,\"55 Cancri e\",\"TRAPPIST-1e\",\"TRAPPIST-1e\",\"TRAPPIST-1e\",\"55 Cancri e\",null,\"TRAPPIST-1e\",\"TRAPPIST-1e\",\"TRAPPIST-1e\",\"TRAPPIST-1e\",\"55 Cancri e\",\"TRAPPIST-1e\",\"TRAPPIST-1e\",null,\"TRAPPIST-1e\",\"55 Cancri e\",\"TRAPPIST-1e\",\"TRAPPIST-1e\",\"TRAPPIST-1e\",\"TRAPPIST-1e\",\"TRAPPIST-1e\",\"55 Cancri e\",\"55 Cancri e\",\"TRAPPIST-1e\",\"TRAPPIST-1e\",\"TRAPPIST-1e\",\"55 Cancri e\",\"TRAPPIST-1e\",\"55 Cancri e\",\"55 Cancri e\",\"TRAPPIST-1e\",\"TRAPPIST-1e\",\"TRAPPIST-1e\",\"TRAPPIST-1e\",\"55 Cancri e\",\"PSO J318.5-22\",\"55 Cancri e\",\"TRAPPIST-1e\",\"TRAPPIST-1e\",\"PSO J318.5-22\",\"TRAPPIST-1e\",\"55 Cancri e\",\"TRAPPIST-1e\",\"PSO J318.5-22\",\"TRAPPIST-1e\",\"TRAPPIST-1e\",\"TRAPPIST-1e\",\"PSO J318.5-22\",\"55 Cancri e\",\"55 Cancri e\",\"55 Cancri e\",\"TRAPPIST-1e\",\"55 Cancri e\",\"55 Cancri e\",\"TRAPPIST-1e\",\"TRAPPIST-1e\",\"TRAPPIST-1e\",\"TRAPPIST-1e\",\"TRAPPIST-1e\",\"TRAPPIST-1e\",\"55 Cancri e\",\"55 Cancri e\",\"TRAPPIST-1e\",\"TRAPPIST-1e\",\"TRAPPIST-1e\",\"TRAPPIST-1e\",\"55 Cancri e\",\"55 Cancri e\",\"TRAPPIST-1e\",\"55 Cancri e\",\"PSO J318.5-22\",\"TRAPPIST-1e\",\"55 Cancri e\",\"TRAPPIST-1e\",\"55 Cancri e\",\"TRAPPIST-1e\",\"PSO J318.5-22\",\"55 Cancri e\",\"TRAPPIST-1e\",\"TRAPPIST-1e\",\"TRAPPIST-1e\",\"TRAPPIST-1e\",\"TRAPPIST-1e\",\"TRAPPIST-1e\",\"55 Cancri e\",\"TRAPPIST-1e\",\"TRAPPIST-1e\",\"PSO J318.5-22\",\"TRAPPIST-1e\",\"TRAPPIST-1e\",\"TRAPPIST-1e\",\"PSO J318.5-22\",\"TRAPPIST-1e\",\"TRAPPIST-1e\",\"TRAPPIST-1e\",\"TRAPPIST-1e\",\"TRAPPIST-1e\",\"55 Cancri e\",\"TRAPPIST-1e\",\"PSO J318.5-22\",\"TRAPPIST-1e\",\"TRAPPIST-1e\",\"TRAPPIST-1e\",\"TRAPPIST-1e\",\"TRAPPIST-1e\",\"TRAPPIST-1e\",\"TRAPPIST-1e\",\"TRAPPIST-1e\",\"55 Cancri e\",null,\"PSO J318.5-22\",\"55 Cancri e\",\"TRAPPIST-1e\",\"TRAPPIST-1e\",\"PSO J318.5-22\",\"TRAPPIST-1e\",\"TRAPPIST-1e\",\"TRAPPIST-1e\",\"55 Cancri e\",\"55 Cancri e\",\"55 Cancri e\",\"TRAPPIST-1e\",\"TRAPPIST-1e\",\"55 Cancri e\",\"TRAPPIST-1e\",\"TRAPPIST-1e\",\"TRAPPIST-1e\",\"TRAPPIST-1e\",\"TRAPPIST-1e\",\"TRAPPIST-1e\",\"PSO J318.5-22\",\"TRAPPIST-1e\",\"TRAPPIST-1e\",\"TRAPPIST-1e\",\"PSO J318.5-22\",\"PSO J318.5-22\",\"55 Cancri e\",\"TRAPPIST-1e\",\"TRAPPIST-1e\",\"TRAPPIST-1e\",\"55 Cancri e\",\"TRAPPIST-1e\",\"55 Cancri e\",\"55 Cancri e\",\"55 Cancri e\",\"TRAPPIST-1e\",\"55 Cancri e\",\"TRAPPIST-1e\",\"TRAPPIST-1e\",\"55 Cancri e\",\"TRAPPIST-1e\",\"PSO J318.5-22\",\"TRAPPIST-1e\",\"55 Cancri e\",\"55 Cancri e\",\"55 Cancri e\",\"55 Cancri e\",\"TRAPPIST-1e\",\"55 Cancri e\",\"PSO J318.5-22\",\"TRAPPIST-1e\",\"55 Cancri e\",\"TRAPPIST-1e\",\"TRAPPIST-1e\",\"TRAPPIST-1e\",\"55 Cancri e\",\"TRAPPIST-1e\",\"TRAPPIST-1e\",\"TRAPPIST-1e\",\"TRAPPIST-1e\",\"TRAPPIST-1e\",\"TRAPPIST-1e\",\"TRAPPIST-1e\",\"55 Cancri e\",\"TRAPPIST-1e\",\"55 Cancri e\",\"55 Cancri e\",\"55 Cancri e\",\"TRAPPIST-1e\",\"TRAPPIST-1e\",\"TRAPPIST-1e\",\"TRAPPIST-1e\",\"55 Cancri e\",\"TRAPPIST-1e\",\"TRAPPIST-1e\",\"55 Cancri e\",\"55 Cancri e\",\"TRAPPIST-1e\",\"TRAPPIST-1e\",\"55 Cancri e\",\"TRAPPIST-1e\",\"TRAPPIST-1e\",\"55 Cancri e\",\"PSO J318.5-22\",\"PSO J318.5-22\",\"TRAPPIST-1e\",\"TRAPPIST-1e\",\"55 Cancri e\",\"55 Cancri e\",\"TRAPPIST-1e\",\"TRAPPIST-1e\",\"PSO J318.5-22\",\"55 Cancri e\",\"TRAPPIST-1e\",\"TRAPPIST-1e\",\"TRAPPIST-1e\",\"TRAPPIST-1e\",null,\"TRAPPIST-1e\",\"TRAPPIST-1e\",\"TRAPPIST-1e\",\"TRAPPIST-1e\",\"55 Cancri e\",\"PSO J318.5-22\",\"55 Cancri e\",\"TRAPPIST-1e\",\"TRAPPIST-1e\",\"TRAPPIST-1e\",\"TRAPPIST-1e\",\"PSO J318.5-22\",\"TRAPPIST-1e\",\"55 Cancri e\",\"TRAPPIST-1e\",\"TRAPPIST-1e\",\"TRAPPIST-1e\",\"TRAPPIST-1e\",\"TRAPPIST-1e\",\"TRAPPIST-1e\",\"PSO J318.5-22\",\"TRAPPIST-1e\",\"TRAPPIST-1e\",\"TRAPPIST-1e\",\"TRAPPIST-1e\",\"TRAPPIST-1e\",\"TRAPPIST-1e\",\"TRAPPIST-1e\",\"TRAPPIST-1e\",\"TRAPPIST-1e\",\"TRAPPIST-1e\",\"TRAPPIST-1e\",\"TRAPPIST-1e\",\"TRAPPIST-1e\",\"TRAPPIST-1e\",\"TRAPPIST-1e\",\"TRAPPIST-1e\",\"PSO J318.5-22\",\"TRAPPIST-1e\",\"TRAPPIST-1e\",\"55 Cancri e\",\"TRAPPIST-1e\",\"TRAPPIST-1e\",\"55 Cancri e\",\"TRAPPIST-1e\",\"55 Cancri e\",\"55 Cancri e\",\"TRAPPIST-1e\",\"TRAPPIST-1e\",\"55 Cancri e\",\"55 Cancri e\",\"TRAPPIST-1e\",\"55 Cancri e\",\"TRAPPIST-1e\",\"TRAPPIST-1e\",\"55 Cancri e\",\"55 Cancri e\",\"55 Cancri e\",\"PSO J318.5-22\",\"TRAPPIST-1e\",\"PSO J318.5-22\",\"TRAPPIST-1e\",\"55 Cancri e\",\"PSO J318.5-22\",\"55 Cancri e\",\"55 Cancri e\",\"TRAPPIST-1e\",\"TRAPPIST-1e\",\"TRAPPIST-1e\",\"55 Cancri e\",\"55 Cancri e\",\"TRAPPIST-1e\",\"55 Cancri e\",\"TRAPPIST-1e\",\"TRAPPIST-1e\",\"TRAPPIST-1e\",\"TRAPPIST-1e\",\"TRAPPIST-1e\",\"TRAPPIST-1e\",\"PSO J318.5-22\",\"TRAPPIST-1e\",\"TRAPPIST-1e\",\"TRAPPIST-1e\",\"TRAPPIST-1e\",\"55 Cancri e\",\"55 Cancri e\",\"55 Cancri e\",\"TRAPPIST-1e\",\"TRAPPIST-1e\",\"55 Cancri e\",\"TRAPPIST-1e\",\"PSO J318.5-22\",\"TRAPPIST-1e\",\"55 Cancri e\",\"TRAPPIST-1e\",\"TRAPPIST-1e\",\"TRAPPIST-1e\",\"TRAPPIST-1e\",\"TRAPPIST-1e\",\"55 Cancri e\",\"55 Cancri e\",\"TRAPPIST-1e\",\"TRAPPIST-1e\",\"55 Cancri e\",\"TRAPPIST-1e\",\"PSO J318.5-22\",\"TRAPPIST-1e\",\"TRAPPIST-1e\",\"55 Cancri e\",\"55 Cancri e\",\"TRAPPIST-1e\",\"TRAPPIST-1e\",\"TRAPPIST-1e\",\"TRAPPIST-1e\",\"55 Cancri e\",\"55 Cancri e\",\"55 Cancri e\",\"TRAPPIST-1e\",\"TRAPPIST-1e\",\"TRAPPIST-1e\",\"55 Cancri e\",\"PSO J318.5-22\",\"TRAPPIST-1e\",\"55 Cancri e\",\"TRAPPIST-1e\",\"TRAPPIST-1e\",\"TRAPPIST-1e\",\"55 Cancri e\",\"PSO J318.5-22\",\"TRAPPIST-1e\",\"55 Cancri e\",\"TRAPPIST-1e\",\"PSO J318.5-22\",\"PSO J318.5-22\",\"TRAPPIST-1e\",\"TRAPPIST-1e\",\"TRAPPIST-1e\",\"TRAPPIST-1e\",\"TRAPPIST-1e\",\"TRAPPIST-1e\",\"TRAPPIST-1e\",\"55 Cancri e\",\"TRAPPIST-1e\",\"TRAPPIST-1e\",\"55 Cancri e\",\"TRAPPIST-1e\",\"TRAPPIST-1e\",\"TRAPPIST-1e\",\"55 Cancri e\",\"TRAPPIST-1e\",\"55 Cancri e\",\"PSO J318.5-22\",\"TRAPPIST-1e\",\"TRAPPIST-1e\",\"55 Cancri e\",\"TRAPPIST-1e\",null,\"TRAPPIST-1e\",\"55 Cancri e\",\"PSO J318.5-22\",\"TRAPPIST-1e\",\"TRAPPIST-1e\",\"TRAPPIST-1e\",\"TRAPPIST-1e\",\"TRAPPIST-1e\",\"55 Cancri e\",\"55 Cancri e\",\"TRAPPIST-1e\",\"TRAPPIST-1e\",\"PSO J318.5-22\",\"55 Cancri e\",\"55 Cancri e\",\"PSO J318.5-22\",\"TRAPPIST-1e\",\"TRAPPIST-1e\",\"55 Cancri e\",\"PSO J318.5-22\",\"TRAPPIST-1e\",\"TRAPPIST-1e\",\"TRAPPIST-1e\",\"55 Cancri e\",\"TRAPPIST-1e\",\"PSO J318.5-22\",\"TRAPPIST-1e\",\"55 Cancri e\",\"TRAPPIST-1e\",\"TRAPPIST-1e\",\"55 Cancri e\",\"55 Cancri e\",\"55 Cancri e\",null,\"TRAPPIST-1e\",\"55 Cancri e\",\"TRAPPIST-1e\",\"TRAPPIST-1e\",\"TRAPPIST-1e\",\"TRAPPIST-1e\",\"TRAPPIST-1e\",\"TRAPPIST-1e\",\"TRAPPIST-1e\",\"TRAPPIST-1e\",\"TRAPPIST-1e\",\"TRAPPIST-1e\",\"55 Cancri e\",\"PSO J318.5-22\",\"TRAPPIST-1e\",\"TRAPPIST-1e\",\"TRAPPIST-1e\",\"TRAPPIST-1e\",\"PSO J318.5-22\",\"TRAPPIST-1e\",\"TRAPPIST-1e\",\"TRAPPIST-1e\",\"PSO J318.5-22\",\"55 Cancri e\",\"TRAPPIST-1e\",\"TRAPPIST-1e\",\"TRAPPIST-1e\",\"PSO J318.5-22\",\"55 Cancri e\",\"TRAPPIST-1e\",\"TRAPPIST-1e\",\"PSO J318.5-22\",\"TRAPPIST-1e\",\"TRAPPIST-1e\",\"TRAPPIST-1e\",\"TRAPPIST-1e\",\"TRAPPIST-1e\",\"TRAPPIST-1e\",\"55 Cancri e\",\"55 Cancri e\",\"TRAPPIST-1e\",\"TRAPPIST-1e\",\"PSO J318.5-22\",\"TRAPPIST-1e\",\"PSO J318.5-22\",\"TRAPPIST-1e\",\"55 Cancri e\",\"TRAPPIST-1e\",\"55 Cancri e\",\"55 Cancri e\",\"TRAPPIST-1e\",\"TRAPPIST-1e\",\"TRAPPIST-1e\",\"TRAPPIST-1e\",\"55 Cancri e\",\"TRAPPIST-1e\",\"PSO J318.5-22\",\"55 Cancri e\",\"55 Cancri e\",null,\"55 Cancri e\",\"TRAPPIST-1e\",\"TRAPPIST-1e\",\"TRAPPIST-1e\",\"PSO J318.5-22\",\"TRAPPIST-1e\",\"TRAPPIST-1e\",\"TRAPPIST-1e\",\"TRAPPIST-1e\",\"TRAPPIST-1e\",\"55 Cancri e\",\"TRAPPIST-1e\",\"PSO J318.5-22\",\"TRAPPIST-1e\",\"PSO J318.5-22\",\"TRAPPIST-1e\",\"TRAPPIST-1e\",\"55 Cancri e\",\"TRAPPIST-1e\",\"TRAPPIST-1e\",\"TRAPPIST-1e\",\"TRAPPIST-1e\",\"PSO J318.5-22\",\"55 Cancri e\",\"TRAPPIST-1e\",\"PSO J318.5-22\",\"55 Cancri e\",\"TRAPPIST-1e\",\"TRAPPIST-1e\",\"TRAPPIST-1e\",\"55 Cancri e\",\"55 Cancri e\",\"TRAPPIST-1e\",\"TRAPPIST-1e\",\"TRAPPIST-1e\",\"55 Cancri e\",\"TRAPPIST-1e\",\"TRAPPIST-1e\",\"TRAPPIST-1e\",\"TRAPPIST-1e\",\"55 Cancri e\",\"TRAPPIST-1e\",\"PSO J318.5-22\",null,\"TRAPPIST-1e\",\"TRAPPIST-1e\",\"TRAPPIST-1e\",\"55 Cancri e\",\"TRAPPIST-1e\",\"55 Cancri e\",\"TRAPPIST-1e\",\"TRAPPIST-1e\",\"TRAPPIST-1e\",\"PSO J318.5-22\",\"TRAPPIST-1e\",\"55 Cancri e\",\"TRAPPIST-1e\",\"TRAPPIST-1e\",\"TRAPPIST-1e\",\"TRAPPIST-1e\",\"55 Cancri e\",\"TRAPPIST-1e\",\"TRAPPIST-1e\",\"TRAPPIST-1e\",\"TRAPPIST-1e\",\"55 Cancri e\",null,\"TRAPPIST-1e\",\"55 Cancri e\",\"TRAPPIST-1e\",\"TRAPPIST-1e\",\"55 Cancri e\",\"55 Cancri e\",\"55 Cancri e\",\"TRAPPIST-1e\",\"TRAPPIST-1e\",\"55 Cancri e\",\"55 Cancri e\",\"TRAPPIST-1e\",\"TRAPPIST-1e\",\"TRAPPIST-1e\",\"55 Cancri e\",\"TRAPPIST-1e\",\"TRAPPIST-1e\",\"TRAPPIST-1e\",\"55 Cancri e\",\"TRAPPIST-1e\",\"TRAPPIST-1e\",\"TRAPPIST-1e\",\"TRAPPIST-1e\",\"55 Cancri e\",\"TRAPPIST-1e\",\"TRAPPIST-1e\",\"TRAPPIST-1e\",\"PSO J318.5-22\",\"55 Cancri e\",\"55 Cancri e\",\"TRAPPIST-1e\",\"55 Cancri e\",\"TRAPPIST-1e\",\"55 Cancri e\",\"TRAPPIST-1e\",\"55 Cancri e\",\"55 Cancri e\",\"TRAPPIST-1e\",\"TRAPPIST-1e\",\"TRAPPIST-1e\",\"PSO J318.5-22\",\"55 Cancri e\",\"TRAPPIST-1e\",\"TRAPPIST-1e\",\"PSO J318.5-22\",\"PSO J318.5-22\",\"PSO J318.5-22\",\"TRAPPIST-1e\",\"TRAPPIST-1e\",\"TRAPPIST-1e\",\"55 Cancri e\",\"TRAPPIST-1e\",\"TRAPPIST-1e\",\"TRAPPIST-1e\",\"PSO J318.5-22\",\"55 Cancri e\",null,null,\"55 Cancri e\",\"TRAPPIST-1e\",\"55 Cancri e\",\"TRAPPIST-1e\",\"TRAPPIST-1e\",\"TRAPPIST-1e\",\"55 Cancri e\",\"TRAPPIST-1e\",\"55 Cancri e\",\"TRAPPIST-1e\",null,\"TRAPPIST-1e\",\"TRAPPIST-1e\",\"55 Cancri e\",\"55 Cancri e\",\"TRAPPIST-1e\",\"TRAPPIST-1e\",\"PSO J318.5-22\",\"TRAPPIST-1e\",\"TRAPPIST-1e\",\"TRAPPIST-1e\",\"55 Cancri e\",\"TRAPPIST-1e\",\"55 Cancri e\",\"PSO J318.5-22\",\"TRAPPIST-1e\",\"TRAPPIST-1e\",\"TRAPPIST-1e\",\"55 Cancri e\",\"TRAPPIST-1e\",\"55 Cancri e\",\"TRAPPIST-1e\",\"TRAPPIST-1e\",\"TRAPPIST-1e\",\"TRAPPIST-1e\",\"TRAPPIST-1e\",\"TRAPPIST-1e\",\"PSO J318.5-22\",\"PSO J318.5-22\",\"TRAPPIST-1e\",\"TRAPPIST-1e\",\"55 Cancri e\",\"TRAPPIST-1e\",\"TRAPPIST-1e\",\"TRAPPIST-1e\",\"TRAPPIST-1e\",\"TRAPPIST-1e\",\"TRAPPIST-1e\",\"TRAPPIST-1e\",\"TRAPPIST-1e\",\"PSO J318.5-22\",\"TRAPPIST-1e\",\"TRAPPIST-1e\",\"PSO J318.5-22\",\"55 Cancri e\",\"TRAPPIST-1e\",\"TRAPPIST-1e\",\"TRAPPIST-1e\",\"55 Cancri e\",\"TRAPPIST-1e\",\"TRAPPIST-1e\",\"TRAPPIST-1e\",\"55 Cancri e\",\"TRAPPIST-1e\",\"TRAPPIST-1e\",\"55 Cancri e\",\"TRAPPIST-1e\",\"TRAPPIST-1e\",\"TRAPPIST-1e\",\"TRAPPIST-1e\",\"TRAPPIST-1e\",\"TRAPPIST-1e\",\"TRAPPIST-1e\",\"TRAPPIST-1e\",\"55 Cancri e\",\"TRAPPIST-1e\",\"55 Cancri e\",\"TRAPPIST-1e\",\"TRAPPIST-1e\",\"TRAPPIST-1e\",\"PSO J318.5-22\",\"55 Cancri e\",\"TRAPPIST-1e\",\"TRAPPIST-1e\",\"PSO J318.5-22\",\"55 Cancri e\",\"TRAPPIST-1e\",\"TRAPPIST-1e\",\"TRAPPIST-1e\",\"TRAPPIST-1e\",\"55 Cancri e\",\"TRAPPIST-1e\",\"55 Cancri e\",\"TRAPPIST-1e\",\"TRAPPIST-1e\",\"55 Cancri e\",\"55 Cancri e\",\"55 Cancri e\",\"55 Cancri e\",\"PSO J318.5-22\",\"TRAPPIST-1e\",\"TRAPPIST-1e\",\"TRAPPIST-1e\",\"TRAPPIST-1e\",\"TRAPPIST-1e\",\"55 Cancri e\",\"TRAPPIST-1e\",\"TRAPPIST-1e\",\"55 Cancri e\",\"TRAPPIST-1e\",\"TRAPPIST-1e\",\"TRAPPIST-1e\",\"TRAPPIST-1e\",\"TRAPPIST-1e\",\"55 Cancri e\",\"TRAPPIST-1e\",\"TRAPPIST-1e\",\"TRAPPIST-1e\",\"TRAPPIST-1e\",\"TRAPPIST-1e\",\"PSO J318.5-22\",\"55 Cancri e\",\"TRAPPIST-1e\",\"TRAPPIST-1e\",\"TRAPPIST-1e\",\"TRAPPIST-1e\",\"TRAPPIST-1e\",\"TRAPPIST-1e\",\"TRAPPIST-1e\",\"55 Cancri e\",\"PSO J318.5-22\",\"TRAPPIST-1e\",\"TRAPPIST-1e\",\"55 Cancri e\",\"TRAPPIST-1e\",\"TRAPPIST-1e\",\"TRAPPIST-1e\",\"TRAPPIST-1e\",\"TRAPPIST-1e\",\"TRAPPIST-1e\",\"PSO J318.5-22\",\"TRAPPIST-1e\",\"TRAPPIST-1e\",\"TRAPPIST-1e\",\"PSO J318.5-22\",\"55 Cancri e\",\"TRAPPIST-1e\",\"PSO J318.5-22\",\"TRAPPIST-1e\",\"55 Cancri e\",\"TRAPPIST-1e\",\"TRAPPIST-1e\",\"PSO J318.5-22\",\"PSO J318.5-22\",\"TRAPPIST-1e\",\"TRAPPIST-1e\",\"TRAPPIST-1e\",\"TRAPPIST-1e\",\"55 Cancri e\",null,\"55 Cancri e\",\"TRAPPIST-1e\",\"TRAPPIST-1e\",\"55 Cancri e\",\"55 Cancri e\",null,\"TRAPPIST-1e\",\"TRAPPIST-1e\",\"TRAPPIST-1e\",\"TRAPPIST-1e\",\"55 Cancri e\",\"55 Cancri e\",\"55 Cancri e\",\"TRAPPIST-1e\",\"TRAPPIST-1e\",\"TRAPPIST-1e\",\"TRAPPIST-1e\",\"TRAPPIST-1e\",\"PSO J318.5-22\",\"TRAPPIST-1e\",\"TRAPPIST-1e\",\"TRAPPIST-1e\",\"TRAPPIST-1e\",\"TRAPPIST-1e\",\"TRAPPIST-1e\",\"TRAPPIST-1e\",\"55 Cancri e\",\"TRAPPIST-1e\",\"TRAPPIST-1e\",\"TRAPPIST-1e\",\"55 Cancri e\",\"55 Cancri e\",\"TRAPPIST-1e\",\"55 Cancri e\",\"55 Cancri e\",\"55 Cancri e\",\"55 Cancri e\",\"TRAPPIST-1e\",\"55 Cancri e\",\"55 Cancri e\",\"TRAPPIST-1e\",\"55 Cancri e\",\"TRAPPIST-1e\",\"TRAPPIST-1e\",\"TRAPPIST-1e\",\"TRAPPIST-1e\",\"55 Cancri e\",\"55 Cancri e\",\"55 Cancri e\",\"TRAPPIST-1e\",\"TRAPPIST-1e\",null,\"55 Cancri e\",\"TRAPPIST-1e\",\"TRAPPIST-1e\",\"TRAPPIST-1e\",\"55 Cancri e\",\"TRAPPIST-1e\",\"TRAPPIST-1e\",\"TRAPPIST-1e\",\"TRAPPIST-1e\",\"TRAPPIST-1e\",\"TRAPPIST-1e\",\"PSO J318.5-22\",\"PSO J318.5-22\",\"55 Cancri e\",\"TRAPPIST-1e\",\"PSO J318.5-22\",\"TRAPPIST-1e\",\"TRAPPIST-1e\",\"55 Cancri e\",\"TRAPPIST-1e\",\"TRAPPIST-1e\",\"PSO J318.5-22\",\"TRAPPIST-1e\",\"55 Cancri e\",\"TRAPPIST-1e\",\"55 Cancri e\",\"TRAPPIST-1e\",\"TRAPPIST-1e\",\"TRAPPIST-1e\",\"TRAPPIST-1e\",\"TRAPPIST-1e\",\"PSO J318.5-22\",\"TRAPPIST-1e\",\"PSO J318.5-22\",\"55 Cancri e\",\"TRAPPIST-1e\",\"TRAPPIST-1e\",\"TRAPPIST-1e\",\"55 Cancri e\",\"TRAPPIST-1e\",\"PSO J318.5-22\",\"TRAPPIST-1e\",\"PSO J318.5-22\",\"TRAPPIST-1e\",\"TRAPPIST-1e\",\"TRAPPIST-1e\",\"55 Cancri e\",\"TRAPPIST-1e\",\"TRAPPIST-1e\",\"TRAPPIST-1e\",\"TRAPPIST-1e\",\"TRAPPIST-1e\",\"TRAPPIST-1e\",\"TRAPPIST-1e\",\"55 Cancri e\",\"55 Cancri e\",\"55 Cancri e\",\"TRAPPIST-1e\",\"TRAPPIST-1e\",\"TRAPPIST-1e\",\"TRAPPIST-1e\",\"TRAPPIST-1e\",\"TRAPPIST-1e\",\"PSO J318.5-22\",\"TRAPPIST-1e\",\"TRAPPIST-1e\",\"TRAPPIST-1e\",\"55 Cancri e\",\"TRAPPIST-1e\",\"55 Cancri e\",\"TRAPPIST-1e\",\"TRAPPIST-1e\",\"55 Cancri e\",\"TRAPPIST-1e\",\"PSO J318.5-22\",\"TRAPPIST-1e\",null,\"55 Cancri e\",\"55 Cancri e\",\"TRAPPIST-1e\",\"TRAPPIST-1e\",\"TRAPPIST-1e\",\"TRAPPIST-1e\",\"TRAPPIST-1e\",\"TRAPPIST-1e\",\"55 Cancri e\",\"TRAPPIST-1e\",\"55 Cancri e\",\"55 Cancri e\",\"TRAPPIST-1e\",\"TRAPPIST-1e\",\"55 Cancri e\",\"55 Cancri e\",\"PSO J318.5-22\",null,\"TRAPPIST-1e\",\"PSO J318.5-22\",\"TRAPPIST-1e\",\"55 Cancri e\",\"TRAPPIST-1e\",\"TRAPPIST-1e\",\"55 Cancri e\",\"55 Cancri e\",\"TRAPPIST-1e\",\"TRAPPIST-1e\",\"TRAPPIST-1e\",\"PSO J318.5-22\",\"TRAPPIST-1e\",\"TRAPPIST-1e\",\"55 Cancri e\",\"TRAPPIST-1e\",\"PSO J318.5-22\",\"TRAPPIST-1e\",\"55 Cancri e\",\"55 Cancri e\",\"55 Cancri e\",\"55 Cancri e\",\"TRAPPIST-1e\",\"55 Cancri e\",\"55 Cancri e\",\"TRAPPIST-1e\",null,\"TRAPPIST-1e\",\"TRAPPIST-1e\",\"TRAPPIST-1e\",\"TRAPPIST-1e\",\"55 Cancri e\",\"TRAPPIST-1e\",\"55 Cancri e\",\"PSO J318.5-22\",\"TRAPPIST-1e\",\"TRAPPIST-1e\",\"TRAPPIST-1e\",\"TRAPPIST-1e\",null,\"TRAPPIST-1e\",\"TRAPPIST-1e\",\"TRAPPIST-1e\",\"TRAPPIST-1e\",\"TRAPPIST-1e\",\"PSO J318.5-22\",\"TRAPPIST-1e\",\"TRAPPIST-1e\",\"55 Cancri e\",\"PSO J318.5-22\",\"55 Cancri e\",\"TRAPPIST-1e\",\"TRAPPIST-1e\",\"TRAPPIST-1e\",\"TRAPPIST-1e\",\"PSO J318.5-22\",null,\"55 Cancri e\",\"TRAPPIST-1e\",\"TRAPPIST-1e\",\"TRAPPIST-1e\",\"PSO J318.5-22\",\"PSO J318.5-22\",\"TRAPPIST-1e\",\"55 Cancri e\",\"TRAPPIST-1e\",\"PSO J318.5-22\",\"55 Cancri e\",\"TRAPPIST-1e\",\"55 Cancri e\",\"TRAPPIST-1e\",\"TRAPPIST-1e\",\"55 Cancri e\",\"55 Cancri e\",\"PSO J318.5-22\",\"TRAPPIST-1e\",\"55 Cancri e\",\"TRAPPIST-1e\",\"PSO J318.5-22\",\"55 Cancri e\",\"55 Cancri e\",\"PSO J318.5-22\",\"TRAPPIST-1e\",\"55 Cancri e\",\"55 Cancri e\",\"TRAPPIST-1e\",\"TRAPPIST-1e\",\"PSO J318.5-22\",\"TRAPPIST-1e\",\"TRAPPIST-1e\",\"TRAPPIST-1e\",\"TRAPPIST-1e\",\"TRAPPIST-1e\",\"TRAPPIST-1e\",\"TRAPPIST-1e\",\"55 Cancri e\",null,\"55 Cancri e\",\"TRAPPIST-1e\",\"TRAPPIST-1e\",\"TRAPPIST-1e\",\"TRAPPIST-1e\",\"TRAPPIST-1e\",\"TRAPPIST-1e\",\"TRAPPIST-1e\",\"TRAPPIST-1e\",\"TRAPPIST-1e\",\"TRAPPIST-1e\",\"55 Cancri e\",\"TRAPPIST-1e\",\"TRAPPIST-1e\",\"TRAPPIST-1e\",\"55 Cancri e\",\"TRAPPIST-1e\",\"TRAPPIST-1e\",\"TRAPPIST-1e\",\"PSO J318.5-22\",\"TRAPPIST-1e\",\"TRAPPIST-1e\",\"TRAPPIST-1e\",\"TRAPPIST-1e\",\"TRAPPIST-1e\",\"TRAPPIST-1e\",\"TRAPPIST-1e\",\"TRAPPIST-1e\",\"TRAPPIST-1e\",\"55 Cancri e\",\"TRAPPIST-1e\",\"55 Cancri e\",\"TRAPPIST-1e\",\"TRAPPIST-1e\",\"55 Cancri e\",\"TRAPPIST-1e\",\"55 Cancri e\",\"55 Cancri e\",\"TRAPPIST-1e\",\"TRAPPIST-1e\",\"TRAPPIST-1e\",\"TRAPPIST-1e\",\"TRAPPIST-1e\",\"TRAPPIST-1e\",\"TRAPPIST-1e\",\"TRAPPIST-1e\",\"TRAPPIST-1e\",\"TRAPPIST-1e\",\"TRAPPIST-1e\",\"55 Cancri e\",\"TRAPPIST-1e\",\"55 Cancri e\",\"TRAPPIST-1e\",\"TRAPPIST-1e\",\"TRAPPIST-1e\",null,\"TRAPPIST-1e\",\"TRAPPIST-1e\",\"55 Cancri e\",\"TRAPPIST-1e\",\"55 Cancri e\",\"TRAPPIST-1e\",\"55 Cancri e\",\"TRAPPIST-1e\",\"TRAPPIST-1e\",\"TRAPPIST-1e\",\"TRAPPIST-1e\",\"PSO J318.5-22\",\"TRAPPIST-1e\",\"TRAPPIST-1e\",\"55 Cancri e\",\"55 Cancri e\",\"55 Cancri e\",\"TRAPPIST-1e\",\"TRAPPIST-1e\",\"TRAPPIST-1e\",\"TRAPPIST-1e\",\"TRAPPIST-1e\",\"TRAPPIST-1e\",\"TRAPPIST-1e\",\"TRAPPIST-1e\",\"55 Cancri e\",\"55 Cancri e\",\"55 Cancri e\",\"TRAPPIST-1e\",\"TRAPPIST-1e\",\"55 Cancri e\",\"TRAPPIST-1e\",\"TRAPPIST-1e\",\"TRAPPIST-1e\",\"TRAPPIST-1e\",\"TRAPPIST-1e\",\"TRAPPIST-1e\",\"55 Cancri e\",\"TRAPPIST-1e\",\"TRAPPIST-1e\",\"PSO J318.5-22\",\"TRAPPIST-1e\",\"TRAPPIST-1e\",\"TRAPPIST-1e\",\"TRAPPIST-1e\",\"55 Cancri e\",\"TRAPPIST-1e\",\"PSO J318.5-22\",\"TRAPPIST-1e\",\"TRAPPIST-1e\",\"TRAPPIST-1e\",\"TRAPPIST-1e\",\"TRAPPIST-1e\",\"TRAPPIST-1e\",\"TRAPPIST-1e\",\"55 Cancri e\",\"TRAPPIST-1e\",\"TRAPPIST-1e\",\"55 Cancri e\",\"TRAPPIST-1e\",\"PSO J318.5-22\",\"55 Cancri e\",\"55 Cancri e\",\"55 Cancri e\",\"PSO J318.5-22\",\"PSO J318.5-22\",\"55 Cancri e\",\"TRAPPIST-1e\",\"TRAPPIST-1e\",\"TRAPPIST-1e\",\"TRAPPIST-1e\",\"TRAPPIST-1e\",\"55 Cancri e\",\"TRAPPIST-1e\",\"55 Cancri e\",\"TRAPPIST-1e\",\"55 Cancri e\",\"55 Cancri e\",\"TRAPPIST-1e\",\"TRAPPIST-1e\",\"TRAPPIST-1e\",\"TRAPPIST-1e\",\"55 Cancri e\",\"TRAPPIST-1e\",\"TRAPPIST-1e\",\"TRAPPIST-1e\",\"55 Cancri e\",\"TRAPPIST-1e\",\"PSO J318.5-22\",\"TRAPPIST-1e\",\"55 Cancri e\",\"TRAPPIST-1e\",\"TRAPPIST-1e\",\"TRAPPIST-1e\",\"TRAPPIST-1e\",\"55 Cancri e\",\"PSO J318.5-22\",\"55 Cancri e\",\"TRAPPIST-1e\",\"55 Cancri e\",\"TRAPPIST-1e\",\"PSO J318.5-22\",\"PSO J318.5-22\",\"55 Cancri e\",\"55 Cancri e\",\"TRAPPIST-1e\",\"TRAPPIST-1e\",\"TRAPPIST-1e\",\"55 Cancri e\",\"TRAPPIST-1e\",\"PSO J318.5-22\",\"PSO J318.5-22\",\"TRAPPIST-1e\",\"TRAPPIST-1e\",\"TRAPPIST-1e\",\"TRAPPIST-1e\",\"TRAPPIST-1e\",\"TRAPPIST-1e\",\"TRAPPIST-1e\",\"PSO J318.5-22\",\"55 Cancri e\",null,\"55 Cancri e\",\"PSO J318.5-22\",\"TRAPPIST-1e\",\"TRAPPIST-1e\",\"TRAPPIST-1e\",\"TRAPPIST-1e\",\"PSO J318.5-22\",\"55 Cancri e\",\"TRAPPIST-1e\",\"TRAPPIST-1e\",\"TRAPPIST-1e\",\"55 Cancri e\",\"PSO J318.5-22\",\"PSO J318.5-22\",\"TRAPPIST-1e\",\"TRAPPIST-1e\",\"55 Cancri e\",\"TRAPPIST-1e\",\"55 Cancri e\",\"55 Cancri e\",\"55 Cancri e\",\"TRAPPIST-1e\",\"TRAPPIST-1e\",\"TRAPPIST-1e\",\"TRAPPIST-1e\",\"55 Cancri e\",\"55 Cancri e\",\"55 Cancri e\",\"TRAPPIST-1e\",\"TRAPPIST-1e\",\"TRAPPIST-1e\",\"TRAPPIST-1e\",\"PSO J318.5-22\",\"TRAPPIST-1e\",null,\"TRAPPIST-1e\",\"TRAPPIST-1e\",\"TRAPPIST-1e\",\"TRAPPIST-1e\",\"TRAPPIST-1e\",\"TRAPPIST-1e\",\"55 Cancri e\",\"TRAPPIST-1e\",\"TRAPPIST-1e\",\"TRAPPIST-1e\",\"TRAPPIST-1e\",\"TRAPPIST-1e\",\"TRAPPIST-1e\",\"TRAPPIST-1e\",\"TRAPPIST-1e\",\"55 Cancri e\",\"PSO J318.5-22\",\"TRAPPIST-1e\",\"TRAPPIST-1e\",\"TRAPPIST-1e\",\"55 Cancri e\",\"TRAPPIST-1e\",\"PSO J318.5-22\",\"TRAPPIST-1e\",\"TRAPPIST-1e\",\"TRAPPIST-1e\",\"55 Cancri e\",\"TRAPPIST-1e\",\"55 Cancri e\",\"TRAPPIST-1e\",\"PSO J318.5-22\",\"TRAPPIST-1e\",\"TRAPPIST-1e\",\"TRAPPIST-1e\",\"55 Cancri e\",\"55 Cancri e\",\"TRAPPIST-1e\",\"TRAPPIST-1e\",\"55 Cancri e\",\"TRAPPIST-1e\",\"PSO J318.5-22\",\"TRAPPIST-1e\",\"TRAPPIST-1e\",\"TRAPPIST-1e\",\"TRAPPIST-1e\",\"TRAPPIST-1e\",\"TRAPPIST-1e\",\"55 Cancri e\",\"55 Cancri e\",\"TRAPPIST-1e\",\"TRAPPIST-1e\",\"TRAPPIST-1e\",\"TRAPPIST-1e\",\"TRAPPIST-1e\",\"TRAPPIST-1e\",\"55 Cancri e\",\"55 Cancri e\",\"TRAPPIST-1e\",\"TRAPPIST-1e\",null,\"TRAPPIST-1e\",\"TRAPPIST-1e\",\"TRAPPIST-1e\",\"TRAPPIST-1e\",\"TRAPPIST-1e\",\"TRAPPIST-1e\",\"55 Cancri e\",\"55 Cancri e\",\"TRAPPIST-1e\",\"55 Cancri e\",\"TRAPPIST-1e\",\"TRAPPIST-1e\",\"TRAPPIST-1e\",\"55 Cancri e\",\"PSO J318.5-22\",\"TRAPPIST-1e\",\"55 Cancri e\",\"TRAPPIST-1e\",\"55 Cancri e\",\"TRAPPIST-1e\",\"55 Cancri e\",\"TRAPPIST-1e\",\"PSO J318.5-22\",\"55 Cancri e\",\"TRAPPIST-1e\",\"TRAPPIST-1e\",\"PSO J318.5-22\",\"TRAPPIST-1e\",\"55 Cancri e\",\"TRAPPIST-1e\",\"55 Cancri e\",\"TRAPPIST-1e\",\"TRAPPIST-1e\",\"PSO J318.5-22\",\"TRAPPIST-1e\",\"TRAPPIST-1e\",\"TRAPPIST-1e\",\"TRAPPIST-1e\",\"55 Cancri e\",\"TRAPPIST-1e\",null,\"TRAPPIST-1e\",null,\"TRAPPIST-1e\",\"TRAPPIST-1e\",\"TRAPPIST-1e\",\"TRAPPIST-1e\",\"55 Cancri e\",\"TRAPPIST-1e\",\"55 Cancri e\",\"TRAPPIST-1e\",\"55 Cancri e\",\"55 Cancri e\",\"TRAPPIST-1e\",\"TRAPPIST-1e\",\"TRAPPIST-1e\",\"TRAPPIST-1e\",\"TRAPPIST-1e\",\"TRAPPIST-1e\",\"TRAPPIST-1e\",\"TRAPPIST-1e\",\"55 Cancri e\",\"55 Cancri e\",\"TRAPPIST-1e\",\"TRAPPIST-1e\",\"TRAPPIST-1e\",\"TRAPPIST-1e\",\"TRAPPIST-1e\",\"PSO J318.5-22\",\"TRAPPIST-1e\",\"TRAPPIST-1e\",\"TRAPPIST-1e\",\"55 Cancri e\",\"TRAPPIST-1e\",\"55 Cancri e\",\"TRAPPIST-1e\",\"TRAPPIST-1e\",\"TRAPPIST-1e\",null,\"TRAPPIST-1e\",\"TRAPPIST-1e\",\"TRAPPIST-1e\",\"TRAPPIST-1e\",\"TRAPPIST-1e\",\"TRAPPIST-1e\",\"55 Cancri e\",\"TRAPPIST-1e\",\"TRAPPIST-1e\",\"TRAPPIST-1e\",\"55 Cancri e\",\"TRAPPIST-1e\",\"55 Cancri e\",\"55 Cancri e\",\"TRAPPIST-1e\",\"TRAPPIST-1e\",\"TRAPPIST-1e\",\"TRAPPIST-1e\",\"55 Cancri e\",\"PSO J318.5-22\",null,\"TRAPPIST-1e\",\"TRAPPIST-1e\",\"TRAPPIST-1e\",\"TRAPPIST-1e\",\"TRAPPIST-1e\",\"TRAPPIST-1e\",\"55 Cancri e\",\"55 Cancri e\",\"TRAPPIST-1e\",\"TRAPPIST-1e\",\"55 Cancri e\",\"TRAPPIST-1e\",\"TRAPPIST-1e\",\"TRAPPIST-1e\",\"TRAPPIST-1e\",\"TRAPPIST-1e\",\"TRAPPIST-1e\",null,\"PSO J318.5-22\",\"TRAPPIST-1e\",\"TRAPPIST-1e\",\"TRAPPIST-1e\",\"TRAPPIST-1e\",\"TRAPPIST-1e\",\"TRAPPIST-1e\",\"55 Cancri e\",\"55 Cancri e\",\"55 Cancri e\",\"TRAPPIST-1e\",\"TRAPPIST-1e\",\"55 Cancri e\",\"TRAPPIST-1e\",\"TRAPPIST-1e\",\"TRAPPIST-1e\",\"PSO J318.5-22\",\"55 Cancri e\",\"TRAPPIST-1e\",\"TRAPPIST-1e\",\"TRAPPIST-1e\",\"TRAPPIST-1e\",\"TRAPPIST-1e\",\"55 Cancri e\",\"55 Cancri e\",\"TRAPPIST-1e\",\"TRAPPIST-1e\",\"TRAPPIST-1e\",\"TRAPPIST-1e\",\"TRAPPIST-1e\",\"PSO J318.5-22\",\"TRAPPIST-1e\",\"TRAPPIST-1e\",\"TRAPPIST-1e\",\"55 Cancri e\",\"TRAPPIST-1e\",\"TRAPPIST-1e\",\"TRAPPIST-1e\",\"TRAPPIST-1e\",\"TRAPPIST-1e\",\"TRAPPIST-1e\",\"TRAPPIST-1e\",\"TRAPPIST-1e\",\"55 Cancri e\",\"TRAPPIST-1e\",\"TRAPPIST-1e\",\"55 Cancri e\",\"55 Cancri e\",\"55 Cancri e\",\"TRAPPIST-1e\",\"TRAPPIST-1e\",\"PSO J318.5-22\",\"TRAPPIST-1e\",\"TRAPPIST-1e\",\"TRAPPIST-1e\",\"55 Cancri e\",\"55 Cancri e\",\"55 Cancri e\",\"TRAPPIST-1e\",\"TRAPPIST-1e\",\"TRAPPIST-1e\",\"TRAPPIST-1e\",\"TRAPPIST-1e\",\"TRAPPIST-1e\",\"TRAPPIST-1e\",\"TRAPPIST-1e\",\"55 Cancri e\",null,\"TRAPPIST-1e\",\"TRAPPIST-1e\",\"55 Cancri e\",\"TRAPPIST-1e\",\"TRAPPIST-1e\",\"55 Cancri e\",\"TRAPPIST-1e\",null,\"TRAPPIST-1e\",\"TRAPPIST-1e\",\"TRAPPIST-1e\",\"55 Cancri e\",\"PSO J318.5-22\",\"TRAPPIST-1e\",\"TRAPPIST-1e\",\"TRAPPIST-1e\",\"TRAPPIST-1e\",\"TRAPPIST-1e\",\"TRAPPIST-1e\",\"55 Cancri e\",\"55 Cancri e\",\"55 Cancri e\",\"PSO J318.5-22\",\"TRAPPIST-1e\",\"PSO J318.5-22\",\"TRAPPIST-1e\",\"TRAPPIST-1e\",\"PSO J318.5-22\",\"TRAPPIST-1e\",\"TRAPPIST-1e\",\"55 Cancri e\",null,\"TRAPPIST-1e\",\"TRAPPIST-1e\",\"TRAPPIST-1e\",\"TRAPPIST-1e\",\"TRAPPIST-1e\",\"55 Cancri e\",\"TRAPPIST-1e\",\"TRAPPIST-1e\",\"55 Cancri e\",\"TRAPPIST-1e\",\"TRAPPIST-1e\",\"TRAPPIST-1e\",\"TRAPPIST-1e\",\"PSO J318.5-22\",\"TRAPPIST-1e\",\"TRAPPIST-1e\",\"TRAPPIST-1e\",\"TRAPPIST-1e\",\"TRAPPIST-1e\",\"TRAPPIST-1e\",\"PSO J318.5-22\",\"TRAPPIST-1e\",\"TRAPPIST-1e\",\"55 Cancri e\",\"55 Cancri e\",\"TRAPPIST-1e\",\"TRAPPIST-1e\",\"55 Cancri e\",\"TRAPPIST-1e\",\"TRAPPIST-1e\",\"TRAPPIST-1e\",\"TRAPPIST-1e\",\"55 Cancri e\",\"55 Cancri e\",\"TRAPPIST-1e\",null,\"55 Cancri e\",\"TRAPPIST-1e\",\"55 Cancri e\",\"TRAPPIST-1e\",\"PSO J318.5-22\",null,\"TRAPPIST-1e\",\"55 Cancri e\",\"TRAPPIST-1e\",\"55 Cancri e\",\"TRAPPIST-1e\",null,\"PSO J318.5-22\",\"TRAPPIST-1e\",\"PSO J318.5-22\",\"PSO J318.5-22\",\"55 Cancri e\",\"55 Cancri e\",\"TRAPPIST-1e\",\"TRAPPIST-1e\",\"55 Cancri e\",\"TRAPPIST-1e\",\"TRAPPIST-1e\",\"TRAPPIST-1e\",\"55 Cancri e\",\"TRAPPIST-1e\",\"TRAPPIST-1e\",\"TRAPPIST-1e\",\"TRAPPIST-1e\",\"55 Cancri e\",\"PSO J318.5-22\",\"55 Cancri e\",\"TRAPPIST-1e\",\"55 Cancri e\",\"PSO J318.5-22\",\"TRAPPIST-1e\",\"TRAPPIST-1e\",\"TRAPPIST-1e\",\"TRAPPIST-1e\",\"TRAPPIST-1e\",\"55 Cancri e\",\"TRAPPIST-1e\",\"TRAPPIST-1e\",\"55 Cancri e\",\"TRAPPIST-1e\",\"TRAPPIST-1e\",\"55 Cancri e\",\"55 Cancri e\",\"TRAPPIST-1e\",\"TRAPPIST-1e\",\"TRAPPIST-1e\",\"TRAPPIST-1e\",\"TRAPPIST-1e\",\"55 Cancri e\",\"TRAPPIST-1e\",\"55 Cancri e\",\"PSO J318.5-22\",\"TRAPPIST-1e\",\"TRAPPIST-1e\",\"TRAPPIST-1e\",\"TRAPPIST-1e\",\"TRAPPIST-1e\",\"TRAPPIST-1e\",\"TRAPPIST-1e\",\"TRAPPIST-1e\",\"55 Cancri e\",\"TRAPPIST-1e\",null,\"TRAPPIST-1e\",\"TRAPPIST-1e\",\"TRAPPIST-1e\",\"55 Cancri e\",\"55 Cancri e\",\"55 Cancri e\",\"TRAPPIST-1e\",\"TRAPPIST-1e\",\"TRAPPIST-1e\",\"55 Cancri e\",\"55 Cancri e\",\"55 Cancri e\",\"PSO J318.5-22\",\"TRAPPIST-1e\",\"TRAPPIST-1e\",\"PSO J318.5-22\",\"TRAPPIST-1e\",\"TRAPPIST-1e\",\"TRAPPIST-1e\",\"TRAPPIST-1e\",\"TRAPPIST-1e\",\"TRAPPIST-1e\",\"TRAPPIST-1e\",\"TRAPPIST-1e\",\"TRAPPIST-1e\",\"TRAPPIST-1e\",\"TRAPPIST-1e\",\"TRAPPIST-1e\",\"TRAPPIST-1e\",\"TRAPPIST-1e\",\"TRAPPIST-1e\",\"TRAPPIST-1e\",\"TRAPPIST-1e\",\"TRAPPIST-1e\",\"TRAPPIST-1e\",\"TRAPPIST-1e\",\"55 Cancri e\",\"TRAPPIST-1e\",\"TRAPPIST-1e\",\"55 Cancri e\",\"TRAPPIST-1e\",\"TRAPPIST-1e\",\"55 Cancri e\",\"TRAPPIST-1e\",\"TRAPPIST-1e\",\"TRAPPIST-1e\",\"55 Cancri e\",\"TRAPPIST-1e\",\"55 Cancri e\",\"TRAPPIST-1e\",\"TRAPPIST-1e\",\"TRAPPIST-1e\",\"55 Cancri e\",\"PSO J318.5-22\",null,\"TRAPPIST-1e\",\"TRAPPIST-1e\",\"TRAPPIST-1e\",\"TRAPPIST-1e\",\"55 Cancri e\",\"TRAPPIST-1e\",\"55 Cancri e\",\"TRAPPIST-1e\",\"TRAPPIST-1e\",\"TRAPPIST-1e\",null,\"TRAPPIST-1e\",\"TRAPPIST-1e\",\"TRAPPIST-1e\",\"TRAPPIST-1e\",\"TRAPPIST-1e\",\"55 Cancri e\",\"55 Cancri e\",\"TRAPPIST-1e\",\"TRAPPIST-1e\",\"PSO J318.5-22\",\"TRAPPIST-1e\",\"TRAPPIST-1e\",\"TRAPPIST-1e\",\"55 Cancri e\",\"TRAPPIST-1e\",\"TRAPPIST-1e\",\"TRAPPIST-1e\",\"55 Cancri e\",\"TRAPPIST-1e\",\"TRAPPIST-1e\",\"55 Cancri e\",\"TRAPPIST-1e\",\"TRAPPIST-1e\",\"TRAPPIST-1e\",\"TRAPPIST-1e\",\"PSO J318.5-22\",\"55 Cancri e\",\"TRAPPIST-1e\",\"TRAPPIST-1e\",\"TRAPPIST-1e\",\"TRAPPIST-1e\",\"55 Cancri e\",null,\"TRAPPIST-1e\",\"TRAPPIST-1e\",\"TRAPPIST-1e\",\"TRAPPIST-1e\",\"TRAPPIST-1e\",\"TRAPPIST-1e\",\"TRAPPIST-1e\",\"PSO J318.5-22\",\"TRAPPIST-1e\",\"TRAPPIST-1e\",\"TRAPPIST-1e\",\"TRAPPIST-1e\",\"TRAPPIST-1e\",\"55 Cancri e\",\"TRAPPIST-1e\",\"TRAPPIST-1e\",\"PSO J318.5-22\",\"TRAPPIST-1e\",\"TRAPPIST-1e\",\"55 Cancri e\",\"TRAPPIST-1e\",\"55 Cancri e\",\"TRAPPIST-1e\",\"TRAPPIST-1e\",\"55 Cancri e\",\"TRAPPIST-1e\",\"TRAPPIST-1e\",\"TRAPPIST-1e\",\"55 Cancri e\",\"TRAPPIST-1e\",\"55 Cancri e\",\"TRAPPIST-1e\",\"PSO J318.5-22\",\"PSO J318.5-22\",\"TRAPPIST-1e\",\"TRAPPIST-1e\",\"TRAPPIST-1e\",\"55 Cancri e\",\"TRAPPIST-1e\",\"TRAPPIST-1e\",\"55 Cancri e\",\"PSO J318.5-22\",\"TRAPPIST-1e\",\"TRAPPIST-1e\",\"TRAPPIST-1e\",\"55 Cancri e\",\"55 Cancri e\",\"TRAPPIST-1e\",\"TRAPPIST-1e\",\"TRAPPIST-1e\",\"TRAPPIST-1e\",\"TRAPPIST-1e\",\"TRAPPIST-1e\",\"55 Cancri e\",\"TRAPPIST-1e\",\"TRAPPIST-1e\",\"TRAPPIST-1e\",\"TRAPPIST-1e\",\"TRAPPIST-1e\",\"TRAPPIST-1e\",\"TRAPPIST-1e\",\"TRAPPIST-1e\",\"55 Cancri e\",\"TRAPPIST-1e\",\"PSO J318.5-22\",\"TRAPPIST-1e\",\"TRAPPIST-1e\",\"TRAPPIST-1e\",\"55 Cancri e\",\"TRAPPIST-1e\",\"TRAPPIST-1e\",\"55 Cancri e\",\"TRAPPIST-1e\",\"55 Cancri e\",\"TRAPPIST-1e\",\"TRAPPIST-1e\",\"TRAPPIST-1e\",\"TRAPPIST-1e\",\"55 Cancri e\",\"TRAPPIST-1e\",\"TRAPPIST-1e\",\"TRAPPIST-1e\",\"TRAPPIST-1e\",\"TRAPPIST-1e\",\"TRAPPIST-1e\",\"PSO J318.5-22\",\"TRAPPIST-1e\",\"TRAPPIST-1e\",\"TRAPPIST-1e\",\"TRAPPIST-1e\",\"TRAPPIST-1e\",null,\"TRAPPIST-1e\",\"55 Cancri e\",\"TRAPPIST-1e\",\"TRAPPIST-1e\",\"55 Cancri e\",\"55 Cancri e\",\"55 Cancri e\",\"TRAPPIST-1e\",\"55 Cancri e\",\"PSO J318.5-22\",\"55 Cancri e\",\"TRAPPIST-1e\",\"TRAPPIST-1e\",\"TRAPPIST-1e\",\"55 Cancri e\",null,\"TRAPPIST-1e\",\"TRAPPIST-1e\",\"55 Cancri e\",\"TRAPPIST-1e\",\"55 Cancri e\",\"TRAPPIST-1e\",\"55 Cancri e\",\"55 Cancri e\",\"TRAPPIST-1e\",\"TRAPPIST-1e\",\"TRAPPIST-1e\",\"TRAPPIST-1e\",\"TRAPPIST-1e\",\"55 Cancri e\",\"55 Cancri e\",\"PSO J318.5-22\",\"TRAPPIST-1e\",\"55 Cancri e\",\"TRAPPIST-1e\",\"TRAPPIST-1e\",\"TRAPPIST-1e\",\"PSO J318.5-22\",\"TRAPPIST-1e\",\"TRAPPIST-1e\",\"TRAPPIST-1e\",null,\"55 Cancri e\",\"TRAPPIST-1e\",\"TRAPPIST-1e\",\"55 Cancri e\",\"TRAPPIST-1e\",\"55 Cancri e\",\"PSO J318.5-22\",\"PSO J318.5-22\",\"TRAPPIST-1e\",\"TRAPPIST-1e\",\"TRAPPIST-1e\",\"PSO J318.5-22\",\"55 Cancri e\",\"TRAPPIST-1e\",\"TRAPPIST-1e\",\"TRAPPIST-1e\",\"TRAPPIST-1e\",\"55 Cancri e\",\"TRAPPIST-1e\",\"TRAPPIST-1e\",\"TRAPPIST-1e\",\"TRAPPIST-1e\",\"PSO J318.5-22\",\"TRAPPIST-1e\",\"TRAPPIST-1e\",\"TRAPPIST-1e\",\"55 Cancri e\",\"TRAPPIST-1e\",\"TRAPPIST-1e\",\"TRAPPIST-1e\",\"TRAPPIST-1e\",\"TRAPPIST-1e\",\"TRAPPIST-1e\",\"TRAPPIST-1e\",\"TRAPPIST-1e\",\"TRAPPIST-1e\",\"TRAPPIST-1e\",\"TRAPPIST-1e\",\"TRAPPIST-1e\",\"TRAPPIST-1e\",\"PSO J318.5-22\",\"TRAPPIST-1e\",\"TRAPPIST-1e\",\"TRAPPIST-1e\",\"TRAPPIST-1e\",\"PSO J318.5-22\",\"TRAPPIST-1e\",\"55 Cancri e\",\"TRAPPIST-1e\",\"55 Cancri e\",\"TRAPPIST-1e\",\"TRAPPIST-1e\",\"TRAPPIST-1e\",\"TRAPPIST-1e\",\"TRAPPIST-1e\",\"TRAPPIST-1e\",\"TRAPPIST-1e\",\"TRAPPIST-1e\",\"TRAPPIST-1e\",\"TRAPPIST-1e\",\"TRAPPIST-1e\",\"PSO J318.5-22\",\"TRAPPIST-1e\",\"55 Cancri e\",\"TRAPPIST-1e\",\"55 Cancri e\",\"TRAPPIST-1e\",\"55 Cancri e\",\"TRAPPIST-1e\",\"TRAPPIST-1e\",\"TRAPPIST-1e\",\"55 Cancri e\",\"55 Cancri e\",\"TRAPPIST-1e\",null,\"55 Cancri e\",\"PSO J318.5-22\",\"55 Cancri e\",\"TRAPPIST-1e\",\"TRAPPIST-1e\",\"TRAPPIST-1e\",\"TRAPPIST-1e\",\"55 Cancri e\",\"TRAPPIST-1e\",\"TRAPPIST-1e\",\"TRAPPIST-1e\",\"TRAPPIST-1e\",\"TRAPPIST-1e\",\"55 Cancri e\",\"TRAPPIST-1e\",\"55 Cancri e\",\"55 Cancri e\",\"TRAPPIST-1e\",\"TRAPPIST-1e\",null,\"TRAPPIST-1e\",\"TRAPPIST-1e\",\"TRAPPIST-1e\",\"TRAPPIST-1e\",\"TRAPPIST-1e\",\"55 Cancri e\",\"55 Cancri e\",\"TRAPPIST-1e\",\"55 Cancri e\",\"TRAPPIST-1e\",\"PSO J318.5-22\",\"55 Cancri e\",\"TRAPPIST-1e\",\"55 Cancri e\",\"55 Cancri e\",\"TRAPPIST-1e\",\"55 Cancri e\",null,\"TRAPPIST-1e\",\"TRAPPIST-1e\",\"PSO J318.5-22\",\"55 Cancri e\",\"TRAPPIST-1e\",\"55 Cancri e\",null,\"TRAPPIST-1e\",\"TRAPPIST-1e\",\"TRAPPIST-1e\",\"55 Cancri e\",\"55 Cancri e\",\"55 Cancri e\",\"PSO J318.5-22\",\"TRAPPIST-1e\",\"55 Cancri e\",\"TRAPPIST-1e\",\"55 Cancri e\",\"TRAPPIST-1e\",\"TRAPPIST-1e\",\"TRAPPIST-1e\",\"TRAPPIST-1e\",\"TRAPPIST-1e\",\"55 Cancri e\",\"TRAPPIST-1e\",\"PSO J318.5-22\",\"TRAPPIST-1e\",\"PSO J318.5-22\",\"PSO J318.5-22\",\"55 Cancri e\",\"55 Cancri e\",\"TRAPPIST-1e\",\"TRAPPIST-1e\",\"TRAPPIST-1e\",\"TRAPPIST-1e\",\"PSO J318.5-22\",\"TRAPPIST-1e\",\"55 Cancri e\",\"TRAPPIST-1e\",\"55 Cancri e\",\"TRAPPIST-1e\",null,\"55 Cancri e\",\"TRAPPIST-1e\",\"55 Cancri e\",\"TRAPPIST-1e\",\"55 Cancri e\",\"TRAPPIST-1e\",\"TRAPPIST-1e\",\"55 Cancri e\",\"55 Cancri e\",\"TRAPPIST-1e\",\"55 Cancri e\",\"TRAPPIST-1e\",\"TRAPPIST-1e\",\"PSO J318.5-22\",\"TRAPPIST-1e\",\"55 Cancri e\",\"PSO J318.5-22\",\"TRAPPIST-1e\",\"TRAPPIST-1e\",\"55 Cancri e\",\"55 Cancri e\",\"55 Cancri e\",\"TRAPPIST-1e\",\"TRAPPIST-1e\",\"TRAPPIST-1e\",\"55 Cancri e\",\"TRAPPIST-1e\",\"55 Cancri e\",\"TRAPPIST-1e\",\"TRAPPIST-1e\",\"TRAPPIST-1e\",\"55 Cancri e\",\"TRAPPIST-1e\",\"55 Cancri e\",\"55 Cancri e\",\"TRAPPIST-1e\",\"TRAPPIST-1e\",\"55 Cancri e\",\"TRAPPIST-1e\",\"TRAPPIST-1e\",\"TRAPPIST-1e\",\"PSO J318.5-22\",\"TRAPPIST-1e\",\"TRAPPIST-1e\",\"TRAPPIST-1e\",\"TRAPPIST-1e\",\"55 Cancri e\",\"PSO J318.5-22\",\"TRAPPIST-1e\",\"PSO J318.5-22\",\"TRAPPIST-1e\",\"TRAPPIST-1e\",\"TRAPPIST-1e\",\"55 Cancri e\",null,\"PSO J318.5-22\",\"55 Cancri e\",\"TRAPPIST-1e\",\"55 Cancri e\",\"TRAPPIST-1e\",\"TRAPPIST-1e\",\"TRAPPIST-1e\",\"PSO J318.5-22\",\"TRAPPIST-1e\",\"TRAPPIST-1e\",\"55 Cancri e\",\"TRAPPIST-1e\",\"TRAPPIST-1e\",\"TRAPPIST-1e\",\"TRAPPIST-1e\",\"TRAPPIST-1e\",\"TRAPPIST-1e\",\"TRAPPIST-1e\",\"TRAPPIST-1e\",\"TRAPPIST-1e\",null,\"TRAPPIST-1e\",\"55 Cancri e\",\"55 Cancri e\",\"PSO J318.5-22\",\"TRAPPIST-1e\",\"TRAPPIST-1e\",\"TRAPPIST-1e\",\"TRAPPIST-1e\",\"TRAPPIST-1e\",\"TRAPPIST-1e\",\"TRAPPIST-1e\",\"PSO J318.5-22\",\"TRAPPIST-1e\",\"TRAPPIST-1e\",\"TRAPPIST-1e\",\"TRAPPIST-1e\",\"TRAPPIST-1e\",\"TRAPPIST-1e\",\"TRAPPIST-1e\",\"TRAPPIST-1e\",\"TRAPPIST-1e\",\"55 Cancri e\",\"TRAPPIST-1e\",\"TRAPPIST-1e\",\"TRAPPIST-1e\",\"TRAPPIST-1e\",\"TRAPPIST-1e\",\"55 Cancri e\",\"TRAPPIST-1e\",\"TRAPPIST-1e\",\"TRAPPIST-1e\",\"PSO J318.5-22\",\"TRAPPIST-1e\",\"55 Cancri e\",\"55 Cancri e\",\"55 Cancri e\",\"TRAPPIST-1e\",\"TRAPPIST-1e\",\"TRAPPIST-1e\",\"PSO J318.5-22\",\"55 Cancri e\",\"55 Cancri e\",\"TRAPPIST-1e\",\"55 Cancri e\",\"TRAPPIST-1e\",\"55 Cancri e\",\"55 Cancri e\",\"TRAPPIST-1e\",\"TRAPPIST-1e\",\"PSO J318.5-22\",\"TRAPPIST-1e\",\"55 Cancri e\",\"TRAPPIST-1e\",\"PSO J318.5-22\",\"55 Cancri e\",\"55 Cancri e\",\"TRAPPIST-1e\",\"PSO J318.5-22\",\"TRAPPIST-1e\",\"TRAPPIST-1e\",\"TRAPPIST-1e\",\"TRAPPIST-1e\",\"TRAPPIST-1e\",\"TRAPPIST-1e\",\"TRAPPIST-1e\",\"TRAPPIST-1e\",\"TRAPPIST-1e\",\"TRAPPIST-1e\",\"55 Cancri e\",\"55 Cancri e\",\"TRAPPIST-1e\",\"TRAPPIST-1e\",\"TRAPPIST-1e\",\"TRAPPIST-1e\",\"TRAPPIST-1e\",\"TRAPPIST-1e\",\"55 Cancri e\",\"PSO J318.5-22\",\"PSO J318.5-22\",\"PSO J318.5-22\",\"55 Cancri e\",\"TRAPPIST-1e\",\"TRAPPIST-1e\",\"TRAPPIST-1e\",\"PSO J318.5-22\",\"TRAPPIST-1e\",\"TRAPPIST-1e\",\"TRAPPIST-1e\",\"PSO J318.5-22\",\"PSO J318.5-22\",\"TRAPPIST-1e\",\"TRAPPIST-1e\",\"TRAPPIST-1e\",\"TRAPPIST-1e\",\"TRAPPIST-1e\",\"TRAPPIST-1e\",\"PSO J318.5-22\",\"TRAPPIST-1e\",\"TRAPPIST-1e\",\"TRAPPIST-1e\",\"TRAPPIST-1e\",\"55 Cancri e\",\"TRAPPIST-1e\",\"55 Cancri e\",\"55 Cancri e\",\"TRAPPIST-1e\",\"55 Cancri e\",\"TRAPPIST-1e\",\"TRAPPIST-1e\",\"55 Cancri e\",\"PSO J318.5-22\",\"TRAPPIST-1e\",\"TRAPPIST-1e\",\"PSO J318.5-22\",\"TRAPPIST-1e\",\"55 Cancri e\",\"TRAPPIST-1e\",\"TRAPPIST-1e\",\"TRAPPIST-1e\",\"TRAPPIST-1e\",\"TRAPPIST-1e\",\"TRAPPIST-1e\",\"TRAPPIST-1e\",\"55 Cancri e\",\"TRAPPIST-1e\",\"TRAPPIST-1e\",\"TRAPPIST-1e\",\"TRAPPIST-1e\",\"55 Cancri e\",\"TRAPPIST-1e\",\"TRAPPIST-1e\",\"TRAPPIST-1e\",\"55 Cancri e\",\"TRAPPIST-1e\",\"TRAPPIST-1e\",\"TRAPPIST-1e\",\"PSO J318.5-22\",\"TRAPPIST-1e\",\"TRAPPIST-1e\",\"55 Cancri e\",\"TRAPPIST-1e\",\"TRAPPIST-1e\",\"PSO J318.5-22\",\"55 Cancri e\",\"TRAPPIST-1e\",\"55 Cancri e\",\"55 Cancri e\",\"TRAPPIST-1e\",\"TRAPPIST-1e\",\"TRAPPIST-1e\",\"TRAPPIST-1e\",\"55 Cancri e\",\"TRAPPIST-1e\",\"TRAPPIST-1e\",\"55 Cancri e\",\"55 Cancri e\",\"TRAPPIST-1e\",\"TRAPPIST-1e\",\"55 Cancri e\",\"TRAPPIST-1e\",\"TRAPPIST-1e\",\"TRAPPIST-1e\",\"55 Cancri e\",\"PSO J318.5-22\",\"55 Cancri e\",\"TRAPPIST-1e\",\"PSO J318.5-22\",\"55 Cancri e\",\"PSO J318.5-22\",\"TRAPPIST-1e\",\"55 Cancri e\",\"TRAPPIST-1e\",\"TRAPPIST-1e\",\"55 Cancri e\",\"TRAPPIST-1e\",\"TRAPPIST-1e\",\"TRAPPIST-1e\",\"55 Cancri e\",\"TRAPPIST-1e\",\"TRAPPIST-1e\",\"55 Cancri e\",\"TRAPPIST-1e\",\"TRAPPIST-1e\",\"TRAPPIST-1e\",\"TRAPPIST-1e\",\"TRAPPIST-1e\",\"55 Cancri e\",\"TRAPPIST-1e\",\"PSO J318.5-22\",\"55 Cancri e\",\"PSO J318.5-22\",\"TRAPPIST-1e\",\"TRAPPIST-1e\",\"55 Cancri e\",\"55 Cancri e\",\"55 Cancri e\",\"55 Cancri e\",\"PSO J318.5-22\",\"TRAPPIST-1e\",\"TRAPPIST-1e\",\"TRAPPIST-1e\",\"TRAPPIST-1e\",\"TRAPPIST-1e\",\"TRAPPIST-1e\",\"55 Cancri e\",\"55 Cancri e\",\"TRAPPIST-1e\",\"PSO J318.5-22\",\"TRAPPIST-1e\",null,\"TRAPPIST-1e\",\"55 Cancri e\",\"55 Cancri e\",\"55 Cancri e\",\"TRAPPIST-1e\",\"TRAPPIST-1e\",\"TRAPPIST-1e\",\"TRAPPIST-1e\",\"TRAPPIST-1e\",\"55 Cancri e\",\"TRAPPIST-1e\",\"55 Cancri e\",\"TRAPPIST-1e\",\"PSO J318.5-22\",\"55 Cancri e\",\"TRAPPIST-1e\",\"PSO J318.5-22\",\"TRAPPIST-1e\",\"55 Cancri e\",\"PSO J318.5-22\",\"TRAPPIST-1e\",\"55 Cancri e\",\"TRAPPIST-1e\",\"TRAPPIST-1e\",\"TRAPPIST-1e\",\"TRAPPIST-1e\",\"TRAPPIST-1e\",\"TRAPPIST-1e\",\"PSO J318.5-22\",\"55 Cancri e\",\"TRAPPIST-1e\",\"TRAPPIST-1e\",\"TRAPPIST-1e\",\"TRAPPIST-1e\",\"55 Cancri e\",\"TRAPPIST-1e\",\"TRAPPIST-1e\",\"TRAPPIST-1e\",\"TRAPPIST-1e\",\"TRAPPIST-1e\",\"TRAPPIST-1e\",\"TRAPPIST-1e\",\"55 Cancri e\",\"TRAPPIST-1e\",\"TRAPPIST-1e\",\"TRAPPIST-1e\",\"TRAPPIST-1e\",\"TRAPPIST-1e\",\"55 Cancri e\",\"TRAPPIST-1e\",\"55 Cancri e\",\"55 Cancri e\",\"TRAPPIST-1e\",\"PSO J318.5-22\",\"PSO J318.5-22\",\"TRAPPIST-1e\",\"TRAPPIST-1e\",\"PSO J318.5-22\",\"55 Cancri e\",\"TRAPPIST-1e\",\"TRAPPIST-1e\",\"55 Cancri e\",\"PSO J318.5-22\",\"PSO J318.5-22\",\"TRAPPIST-1e\",\"TRAPPIST-1e\",\"PSO J318.5-22\",\"55 Cancri e\",\"TRAPPIST-1e\",\"TRAPPIST-1e\",\"TRAPPIST-1e\",\"TRAPPIST-1e\",\"TRAPPIST-1e\",\"55 Cancri e\",\"TRAPPIST-1e\",\"TRAPPIST-1e\",\"TRAPPIST-1e\",\"TRAPPIST-1e\",\"55 Cancri e\",\"TRAPPIST-1e\",\"TRAPPIST-1e\",\"TRAPPIST-1e\",\"55 Cancri e\",\"TRAPPIST-1e\",\"TRAPPIST-1e\",\"TRAPPIST-1e\",\"TRAPPIST-1e\",\"TRAPPIST-1e\",\"TRAPPIST-1e\",\"PSO J318.5-22\",\"55 Cancri e\",\"TRAPPIST-1e\",\"TRAPPIST-1e\",\"TRAPPIST-1e\",\"TRAPPIST-1e\",\"TRAPPIST-1e\",\"55 Cancri e\",\"55 Cancri e\",\"PSO J318.5-22\",\"TRAPPIST-1e\",\"TRAPPIST-1e\",\"TRAPPIST-1e\",\"TRAPPIST-1e\",\"PSO J318.5-22\",\"55 Cancri e\",\"TRAPPIST-1e\",\"55 Cancri e\",\"PSO J318.5-22\",\"TRAPPIST-1e\",\"TRAPPIST-1e\",\"55 Cancri e\",\"TRAPPIST-1e\",\"PSO J318.5-22\",\"TRAPPIST-1e\",\"55 Cancri e\",\"TRAPPIST-1e\",\"55 Cancri e\",\"TRAPPIST-1e\",\"PSO J318.5-22\",\"55 Cancri e\",\"55 Cancri e\",\"TRAPPIST-1e\",\"TRAPPIST-1e\",\"TRAPPIST-1e\",\"TRAPPIST-1e\",\"TRAPPIST-1e\",\"55 Cancri e\",\"TRAPPIST-1e\",\"55 Cancri e\",\"TRAPPIST-1e\",\"TRAPPIST-1e\",\"TRAPPIST-1e\",\"55 Cancri e\",\"TRAPPIST-1e\",\"TRAPPIST-1e\",\"TRAPPIST-1e\",\"55 Cancri e\",\"TRAPPIST-1e\",\"TRAPPIST-1e\",\"55 Cancri e\",\"TRAPPIST-1e\",\"TRAPPIST-1e\",\"TRAPPIST-1e\",\"55 Cancri e\",\"PSO J318.5-22\",\"TRAPPIST-1e\",\"TRAPPIST-1e\",\"55 Cancri e\",\"TRAPPIST-1e\",\"TRAPPIST-1e\",\"TRAPPIST-1e\",\"TRAPPIST-1e\",\"TRAPPIST-1e\",\"TRAPPIST-1e\",\"TRAPPIST-1e\",\"55 Cancri e\",\"55 Cancri e\",\"55 Cancri e\",\"TRAPPIST-1e\",\"TRAPPIST-1e\",\"TRAPPIST-1e\",\"TRAPPIST-1e\",\"TRAPPIST-1e\",\"55 Cancri e\",\"55 Cancri e\",\"55 Cancri e\",\"55 Cancri e\",\"TRAPPIST-1e\",\"TRAPPIST-1e\",\"55 Cancri e\",\"TRAPPIST-1e\",\"55 Cancri e\",\"55 Cancri e\",\"55 Cancri e\",\"55 Cancri e\",null,\"TRAPPIST-1e\",\"TRAPPIST-1e\",\"TRAPPIST-1e\",\"TRAPPIST-1e\",\"TRAPPIST-1e\",\"TRAPPIST-1e\",\"TRAPPIST-1e\",\"TRAPPIST-1e\",\"TRAPPIST-1e\",\"TRAPPIST-1e\",\"TRAPPIST-1e\",\"PSO J318.5-22\",\"TRAPPIST-1e\",\"PSO J318.5-22\",\"TRAPPIST-1e\",\"TRAPPIST-1e\",\"TRAPPIST-1e\",\"TRAPPIST-1e\",\"TRAPPIST-1e\",\"TRAPPIST-1e\",\"TRAPPIST-1e\",\"55 Cancri e\",\"TRAPPIST-1e\",\"55 Cancri e\",\"TRAPPIST-1e\",\"TRAPPIST-1e\",\"55 Cancri e\",\"TRAPPIST-1e\",\"TRAPPIST-1e\",\"TRAPPIST-1e\",\"PSO J318.5-22\",\"TRAPPIST-1e\",\"55 Cancri e\",\"55 Cancri e\",\"TRAPPIST-1e\",\"TRAPPIST-1e\",\"TRAPPIST-1e\",\"55 Cancri e\",\"TRAPPIST-1e\",\"TRAPPIST-1e\",\"TRAPPIST-1e\",\"TRAPPIST-1e\",\"TRAPPIST-1e\",\"TRAPPIST-1e\",\"TRAPPIST-1e\",\"55 Cancri e\",\"55 Cancri e\",\"PSO J318.5-22\",\"TRAPPIST-1e\",\"TRAPPIST-1e\",\"TRAPPIST-1e\",\"TRAPPIST-1e\",null,\"TRAPPIST-1e\",\"TRAPPIST-1e\",\"TRAPPIST-1e\",\"TRAPPIST-1e\",\"TRAPPIST-1e\",null,\"TRAPPIST-1e\",\"TRAPPIST-1e\",\"TRAPPIST-1e\",\"55 Cancri e\",\"TRAPPIST-1e\",\"55 Cancri e\",\"TRAPPIST-1e\",\"TRAPPIST-1e\",\"TRAPPIST-1e\",\"TRAPPIST-1e\",null,\"PSO J318.5-22\",\"PSO J318.5-22\",\"TRAPPIST-1e\",\"TRAPPIST-1e\",\"55 Cancri e\",\"TRAPPIST-1e\",\"55 Cancri e\",\"TRAPPIST-1e\",\"55 Cancri e\",\"TRAPPIST-1e\",\"55 Cancri e\",\"TRAPPIST-1e\",\"TRAPPIST-1e\",\"TRAPPIST-1e\",\"TRAPPIST-1e\",\"TRAPPIST-1e\",\"TRAPPIST-1e\",\"TRAPPIST-1e\",\"TRAPPIST-1e\",\"TRAPPIST-1e\",\"TRAPPIST-1e\",\"55 Cancri e\",\"TRAPPIST-1e\",\"TRAPPIST-1e\",\"TRAPPIST-1e\",\"55 Cancri e\",\"TRAPPIST-1e\",\"TRAPPIST-1e\",\"TRAPPIST-1e\",\"TRAPPIST-1e\",\"TRAPPIST-1e\",\"TRAPPIST-1e\",\"PSO J318.5-22\",\"TRAPPIST-1e\",\"55 Cancri e\",\"TRAPPIST-1e\",\"TRAPPIST-1e\",\"55 Cancri e\",\"TRAPPIST-1e\",\"TRAPPIST-1e\",\"TRAPPIST-1e\",\"TRAPPIST-1e\",\"TRAPPIST-1e\",\"TRAPPIST-1e\",\"55 Cancri e\",\"TRAPPIST-1e\",\"TRAPPIST-1e\",\"TRAPPIST-1e\",\"TRAPPIST-1e\",\"55 Cancri e\",\"TRAPPIST-1e\",\"55 Cancri e\",\"TRAPPIST-1e\",\"TRAPPIST-1e\",\"55 Cancri e\",\"55 Cancri e\",\"TRAPPIST-1e\",\"TRAPPIST-1e\",\"TRAPPIST-1e\",\"TRAPPIST-1e\",\"TRAPPIST-1e\",\"TRAPPIST-1e\",\"55 Cancri e\",\"55 Cancri e\",\"TRAPPIST-1e\",\"PSO J318.5-22\",\"TRAPPIST-1e\",\"55 Cancri e\",\"TRAPPIST-1e\",\"TRAPPIST-1e\",\"TRAPPIST-1e\",\"TRAPPIST-1e\",\"TRAPPIST-1e\",\"TRAPPIST-1e\",\"TRAPPIST-1e\",\"TRAPPIST-1e\",\"TRAPPIST-1e\",\"55 Cancri e\",\"PSO J318.5-22\",\"TRAPPIST-1e\",\"TRAPPIST-1e\",\"TRAPPIST-1e\",\"55 Cancri e\",\"TRAPPIST-1e\",\"TRAPPIST-1e\",\"TRAPPIST-1e\",\"55 Cancri e\",\"TRAPPIST-1e\",\"TRAPPIST-1e\",\"TRAPPIST-1e\",\"55 Cancri e\",\"TRAPPIST-1e\",\"TRAPPIST-1e\",\"TRAPPIST-1e\",\"TRAPPIST-1e\",\"TRAPPIST-1e\",\"TRAPPIST-1e\",\"55 Cancri e\",\"TRAPPIST-1e\",\"TRAPPIST-1e\",\"55 Cancri e\",\"55 Cancri e\",\"TRAPPIST-1e\",\"TRAPPIST-1e\",\"TRAPPIST-1e\",\"TRAPPIST-1e\",\"TRAPPIST-1e\",\"55 Cancri e\",\"TRAPPIST-1e\",\"55 Cancri e\",\"55 Cancri e\",\"TRAPPIST-1e\",\"TRAPPIST-1e\",\"TRAPPIST-1e\",\"TRAPPIST-1e\",\"TRAPPIST-1e\",\"TRAPPIST-1e\",\"PSO J318.5-22\",\"TRAPPIST-1e\",\"TRAPPIST-1e\",\"55 Cancri e\",\"TRAPPIST-1e\",\"TRAPPIST-1e\",\"55 Cancri e\",\"TRAPPIST-1e\",\"55 Cancri e\",\"55 Cancri e\",\"55 Cancri e\",\"55 Cancri e\",\"TRAPPIST-1e\",\"55 Cancri e\",\"PSO J318.5-22\",\"TRAPPIST-1e\",\"55 Cancri e\",\"PSO J318.5-22\",\"TRAPPIST-1e\",\"PSO J318.5-22\",\"TRAPPIST-1e\",\"TRAPPIST-1e\",\"TRAPPIST-1e\",\"TRAPPIST-1e\",\"TRAPPIST-1e\",\"PSO J318.5-22\",\"TRAPPIST-1e\",\"TRAPPIST-1e\",\"55 Cancri e\",\"TRAPPIST-1e\",\"TRAPPIST-1e\",\"PSO J318.5-22\",\"55 Cancri e\",\"TRAPPIST-1e\",\"TRAPPIST-1e\",\"TRAPPIST-1e\",\"TRAPPIST-1e\",\"TRAPPIST-1e\",\"PSO J318.5-22\",\"TRAPPIST-1e\",\"TRAPPIST-1e\",\"TRAPPIST-1e\",\"55 Cancri e\",\"TRAPPIST-1e\",\"TRAPPIST-1e\",\"TRAPPIST-1e\",\"TRAPPIST-1e\",\"TRAPPIST-1e\",\"TRAPPIST-1e\",\"55 Cancri e\",\"TRAPPIST-1e\",\"PSO J318.5-22\",\"TRAPPIST-1e\",null,\"TRAPPIST-1e\",\"TRAPPIST-1e\",\"TRAPPIST-1e\",\"TRAPPIST-1e\",\"TRAPPIST-1e\",\"TRAPPIST-1e\",\"TRAPPIST-1e\",\"TRAPPIST-1e\",\"55 Cancri e\",\"TRAPPIST-1e\",\"55 Cancri e\",\"TRAPPIST-1e\",\"55 Cancri e\",\"TRAPPIST-1e\",\"PSO J318.5-22\",\"PSO J318.5-22\",\"TRAPPIST-1e\",\"TRAPPIST-1e\",\"TRAPPIST-1e\",\"55 Cancri e\",\"TRAPPIST-1e\",\"TRAPPIST-1e\",\"55 Cancri e\",\"TRAPPIST-1e\",\"PSO J318.5-22\",\"55 Cancri e\",\"55 Cancri e\",\"55 Cancri e\",\"55 Cancri e\",\"TRAPPIST-1e\",\"TRAPPIST-1e\",\"TRAPPIST-1e\",\"TRAPPIST-1e\",\"TRAPPIST-1e\",\"55 Cancri e\",null,\"TRAPPIST-1e\",\"TRAPPIST-1e\",\"TRAPPIST-1e\",\"55 Cancri e\",\"TRAPPIST-1e\",\"TRAPPIST-1e\",\"55 Cancri e\",\"TRAPPIST-1e\",\"TRAPPIST-1e\",\"TRAPPIST-1e\",\"PSO J318.5-22\",\"55 Cancri e\",\"55 Cancri e\",\"55 Cancri e\",\"55 Cancri e\",\"TRAPPIST-1e\",\"TRAPPIST-1e\",\"TRAPPIST-1e\",\"PSO J318.5-22\",\"55 Cancri e\",\"TRAPPIST-1e\",\"55 Cancri e\",\"TRAPPIST-1e\",\"PSO J318.5-22\",\"TRAPPIST-1e\",\"TRAPPIST-1e\",\"55 Cancri e\",\"TRAPPIST-1e\",\"TRAPPIST-1e\",\"TRAPPIST-1e\",null,\"TRAPPIST-1e\",\"TRAPPIST-1e\",\"TRAPPIST-1e\",\"TRAPPIST-1e\",\"55 Cancri e\",\"55 Cancri e\",\"TRAPPIST-1e\",\"TRAPPIST-1e\",\"55 Cancri e\",\"TRAPPIST-1e\",\"55 Cancri e\",\"55 Cancri e\",\"55 Cancri e\",\"55 Cancri e\",\"TRAPPIST-1e\",\"55 Cancri e\",\"TRAPPIST-1e\",\"PSO J318.5-22\",\"TRAPPIST-1e\",\"TRAPPIST-1e\",\"TRAPPIST-1e\",\"TRAPPIST-1e\",null,\"TRAPPIST-1e\",\"PSO J318.5-22\",\"55 Cancri e\",\"TRAPPIST-1e\",\"PSO J318.5-22\",\"TRAPPIST-1e\",\"TRAPPIST-1e\",\"55 Cancri e\",\"TRAPPIST-1e\",\"TRAPPIST-1e\",\"55 Cancri e\",\"55 Cancri e\",\"TRAPPIST-1e\",\"TRAPPIST-1e\",\"TRAPPIST-1e\",\"TRAPPIST-1e\",\"TRAPPIST-1e\",\"55 Cancri e\",\"TRAPPIST-1e\",\"TRAPPIST-1e\",\"TRAPPIST-1e\",\"TRAPPIST-1e\",\"PSO J318.5-22\",\"55 Cancri e\",\"TRAPPIST-1e\",\"TRAPPIST-1e\",\"TRAPPIST-1e\",\"55 Cancri e\",\"55 Cancri e\",\"TRAPPIST-1e\",\"TRAPPIST-1e\",\"TRAPPIST-1e\",\"PSO J318.5-22\",\"TRAPPIST-1e\",\"TRAPPIST-1e\",\"55 Cancri e\",\"TRAPPIST-1e\",\"55 Cancri e\",\"TRAPPIST-1e\",\"55 Cancri e\",\"TRAPPIST-1e\",\"PSO J318.5-22\",\"TRAPPIST-1e\",\"TRAPPIST-1e\",null,\"TRAPPIST-1e\",\"55 Cancri e\",\"TRAPPIST-1e\",\"TRAPPIST-1e\",\"TRAPPIST-1e\",\"55 Cancri e\",\"55 Cancri e\",\"55 Cancri e\",\"TRAPPIST-1e\",\"55 Cancri e\",\"TRAPPIST-1e\",\"PSO J318.5-22\",\"TRAPPIST-1e\",\"TRAPPIST-1e\",\"TRAPPIST-1e\",\"TRAPPIST-1e\",\"55 Cancri e\",\"PSO J318.5-22\",\"TRAPPIST-1e\",\"55 Cancri e\",\"PSO J318.5-22\",\"55 Cancri e\",\"TRAPPIST-1e\",null,\"55 Cancri e\",\"55 Cancri e\",\"TRAPPIST-1e\",\"55 Cancri e\",\"TRAPPIST-1e\",\"PSO J318.5-22\",\"55 Cancri e\",\"55 Cancri e\",\"TRAPPIST-1e\",\"TRAPPIST-1e\",\"PSO J318.5-22\",\"TRAPPIST-1e\",\"55 Cancri e\",\"55 Cancri e\",\"TRAPPIST-1e\",null,\"TRAPPIST-1e\",\"55 Cancri e\",\"TRAPPIST-1e\",\"TRAPPIST-1e\",\"TRAPPIST-1e\",\"TRAPPIST-1e\",\"TRAPPIST-1e\",\"TRAPPIST-1e\",\"TRAPPIST-1e\",\"TRAPPIST-1e\",\"TRAPPIST-1e\",\"55 Cancri e\",\"TRAPPIST-1e\",\"55 Cancri e\",\"TRAPPIST-1e\",\"TRAPPIST-1e\",\"TRAPPIST-1e\",\"TRAPPIST-1e\",\"TRAPPIST-1e\",\"55 Cancri e\",\"TRAPPIST-1e\",\"TRAPPIST-1e\",\"TRAPPIST-1e\",\"55 Cancri e\",\"55 Cancri e\",\"55 Cancri e\",\"TRAPPIST-1e\",\"TRAPPIST-1e\",\"TRAPPIST-1e\",\"TRAPPIST-1e\",\"55 Cancri e\",\"55 Cancri e\",\"55 Cancri e\",\"55 Cancri e\",\"TRAPPIST-1e\",\"TRAPPIST-1e\",\"TRAPPIST-1e\",\"TRAPPIST-1e\",\"55 Cancri e\",\"PSO J318.5-22\",\"TRAPPIST-1e\",\"TRAPPIST-1e\",\"TRAPPIST-1e\",\"55 Cancri e\",\"PSO J318.5-22\",\"55 Cancri e\",\"TRAPPIST-1e\",\"TRAPPIST-1e\",\"TRAPPIST-1e\",\"TRAPPIST-1e\",\"TRAPPIST-1e\",\"55 Cancri e\",\"TRAPPIST-1e\",\"TRAPPIST-1e\",\"PSO J318.5-22\",\"PSO J318.5-22\",\"55 Cancri e\",\"TRAPPIST-1e\",\"PSO J318.5-22\",\"PSO J318.5-22\",\"TRAPPIST-1e\",\"55 Cancri e\",\"TRAPPIST-1e\",\"TRAPPIST-1e\",\"TRAPPIST-1e\",\"55 Cancri e\",\"TRAPPIST-1e\",\"TRAPPIST-1e\",\"TRAPPIST-1e\",\"TRAPPIST-1e\",\"TRAPPIST-1e\",\"55 Cancri e\",\"PSO J318.5-22\",\"TRAPPIST-1e\",\"55 Cancri e\",\"TRAPPIST-1e\",\"TRAPPIST-1e\",\"TRAPPIST-1e\",\"PSO J318.5-22\",\"TRAPPIST-1e\",\"55 Cancri e\",\"TRAPPIST-1e\",\"TRAPPIST-1e\",\"TRAPPIST-1e\",\"TRAPPIST-1e\",\"PSO J318.5-22\",\"55 Cancri e\",\"TRAPPIST-1e\",\"55 Cancri e\",\"TRAPPIST-1e\",\"55 Cancri e\",\"55 Cancri e\",\"TRAPPIST-1e\",\"TRAPPIST-1e\",\"PSO J318.5-22\",\"TRAPPIST-1e\",\"TRAPPIST-1e\",\"TRAPPIST-1e\",\"TRAPPIST-1e\",\"55 Cancri e\",\"TRAPPIST-1e\",\"TRAPPIST-1e\",\"TRAPPIST-1e\",\"TRAPPIST-1e\",\"TRAPPIST-1e\",\"TRAPPIST-1e\",\"TRAPPIST-1e\",\"55 Cancri e\",\"55 Cancri e\",\"PSO J318.5-22\",\"TRAPPIST-1e\",\"TRAPPIST-1e\",\"PSO J318.5-22\",\"TRAPPIST-1e\",\"55 Cancri e\",\"TRAPPIST-1e\",\"PSO J318.5-22\",\"TRAPPIST-1e\",\"TRAPPIST-1e\",\"55 Cancri e\",\"55 Cancri e\",\"TRAPPIST-1e\",\"PSO J318.5-22\",\"TRAPPIST-1e\",\"TRAPPIST-1e\",\"TRAPPIST-1e\",\"TRAPPIST-1e\",\"TRAPPIST-1e\",\"TRAPPIST-1e\",\"TRAPPIST-1e\",\"TRAPPIST-1e\",\"55 Cancri e\",\"TRAPPIST-1e\",\"55 Cancri e\",\"TRAPPIST-1e\",\"55 Cancri e\",\"TRAPPIST-1e\",\"TRAPPIST-1e\",\"TRAPPIST-1e\",\"55 Cancri e\",\"PSO J318.5-22\",\"PSO J318.5-22\",\"TRAPPIST-1e\",\"TRAPPIST-1e\",\"TRAPPIST-1e\",\"TRAPPIST-1e\",\"TRAPPIST-1e\",\"55 Cancri e\",\"TRAPPIST-1e\",\"TRAPPIST-1e\",\"TRAPPIST-1e\",\"TRAPPIST-1e\",\"TRAPPIST-1e\",\"55 Cancri e\",\"TRAPPIST-1e\",null,\"TRAPPIST-1e\",\"55 Cancri e\",\"55 Cancri e\",\"55 Cancri e\",\"TRAPPIST-1e\",\"TRAPPIST-1e\",\"55 Cancri e\",\"PSO J318.5-22\",\"TRAPPIST-1e\",\"PSO J318.5-22\",\"TRAPPIST-1e\",\"TRAPPIST-1e\",\"55 Cancri e\",\"TRAPPIST-1e\",\"TRAPPIST-1e\",\"TRAPPIST-1e\",\"TRAPPIST-1e\",\"55 Cancri e\",\"TRAPPIST-1e\",\"TRAPPIST-1e\",\"PSO J318.5-22\",\"55 Cancri e\",\"55 Cancri e\",\"PSO J318.5-22\",\"TRAPPIST-1e\",\"TRAPPIST-1e\",\"TRAPPIST-1e\",\"55 Cancri e\",\"TRAPPIST-1e\",\"TRAPPIST-1e\",\"55 Cancri e\",\"55 Cancri e\",\"55 Cancri e\",\"55 Cancri e\",\"TRAPPIST-1e\",\"TRAPPIST-1e\",\"TRAPPIST-1e\",\"55 Cancri e\",\"55 Cancri e\",\"55 Cancri e\",\"TRAPPIST-1e\",\"TRAPPIST-1e\",\"TRAPPIST-1e\",\"55 Cancri e\",\"TRAPPIST-1e\",\"TRAPPIST-1e\",\"TRAPPIST-1e\",\"55 Cancri e\",\"TRAPPIST-1e\",\"PSO J318.5-22\",\"TRAPPIST-1e\",\"TRAPPIST-1e\",\"55 Cancri e\",\"TRAPPIST-1e\",\"TRAPPIST-1e\",\"TRAPPIST-1e\",\"55 Cancri e\",\"55 Cancri e\",\"PSO J318.5-22\",\"TRAPPIST-1e\",\"TRAPPIST-1e\",\"55 Cancri e\",\"TRAPPIST-1e\",\"PSO J318.5-22\",\"TRAPPIST-1e\",\"PSO J318.5-22\",\"TRAPPIST-1e\",\"TRAPPIST-1e\",\"TRAPPIST-1e\",\"TRAPPIST-1e\",\"55 Cancri e\",\"PSO J318.5-22\",\"55 Cancri e\",\"TRAPPIST-1e\",\"PSO J318.5-22\",\"TRAPPIST-1e\",\"TRAPPIST-1e\",\"TRAPPIST-1e\",\"TRAPPIST-1e\",\"TRAPPIST-1e\",\"TRAPPIST-1e\",\"TRAPPIST-1e\",\"PSO J318.5-22\",\"TRAPPIST-1e\",\"55 Cancri e\",\"TRAPPIST-1e\",\"TRAPPIST-1e\",\"TRAPPIST-1e\",\"TRAPPIST-1e\",\"TRAPPIST-1e\",\"TRAPPIST-1e\",\"TRAPPIST-1e\",\"TRAPPIST-1e\",\"TRAPPIST-1e\",\"TRAPPIST-1e\",\"TRAPPIST-1e\",\"TRAPPIST-1e\",\"TRAPPIST-1e\",\"TRAPPIST-1e\",null,\"TRAPPIST-1e\",\"55 Cancri e\",\"55 Cancri e\",\"TRAPPIST-1e\",\"TRAPPIST-1e\",\"TRAPPIST-1e\",\"TRAPPIST-1e\",\"TRAPPIST-1e\",\"TRAPPIST-1e\",\"TRAPPIST-1e\",\"TRAPPIST-1e\",\"TRAPPIST-1e\",\"TRAPPIST-1e\",\"TRAPPIST-1e\",\"TRAPPIST-1e\",\"55 Cancri e\",\"TRAPPIST-1e\",\"TRAPPIST-1e\",\"TRAPPIST-1e\",\"TRAPPIST-1e\",\"TRAPPIST-1e\",\"TRAPPIST-1e\",null,\"TRAPPIST-1e\",\"TRAPPIST-1e\",\"PSO J318.5-22\",\"55 Cancri e\",\"TRAPPIST-1e\",\"55 Cancri e\",\"55 Cancri e\",\"TRAPPIST-1e\",\"55 Cancri e\",\"PSO J318.5-22\",\"55 Cancri e\",\"PSO J318.5-22\",\"PSO J318.5-22\",\"PSO J318.5-22\",\"TRAPPIST-1e\",\"TRAPPIST-1e\",\"TRAPPIST-1e\",\"TRAPPIST-1e\",\"TRAPPIST-1e\",\"TRAPPIST-1e\",\"TRAPPIST-1e\",\"TRAPPIST-1e\",\"TRAPPIST-1e\",\"TRAPPIST-1e\",\"TRAPPIST-1e\",\"TRAPPIST-1e\",\"TRAPPIST-1e\",\"TRAPPIST-1e\",\"55 Cancri e\",\"TRAPPIST-1e\",\"TRAPPIST-1e\",\"55 Cancri e\",\"TRAPPIST-1e\",\"TRAPPIST-1e\",\"55 Cancri e\",\"55 Cancri e\",\"PSO J318.5-22\",\"TRAPPIST-1e\",\"PSO J318.5-22\",\"TRAPPIST-1e\",\"TRAPPIST-1e\",\"TRAPPIST-1e\",\"TRAPPIST-1e\",\"PSO J318.5-22\",\"PSO J318.5-22\",\"TRAPPIST-1e\",null,\"55 Cancri e\",\"55 Cancri e\",\"TRAPPIST-1e\",\"TRAPPIST-1e\",\"TRAPPIST-1e\",\"TRAPPIST-1e\",\"TRAPPIST-1e\",\"55 Cancri e\",\"TRAPPIST-1e\",\"TRAPPIST-1e\",\"TRAPPIST-1e\",\"55 Cancri e\",\"55 Cancri e\",\"TRAPPIST-1e\",\"55 Cancri e\",\"55 Cancri e\",\"TRAPPIST-1e\",\"TRAPPIST-1e\",\"TRAPPIST-1e\",\"55 Cancri e\",\"TRAPPIST-1e\",\"55 Cancri e\",\"55 Cancri e\",\"55 Cancri e\",\"TRAPPIST-1e\",\"TRAPPIST-1e\",\"TRAPPIST-1e\",\"TRAPPIST-1e\",\"TRAPPIST-1e\",\"55 Cancri e\",\"55 Cancri e\",\"TRAPPIST-1e\",\"TRAPPIST-1e\",\"TRAPPIST-1e\",\"TRAPPIST-1e\",\"PSO J318.5-22\",\"55 Cancri e\",\"TRAPPIST-1e\",\"TRAPPIST-1e\",\"55 Cancri e\",\"TRAPPIST-1e\",\"55 Cancri e\",\"TRAPPIST-1e\",\"55 Cancri e\",\"TRAPPIST-1e\",\"TRAPPIST-1e\",\"TRAPPIST-1e\",\"55 Cancri e\",\"TRAPPIST-1e\",\"TRAPPIST-1e\",\"55 Cancri e\",\"TRAPPIST-1e\",\"TRAPPIST-1e\",\"55 Cancri e\",\"TRAPPIST-1e\",\"PSO J318.5-22\",\"55 Cancri e\",\"TRAPPIST-1e\",\"55 Cancri e\",\"TRAPPIST-1e\",\"TRAPPIST-1e\",\"55 Cancri e\",\"TRAPPIST-1e\",\"TRAPPIST-1e\",\"TRAPPIST-1e\",\"TRAPPIST-1e\",\"TRAPPIST-1e\",\"55 Cancri e\",\"TRAPPIST-1e\",\"TRAPPIST-1e\",\"TRAPPIST-1e\",\"TRAPPIST-1e\",\"TRAPPIST-1e\",\"TRAPPIST-1e\",\"55 Cancri e\",\"TRAPPIST-1e\",\"55 Cancri e\",\"PSO J318.5-22\",\"TRAPPIST-1e\",\"TRAPPIST-1e\",\"55 Cancri e\",\"55 Cancri e\",\"PSO J318.5-22\",\"PSO J318.5-22\",\"TRAPPIST-1e\",\"TRAPPIST-1e\",\"55 Cancri e\",\"55 Cancri e\",\"55 Cancri e\",\"TRAPPIST-1e\",\"TRAPPIST-1e\",\"TRAPPIST-1e\",\"TRAPPIST-1e\",\"TRAPPIST-1e\",\"TRAPPIST-1e\",\"TRAPPIST-1e\",\"55 Cancri e\",\"TRAPPIST-1e\",\"TRAPPIST-1e\",\"55 Cancri e\",\"TRAPPIST-1e\",\"TRAPPIST-1e\",\"TRAPPIST-1e\",\"TRAPPIST-1e\",\"55 Cancri e\",\"TRAPPIST-1e\",\"TRAPPIST-1e\",\"TRAPPIST-1e\",\"TRAPPIST-1e\",\"55 Cancri e\",\"TRAPPIST-1e\",\"PSO J318.5-22\",\"55 Cancri e\",null,\"TRAPPIST-1e\",\"TRAPPIST-1e\",\"TRAPPIST-1e\",\"55 Cancri e\",\"TRAPPIST-1e\",\"PSO J318.5-22\",\"TRAPPIST-1e\",\"TRAPPIST-1e\",\"PSO J318.5-22\",\"TRAPPIST-1e\",\"TRAPPIST-1e\",\"TRAPPIST-1e\",\"55 Cancri e\",\"55 Cancri e\",\"55 Cancri e\",\"TRAPPIST-1e\",\"55 Cancri e\",\"TRAPPIST-1e\",\"PSO J318.5-22\",\"TRAPPIST-1e\",\"TRAPPIST-1e\",\"TRAPPIST-1e\",\"55 Cancri e\",\"55 Cancri e\",\"TRAPPIST-1e\",\"TRAPPIST-1e\",\"55 Cancri e\",\"TRAPPIST-1e\",\"TRAPPIST-1e\",\"TRAPPIST-1e\",\"TRAPPIST-1e\",\"TRAPPIST-1e\",\"55 Cancri e\",\"TRAPPIST-1e\",\"TRAPPIST-1e\",\"TRAPPIST-1e\",\"TRAPPIST-1e\",\"TRAPPIST-1e\",\"55 Cancri e\",\"TRAPPIST-1e\",\"55 Cancri e\",\"TRAPPIST-1e\",\"TRAPPIST-1e\",\"TRAPPIST-1e\",\"TRAPPIST-1e\",\"55 Cancri e\",\"TRAPPIST-1e\",\"TRAPPIST-1e\",\"TRAPPIST-1e\",\"TRAPPIST-1e\",\"TRAPPIST-1e\",\"55 Cancri e\",\"55 Cancri e\",\"55 Cancri e\",\"PSO J318.5-22\",\"TRAPPIST-1e\",\"TRAPPIST-1e\",\"TRAPPIST-1e\",\"55 Cancri e\",\"55 Cancri e\",\"55 Cancri e\",\"TRAPPIST-1e\",\"TRAPPIST-1e\",\"55 Cancri e\",\"TRAPPIST-1e\",\"TRAPPIST-1e\",\"TRAPPIST-1e\",\"55 Cancri e\",\"TRAPPIST-1e\",\"55 Cancri e\",\"TRAPPIST-1e\",\"PSO J318.5-22\",\"TRAPPIST-1e\",\"TRAPPIST-1e\",\"TRAPPIST-1e\",\"TRAPPIST-1e\",\"55 Cancri e\",\"TRAPPIST-1e\",\"55 Cancri e\",\"TRAPPIST-1e\",\"55 Cancri e\",\"TRAPPIST-1e\",\"55 Cancri e\",\"55 Cancri e\",\"TRAPPIST-1e\",\"TRAPPIST-1e\",\"TRAPPIST-1e\",\"PSO J318.5-22\",\"TRAPPIST-1e\",\"55 Cancri e\",\"TRAPPIST-1e\",\"55 Cancri e\",\"TRAPPIST-1e\",\"PSO J318.5-22\",\"TRAPPIST-1e\",\"TRAPPIST-1e\",\"TRAPPIST-1e\",\"55 Cancri e\",\"PSO J318.5-22\",\"TRAPPIST-1e\",\"TRAPPIST-1e\",\"TRAPPIST-1e\",\"TRAPPIST-1e\",\"PSO J318.5-22\",\"TRAPPIST-1e\",\"TRAPPIST-1e\",\"TRAPPIST-1e\",\"55 Cancri e\",\"PSO J318.5-22\",\"TRAPPIST-1e\",\"TRAPPIST-1e\",\"TRAPPIST-1e\",\"PSO J318.5-22\",\"TRAPPIST-1e\",\"TRAPPIST-1e\",\"PSO J318.5-22\",\"PSO J318.5-22\",\"TRAPPIST-1e\",\"55 Cancri e\",null,\"TRAPPIST-1e\",\"TRAPPIST-1e\",\"TRAPPIST-1e\",\"TRAPPIST-1e\",\"TRAPPIST-1e\",\"55 Cancri e\",\"TRAPPIST-1e\",\"TRAPPIST-1e\",\"55 Cancri e\",\"TRAPPIST-1e\",\"55 Cancri e\",\"55 Cancri e\",\"TRAPPIST-1e\",\"TRAPPIST-1e\",\"55 Cancri e\",\"TRAPPIST-1e\",\"55 Cancri e\",\"TRAPPIST-1e\",\"55 Cancri e\",\"TRAPPIST-1e\",\"PSO J318.5-22\",\"55 Cancri e\",\"55 Cancri e\",\"TRAPPIST-1e\",\"PSO J318.5-22\",\"TRAPPIST-1e\",\"TRAPPIST-1e\",\"55 Cancri e\",\"TRAPPIST-1e\",\"TRAPPIST-1e\",\"TRAPPIST-1e\",\"TRAPPIST-1e\",\"PSO J318.5-22\",\"55 Cancri e\",\"PSO J318.5-22\",\"55 Cancri e\",\"TRAPPIST-1e\",\"55 Cancri e\",\"TRAPPIST-1e\",\"TRAPPIST-1e\",\"TRAPPIST-1e\",\"55 Cancri e\",\"55 Cancri e\",\"TRAPPIST-1e\",\"TRAPPIST-1e\",\"55 Cancri e\",\"TRAPPIST-1e\",\"55 Cancri e\",\"TRAPPIST-1e\",\"55 Cancri e\",\"55 Cancri e\",\"TRAPPIST-1e\",\"TRAPPIST-1e\",\"TRAPPIST-1e\",\"TRAPPIST-1e\",\"PSO J318.5-22\",\"TRAPPIST-1e\",\"TRAPPIST-1e\",\"TRAPPIST-1e\",\"TRAPPIST-1e\",\"55 Cancri e\",\"TRAPPIST-1e\",\"55 Cancri e\",\"TRAPPIST-1e\",\"55 Cancri e\",\"TRAPPIST-1e\",\"TRAPPIST-1e\",\"TRAPPIST-1e\",\"TRAPPIST-1e\",null,\"TRAPPIST-1e\",\"PSO J318.5-22\",\"TRAPPIST-1e\",\"55 Cancri e\",\"TRAPPIST-1e\",\"TRAPPIST-1e\",\"TRAPPIST-1e\",\"PSO J318.5-22\",\"PSO J318.5-22\",\"55 Cancri e\",\"TRAPPIST-1e\",\"55 Cancri e\",\"TRAPPIST-1e\",\"TRAPPIST-1e\",\"TRAPPIST-1e\",\"TRAPPIST-1e\",\"TRAPPIST-1e\",\"PSO J318.5-22\",\"55 Cancri e\",\"TRAPPIST-1e\",\"TRAPPIST-1e\",\"TRAPPIST-1e\",\"TRAPPIST-1e\",\"TRAPPIST-1e\",\"TRAPPIST-1e\",\"TRAPPIST-1e\",\"PSO J318.5-22\",\"TRAPPIST-1e\",null,\"TRAPPIST-1e\",\"TRAPPIST-1e\",\"55 Cancri e\",\"TRAPPIST-1e\",\"55 Cancri e\",\"PSO J318.5-22\",\"55 Cancri e\",\"55 Cancri e\",\"TRAPPIST-1e\",\"TRAPPIST-1e\",\"TRAPPIST-1e\",\"TRAPPIST-1e\",\"55 Cancri e\",\"55 Cancri e\",\"TRAPPIST-1e\",\"TRAPPIST-1e\",\"PSO J318.5-22\",\"TRAPPIST-1e\",\"PSO J318.5-22\",\"PSO J318.5-22\",\"TRAPPIST-1e\",\"TRAPPIST-1e\",\"55 Cancri e\",\"TRAPPIST-1e\",\"TRAPPIST-1e\",\"TRAPPIST-1e\",\"TRAPPIST-1e\",\"PSO J318.5-22\",\"TRAPPIST-1e\",\"55 Cancri e\",\"TRAPPIST-1e\",\"TRAPPIST-1e\",\"55 Cancri e\",\"55 Cancri e\",\"PSO J318.5-22\",\"TRAPPIST-1e\",\"TRAPPIST-1e\",\"55 Cancri e\",\"TRAPPIST-1e\",\"TRAPPIST-1e\",\"TRAPPIST-1e\",\"55 Cancri e\",\"TRAPPIST-1e\",\"TRAPPIST-1e\",\"TRAPPIST-1e\",\"TRAPPIST-1e\",\"TRAPPIST-1e\",\"TRAPPIST-1e\"],\"xaxis\":\"x\",\"yaxis\":\"y\",\"type\":\"histogram\"}],                        {\"template\":{\"data\":{\"histogram2dcontour\":[{\"type\":\"histogram2dcontour\",\"colorbar\":{\"outlinewidth\":0,\"ticks\":\"\"},\"colorscale\":[[0.0,\"#0d0887\"],[0.1111111111111111,\"#46039f\"],[0.2222222222222222,\"#7201a8\"],[0.3333333333333333,\"#9c179e\"],[0.4444444444444444,\"#bd3786\"],[0.5555555555555556,\"#d8576b\"],[0.6666666666666666,\"#ed7953\"],[0.7777777777777778,\"#fb9f3a\"],[0.8888888888888888,\"#fdca26\"],[1.0,\"#f0f921\"]]}],\"choropleth\":[{\"type\":\"choropleth\",\"colorbar\":{\"outlinewidth\":0,\"ticks\":\"\"}}],\"histogram2d\":[{\"type\":\"histogram2d\",\"colorbar\":{\"outlinewidth\":0,\"ticks\":\"\"},\"colorscale\":[[0.0,\"#0d0887\"],[0.1111111111111111,\"#46039f\"],[0.2222222222222222,\"#7201a8\"],[0.3333333333333333,\"#9c179e\"],[0.4444444444444444,\"#bd3786\"],[0.5555555555555556,\"#d8576b\"],[0.6666666666666666,\"#ed7953\"],[0.7777777777777778,\"#fb9f3a\"],[0.8888888888888888,\"#fdca26\"],[1.0,\"#f0f921\"]]}],\"heatmap\":[{\"type\":\"heatmap\",\"colorbar\":{\"outlinewidth\":0,\"ticks\":\"\"},\"colorscale\":[[0.0,\"#0d0887\"],[0.1111111111111111,\"#46039f\"],[0.2222222222222222,\"#7201a8\"],[0.3333333333333333,\"#9c179e\"],[0.4444444444444444,\"#bd3786\"],[0.5555555555555556,\"#d8576b\"],[0.6666666666666666,\"#ed7953\"],[0.7777777777777778,\"#fb9f3a\"],[0.8888888888888888,\"#fdca26\"],[1.0,\"#f0f921\"]]}],\"heatmapgl\":[{\"type\":\"heatmapgl\",\"colorbar\":{\"outlinewidth\":0,\"ticks\":\"\"},\"colorscale\":[[0.0,\"#0d0887\"],[0.1111111111111111,\"#46039f\"],[0.2222222222222222,\"#7201a8\"],[0.3333333333333333,\"#9c179e\"],[0.4444444444444444,\"#bd3786\"],[0.5555555555555556,\"#d8576b\"],[0.6666666666666666,\"#ed7953\"],[0.7777777777777778,\"#fb9f3a\"],[0.8888888888888888,\"#fdca26\"],[1.0,\"#f0f921\"]]}],\"contourcarpet\":[{\"type\":\"contourcarpet\",\"colorbar\":{\"outlinewidth\":0,\"ticks\":\"\"}}],\"contour\":[{\"type\":\"contour\",\"colorbar\":{\"outlinewidth\":0,\"ticks\":\"\"},\"colorscale\":[[0.0,\"#0d0887\"],[0.1111111111111111,\"#46039f\"],[0.2222222222222222,\"#7201a8\"],[0.3333333333333333,\"#9c179e\"],[0.4444444444444444,\"#bd3786\"],[0.5555555555555556,\"#d8576b\"],[0.6666666666666666,\"#ed7953\"],[0.7777777777777778,\"#fb9f3a\"],[0.8888888888888888,\"#fdca26\"],[1.0,\"#f0f921\"]]}],\"surface\":[{\"type\":\"surface\",\"colorbar\":{\"outlinewidth\":0,\"ticks\":\"\"},\"colorscale\":[[0.0,\"#0d0887\"],[0.1111111111111111,\"#46039f\"],[0.2222222222222222,\"#7201a8\"],[0.3333333333333333,\"#9c179e\"],[0.4444444444444444,\"#bd3786\"],[0.5555555555555556,\"#d8576b\"],[0.6666666666666666,\"#ed7953\"],[0.7777777777777778,\"#fb9f3a\"],[0.8888888888888888,\"#fdca26\"],[1.0,\"#f0f921\"]]}],\"mesh3d\":[{\"type\":\"mesh3d\",\"colorbar\":{\"outlinewidth\":0,\"ticks\":\"\"}}],\"scatter\":[{\"fillpattern\":{\"fillmode\":\"overlay\",\"size\":10,\"solidity\":0.2},\"type\":\"scatter\"}],\"parcoords\":[{\"type\":\"parcoords\",\"line\":{\"colorbar\":{\"outlinewidth\":0,\"ticks\":\"\"}}}],\"scatterpolargl\":[{\"type\":\"scatterpolargl\",\"marker\":{\"colorbar\":{\"outlinewidth\":0,\"ticks\":\"\"}}}],\"bar\":[{\"error_x\":{\"color\":\"#2a3f5f\"},\"error_y\":{\"color\":\"#2a3f5f\"},\"marker\":{\"line\":{\"color\":\"#E5ECF6\",\"width\":0.5},\"pattern\":{\"fillmode\":\"overlay\",\"size\":10,\"solidity\":0.2}},\"type\":\"bar\"}],\"scattergeo\":[{\"type\":\"scattergeo\",\"marker\":{\"colorbar\":{\"outlinewidth\":0,\"ticks\":\"\"}}}],\"scatterpolar\":[{\"type\":\"scatterpolar\",\"marker\":{\"colorbar\":{\"outlinewidth\":0,\"ticks\":\"\"}}}],\"histogram\":[{\"marker\":{\"pattern\":{\"fillmode\":\"overlay\",\"size\":10,\"solidity\":0.2}},\"type\":\"histogram\"}],\"scattergl\":[{\"type\":\"scattergl\",\"marker\":{\"colorbar\":{\"outlinewidth\":0,\"ticks\":\"\"}}}],\"scatter3d\":[{\"type\":\"scatter3d\",\"line\":{\"colorbar\":{\"outlinewidth\":0,\"ticks\":\"\"}},\"marker\":{\"colorbar\":{\"outlinewidth\":0,\"ticks\":\"\"}}}],\"scattermapbox\":[{\"type\":\"scattermapbox\",\"marker\":{\"colorbar\":{\"outlinewidth\":0,\"ticks\":\"\"}}}],\"scatterternary\":[{\"type\":\"scatterternary\",\"marker\":{\"colorbar\":{\"outlinewidth\":0,\"ticks\":\"\"}}}],\"scattercarpet\":[{\"type\":\"scattercarpet\",\"marker\":{\"colorbar\":{\"outlinewidth\":0,\"ticks\":\"\"}}}],\"carpet\":[{\"aaxis\":{\"endlinecolor\":\"#2a3f5f\",\"gridcolor\":\"white\",\"linecolor\":\"white\",\"minorgridcolor\":\"white\",\"startlinecolor\":\"#2a3f5f\"},\"baxis\":{\"endlinecolor\":\"#2a3f5f\",\"gridcolor\":\"white\",\"linecolor\":\"white\",\"minorgridcolor\":\"white\",\"startlinecolor\":\"#2a3f5f\"},\"type\":\"carpet\"}],\"table\":[{\"cells\":{\"fill\":{\"color\":\"#EBF0F8\"},\"line\":{\"color\":\"white\"}},\"header\":{\"fill\":{\"color\":\"#C8D4E3\"},\"line\":{\"color\":\"white\"}},\"type\":\"table\"}],\"barpolar\":[{\"marker\":{\"line\":{\"color\":\"#E5ECF6\",\"width\":0.5},\"pattern\":{\"fillmode\":\"overlay\",\"size\":10,\"solidity\":0.2}},\"type\":\"barpolar\"}],\"pie\":[{\"automargin\":true,\"type\":\"pie\"}]},\"layout\":{\"autotypenumbers\":\"strict\",\"colorway\":[\"#636efa\",\"#EF553B\",\"#00cc96\",\"#ab63fa\",\"#FFA15A\",\"#19d3f3\",\"#FF6692\",\"#B6E880\",\"#FF97FF\",\"#FECB52\"],\"font\":{\"color\":\"#2a3f5f\"},\"hovermode\":\"closest\",\"hoverlabel\":{\"align\":\"left\"},\"paper_bgcolor\":\"white\",\"plot_bgcolor\":\"#E5ECF6\",\"polar\":{\"bgcolor\":\"#E5ECF6\",\"angularaxis\":{\"gridcolor\":\"white\",\"linecolor\":\"white\",\"ticks\":\"\"},\"radialaxis\":{\"gridcolor\":\"white\",\"linecolor\":\"white\",\"ticks\":\"\"}},\"ternary\":{\"bgcolor\":\"#E5ECF6\",\"aaxis\":{\"gridcolor\":\"white\",\"linecolor\":\"white\",\"ticks\":\"\"},\"baxis\":{\"gridcolor\":\"white\",\"linecolor\":\"white\",\"ticks\":\"\"},\"caxis\":{\"gridcolor\":\"white\",\"linecolor\":\"white\",\"ticks\":\"\"}},\"coloraxis\":{\"colorbar\":{\"outlinewidth\":0,\"ticks\":\"\"}},\"colorscale\":{\"sequential\":[[0.0,\"#0d0887\"],[0.1111111111111111,\"#46039f\"],[0.2222222222222222,\"#7201a8\"],[0.3333333333333333,\"#9c179e\"],[0.4444444444444444,\"#bd3786\"],[0.5555555555555556,\"#d8576b\"],[0.6666666666666666,\"#ed7953\"],[0.7777777777777778,\"#fb9f3a\"],[0.8888888888888888,\"#fdca26\"],[1.0,\"#f0f921\"]],\"sequentialminus\":[[0.0,\"#0d0887\"],[0.1111111111111111,\"#46039f\"],[0.2222222222222222,\"#7201a8\"],[0.3333333333333333,\"#9c179e\"],[0.4444444444444444,\"#bd3786\"],[0.5555555555555556,\"#d8576b\"],[0.6666666666666666,\"#ed7953\"],[0.7777777777777778,\"#fb9f3a\"],[0.8888888888888888,\"#fdca26\"],[1.0,\"#f0f921\"]],\"diverging\":[[0,\"#8e0152\"],[0.1,\"#c51b7d\"],[0.2,\"#de77ae\"],[0.3,\"#f1b6da\"],[0.4,\"#fde0ef\"],[0.5,\"#f7f7f7\"],[0.6,\"#e6f5d0\"],[0.7,\"#b8e186\"],[0.8,\"#7fbc41\"],[0.9,\"#4d9221\"],[1,\"#276419\"]]},\"xaxis\":{\"gridcolor\":\"white\",\"linecolor\":\"white\",\"ticks\":\"\",\"title\":{\"standoff\":15},\"zerolinecolor\":\"white\",\"automargin\":true,\"zerolinewidth\":2},\"yaxis\":{\"gridcolor\":\"white\",\"linecolor\":\"white\",\"ticks\":\"\",\"title\":{\"standoff\":15},\"zerolinecolor\":\"white\",\"automargin\":true,\"zerolinewidth\":2},\"scene\":{\"xaxis\":{\"backgroundcolor\":\"#E5ECF6\",\"gridcolor\":\"white\",\"linecolor\":\"white\",\"showbackground\":true,\"ticks\":\"\",\"zerolinecolor\":\"white\",\"gridwidth\":2},\"yaxis\":{\"backgroundcolor\":\"#E5ECF6\",\"gridcolor\":\"white\",\"linecolor\":\"white\",\"showbackground\":true,\"ticks\":\"\",\"zerolinecolor\":\"white\",\"gridwidth\":2},\"zaxis\":{\"backgroundcolor\":\"#E5ECF6\",\"gridcolor\":\"white\",\"linecolor\":\"white\",\"showbackground\":true,\"ticks\":\"\",\"zerolinecolor\":\"white\",\"gridwidth\":2}},\"shapedefaults\":{\"line\":{\"color\":\"#2a3f5f\"}},\"annotationdefaults\":{\"arrowcolor\":\"#2a3f5f\",\"arrowhead\":0,\"arrowwidth\":1},\"geo\":{\"bgcolor\":\"white\",\"landcolor\":\"#E5ECF6\",\"subunitcolor\":\"white\",\"showland\":true,\"showlakes\":true,\"lakecolor\":\"white\"},\"title\":{\"x\":0.05},\"mapbox\":{\"style\":\"light\"}}},\"xaxis\":{\"anchor\":\"y\",\"domain\":[0.0,1.0],\"title\":{\"text\":\"Destination\"}},\"yaxis\":{\"anchor\":\"x\",\"domain\":[0.0,1.0],\"title\":{\"text\":\"count\"}},\"legend\":{\"title\":{\"text\":\"Transported\"},\"tracegroupgap\":0},\"margin\":{\"t\":60},\"barmode\":\"group\"},                        {\"responsive\": true}                    ).then(function(){\n",
       "                            \n",
       "var gd = document.getElementById('5ec2b7a6-871d-4248-a325-9ade453beb56');\n",
       "var x = new MutationObserver(function (mutations, observer) {{\n",
       "        var display = window.getComputedStyle(gd).display;\n",
       "        if (!display || display === 'none') {{\n",
       "            console.log([gd, 'removed!']);\n",
       "            Plotly.purge(gd);\n",
       "            observer.disconnect();\n",
       "        }}\n",
       "}});\n",
       "\n",
       "// Listen for the removal of the full notebook cells\n",
       "var notebookContainer = gd.closest('#notebook-container');\n",
       "if (notebookContainer) {{\n",
       "    x.observe(notebookContainer, {childList: true});\n",
       "}}\n",
       "\n",
       "// Listen for the clearing of the current output cell\n",
       "var outputEl = gd.closest('.output');\n",
       "if (outputEl) {{\n",
       "    x.observe(outputEl, {childList: true});\n",
       "}}\n",
       "\n",
       "                        })                };                });            </script>        </div>"
      ]
     },
     "metadata": {},
     "output_type": "display_data"
    }
   ],
   "source": [
    "px.histogram(df,x='Destination',color='Transported',barmode='group')"
   ]
  },
  {
   "cell_type": "code",
   "execution_count": 11,
   "id": "f6f85098",
   "metadata": {
    "execution": {
     "iopub.execute_input": "2023-02-22T05:13:51.563320Z",
     "iopub.status.busy": "2023-02-22T05:13:51.562835Z",
     "iopub.status.idle": "2023-02-22T05:13:51.664231Z",
     "shell.execute_reply": "2023-02-22T05:13:51.662696Z"
    },
    "papermill": {
     "duration": 0.124489,
     "end_time": "2023-02-22T05:13:51.667634",
     "exception": false,
     "start_time": "2023-02-22T05:13:51.543145",
     "status": "completed"
    },
    "tags": []
   },
   "outputs": [
    {
     "data": {
      "text/html": [
       "<div>                            <div id=\"cd40ec89-a67b-4e41-899e-28371d843e0e\" class=\"plotly-graph-div\" style=\"height:525px; width:100%;\"></div>            <script type=\"text/javascript\">                require([\"plotly\"], function(Plotly) {                    window.PLOTLYENV=window.PLOTLYENV || {};                                    if (document.getElementById(\"cd40ec89-a67b-4e41-899e-28371d843e0e\")) {                    Plotly.newPlot(                        \"cd40ec89-a67b-4e41-899e-28371d843e0e\",                        [{\"alignmentgroup\":\"True\",\"bingroup\":\"x\",\"hovertemplate\":\"Transported=False<br>VIP=%{x}<br>count=%{y}<extra></extra>\",\"legendgroup\":\"False\",\"marker\":{\"color\":\"#636efa\",\"pattern\":{\"shape\":\"\"}},\"name\":\"False\",\"offsetgroup\":\"False\",\"orientation\":\"v\",\"showlegend\":true,\"x\":[false,true,false,false,false,false,false,false,false,false,false,false,false,false,false,false,false,false,false,null,false,false,false,false,false,false,false,false,false,false,false,false,false,false,false,false,false,false,false,false,false,false,false,false,false,false,false,false,false,false,false,false,false,false,false,false,false,false,false,false,true,false,false,false,false,false,false,false,false,false,false,false,false,false,false,false,false,false,false,false,false,false,false,false,false,false,false,false,false,false,false,false,false,false,false,false,false,false,false,false,false,false,false,false,false,false,false,false,false,false,true,false,false,false,false,false,false,false,false,false,false,false,false,false,false,false,false,false,false,false,false,false,false,false,false,false,false,false,false,false,false,false,false,false,false,false,false,true,false,false,false,false,false,false,false,false,false,false,false,false,false,false,false,false,false,false,false,false,false,false,false,false,false,false,false,false,false,false,false,false,false,true,false,false,true,false,false,false,false,false,false,false,false,false,false,false,false,false,false,false,false,false,false,false,false,false,true,true,false,false,false,false,false,false,false,false,false,false,false,false,false,false,false,false,false,false,false,false,false,false,false,false,false,false,false,false,false,false,false,false,false,false,false,false,false,false,false,false,false,false,false,false,false,false,false,false,false,false,false,false,false,false,false,false,false,false,false,false,false,false,false,false,false,false,false,false,false,false,false,null,false,false,false,false,false,false,false,null,false,false,false,false,false,false,false,true,false,false,false,false,false,false,false,false,false,false,false,false,false,false,false,false,false,false,false,false,false,false,null,false,false,null,false,false,true,false,false,false,false,false,false,false,false,false,false,false,false,false,false,false,false,false,false,false,false,false,false,false,false,false,false,false,false,false,false,false,false,false,false,false,false,false,false,false,false,false,false,false,false,false,false,false,true,false,false,false,false,false,false,false,false,false,false,false,false,false,false,false,false,false,false,false,true,false,false,false,false,false,false,false,false,false,false,false,false,false,false,false,false,true,false,false,false,false,false,false,null,false,null,false,false,false,false,true,null,false,false,false,false,false,false,false,false,false,false,false,false,false,false,false,false,false,false,false,false,false,false,false,false,false,false,false,false,false,false,false,false,false,false,false,false,false,false,false,null,false,true,false,false,false,false,false,false,false,false,false,false,false,false,false,null,false,null,false,false,false,false,false,false,false,false,false,false,false,false,false,false,false,false,false,false,false,false,false,false,false,false,false,false,false,false,false,false,false,null,false,false,false,false,null,false,false,false,false,false,false,false,false,false,true,false,false,false,false,false,false,false,false,null,false,false,false,false,false,false,false,null,false,false,false,false,false,false,false,false,false,false,false,false,false,null,false,false,false,false,false,false,false,false,true,false,true,false,false,false,false,false,false,false,false,false,false,false,false,false,false,false,false,false,false,false,false,false,false,false,false,false,false,false,false,false,false,false,false,false,false,false,null,false,false,false,false,false,false,false,false,true,false,false,false,false,false,false,false,false,false,false,false,false,false,false,false,false,false,false,false,false,false,false,false,false,false,false,false,false,false,false,false,false,false,false,false,false,false,false,false,false,false,false,false,false,false,false,false,false,false,false,false,false,false,false,false,false,false,false,false,false,false,false,false,false,false,false,false,false,false,false,false,false,false,false,false,false,false,false,false,false,false,false,false,false,false,false,false,false,false,false,false,false,false,null,false,false,false,false,false,false,false,false,false,false,false,false,false,false,false,false,false,false,false,false,false,false,false,false,false,false,false,null,false,false,false,false,false,false,false,false,false,false,false,false,false,false,true,false,false,false,false,false,false,false,false,false,null,false,false,false,false,false,false,false,false,false,false,false,false,false,false,false,false,true,false,false,false,false,false,false,false,false,false,false,false,false,false,false,false,false,false,false,false,false,false,false,false,false,false,false,false,false,false,false,false,false,false,false,false,false,false,false,false,false,false,true,false,false,false,false,false,false,null,false,false,true,false,false,false,false,false,false,false,false,false,false,false,false,false,false,false,null,false,false,false,false,false,false,false,true,false,false,false,false,false,false,false,false,false,false,false,false,false,false,false,false,false,null,false,false,false,false,false,false,null,false,false,false,false,false,false,false,false,null,false,false,false,false,false,false,false,false,false,false,false,false,false,false,false,false,false,false,false,true,false,false,false,null,false,false,false,false,false,false,false,false,false,false,false,false,false,false,false,false,false,false,false,false,false,false,false,false,false,false,false,false,false,false,false,false,false,false,false,false,false,false,false,true,false,false,false,false,false,false,false,false,false,false,false,false,false,false,false,false,false,false,false,false,false,false,false,false,false,false,null,false,false,false,false,false,null,false,false,false,false,false,true,false,false,false,false,false,false,false,false,false,false,false,false,false,false,false,false,false,false,false,false,false,true,false,false,false,false,false,false,false,false,false,false,false,false,false,null,false,false,false,false,false,false,false,false,false,false,false,false,false,false,false,false,false,false,false,false,false,false,false,false,false,false,false,false,false,false,false,false,false,false,false,false,false,false,false,false,false,false,false,false,false,false,false,false,false,false,false,false,false,false,false,false,false,false,false,false,false,false,false,false,false,false,false,false,false,false,false,false,false,false,false,false,false,false,false,false,false,false,false,false,false,false,false,false,false,false,false,false,false,false,false,false,false,false,false,false,false,false,false,false,false,false,false,false,false,false,false,false,false,true,false,false,false,false,false,false,false,false,false,false,false,false,false,false,false,false,false,false,true,false,false,false,false,false,false,false,false,true,false,false,true,false,false,false,false,false,false,false,false,false,false,false,false,false,false,false,false,false,false,false,false,false,false,false,true,false,false,false,false,false,false,false,false,false,false,false,false,false,false,false,false,false,false,false,false,false,false,false,false,null,false,false,false,false,false,false,false,false,null,false,false,false,false,false,false,false,false,false,false,false,false,false,false,false,false,false,false,false,false,false,true,false,false,null,false,false,false,false,false,false,false,false,false,false,false,false,false,false,false,false,false,false,false,false,false,false,false,false,false,false,false,false,false,true,false,false,false,false,true,false,false,false,false,false,false,false,false,false,false,false,false,false,false,false,false,false,false,null,false,false,false,false,false,false,false,false,false,false,false,false,false,false,false,false,false,null,false,false,false,false,false,false,false,false,false,false,false,false,false,false,false,false,false,false,false,true,false,false,false,null,false,false,false,false,false,null,false,false,false,false,false,false,false,false,false,false,true,false,false,false,false,false,false,false,false,false,false,false,false,false,false,false,false,false,false,false,false,false,false,false,false,false,false,false,false,false,false,false,false,false,false,false,false,false,false,false,false,false,false,false,false,false,false,false,false,false,null,false,false,false,false,false,true,false,false,false,false,false,false,false,false,false,false,false,false,false,false,false,false,false,false,false,false,true,false,false,false,false,false,false,false,false,false,false,false,false,false,false,false,false,false,false,false,true,false,false,false,false,null,false,false,false,false,false,false,false,false,false,false,false,false,false,false,false,false,false,false,false,false,false,false,false,false,false,false,false,true,false,false,false,false,false,false,false,false,false,false,false,false,false,false,false,false,false,false,false,false,false,false,false,false,null,false,false,false,false,false,false,false,false,false,false,false,false,false,false,false,false,false,false,false,false,false,false,false,false,false,false,false,false,false,true,false,null,false,false,false,false,false,false,false,false,false,false,false,false,false,false,false,false,false,false,false,false,null,false,false,false,false,false,false,false,false,false,false,false,false,false,false,false,false,false,false,false,false,false,false,false,false,false,false,false,false,false,false,false,false,false,false,false,false,false,false,false,false,false,false,false,false,false,false,false,false,false,false,false,false,false,false,false,false,false,false,false,null,false,false,false,false,false,false,false,false,false,false,false,false,false,false,false,false,false,false,false,false,false,false,false,false,false,false,false,null,false,false,false,false,false,false,false,false,false,false,false,false,false,false,false,false,false,false,false,false,false,false,false,false,false,false,false,false,false,false,false,false,false,false,false,false,false,false,false,false,false,false,false,false,false,false,false,false,false,false,false,false,false,false,false,false,false,false,false,false,false,false,false,false,false,false,false,false,false,false,false,false,false,false,false,false,true,false,false,false,false,false,false,false,false,true,false,false,false,false,false,false,false,false,false,false,false,false,false,false,false,false,false,false,false,false,false,false,false,false,false,false,false,false,false,false,false,false,false,false,false,false,false,false,false,false,false,false,false,false,false,false,false,false,false,false,false,false,false,false,false,false,false,false,false,false,false,false,false,false,false,false,false,false,false,false,false,false,false,false,false,false,false,false,false,true,false,false,true,false,false,false,false,false,false,false,false,false,false,false,false,false,false,false,false,false,false,false,false,false,false,false,false,false,true,false,false,false,false,false,false,false,false,false,false,false,false,false,false,false,false,false,false,false,false,false,false,false,false,false,false,false,false,false,false,false,false,false,false,false,false,false,false,false,false,false,false,false,false,false,false,false,false,false,false,false,false,false,false,false,false,false,false,false,false,false,false,false,false,false,true,false,false,false,false,false,false,false,false,false,false,false,false,false,false,false,false,false,false,false,false,false,false,false,false,false,false,false,false,false,false,false,false,false,false,null,false,false,false,false,false,false,false,false,false,false,null,false,false,false,false,false,false,false,false,false,false,false,false,false,false,false,false,false,false,false,false,false,false,false,false,false,false,false,false,false,false,false,false,false,false,false,false,false,false,false,false,false,false,false,false,false,false,true,false,false,false,false,false,false,false,false,false,false,null,false,false,null,false,false,false,false,false,false,false,false,false,false,false,false,false,false,false,false,true,false,false,false,false,false,false,false,false,false,false,false,false,true,false,false,false,false,false,false,false,false,false,false,false,false,false,false,false,false,false,false,false,false,false,false,false,false,false,false,false,false,false,false,false,false,false,false,false,false,false,false,false,false,false,false,false,false,false,false,false,false,false,false,false,null,false,false,false,false,false,false,false,false,false,false,false,false,false,false,false,false,false,false,false,false,false,false,false,false,false,false,false,false,false,false,false,false,false,false,false,false,false,false,false,false,false,false,false,false,false,true,false,false,false,false,false,false,true,false,false,false,false,false,false,false,false,false,false,false,false,false,false,false,false,false,false,false,false,false,false,false,false,false,false,false,false,false,false,false,false,false,false,false,false,true,false,true,false,false,false,false,false,false,false,false,false,false,false,false,false,false,false,false,false,false,false,false,false,false,false,false,false,false,false,false,false,false,false,false,false,false,false,false,false,false,false,false,false,false,false,false,false,false,false,false,false,false,false,false,false,null,false,false,false,false,false,false,false,false,false,false,false,true,false,false,false,false,false,false,false,false,false,false,false,false,false,false,false,false,false,false,false,false,false,false,false,false,false,false,false,false,false,false,false,false,false,false,false,false,true,false,false,false,false,false,false,false,false,false,false,false,false,false,false,false,false,false,false,false,false,false,false,false,false,false,false,false,false,false,false,false,false,false,false,false,false,false,false,false,false,false,false,false,false,false,false,false,false,false,false,false,false,false,false,false,false,false,false,false,false,false,false,false,false,false,false,false,false,false,false,false,false,false,false,false,false,false,false,true,false,false,false,false,false,false,false,false,false,false,false,false,false,false,false,false,false,false,true,false,false,true,false,false,false,false,false,false,false,false,false,false,false,false,false,false,false,false,false,false,false,true,false,false,false,false,false,false,false,false,false,false,false,false,false,false,false,false,false,false,true,false,false,false,false,false,false,false,false,false,false,false,false,false,false,false,false,false,false,false,false,false,false,false,false,false,false,false,false,false,false,false,false,false,false,false,false,false,false,false,false,false,true,false,false,false,false,false,false,false,false,false,false,false,false,false,false,false,false,false,false,false,false,false,false,false,false,false,false,false,false,false,false,false,false,false,false,false,false,false,null,true,false,false,null,false,null,false,false,false,false,false,false,false,false,false,false,false,false,false,false,false,false,false,false,false,false,false,false,false,false,false,false,false,false,false,false,false,false,false,false,false,true,false,false,false,false,false,false,false,false,false,false,false,false,false,false,false,false,false,false,false,false,false,false,false,false,false,false,false,false,false,false,false,false,false,null,false,true,false,false,false,false,false,false,false,false,false,false,false,false,false,false,null,false,false,false,false,false,false,false,null,false,false,true,false,false,false,false,false,false,false,false,false,false,false,false,false,false,false,false,false,false,false,false,false,false,false,false,false,false,false,false,false,false,false,false,false,false,false,false,false,false,false,false,false,false,false,false,false,false,false,false,false,false,false,true,false,false,false,false,false,false,false,false,false,false,false,false,false,false,false,null,false,false,false,false,false,false,false,false,false,false,false,false,false,false,false,false,false,false,false,false,false,false,false,false,false,false,true,false,false,false,false,false,false,false,false,false,false,false,false,false,false,false,false,false,false,false,false,false,false,false,false,false,false,false,false,false,false,false,false,false,false,false,false,false,false,false,false,false,false,false,false,false,false,false,false,false,null,true,false,false,false,false,false,false,false,false,false,false,false,true,false,false,false,null,false,false,null,false,true,false,false,false,false,false,false,false,false,false,false,false,false,false,false,true,false,false,false,false,null,false,false,false,false,false,false,false,false,true,false,false,false,false,false,false,false,false,false,false,false,false,false,false,false,false,false,false,null,false,false,false,false,false,false,false,false,null,false,false,false,false,false,false,false,false,false,false,false,false,null,false,false,false,false,false,false,false,false,false,false,false,false,false,false,false,false,true,true,false,false,false,false,false,false,false,false,false,false,false,false,false,false,false,false,false,false,false,false,false,false,false,false,false,false,false,false,false,false,false,false,false,false,false,false,false,false,false,false,false,false,false,false,false,false,false,false,false,false,false,false,false,false,false,false,false,false,false,false,false,false,false,false,false,false,false,false,false,false,true,false,false,true,false,false,false,false,false,false,false,false,false,true,false,false,false,false,false,false,false,false,null,false,false,false,false,false,false,false,false,false,false,false,false,false,false,false,false,false,false,false,false,false,false,false,false,false,false,false,false,true,false,false,false,false,false,false,false,false,false,false,false,false,false,false,false,false,false,false,false,true,false,false,false,false,false,false,false,false,false,false,false,false,null,false,false,false,false,false,false,false,false,false,false,false,false,false,false,false,false,false,false,false,false,false,false,false,false,false,false,false,false,false,false,false,false,false,false,false,false,false,false,false,false,false,false,false,false,false,false,false,false,false,false,false,false,false,false,false,false,false,false,false,false,false,true,false,false,false,false,false,false,false,false,null,false,false,false,false,false,false,false,false,false,false,false,false,false,false,false,false,false,false,false,false,false,false,false,false,false,false,false,false,false,false,false,false,false,false,false,false,null,false,false,false,false,false,false,false,false,false,false,false,false,false,null,false,false,false,false,false,false,false,false,null,false,false,false,true,false,false,false,false,false,false,false,false,false,false,false,false,false,false,false,false,true,false,false,false,false,false,false,false,false,false,null,false,false,false,false,false,false,false,false,false,null,false,false,false,false,false,false,false,false,false,null,false,false,false,null,false,false,false,false,false,false,false,false,false,false,false,false,false,false,false,false,false,false,false,false,null,false,false,false,false,false,false,false,false,false,false,false,false,false,false,false,false,false,false,false,false,false,false,false,false,false,false,false,false,false,false,false,false,true,true,false,false,false,false,false,false,false,false,false,false,false,false,false,false,false,false,false,false,false,false,false,false,false,false,false,false,false,false,false,false,false,false,null,false,false,false,false,false,false,false,false,false,false,false,false,false,false,false,false,false,true,false,false,false,false,false,false,false,false,false,false,false,false,false,false,false,false,false,false,false,false,false,false,false,false,false,false,false,false,false,false,false,false,false,false,false,false,null,false,false,false,false,false,false,false,false,false,false,false,false,false,false,false,false,false,false,false,false,false,false,false,false,false,false,false,false,false,false,false,false,false,false,false,true,false,false,false,false,false,false,null,false,false,false,false,false,false,false,false,false,false,false,false,false,false,false,false,false,false,false,false,false,false,false,false,false,false,true,true,false,false,true,false,false,false,false,false,false,false,false,false,false,true,false,false,false,false,false,true,false,false,false,false,false,false,false,false,false,false,false,false,true,false,false,false,false,false,false,null,false,false,false,false,false,true,false,false,false,false,false,false,false,false,false,false,false,true,false,false,false,false,false,false,true,false,false,false,false,false,false,false,false,true,false,false,false,false,false,false,false,false,false,false,false,false,false,false,false,false,false,false,false,false,false,false,false,false,false,true,false,false,false,false,null,false,false,false,false,false,false,false,false,false,false,false,false,false,false,false,false,false,false,false,false,false,false,false,false,false,false,null,false,false,false,false,false,false,false,false,false,false,false,false,false,false,false,false,false,false,false,false,false,false,false,false,null,false,false,false,null,false,false,false,false,false,false,false,false,false,false,false,false,false,false,false,false,false,false,false,false,false,false,false,false,null,false,false,false,false,false,false,false,false,false,false,false,false,false,false,false,false,false,false,false,false,false,false,false,false,false,false,false,false,false,false,false,false,false,false,false,false,false,false,false,false,false,false,false,false,false,false,false,false,false,false,false,false,false,false,false,false,false,false,false,false,false,false,false,false,false,false,false,false,false,false,false,false,false,false,false,false,false,false,false,false,false,false,false,false,true,false,false,true,false,false,false,false,false,false,false,false,false,false,null,false,false,false,false,false,false,false,false,false,false,false,false,false,false,false,false,false,false,false,false,false,false,false,false,false,false,false,false,false,false,false,false,false,false,false,false,false,false,false,false,false,false,false,false,false,false,false,false,false,false,false,false,false,false,false,false,false,false,false,false,false,false,false,false,false,false,false,false,false,false,false,false,false,false,false,false,false,false,false,null,false,false,false,false,false,false,false,false,false,false,false,false,false,false,false,false,false,false,false,false,false,false,false,false,false,false,true,false,false,false,false,false,false,false,false,false,false,false,false,false,false,false,false,false,false,false,false,false,false,false,false,false,false,false,false,false,false,null,false,false,false,false,false,true,false,false,false,false,false,false,false,false,false,false,false,false,false,false,false,false,false,false,false,false,true,false,false,false,false,false,false,false,false,false,true,true,false,false,false,false,false,null,false,false,false,true,false,true,false,false,false,false,false,false,false,false,false,false,false,false,false,false,false,true,false,false,false,false,false,false,false,false,true,false,false,false,false,false,false,false,false,false,false,false,false,false,false,false,false,false,false,null,null,false,false,false,false,false,false,false,false,false,false,false,false,false,true,false,false,null,false,false,false,false,false,false,null,false,false,false,false,false,false,false,false,false,false,false,false,false,true,false,false,false,false,false,false,false,false,false,false,false,false,false,false,false,false,false,false,false,false,false,false,false,false,false,null,false,false,true,false,false,false,false,false,false,false,false,false,false,false,false,false,false,false,false,false,false,false,false,false,false,false,false,false,false,false,false,false,false,false,false,false,false,false,false,false,false,false,false,false,false,false,false,false,false,false,false,false,false,false,false,false,false,false,false,false,false,null,false,false,false,false,false,false,false,false,false,false,false,false,false,false,false,false,false,true,false,false,true,null,true,false,null,false,false,false,false,false,false,false,false,false,false,false,false,false,false,false,false,false,false,true,false,false,false,null,null,false,false,false,false,false,false,false,false,false,false,false,false,false,false,false,false,false,false,false,false,false,false,false,false,false,false,false,false,false,false,false,false,false,false,false,false,false,false,false,false,false,false,false,false,false,false,false,false,false,false,false,true,false,false,false,false,false,false,false,false,false,false,false,false,false,false,true,false,false,false,false,false,false,false,false,false,false,false,false,false,false,false,false,false,false,false,false,false,null,false,false,false,false,false,false,false,false,false,false,false,false,false,false,false,false,false,null,false,false,false,false,false,false,false,false,false,false,false,false,false,false,false,false,false,false,false,false,false,false,false,false,false,false,false,false,false,false,false,false,false,false,false,false,false,false,false,false,true,false,true,false,false,false,false,false,false,false,false,false,false,false,false,false,false,false,false,false,false,false,false,false,false,false,true,false,false],\"xaxis\":\"x\",\"yaxis\":\"y\",\"type\":\"histogram\"},{\"alignmentgroup\":\"True\",\"bingroup\":\"x\",\"hovertemplate\":\"Transported=True<br>VIP=%{x}<br>count=%{y}<extra></extra>\",\"legendgroup\":\"True\",\"marker\":{\"color\":\"#EF553B\",\"pattern\":{\"shape\":\"\"}},\"name\":\"True\",\"offsetgroup\":\"True\",\"orientation\":\"v\",\"showlegend\":true,\"x\":[false,false,false,false,false,false,false,false,false,false,false,false,false,false,false,false,false,false,false,false,false,false,false,false,false,false,false,false,false,false,false,false,false,false,false,false,false,false,false,false,false,false,false,false,false,false,false,false,false,null,false,false,false,true,false,false,false,false,false,false,false,false,false,false,false,false,false,false,false,false,false,false,null,false,false,false,false,false,false,false,false,false,false,false,false,false,false,false,false,false,false,false,false,false,false,false,false,false,false,false,false,false,false,false,false,false,false,false,null,false,false,false,false,false,false,false,false,false,false,false,false,false,false,false,false,false,false,false,false,false,false,false,false,false,false,false,false,false,false,false,false,false,false,false,false,false,false,false,false,false,false,false,false,false,false,false,false,false,false,false,false,false,false,false,false,false,false,false,false,false,false,false,false,false,false,false,true,false,false,true,true,false,false,false,false,false,false,false,false,false,false,false,false,false,false,false,false,false,false,false,false,false,false,false,false,false,true,false,false,false,false,false,false,false,false,false,false,false,false,false,false,false,false,false,false,false,false,false,false,false,false,false,false,false,false,false,false,false,false,false,false,false,false,false,false,false,false,false,false,false,false,false,false,false,false,false,false,false,false,false,false,false,false,false,false,false,false,false,false,false,false,true,false,false,false,false,false,false,false,false,false,false,false,false,false,false,false,false,false,false,false,false,false,false,false,false,false,true,false,false,false,false,null,false,false,false,false,false,false,false,false,false,false,false,false,false,false,false,false,false,false,false,false,false,false,false,false,false,false,false,false,false,false,false,false,false,false,false,false,false,false,false,false,false,false,false,null,false,false,false,false,false,false,false,false,false,false,false,false,false,false,false,false,false,false,false,false,false,false,false,false,false,false,false,false,false,false,false,false,false,false,false,false,false,false,true,false,false,false,false,false,false,true,null,false,false,false,false,false,false,false,false,false,false,false,false,false,false,false,false,false,false,false,false,false,false,false,null,false,false,false,false,false,false,false,false,false,false,false,false,false,false,false,false,false,false,false,false,false,false,false,false,false,false,false,false,false,false,false,false,false,false,false,false,false,false,false,false,false,false,false,false,false,false,false,false,false,null,false,false,false,false,false,false,false,false,false,false,false,false,false,false,false,false,false,false,false,false,false,false,false,false,false,false,false,false,null,false,false,false,false,false,false,false,false,false,false,false,false,false,false,false,false,false,false,false,false,false,false,false,null,false,false,false,false,false,false,false,false,false,false,false,false,false,false,false,false,false,false,false,false,false,false,false,false,false,false,false,false,false,null,false,false,false,false,false,false,null,false,false,false,false,false,false,null,null,false,false,false,false,false,false,false,false,false,false,false,false,false,false,false,false,false,false,false,false,false,false,false,false,false,null,false,false,false,false,false,false,true,false,false,false,false,false,false,false,false,false,false,false,false,false,false,false,false,false,false,false,false,false,false,false,false,false,false,false,false,false,false,false,false,false,false,false,false,false,false,false,false,false,false,false,false,false,false,false,false,false,false,false,false,false,false,false,false,false,false,false,false,false,false,false,false,false,false,false,false,false,false,false,false,false,false,false,false,false,false,false,false,false,false,false,false,false,false,false,false,false,false,false,false,false,false,false,false,false,false,false,false,false,false,false,false,false,true,false,false,false,true,false,false,false,null,false,false,false,false,false,false,false,false,false,false,false,false,false,false,false,false,false,false,false,false,false,false,false,false,false,false,false,false,false,false,false,false,false,false,false,false,false,false,false,false,false,false,false,false,false,false,false,false,false,false,false,false,false,false,false,false,false,false,false,false,false,false,false,false,false,false,false,false,false,false,false,false,false,false,false,false,false,false,false,false,false,false,false,false,false,false,false,false,false,false,false,false,false,false,null,false,false,false,false,false,false,false,false,true,false,false,false,false,false,false,false,false,true,false,false,false,false,false,false,false,false,false,false,false,false,false,false,null,false,false,false,false,false,false,false,false,false,false,false,false,false,false,false,false,false,false,false,false,null,false,false,false,false,false,false,null,false,false,false,false,false,true,false,false,false,false,false,false,false,false,false,false,false,false,false,false,false,false,false,false,false,false,false,false,false,false,false,false,false,false,false,false,null,false,false,false,false,false,false,false,false,false,false,false,false,false,false,false,false,false,false,false,false,false,false,false,false,false,false,false,false,false,false,false,false,false,false,false,false,null,false,false,false,null,false,false,false,false,false,false,false,null,false,false,false,false,false,false,false,false,false,false,false,false,false,true,false,false,false,false,false,false,false,false,false,false,false,false,false,false,false,false,false,true,false,false,false,false,false,false,false,false,false,false,false,false,false,false,false,false,false,false,false,false,false,false,false,false,false,false,false,false,false,false,false,false,false,false,false,false,false,false,false,false,false,false,false,false,false,false,false,false,false,false,false,false,false,false,false,false,false,false,false,false,false,false,false,false,false,null,false,false,false,false,false,false,false,null,false,false,false,false,false,false,false,false,false,false,false,false,false,false,false,false,false,false,false,false,false,false,false,null,false,false,false,null,false,false,false,false,false,false,false,false,false,false,false,false,false,false,false,false,false,false,false,false,false,false,false,false,false,false,true,false,false,false,false,false,false,false,false,false,false,false,false,false,false,false,false,false,false,false,false,false,false,false,false,false,false,false,false,false,false,false,false,false,false,false,false,false,false,false,false,false,false,false,false,false,false,false,false,false,false,null,false,false,false,false,false,false,false,false,false,false,false,null,false,false,false,false,null,false,null,false,false,false,false,false,false,false,false,null,false,false,false,false,false,null,false,false,false,false,false,false,false,false,false,false,false,false,false,false,false,false,false,false,false,false,false,false,false,false,true,false,false,false,false,false,false,false,false,false,false,false,false,true,false,false,false,false,false,false,false,false,false,false,false,false,false,false,false,false,false,false,false,false,false,false,false,false,false,false,false,false,false,false,false,false,false,false,false,false,false,false,false,false,false,false,false,false,false,false,false,false,false,false,false,false,false,false,false,false,false,false,false,false,false,false,false,false,false,false,false,false,false,false,true,false,false,false,false,false,false,false,false,false,false,false,false,false,false,false,false,false,false,false,false,false,false,false,false,true,false,false,false,false,false,false,false,false,false,false,false,false,false,false,false,false,false,false,false,false,false,true,false,false,false,false,false,false,false,false,false,false,false,false,false,false,false,false,false,false,false,false,false,false,false,false,false,false,false,false,false,false,false,false,false,null,false,false,false,false,false,false,false,false,true,false,false,false,false,false,false,false,false,false,false,false,false,false,false,false,false,false,false,false,false,false,false,false,false,false,false,false,false,false,false,false,false,true,false,false,false,false,false,true,false,false,false,false,false,false,false,false,false,false,false,false,false,false,false,false,false,false,false,false,false,false,false,false,false,false,false,false,false,false,false,null,false,false,false,false,false,false,false,false,false,false,false,false,false,true,false,false,false,false,false,false,false,false,null,false,false,false,false,false,false,false,false,false,false,false,false,false,false,false,false,false,false,false,false,false,false,false,false,false,false,false,false,null,false,false,false,false,false,false,false,false,false,false,null,false,false,false,false,false,false,false,false,false,false,false,false,false,false,false,false,false,false,false,false,false,false,false,false,false,false,false,false,false,false,false,false,false,false,false,false,false,false,false,false,false,false,false,false,false,false,false,false,false,false,false,false,false,false,false,false,false,false,false,false,false,false,false,false,false,false,false,false,false,false,false,false,false,false,false,false,false,false,false,null,false,false,false,false,false,false,false,false,false,false,false,false,false,false,false,false,false,false,false,false,false,false,false,false,false,true,false,false,false,false,false,false,false,false,false,false,false,false,false,false,false,false,false,false,false,false,false,false,false,false,false,false,false,false,false,false,false,false,false,false,false,false,false,false,false,false,false,false,false,false,false,false,false,false,false,false,false,false,false,false,false,false,false,false,false,false,false,false,false,false,false,false,false,false,false,false,false,false,false,false,false,false,false,false,false,false,false,false,false,false,false,false,false,false,false,false,false,false,false,false,false,false,false,false,false,false,false,false,false,false,false,false,false,false,false,false,false,false,false,false,false,false,false,false,false,false,false,false,false,false,false,false,false,false,false,false,false,false,false,false,false,false,false,null,false,false,false,false,false,false,false,false,false,false,false,false,false,false,false,false,false,false,false,false,false,false,false,false,false,false,false,false,false,false,false,false,false,false,false,false,false,false,false,false,false,false,false,false,false,false,false,false,false,false,false,false,false,false,false,false,false,false,false,false,false,null,false,false,false,true,false,false,false,true,false,false,false,false,false,false,false,false,false,false,false,false,false,false,true,false,false,false,false,false,true,false,false,false,false,false,false,false,false,false,false,false,false,false,false,false,false,false,false,false,false,false,false,false,false,false,false,false,false,false,false,false,false,false,false,false,false,false,false,false,false,false,false,false,false,false,false,false,false,false,false,false,false,false,false,false,false,false,false,false,false,false,false,false,false,false,false,false,false,false,false,false,false,false,false,false,false,true,false,false,false,false,false,false,false,false,false,false,false,true,false,false,false,false,false,false,false,false,false,false,false,false,false,false,false,false,false,false,false,false,false,false,false,false,false,false,false,false,false,false,false,false,false,false,false,false,false,false,false,false,false,false,false,false,false,false,true,false,false,false,false,false,false,false,false,false,false,false,false,null,false,false,false,false,false,false,false,false,false,false,false,false,false,false,false,false,false,false,false,false,false,false,false,false,false,false,false,false,false,false,false,false,false,false,false,null,false,false,false,false,false,false,false,false,false,false,false,false,false,false,false,false,false,false,false,false,false,false,false,false,false,false,false,false,false,false,false,false,false,false,false,false,false,false,false,false,false,false,false,true,false,false,false,false,false,false,false,false,false,false,false,false,true,false,false,false,false,false,false,false,false,false,false,false,false,false,false,false,false,false,false,false,false,false,false,false,false,true,false,false,false,false,false,false,true,false,false,false,false,false,false,false,false,false,false,false,false,false,false,false,false,false,false,false,false,false,false,false,false,false,null,false,false,false,false,false,null,false,false,false,false,false,false,false,false,false,false,false,false,false,false,false,false,false,false,false,true,false,false,false,false,false,false,false,false,false,false,false,false,false,false,false,false,false,false,false,false,false,false,null,false,false,false,true,null,false,false,false,false,false,false,false,false,null,false,false,false,false,false,false,false,false,false,false,false,false,false,false,false,false,false,false,false,false,false,false,false,false,true,false,false,false,false,false,false,false,false,false,false,false,false,false,false,false,false,false,false,false,false,null,false,null,false,false,false,false,false,false,false,false,false,false,false,false,false,false,false,false,false,false,false,false,false,false,false,false,false,false,false,false,false,false,false,false,false,false,false,false,false,false,false,false,false,false,false,false,false,false,false,false,false,false,false,false,false,false,false,false,null,false,false,false,false,false,false,false,false,false,false,false,false,false,false,false,false,false,false,false,false,false,false,false,false,false,false,false,false,false,false,false,false,false,false,false,false,false,false,null,false,false,false,false,false,false,false,false,false,false,false,false,false,false,false,true,false,false,false,false,false,false,false,false,false,false,false,false,false,false,false,false,false,false,false,false,false,false,false,false,false,false,false,false,false,false,false,false,false,false,false,false,false,false,false,false,false,false,false,false,false,false,false,false,false,false,false,false,false,false,false,false,false,false,false,true,false,false,false,false,false,false,false,false,false,false,false,false,false,false,false,false,false,false,false,false,false,false,false,null,false,false,false,false,false,false,false,false,false,false,false,false,false,false,false,false,false,false,false,false,false,false,false,false,false,false,false,false,false,false,true,false,false,false,false,false,false,false,false,false,false,false,false,false,false,false,false,false,false,false,false,false,false,null,false,false,false,false,false,false,false,false,false,false,false,false,false,null,false,false,false,false,false,false,false,false,false,false,false,false,false,false,false,false,false,false,false,false,false,false,false,false,false,false,false,false,false,false,false,false,false,false,false,false,null,false,false,false,false,false,false,false,false,false,false,false,false,false,false,null,false,false,false,false,true,false,false,false,false,false,false,false,false,false,false,false,false,false,false,false,false,false,false,false,false,false,false,false,false,false,false,false,false,false,false,false,false,false,false,false,false,false,false,false,false,false,false,false,false,false,false,false,false,false,false,false,false,false,false,false,false,false,false,false,false,false,false,false,false,false,false,false,false,false,false,false,false,false,false,null,false,false,false,false,false,false,false,false,false,false,false,false,false,false,false,false,false,false,false,false,false,false,false,false,false,false,false,false,false,false,false,false,false,false,false,false,false,false,false,false,false,false,false,false,false,false,false,false,false,false,false,false,false,false,false,false,false,false,false,false,false,false,false,false,false,false,false,false,false,false,false,false,false,null,false,false,false,false,false,false,false,false,false,false,false,false,false,false,false,false,false,false,false,false,false,null,false,false,false,false,false,false,false,false,false,false,false,false,null,false,false,false,false,false,false,false,false,false,false,false,false,false,false,false,false,false,false,false,false,false,false,false,false,false,false,false,false,false,false,false,false,false,false,false,false,false,false,false,false,false,false,false,false,false,false,false,false,false,false,false,false,false,false,false,false,false,false,false,false,false,false,false,null,false,false,false,false,false,false,false,false,false,false,true,false,false,false,false,false,false,false,false,false,false,false,false,false,false,false,false,false,false,false,false,false,false,null,false,false,false,false,false,false,false,false,false,false,false,false,false,false,false,false,null,false,false,false,false,false,false,false,false,false,false,false,false,false,false,false,false,false,null,false,null,false,false,false,false,true,false,false,false,false,false,false,false,false,false,false,false,false,false,false,false,false,false,false,false,false,false,false,false,false,false,null,false,false,false,false,false,false,false,false,true,false,false,false,false,false,false,false,null,false,false,false,false,null,false,false,false,false,false,false,true,false,false,false,false,false,false,false,false,false,false,false,false,false,false,false,false,false,false,false,false,false,false,false,false,false,false,false,false,false,false,false,false,false,false,true,false,false,false,null,false,false,false,false,false,false,false,false,false,false,false,false,false,false,false,false,false,false,false,false,false,false,false,false,false,false,false,false,false,false,false,false,null,false,false,false,false,false,false,false,false,false,false,false,false,false,false,false,false,false,false,false,false,false,false,false,false,false,false,false,false,false,false,false,false,false,false,false,false,false,false,false,false,false,false,false,false,false,false,false,false,false,false,false,false,false,false,false,false,false,false,false,false,false,false,false,false,false,false,false,false,false,false,false,false,false,false,false,false,false,false,false,false,false,false,false,null,false,false,false,false,false,false,false,false,false,false,false,false,false,false,false,false,false,false,false,false,false,false,false,false,false,false,false,false,false,false,false,false,false,false,false,false,false,false,false,false,false,false,false,false,false,false,false,false,false,false,false,false,false,false,false,false,false,false,false,false,false,false,false,false,false,false,false,false,false,false,false,false,false,false,false,false,false,false,false,false,false,false,false,false,false,false,false,false,null,false,false,false,false,false,false,false,false,false,false,false,true,false,false,false,false,false,false,false,false,false,false,false,false,false,false,false,true,false,false,false,false,false,false,false,false,false,false,false,false,true,false,false,false,false,false,false,false,null,false,false,false,false,false,false,false,false,false,false,false,false,false,false,false,false,false,false,false,false,true,false,false,false,false,false,false,false,false,false,false,false,false,false,false,false,false,false,false,false,false,false,false,false,false,false,false,false,false,false,false,false,false,false,false,null,false,false,false,false,false,false,false,false,false,false,false,false,false,null,false,false,false,false,false,false,false,false,false,false,false,false,false,false,false,false,false,true,false,false,false,false,false,false,false,false,false,false,false,false,false,false,false,false,false,false,false,false,false,false,false,false,false,false,false,false,false,false,false,false,false,false,false,false,false,false,false,false,false,false,false,false,false,false,false,false,false,false,false,false,null,false,false,false,false,false,false,false,false,false,false,false,false,false,false,false,false,false,false,false,false,false,false,false,false,false,false,false,false,false,false,false,false,null,false,false,false,false,false,false,false,false,false,false,true,false,false,false,false,false,false,false,false,false,false,false,false,false,false,false,false,false,false,false,false,false,false,false,true,false,false,false,false,false,false,false,false,false,false,false,false,false,false,false,false,null,false,false,false,false,false,false,false,false,false,false,false,false,false,false,false,false,false,false,false,false,false,false,false,false,false,false,false,false,null,false,false,false,false,false,false,false,false,false,false,false,false,false,false,false,null,false,false,false,false,false,false,false,false,false,true,false,null,false,false,false,false,false,false,false,false,false,false,false,false,false,false,false,false,false,false,false,false,false,false,false,false,false,false,false,false,false,false,false,false,false,null,false,false,false,false,true,false,false,false,false,false,false,false,false,false,false,false,false,false,false,false,false,false,false,false,false,false,false,false,false,false,false,false,false,false,false,false,false,false,false,false,false,false,false,false,false,false,false,false,false,false,false,false,false,false,false,false,false,false,false,false,false,false,false,false,false,false,false,false,false,false,false,false,false,false,false,false,false,false,false,false,false,false,false,false,false,false,false,false,false,false,false,false,false,false,false,false,false,true,false,false,false,false,false,false,false,false,false,false,false,false,false,false,false,false,false,false,false,false,false,false,false,false,false,false,false,false,false,false,false,false,false,false,false,false,false,false,false,false,false,false,false,false,false,false,false,false,false,false,false,false,false,false,false,false,false,false,false,false,false,false,false,false,false,false,false,false,false,false,false,false,false,null,false,false,false,false,false,false,false,false,false,false,false,false,false,false,false,false,false,true,false,false,false,false,false,false,false,false,false,false,false,false,false,false,false,false,false,false,false,null,false,false,false,true,false,false,false,false,false,false,false,false,false,false,false,false,false,false,false,false,false,false,false,false,false,false,false,false,false,false,null,true,false,false,false,false,false,false,false,false,false,false,false,false,false,false,false,false,false,false,false,false,false,true,false,false,false,false,false,false,false,false,false,null,false,false,false,false,false,false,false,false,false,false,false,false,false,false,false,false,false,false,false,false,false,false,false,false,false,false,false,false,false,false,false,false,false,false,false,false,false,false,false,false,false,false,false,false,false,false,false,false,false,false,false,false,false,false,false,false,false,false,false,false,false,false,false,false,false,false,false,false,false,false,false,false,false,false,false,false,false,false,false,false,false,false,false,false,false,false,false,false,true,false,false,true,false,false,false,false,false,false,false,false,false,false,false,false,false,false,false,false,false,false,false,false,false,false,false,false,false,false,true,false,false,false,false,false,false,false,false,false,false,false,false,false,false,false,false,false,false,false,false,false,false,false,false,false,false,false,false,false,false,false,false,false,false,false,false,false,false,false,true,false,false,false,false,false,false,true,false,false,false,false,false,false,false,false,false,false,false,false,false,false,false,false,false,false,null,false,false,false,true,false,false,false,false,false,false,null,false,false,false,null,false,true,false,false,false,false,false,false,null,false,false,false,null,false,false,false,false,false,false,false,false,false,false,false,false,false,false,false,false,false,false,false,false,false,false,false,true,false,false,false,false,null,false,false,false,false,null,false,false,false,false,false,false,false,false,null,null,false,false,false,false,false,false,false,false,false,false,false,false,false,false,false,false,false,false,false,false,false,false,false,false,false,false,false,false,false,false,false,false,false,false,false,false,false,false,false,false,false,false,false,false,false,false,false,false,false,null,false,false,false,null,false,false,false,false,false,false,false,false,false,false,false,false,false,false,false,false,false,false,false,false,false,false,false,false,false,false,false,false,false,false,false,false,false,false,false,false,false,true,false,false,false,false,false,false,false,false,false,false,false,false,false,false,false,false,false,false,false,false,false,false,false,false,false,false,false,false,false,false,false,false,false,false,null,false,null,false,false,false,false,false,false,false,false,false,false,false,false,false,false,false,false,false,false,false,false,false,false,false,false,false,false,null,false,false,false,false,false,false,false,false,false,false,false,false,false,false,false,false,false,false,false,false,false,false,false,false,false,false,false,false,false,false,false,false,false,false,true,false,false,false,false,false,false,false,false,false,false,false,false,false,false,false,false,false,false,false,false,false,false,false,false,false,false,null,false,false,false,false,false,false,false,false,false,false,false,true,false,false,false,false,false,false,false,null,false,false,false,false,false,false,false,false,false,false,false,false,false,false,false,false,false,false],\"xaxis\":\"x\",\"yaxis\":\"y\",\"type\":\"histogram\"}],                        {\"template\":{\"data\":{\"histogram2dcontour\":[{\"type\":\"histogram2dcontour\",\"colorbar\":{\"outlinewidth\":0,\"ticks\":\"\"},\"colorscale\":[[0.0,\"#0d0887\"],[0.1111111111111111,\"#46039f\"],[0.2222222222222222,\"#7201a8\"],[0.3333333333333333,\"#9c179e\"],[0.4444444444444444,\"#bd3786\"],[0.5555555555555556,\"#d8576b\"],[0.6666666666666666,\"#ed7953\"],[0.7777777777777778,\"#fb9f3a\"],[0.8888888888888888,\"#fdca26\"],[1.0,\"#f0f921\"]]}],\"choropleth\":[{\"type\":\"choropleth\",\"colorbar\":{\"outlinewidth\":0,\"ticks\":\"\"}}],\"histogram2d\":[{\"type\":\"histogram2d\",\"colorbar\":{\"outlinewidth\":0,\"ticks\":\"\"},\"colorscale\":[[0.0,\"#0d0887\"],[0.1111111111111111,\"#46039f\"],[0.2222222222222222,\"#7201a8\"],[0.3333333333333333,\"#9c179e\"],[0.4444444444444444,\"#bd3786\"],[0.5555555555555556,\"#d8576b\"],[0.6666666666666666,\"#ed7953\"],[0.7777777777777778,\"#fb9f3a\"],[0.8888888888888888,\"#fdca26\"],[1.0,\"#f0f921\"]]}],\"heatmap\":[{\"type\":\"heatmap\",\"colorbar\":{\"outlinewidth\":0,\"ticks\":\"\"},\"colorscale\":[[0.0,\"#0d0887\"],[0.1111111111111111,\"#46039f\"],[0.2222222222222222,\"#7201a8\"],[0.3333333333333333,\"#9c179e\"],[0.4444444444444444,\"#bd3786\"],[0.5555555555555556,\"#d8576b\"],[0.6666666666666666,\"#ed7953\"],[0.7777777777777778,\"#fb9f3a\"],[0.8888888888888888,\"#fdca26\"],[1.0,\"#f0f921\"]]}],\"heatmapgl\":[{\"type\":\"heatmapgl\",\"colorbar\":{\"outlinewidth\":0,\"ticks\":\"\"},\"colorscale\":[[0.0,\"#0d0887\"],[0.1111111111111111,\"#46039f\"],[0.2222222222222222,\"#7201a8\"],[0.3333333333333333,\"#9c179e\"],[0.4444444444444444,\"#bd3786\"],[0.5555555555555556,\"#d8576b\"],[0.6666666666666666,\"#ed7953\"],[0.7777777777777778,\"#fb9f3a\"],[0.8888888888888888,\"#fdca26\"],[1.0,\"#f0f921\"]]}],\"contourcarpet\":[{\"type\":\"contourcarpet\",\"colorbar\":{\"outlinewidth\":0,\"ticks\":\"\"}}],\"contour\":[{\"type\":\"contour\",\"colorbar\":{\"outlinewidth\":0,\"ticks\":\"\"},\"colorscale\":[[0.0,\"#0d0887\"],[0.1111111111111111,\"#46039f\"],[0.2222222222222222,\"#7201a8\"],[0.3333333333333333,\"#9c179e\"],[0.4444444444444444,\"#bd3786\"],[0.5555555555555556,\"#d8576b\"],[0.6666666666666666,\"#ed7953\"],[0.7777777777777778,\"#fb9f3a\"],[0.8888888888888888,\"#fdca26\"],[1.0,\"#f0f921\"]]}],\"surface\":[{\"type\":\"surface\",\"colorbar\":{\"outlinewidth\":0,\"ticks\":\"\"},\"colorscale\":[[0.0,\"#0d0887\"],[0.1111111111111111,\"#46039f\"],[0.2222222222222222,\"#7201a8\"],[0.3333333333333333,\"#9c179e\"],[0.4444444444444444,\"#bd3786\"],[0.5555555555555556,\"#d8576b\"],[0.6666666666666666,\"#ed7953\"],[0.7777777777777778,\"#fb9f3a\"],[0.8888888888888888,\"#fdca26\"],[1.0,\"#f0f921\"]]}],\"mesh3d\":[{\"type\":\"mesh3d\",\"colorbar\":{\"outlinewidth\":0,\"ticks\":\"\"}}],\"scatter\":[{\"fillpattern\":{\"fillmode\":\"overlay\",\"size\":10,\"solidity\":0.2},\"type\":\"scatter\"}],\"parcoords\":[{\"type\":\"parcoords\",\"line\":{\"colorbar\":{\"outlinewidth\":0,\"ticks\":\"\"}}}],\"scatterpolargl\":[{\"type\":\"scatterpolargl\",\"marker\":{\"colorbar\":{\"outlinewidth\":0,\"ticks\":\"\"}}}],\"bar\":[{\"error_x\":{\"color\":\"#2a3f5f\"},\"error_y\":{\"color\":\"#2a3f5f\"},\"marker\":{\"line\":{\"color\":\"#E5ECF6\",\"width\":0.5},\"pattern\":{\"fillmode\":\"overlay\",\"size\":10,\"solidity\":0.2}},\"type\":\"bar\"}],\"scattergeo\":[{\"type\":\"scattergeo\",\"marker\":{\"colorbar\":{\"outlinewidth\":0,\"ticks\":\"\"}}}],\"scatterpolar\":[{\"type\":\"scatterpolar\",\"marker\":{\"colorbar\":{\"outlinewidth\":0,\"ticks\":\"\"}}}],\"histogram\":[{\"marker\":{\"pattern\":{\"fillmode\":\"overlay\",\"size\":10,\"solidity\":0.2}},\"type\":\"histogram\"}],\"scattergl\":[{\"type\":\"scattergl\",\"marker\":{\"colorbar\":{\"outlinewidth\":0,\"ticks\":\"\"}}}],\"scatter3d\":[{\"type\":\"scatter3d\",\"line\":{\"colorbar\":{\"outlinewidth\":0,\"ticks\":\"\"}},\"marker\":{\"colorbar\":{\"outlinewidth\":0,\"ticks\":\"\"}}}],\"scattermapbox\":[{\"type\":\"scattermapbox\",\"marker\":{\"colorbar\":{\"outlinewidth\":0,\"ticks\":\"\"}}}],\"scatterternary\":[{\"type\":\"scatterternary\",\"marker\":{\"colorbar\":{\"outlinewidth\":0,\"ticks\":\"\"}}}],\"scattercarpet\":[{\"type\":\"scattercarpet\",\"marker\":{\"colorbar\":{\"outlinewidth\":0,\"ticks\":\"\"}}}],\"carpet\":[{\"aaxis\":{\"endlinecolor\":\"#2a3f5f\",\"gridcolor\":\"white\",\"linecolor\":\"white\",\"minorgridcolor\":\"white\",\"startlinecolor\":\"#2a3f5f\"},\"baxis\":{\"endlinecolor\":\"#2a3f5f\",\"gridcolor\":\"white\",\"linecolor\":\"white\",\"minorgridcolor\":\"white\",\"startlinecolor\":\"#2a3f5f\"},\"type\":\"carpet\"}],\"table\":[{\"cells\":{\"fill\":{\"color\":\"#EBF0F8\"},\"line\":{\"color\":\"white\"}},\"header\":{\"fill\":{\"color\":\"#C8D4E3\"},\"line\":{\"color\":\"white\"}},\"type\":\"table\"}],\"barpolar\":[{\"marker\":{\"line\":{\"color\":\"#E5ECF6\",\"width\":0.5},\"pattern\":{\"fillmode\":\"overlay\",\"size\":10,\"solidity\":0.2}},\"type\":\"barpolar\"}],\"pie\":[{\"automargin\":true,\"type\":\"pie\"}]},\"layout\":{\"autotypenumbers\":\"strict\",\"colorway\":[\"#636efa\",\"#EF553B\",\"#00cc96\",\"#ab63fa\",\"#FFA15A\",\"#19d3f3\",\"#FF6692\",\"#B6E880\",\"#FF97FF\",\"#FECB52\"],\"font\":{\"color\":\"#2a3f5f\"},\"hovermode\":\"closest\",\"hoverlabel\":{\"align\":\"left\"},\"paper_bgcolor\":\"white\",\"plot_bgcolor\":\"#E5ECF6\",\"polar\":{\"bgcolor\":\"#E5ECF6\",\"angularaxis\":{\"gridcolor\":\"white\",\"linecolor\":\"white\",\"ticks\":\"\"},\"radialaxis\":{\"gridcolor\":\"white\",\"linecolor\":\"white\",\"ticks\":\"\"}},\"ternary\":{\"bgcolor\":\"#E5ECF6\",\"aaxis\":{\"gridcolor\":\"white\",\"linecolor\":\"white\",\"ticks\":\"\"},\"baxis\":{\"gridcolor\":\"white\",\"linecolor\":\"white\",\"ticks\":\"\"},\"caxis\":{\"gridcolor\":\"white\",\"linecolor\":\"white\",\"ticks\":\"\"}},\"coloraxis\":{\"colorbar\":{\"outlinewidth\":0,\"ticks\":\"\"}},\"colorscale\":{\"sequential\":[[0.0,\"#0d0887\"],[0.1111111111111111,\"#46039f\"],[0.2222222222222222,\"#7201a8\"],[0.3333333333333333,\"#9c179e\"],[0.4444444444444444,\"#bd3786\"],[0.5555555555555556,\"#d8576b\"],[0.6666666666666666,\"#ed7953\"],[0.7777777777777778,\"#fb9f3a\"],[0.8888888888888888,\"#fdca26\"],[1.0,\"#f0f921\"]],\"sequentialminus\":[[0.0,\"#0d0887\"],[0.1111111111111111,\"#46039f\"],[0.2222222222222222,\"#7201a8\"],[0.3333333333333333,\"#9c179e\"],[0.4444444444444444,\"#bd3786\"],[0.5555555555555556,\"#d8576b\"],[0.6666666666666666,\"#ed7953\"],[0.7777777777777778,\"#fb9f3a\"],[0.8888888888888888,\"#fdca26\"],[1.0,\"#f0f921\"]],\"diverging\":[[0,\"#8e0152\"],[0.1,\"#c51b7d\"],[0.2,\"#de77ae\"],[0.3,\"#f1b6da\"],[0.4,\"#fde0ef\"],[0.5,\"#f7f7f7\"],[0.6,\"#e6f5d0\"],[0.7,\"#b8e186\"],[0.8,\"#7fbc41\"],[0.9,\"#4d9221\"],[1,\"#276419\"]]},\"xaxis\":{\"gridcolor\":\"white\",\"linecolor\":\"white\",\"ticks\":\"\",\"title\":{\"standoff\":15},\"zerolinecolor\":\"white\",\"automargin\":true,\"zerolinewidth\":2},\"yaxis\":{\"gridcolor\":\"white\",\"linecolor\":\"white\",\"ticks\":\"\",\"title\":{\"standoff\":15},\"zerolinecolor\":\"white\",\"automargin\":true,\"zerolinewidth\":2},\"scene\":{\"xaxis\":{\"backgroundcolor\":\"#E5ECF6\",\"gridcolor\":\"white\",\"linecolor\":\"white\",\"showbackground\":true,\"ticks\":\"\",\"zerolinecolor\":\"white\",\"gridwidth\":2},\"yaxis\":{\"backgroundcolor\":\"#E5ECF6\",\"gridcolor\":\"white\",\"linecolor\":\"white\",\"showbackground\":true,\"ticks\":\"\",\"zerolinecolor\":\"white\",\"gridwidth\":2},\"zaxis\":{\"backgroundcolor\":\"#E5ECF6\",\"gridcolor\":\"white\",\"linecolor\":\"white\",\"showbackground\":true,\"ticks\":\"\",\"zerolinecolor\":\"white\",\"gridwidth\":2}},\"shapedefaults\":{\"line\":{\"color\":\"#2a3f5f\"}},\"annotationdefaults\":{\"arrowcolor\":\"#2a3f5f\",\"arrowhead\":0,\"arrowwidth\":1},\"geo\":{\"bgcolor\":\"white\",\"landcolor\":\"#E5ECF6\",\"subunitcolor\":\"white\",\"showland\":true,\"showlakes\":true,\"lakecolor\":\"white\"},\"title\":{\"x\":0.05},\"mapbox\":{\"style\":\"light\"}}},\"xaxis\":{\"anchor\":\"y\",\"domain\":[0.0,1.0],\"title\":{\"text\":\"VIP\"}},\"yaxis\":{\"anchor\":\"x\",\"domain\":[0.0,1.0],\"title\":{\"text\":\"count\"}},\"legend\":{\"title\":{\"text\":\"Transported\"},\"tracegroupgap\":0},\"margin\":{\"t\":60},\"barmode\":\"group\"},                        {\"responsive\": true}                    ).then(function(){\n",
       "                            \n",
       "var gd = document.getElementById('cd40ec89-a67b-4e41-899e-28371d843e0e');\n",
       "var x = new MutationObserver(function (mutations, observer) {{\n",
       "        var display = window.getComputedStyle(gd).display;\n",
       "        if (!display || display === 'none') {{\n",
       "            console.log([gd, 'removed!']);\n",
       "            Plotly.purge(gd);\n",
       "            observer.disconnect();\n",
       "        }}\n",
       "}});\n",
       "\n",
       "// Listen for the removal of the full notebook cells\n",
       "var notebookContainer = gd.closest('#notebook-container');\n",
       "if (notebookContainer) {{\n",
       "    x.observe(notebookContainer, {childList: true});\n",
       "}}\n",
       "\n",
       "// Listen for the clearing of the current output cell\n",
       "var outputEl = gd.closest('.output');\n",
       "if (outputEl) {{\n",
       "    x.observe(outputEl, {childList: true});\n",
       "}}\n",
       "\n",
       "                        })                };                });            </script>        </div>"
      ]
     },
     "metadata": {},
     "output_type": "display_data"
    }
   ],
   "source": [
    "px.histogram(df,x='VIP',color='Transported',barmode='group')"
   ]
  },
  {
   "cell_type": "code",
   "execution_count": 12,
   "id": "deb9ff68",
   "metadata": {
    "execution": {
     "iopub.execute_input": "2023-02-22T05:13:51.710679Z",
     "iopub.status.busy": "2023-02-22T05:13:51.709340Z",
     "iopub.status.idle": "2023-02-22T05:13:51.714230Z",
     "shell.execute_reply": "2023-02-22T05:13:51.713349Z"
    },
    "papermill": {
     "duration": 0.027775,
     "end_time": "2023-02-22T05:13:51.716561",
     "exception": false,
     "start_time": "2023-02-22T05:13:51.688786",
     "status": "completed"
    },
    "tags": []
   },
   "outputs": [],
   "source": [
    "#cols=df.select_dtypes('object').columns.tolist()\n",
    "#for i in cols:\n",
    "#    ct=df[i].value_counts()\n",
    " #   plt.title(i);\n",
    " #   ct.plot(kind='bar')\n",
    " #   plt.figure(figsize=(8,5));\n",
    "    \n",
    " #   plt.show();"
   ]
  },
  {
   "cell_type": "code",
   "execution_count": 13,
   "id": "ba94cc5e",
   "metadata": {
    "execution": {
     "iopub.execute_input": "2023-02-22T05:13:51.756941Z",
     "iopub.status.busy": "2023-02-22T05:13:51.755600Z",
     "iopub.status.idle": "2023-02-22T05:13:51.767520Z",
     "shell.execute_reply": "2023-02-22T05:13:51.766335Z"
    },
    "papermill": {
     "duration": 0.035306,
     "end_time": "2023-02-22T05:13:51.770136",
     "exception": false,
     "start_time": "2023-02-22T05:13:51.734830",
     "status": "completed"
    },
    "tags": []
   },
   "outputs": [
    {
     "data": {
      "text/plain": [
       "['PassengerId',\n",
       " 'HomePlanet',\n",
       " 'CryoSleep',\n",
       " 'Cabin',\n",
       " 'Destination',\n",
       " 'VIP',\n",
       " 'Name']"
      ]
     },
     "execution_count": 13,
     "metadata": {},
     "output_type": "execute_result"
    }
   ],
   "source": [
    "cols=df.select_dtypes('object').columns\n",
    "cols.tolist()"
   ]
  },
  {
   "cell_type": "code",
   "execution_count": 14,
   "id": "7207ed6b",
   "metadata": {
    "execution": {
     "iopub.execute_input": "2023-02-22T05:13:51.811496Z",
     "iopub.status.busy": "2023-02-22T05:13:51.810550Z",
     "iopub.status.idle": "2023-02-22T05:13:51.819441Z",
     "shell.execute_reply": "2023-02-22T05:13:51.818367Z"
    },
    "papermill": {
     "duration": 0.033294,
     "end_time": "2023-02-22T05:13:51.822490",
     "exception": false,
     "start_time": "2023-02-22T05:13:51.789196",
     "status": "completed"
    },
    "tags": []
   },
   "outputs": [],
   "source": [
    "df['HomePlanet'].fillna(df['HomePlanet'].value_counts().index[0],inplace=True)\n"
   ]
  },
  {
   "cell_type": "code",
   "execution_count": 15,
   "id": "000fd6d3",
   "metadata": {
    "execution": {
     "iopub.execute_input": "2023-02-22T05:13:51.864481Z",
     "iopub.status.busy": "2023-02-22T05:13:51.863031Z",
     "iopub.status.idle": "2023-02-22T05:13:51.873471Z",
     "shell.execute_reply": "2023-02-22T05:13:51.872100Z"
    },
    "papermill": {
     "duration": 0.035311,
     "end_time": "2023-02-22T05:13:51.876691",
     "exception": false,
     "start_time": "2023-02-22T05:13:51.841380",
     "status": "completed"
    },
    "tags": []
   },
   "outputs": [],
   "source": [
    "def missingvalue(df):\n",
    "    cols=df.select_dtypes('object').columns\n",
    "    cols=cols.tolist()\n",
    "    #for i in cols:\n",
    "    df['HomePlanet'].fillna(df['HomePlanet'].value_counts().index[0],inplace=True)\n",
    "    df['CryoSleep'].fillna(df['CryoSleep'].value_counts().index[0],inplace=True)\n",
    "    df['Destination'].fillna(df['Destination'].value_counts().index[0],inplace=True)\n",
    "    df['VIP'].fillna(df['VIP'].value_counts().index[0],inplace=True)\n",
    "\n",
    "\n",
    "    cols1=df.select_dtypes('float64').columns\n",
    "    cols1=cols1.tolist()\n",
    "    for i in cols1:\n",
    "        df[i]=df[i].fillna(df[i].mean())\n",
    "    return df"
   ]
  },
  {
   "cell_type": "code",
   "execution_count": 16,
   "id": "5af0744d",
   "metadata": {
    "execution": {
     "iopub.execute_input": "2023-02-22T05:13:51.916426Z",
     "iopub.status.busy": "2023-02-22T05:13:51.915885Z",
     "iopub.status.idle": "2023-02-22T05:13:51.923628Z",
     "shell.execute_reply": "2023-02-22T05:13:51.922189Z"
    },
    "papermill": {
     "duration": 0.030465,
     "end_time": "2023-02-22T05:13:51.926064",
     "exception": false,
     "start_time": "2023-02-22T05:13:51.895599",
     "status": "completed"
    },
    "tags": []
   },
   "outputs": [],
   "source": [
    "def Onehotencoding(df1):\n",
    "    df1=df1.join(pd.get_dummies(df['HomePlanet'],prefix='HomePlanet',prefix_sep='_'))\n",
    "    df1=df1.join(pd.get_dummies(df['CryoSleep'],prefix='CryoSleep',prefix_sep='_'))\n",
    "    df1=df1.join(pd.get_dummies(df['Destination'],prefix='Destination',prefix_sep='_'))\n",
    "    df1=df1.join(pd.get_dummies(df['VIP'],prefix='VIP',prefix_sep='_'))\n",
    "    df1.drop(['HomePlanet','CryoSleep','Destination','VIP'],axis=1,inplace=True)\n",
    "    return df1\n",
    "\n",
    "    "
   ]
  },
  {
   "cell_type": "code",
   "execution_count": 17,
   "id": "4011eaa0",
   "metadata": {
    "execution": {
     "iopub.execute_input": "2023-02-22T05:13:51.966043Z",
     "iopub.status.busy": "2023-02-22T05:13:51.965134Z",
     "iopub.status.idle": "2023-02-22T05:13:51.972843Z",
     "shell.execute_reply": "2023-02-22T05:13:51.971734Z"
    },
    "papermill": {
     "duration": 0.030755,
     "end_time": "2023-02-22T05:13:51.975665",
     "exception": false,
     "start_time": "2023-02-22T05:13:51.944910",
     "status": "completed"
    },
    "tags": []
   },
   "outputs": [],
   "source": [
    "def pre_processing(df):\n",
    "    df.drop(['PassengerId','Name','Cabin'],axis=1,inplace=True)\n",
    "    df=missingvalue(df)\n",
    "    #df1=df.apply(lambda x:x.fillna(x.value_counts().index[0]))\n",
    "    #print(df1.info())\n",
    "    cols=df.select_dtypes('object').columns.tolist()\n",
    "    df=Onehotencoding(df)\n",
    "    #for i in cols:\n",
    "    #    df1=df.join(pd.get_dummies(df[i],prefix=i,prefix_sep='_'))\n",
    "    #df1.drop(cols,axis=1,inplace=True)\n",
    "    #print(df1.info())\n",
    "    #scaler=StandardScaler()\n",
    "    #scaled=scaler.fit_transform(df1)\n",
    "    #df2=pd.DataFrame(scaled,index=df1.index,columns=df1.columns)\n",
    "    return df\n",
    "    "
   ]
  },
  {
   "cell_type": "code",
   "execution_count": 18,
   "id": "06bf6803",
   "metadata": {
    "execution": {
     "iopub.execute_input": "2023-02-22T05:13:52.015879Z",
     "iopub.status.busy": "2023-02-22T05:13:52.014374Z",
     "iopub.status.idle": "2023-02-22T05:13:52.020257Z",
     "shell.execute_reply": "2023-02-22T05:13:52.019360Z"
    },
    "papermill": {
     "duration": 0.028673,
     "end_time": "2023-02-22T05:13:52.022910",
     "exception": false,
     "start_time": "2023-02-22T05:13:51.994237",
     "status": "completed"
    },
    "tags": []
   },
   "outputs": [],
   "source": [
    "#def transform1(df):\n",
    "#    scaler=StandardScaler()\n",
    "#    scaled=scaler.fit_transform(df)\n",
    "#    df1=pd.DataFrame(scaled,index=df.index,columns=df.columns)\n",
    "#    return df1"
   ]
  },
  {
   "cell_type": "code",
   "execution_count": 19,
   "id": "50c4143a",
   "metadata": {
    "execution": {
     "iopub.execute_input": "2023-02-22T05:13:52.063610Z",
     "iopub.status.busy": "2023-02-22T05:13:52.062176Z",
     "iopub.status.idle": "2023-02-22T05:13:52.107630Z",
     "shell.execute_reply": "2023-02-22T05:13:52.106242Z"
    },
    "papermill": {
     "duration": 0.06934,
     "end_time": "2023-02-22T05:13:52.110767",
     "exception": false,
     "start_time": "2023-02-22T05:13:52.041427",
     "status": "completed"
    },
    "tags": []
   },
   "outputs": [],
   "source": [
    "df1=pre_processing(df)"
   ]
  },
  {
   "cell_type": "code",
   "execution_count": 20,
   "id": "d3fe6796",
   "metadata": {
    "execution": {
     "iopub.execute_input": "2023-02-22T05:13:52.151452Z",
     "iopub.status.busy": "2023-02-22T05:13:52.150340Z",
     "iopub.status.idle": "2023-02-22T05:13:52.173723Z",
     "shell.execute_reply": "2023-02-22T05:13:52.172472Z"
    },
    "papermill": {
     "duration": 0.046463,
     "end_time": "2023-02-22T05:13:52.176630",
     "exception": false,
     "start_time": "2023-02-22T05:13:52.130167",
     "status": "completed"
    },
    "tags": []
   },
   "outputs": [
    {
     "data": {
      "text/html": [
       "<div>\n",
       "<style scoped>\n",
       "    .dataframe tbody tr th:only-of-type {\n",
       "        vertical-align: middle;\n",
       "    }\n",
       "\n",
       "    .dataframe tbody tr th {\n",
       "        vertical-align: top;\n",
       "    }\n",
       "\n",
       "    .dataframe thead th {\n",
       "        text-align: right;\n",
       "    }\n",
       "</style>\n",
       "<table border=\"1\" class=\"dataframe\">\n",
       "  <thead>\n",
       "    <tr style=\"text-align: right;\">\n",
       "      <th></th>\n",
       "      <th>Age</th>\n",
       "      <th>RoomService</th>\n",
       "      <th>FoodCourt</th>\n",
       "      <th>ShoppingMall</th>\n",
       "      <th>Spa</th>\n",
       "      <th>VRDeck</th>\n",
       "      <th>Transported</th>\n",
       "      <th>HomePlanet_Earth</th>\n",
       "      <th>HomePlanet_Europa</th>\n",
       "      <th>HomePlanet_Mars</th>\n",
       "      <th>CryoSleep_False</th>\n",
       "      <th>CryoSleep_True</th>\n",
       "      <th>Destination_55 Cancri e</th>\n",
       "      <th>Destination_PSO J318.5-22</th>\n",
       "      <th>Destination_TRAPPIST-1e</th>\n",
       "      <th>VIP_False</th>\n",
       "      <th>VIP_True</th>\n",
       "    </tr>\n",
       "  </thead>\n",
       "  <tbody>\n",
       "    <tr>\n",
       "      <th>0</th>\n",
       "      <td>39.00</td>\n",
       "      <td>0.00</td>\n",
       "      <td>0.00</td>\n",
       "      <td>0.00</td>\n",
       "      <td>0.00</td>\n",
       "      <td>0.00</td>\n",
       "      <td>False</td>\n",
       "      <td>0</td>\n",
       "      <td>1</td>\n",
       "      <td>0</td>\n",
       "      <td>1</td>\n",
       "      <td>0</td>\n",
       "      <td>0</td>\n",
       "      <td>0</td>\n",
       "      <td>1</td>\n",
       "      <td>1</td>\n",
       "      <td>0</td>\n",
       "    </tr>\n",
       "    <tr>\n",
       "      <th>1</th>\n",
       "      <td>24.00</td>\n",
       "      <td>109.00</td>\n",
       "      <td>9.00</td>\n",
       "      <td>25.00</td>\n",
       "      <td>549.00</td>\n",
       "      <td>44.00</td>\n",
       "      <td>True</td>\n",
       "      <td>1</td>\n",
       "      <td>0</td>\n",
       "      <td>0</td>\n",
       "      <td>1</td>\n",
       "      <td>0</td>\n",
       "      <td>0</td>\n",
       "      <td>0</td>\n",
       "      <td>1</td>\n",
       "      <td>1</td>\n",
       "      <td>0</td>\n",
       "    </tr>\n",
       "    <tr>\n",
       "      <th>2</th>\n",
       "      <td>58.00</td>\n",
       "      <td>43.00</td>\n",
       "      <td>3576.00</td>\n",
       "      <td>0.00</td>\n",
       "      <td>6715.00</td>\n",
       "      <td>49.00</td>\n",
       "      <td>False</td>\n",
       "      <td>0</td>\n",
       "      <td>1</td>\n",
       "      <td>0</td>\n",
       "      <td>1</td>\n",
       "      <td>0</td>\n",
       "      <td>0</td>\n",
       "      <td>0</td>\n",
       "      <td>1</td>\n",
       "      <td>0</td>\n",
       "      <td>1</td>\n",
       "    </tr>\n",
       "    <tr>\n",
       "      <th>3</th>\n",
       "      <td>33.00</td>\n",
       "      <td>0.00</td>\n",
       "      <td>1283.00</td>\n",
       "      <td>371.00</td>\n",
       "      <td>3329.00</td>\n",
       "      <td>193.00</td>\n",
       "      <td>False</td>\n",
       "      <td>0</td>\n",
       "      <td>1</td>\n",
       "      <td>0</td>\n",
       "      <td>1</td>\n",
       "      <td>0</td>\n",
       "      <td>0</td>\n",
       "      <td>0</td>\n",
       "      <td>1</td>\n",
       "      <td>1</td>\n",
       "      <td>0</td>\n",
       "    </tr>\n",
       "    <tr>\n",
       "      <th>4</th>\n",
       "      <td>16.00</td>\n",
       "      <td>303.00</td>\n",
       "      <td>70.00</td>\n",
       "      <td>151.00</td>\n",
       "      <td>565.00</td>\n",
       "      <td>2.00</td>\n",
       "      <td>True</td>\n",
       "      <td>1</td>\n",
       "      <td>0</td>\n",
       "      <td>0</td>\n",
       "      <td>1</td>\n",
       "      <td>0</td>\n",
       "      <td>0</td>\n",
       "      <td>0</td>\n",
       "      <td>1</td>\n",
       "      <td>1</td>\n",
       "      <td>0</td>\n",
       "    </tr>\n",
       "    <tr>\n",
       "      <th>...</th>\n",
       "      <td>...</td>\n",
       "      <td>...</td>\n",
       "      <td>...</td>\n",
       "      <td>...</td>\n",
       "      <td>...</td>\n",
       "      <td>...</td>\n",
       "      <td>...</td>\n",
       "      <td>...</td>\n",
       "      <td>...</td>\n",
       "      <td>...</td>\n",
       "      <td>...</td>\n",
       "      <td>...</td>\n",
       "      <td>...</td>\n",
       "      <td>...</td>\n",
       "      <td>...</td>\n",
       "      <td>...</td>\n",
       "      <td>...</td>\n",
       "    </tr>\n",
       "    <tr>\n",
       "      <th>8688</th>\n",
       "      <td>41.00</td>\n",
       "      <td>0.00</td>\n",
       "      <td>6819.00</td>\n",
       "      <td>0.00</td>\n",
       "      <td>1643.00</td>\n",
       "      <td>74.00</td>\n",
       "      <td>False</td>\n",
       "      <td>0</td>\n",
       "      <td>1</td>\n",
       "      <td>0</td>\n",
       "      <td>1</td>\n",
       "      <td>0</td>\n",
       "      <td>1</td>\n",
       "      <td>0</td>\n",
       "      <td>0</td>\n",
       "      <td>0</td>\n",
       "      <td>1</td>\n",
       "    </tr>\n",
       "    <tr>\n",
       "      <th>8689</th>\n",
       "      <td>18.00</td>\n",
       "      <td>0.00</td>\n",
       "      <td>0.00</td>\n",
       "      <td>0.00</td>\n",
       "      <td>0.00</td>\n",
       "      <td>0.00</td>\n",
       "      <td>False</td>\n",
       "      <td>1</td>\n",
       "      <td>0</td>\n",
       "      <td>0</td>\n",
       "      <td>0</td>\n",
       "      <td>1</td>\n",
       "      <td>0</td>\n",
       "      <td>1</td>\n",
       "      <td>0</td>\n",
       "      <td>1</td>\n",
       "      <td>0</td>\n",
       "    </tr>\n",
       "    <tr>\n",
       "      <th>8690</th>\n",
       "      <td>26.00</td>\n",
       "      <td>0.00</td>\n",
       "      <td>0.00</td>\n",
       "      <td>1872.00</td>\n",
       "      <td>1.00</td>\n",
       "      <td>0.00</td>\n",
       "      <td>True</td>\n",
       "      <td>1</td>\n",
       "      <td>0</td>\n",
       "      <td>0</td>\n",
       "      <td>1</td>\n",
       "      <td>0</td>\n",
       "      <td>0</td>\n",
       "      <td>0</td>\n",
       "      <td>1</td>\n",
       "      <td>1</td>\n",
       "      <td>0</td>\n",
       "    </tr>\n",
       "    <tr>\n",
       "      <th>8691</th>\n",
       "      <td>32.00</td>\n",
       "      <td>0.00</td>\n",
       "      <td>1049.00</td>\n",
       "      <td>0.00</td>\n",
       "      <td>353.00</td>\n",
       "      <td>3235.00</td>\n",
       "      <td>False</td>\n",
       "      <td>0</td>\n",
       "      <td>1</td>\n",
       "      <td>0</td>\n",
       "      <td>1</td>\n",
       "      <td>0</td>\n",
       "      <td>1</td>\n",
       "      <td>0</td>\n",
       "      <td>0</td>\n",
       "      <td>1</td>\n",
       "      <td>0</td>\n",
       "    </tr>\n",
       "    <tr>\n",
       "      <th>8692</th>\n",
       "      <td>44.00</td>\n",
       "      <td>126.00</td>\n",
       "      <td>4688.00</td>\n",
       "      <td>0.00</td>\n",
       "      <td>0.00</td>\n",
       "      <td>12.00</td>\n",
       "      <td>True</td>\n",
       "      <td>0</td>\n",
       "      <td>1</td>\n",
       "      <td>0</td>\n",
       "      <td>1</td>\n",
       "      <td>0</td>\n",
       "      <td>0</td>\n",
       "      <td>0</td>\n",
       "      <td>1</td>\n",
       "      <td>1</td>\n",
       "      <td>0</td>\n",
       "    </tr>\n",
       "  </tbody>\n",
       "</table>\n",
       "<p>8693 rows × 17 columns</p>\n",
       "</div>"
      ],
      "text/plain": [
       "       Age  RoomService  FoodCourt  ShoppingMall     Spa  VRDeck  Transported  \\\n",
       "0    39.00         0.00       0.00          0.00    0.00    0.00        False   \n",
       "1    24.00       109.00       9.00         25.00  549.00   44.00         True   \n",
       "2    58.00        43.00    3576.00          0.00 6715.00   49.00        False   \n",
       "3    33.00         0.00    1283.00        371.00 3329.00  193.00        False   \n",
       "4    16.00       303.00      70.00        151.00  565.00    2.00         True   \n",
       "...    ...          ...        ...           ...     ...     ...          ...   \n",
       "8688 41.00         0.00    6819.00          0.00 1643.00   74.00        False   \n",
       "8689 18.00         0.00       0.00          0.00    0.00    0.00        False   \n",
       "8690 26.00         0.00       0.00       1872.00    1.00    0.00         True   \n",
       "8691 32.00         0.00    1049.00          0.00  353.00 3235.00        False   \n",
       "8692 44.00       126.00    4688.00          0.00    0.00   12.00         True   \n",
       "\n",
       "      HomePlanet_Earth  HomePlanet_Europa  HomePlanet_Mars  CryoSleep_False  \\\n",
       "0                    0                  1                0                1   \n",
       "1                    1                  0                0                1   \n",
       "2                    0                  1                0                1   \n",
       "3                    0                  1                0                1   \n",
       "4                    1                  0                0                1   \n",
       "...                ...                ...              ...              ...   \n",
       "8688                 0                  1                0                1   \n",
       "8689                 1                  0                0                0   \n",
       "8690                 1                  0                0                1   \n",
       "8691                 0                  1                0                1   \n",
       "8692                 0                  1                0                1   \n",
       "\n",
       "      CryoSleep_True  Destination_55 Cancri e  Destination_PSO J318.5-22  \\\n",
       "0                  0                        0                          0   \n",
       "1                  0                        0                          0   \n",
       "2                  0                        0                          0   \n",
       "3                  0                        0                          0   \n",
       "4                  0                        0                          0   \n",
       "...              ...                      ...                        ...   \n",
       "8688               0                        1                          0   \n",
       "8689               1                        0                          1   \n",
       "8690               0                        0                          0   \n",
       "8691               0                        1                          0   \n",
       "8692               0                        0                          0   \n",
       "\n",
       "      Destination_TRAPPIST-1e  VIP_False  VIP_True  \n",
       "0                           1          1         0  \n",
       "1                           1          1         0  \n",
       "2                           1          0         1  \n",
       "3                           1          1         0  \n",
       "4                           1          1         0  \n",
       "...                       ...        ...       ...  \n",
       "8688                        0          0         1  \n",
       "8689                        0          1         0  \n",
       "8690                        1          1         0  \n",
       "8691                        0          1         0  \n",
       "8692                        1          1         0  \n",
       "\n",
       "[8693 rows x 17 columns]"
      ]
     },
     "execution_count": 20,
     "metadata": {},
     "output_type": "execute_result"
    }
   ],
   "source": [
    "df1"
   ]
  },
  {
   "cell_type": "code",
   "execution_count": 21,
   "id": "6c35317b",
   "metadata": {
    "execution": {
     "iopub.execute_input": "2023-02-22T05:13:52.218020Z",
     "iopub.status.busy": "2023-02-22T05:13:52.217198Z",
     "iopub.status.idle": "2023-02-22T05:13:52.233429Z",
     "shell.execute_reply": "2023-02-22T05:13:52.232084Z"
    },
    "papermill": {
     "duration": 0.041837,
     "end_time": "2023-02-22T05:13:52.237798",
     "exception": false,
     "start_time": "2023-02-22T05:13:52.195961",
     "status": "completed"
    },
    "tags": []
   },
   "outputs": [
    {
     "name": "stdout",
     "output_type": "stream",
     "text": [
      "<class 'pandas.core.frame.DataFrame'>\n",
      "RangeIndex: 8693 entries, 0 to 8692\n",
      "Data columns (total 17 columns):\n",
      " #   Column                     Non-Null Count  Dtype  \n",
      "---  ------                     --------------  -----  \n",
      " 0   Age                        8693 non-null   float64\n",
      " 1   RoomService                8693 non-null   float64\n",
      " 2   FoodCourt                  8693 non-null   float64\n",
      " 3   ShoppingMall               8693 non-null   float64\n",
      " 4   Spa                        8693 non-null   float64\n",
      " 5   VRDeck                     8693 non-null   float64\n",
      " 6   Transported                8693 non-null   bool   \n",
      " 7   HomePlanet_Earth           8693 non-null   uint8  \n",
      " 8   HomePlanet_Europa          8693 non-null   uint8  \n",
      " 9   HomePlanet_Mars            8693 non-null   uint8  \n",
      " 10  CryoSleep_False            8693 non-null   uint8  \n",
      " 11  CryoSleep_True             8693 non-null   uint8  \n",
      " 12  Destination_55 Cancri e    8693 non-null   uint8  \n",
      " 13  Destination_PSO J318.5-22  8693 non-null   uint8  \n",
      " 14  Destination_TRAPPIST-1e    8693 non-null   uint8  \n",
      " 15  VIP_False                  8693 non-null   uint8  \n",
      " 16  VIP_True                   8693 non-null   uint8  \n",
      "dtypes: bool(1), float64(6), uint8(10)\n",
      "memory usage: 501.0 KB\n"
     ]
    }
   ],
   "source": [
    "df1.info()"
   ]
  },
  {
   "cell_type": "code",
   "execution_count": 22,
   "id": "72d1c4e4",
   "metadata": {
    "execution": {
     "iopub.execute_input": "2023-02-22T05:13:52.279155Z",
     "iopub.status.busy": "2023-02-22T05:13:52.278232Z",
     "iopub.status.idle": "2023-02-22T05:13:52.286346Z",
     "shell.execute_reply": "2023-02-22T05:13:52.285355Z"
    },
    "papermill": {
     "duration": 0.031516,
     "end_time": "2023-02-22T05:13:52.289124",
     "exception": false,
     "start_time": "2023-02-22T05:13:52.257608",
     "status": "completed"
    },
    "tags": []
   },
   "outputs": [],
   "source": [
    "y=df1['Transported']\n",
    "col=df1.columns\n",
    "\n",
    "col=col.delete(6)\n",
    "x=df1[col]\n",
    "#x=transform1(x)"
   ]
  },
  {
   "cell_type": "code",
   "execution_count": 23,
   "id": "7ef222c0",
   "metadata": {
    "execution": {
     "iopub.execute_input": "2023-02-22T05:13:52.334239Z",
     "iopub.status.busy": "2023-02-22T05:13:52.332874Z",
     "iopub.status.idle": "2023-02-22T05:13:52.348282Z",
     "shell.execute_reply": "2023-02-22T05:13:52.346808Z"
    },
    "papermill": {
     "duration": 0.04031,
     "end_time": "2023-02-22T05:13:52.351523",
     "exception": false,
     "start_time": "2023-02-22T05:13:52.311213",
     "status": "completed"
    },
    "tags": []
   },
   "outputs": [],
   "source": [
    "x_train,x_test,y_train,y_test=train_test_split(x,y,random_state=5,stratify = y,test_size = 0.40)\n"
   ]
  },
  {
   "cell_type": "code",
   "execution_count": 24,
   "id": "4ddcfab6",
   "metadata": {
    "execution": {
     "iopub.execute_input": "2023-02-22T05:13:52.392544Z",
     "iopub.status.busy": "2023-02-22T05:13:52.391734Z",
     "iopub.status.idle": "2023-02-22T05:14:07.539026Z",
     "shell.execute_reply": "2023-02-22T05:14:07.537732Z"
    },
    "papermill": {
     "duration": 15.171798,
     "end_time": "2023-02-22T05:14:07.542398",
     "exception": false,
     "start_time": "2023-02-22T05:13:52.370600",
     "status": "completed"
    },
    "tags": []
   },
   "outputs": [
    {
     "name": "stderr",
     "output_type": "stream",
     "text": [
      "100%|██████████| 29/29 [00:15<00:00,  1.92it/s]\n"
     ]
    }
   ],
   "source": [
    "clf=LazyClassifier()\n",
    "model,predictions=clf.fit(x_train,x_test,y_train,y_test)"
   ]
  },
  {
   "cell_type": "code",
   "execution_count": 25,
   "id": "29a9052b",
   "metadata": {
    "execution": {
     "iopub.execute_input": "2023-02-22T05:14:07.589957Z",
     "iopub.status.busy": "2023-02-22T05:14:07.589027Z",
     "iopub.status.idle": "2023-02-22T05:14:07.599961Z",
     "shell.execute_reply": "2023-02-22T05:14:07.597826Z"
    },
    "papermill": {
     "duration": 0.037673,
     "end_time": "2023-02-22T05:14:07.602974",
     "exception": false,
     "start_time": "2023-02-22T05:14:07.565301",
     "status": "completed"
    },
    "tags": []
   },
   "outputs": [
    {
     "name": "stdout",
     "output_type": "stream",
     "text": [
      "                               Accuracy  Balanced Accuracy  ROC AUC  F1 Score  \\\n",
      "Model                                                                           \n",
      "LGBMClassifier                     0.80               0.80     0.80      0.80   \n",
      "XGBClassifier                      0.79               0.79     0.79      0.79   \n",
      "SGDClassifier                      0.79               0.79     0.79      0.79   \n",
      "LogisticRegression                 0.79               0.79     0.79      0.79   \n",
      "RandomForestClassifier             0.78               0.78     0.78      0.78   \n",
      "AdaBoostClassifier                 0.78               0.78     0.78      0.78   \n",
      "SVC                                0.78               0.78     0.78      0.78   \n",
      "LinearSVC                          0.78               0.78     0.78      0.78   \n",
      "CalibratedClassifierCV             0.78               0.78     0.78      0.78   \n",
      "NuSVC                              0.78               0.78     0.78      0.78   \n",
      "BaggingClassifier                  0.77               0.77     0.77      0.77   \n",
      "ExtraTreesClassifier               0.77               0.77     0.77      0.77   \n",
      "LabelSpreading                     0.77               0.77     0.77      0.77   \n",
      "LabelPropagation                   0.77               0.77     0.77      0.77   \n",
      "KNeighborsClassifier               0.76               0.76     0.76      0.76   \n",
      "GaussianNB                         0.76               0.76     0.76      0.76   \n",
      "LinearDiscriminantAnalysis         0.76               0.76     0.76      0.76   \n",
      "RidgeClassifier                    0.76               0.76     0.76      0.76   \n",
      "RidgeClassifierCV                  0.76               0.76     0.76      0.76   \n",
      "QuadraticDiscriminantAnalysis      0.74               0.74     0.74      0.74   \n",
      "NearestCentroid                    0.74               0.74     0.74      0.73   \n",
      "BernoulliNB                        0.74               0.74     0.74      0.73   \n",
      "DecisionTreeClassifier             0.73               0.73     0.73      0.73   \n",
      "ExtraTreeClassifier                0.72               0.72     0.72      0.72   \n",
      "Perceptron                         0.69               0.69     0.69      0.68   \n",
      "PassiveAggressiveClassifier        0.63               0.63     0.63      0.61   \n",
      "DummyClassifier                    0.50               0.50     0.50      0.34   \n",
      "\n",
      "                               Time Taken  \n",
      "Model                                      \n",
      "LGBMClassifier                       0.78  \n",
      "XGBClassifier                        0.78  \n",
      "SGDClassifier                        0.12  \n",
      "LogisticRegression                   0.08  \n",
      "RandomForestClassifier               0.89  \n",
      "AdaBoostClassifier                   0.33  \n",
      "SVC                                  1.72  \n",
      "LinearSVC                            0.55  \n",
      "CalibratedClassifierCV               2.10  \n",
      "NuSVC                                1.92  \n",
      "BaggingClassifier                    0.21  \n",
      "ExtraTreesClassifier                 0.76  \n",
      "LabelSpreading                       2.14  \n",
      "LabelPropagation                     1.60  \n",
      "KNeighborsClassifier                 0.54  \n",
      "GaussianNB                           0.03  \n",
      "LinearDiscriminantAnalysis           0.09  \n",
      "RidgeClassifier                      0.04  \n",
      "RidgeClassifierCV                    0.05  \n",
      "QuadraticDiscriminantAnalysis        0.05  \n",
      "NearestCentroid                      0.05  \n",
      "BernoulliNB                          0.03  \n",
      "DecisionTreeClassifier               0.09  \n",
      "ExtraTreeClassifier                  0.03  \n",
      "Perceptron                           0.05  \n",
      "PassiveAggressiveClassifier          0.03  \n",
      "DummyClassifier                      0.02  \n"
     ]
    }
   ],
   "source": [
    "print(model)"
   ]
  },
  {
   "cell_type": "markdown",
   "id": "e2ede69e",
   "metadata": {
    "papermill": {
     "duration": 0.020971,
     "end_time": "2023-02-22T05:14:07.645538",
     "exception": false,
     "start_time": "2023-02-22T05:14:07.624567",
     "status": "completed"
    },
    "tags": []
   },
   "source": [
    "### LGBMClassifier has better performance compared to other classifiers"
   ]
  },
  {
   "cell_type": "code",
   "execution_count": 26,
   "id": "7a1b716c",
   "metadata": {
    "execution": {
     "iopub.execute_input": "2023-02-22T05:14:07.691901Z",
     "iopub.status.busy": "2023-02-22T05:14:07.691429Z",
     "iopub.status.idle": "2023-02-22T05:14:08.538332Z",
     "shell.execute_reply": "2023-02-22T05:14:08.536767Z"
    },
    "papermill": {
     "duration": 0.873412,
     "end_time": "2023-02-22T05:14:08.541298",
     "exception": false,
     "start_time": "2023-02-22T05:14:07.667886",
     "status": "completed"
    },
    "tags": []
   },
   "outputs": [],
   "source": [
    "clf=lgb.LGBMClassifier(random_state=5)\n",
    "clf.fit(x_train,y_train)\n",
    "pred=clf.predict(x_test)"
   ]
  },
  {
   "cell_type": "code",
   "execution_count": 27,
   "id": "bd68955c",
   "metadata": {
    "execution": {
     "iopub.execute_input": "2023-02-22T05:14:08.587553Z",
     "iopub.status.busy": "2023-02-22T05:14:08.587066Z",
     "iopub.status.idle": "2023-02-22T05:14:08.595752Z",
     "shell.execute_reply": "2023-02-22T05:14:08.594335Z"
    },
    "papermill": {
     "duration": 0.035856,
     "end_time": "2023-02-22T05:14:08.598491",
     "exception": false,
     "start_time": "2023-02-22T05:14:08.562635",
     "status": "completed"
    },
    "tags": []
   },
   "outputs": [
    {
     "data": {
      "text/plain": [
       "{'boosting_type': 'gbdt',\n",
       " 'class_weight': None,\n",
       " 'colsample_bytree': 1.0,\n",
       " 'importance_type': 'split',\n",
       " 'learning_rate': 0.1,\n",
       " 'max_depth': -1,\n",
       " 'min_child_samples': 20,\n",
       " 'min_child_weight': 0.001,\n",
       " 'min_split_gain': 0.0,\n",
       " 'n_estimators': 100,\n",
       " 'n_jobs': -1,\n",
       " 'num_leaves': 31,\n",
       " 'objective': None,\n",
       " 'random_state': 5,\n",
       " 'reg_alpha': 0.0,\n",
       " 'reg_lambda': 0.0,\n",
       " 'silent': 'warn',\n",
       " 'subsample': 1.0,\n",
       " 'subsample_for_bin': 200000,\n",
       " 'subsample_freq': 0}"
      ]
     },
     "execution_count": 27,
     "metadata": {},
     "output_type": "execute_result"
    }
   ],
   "source": [
    "clf.get_params()"
   ]
  },
  {
   "cell_type": "code",
   "execution_count": 28,
   "id": "fd2a88e8",
   "metadata": {
    "execution": {
     "iopub.execute_input": "2023-02-22T05:14:08.645242Z",
     "iopub.status.busy": "2023-02-22T05:14:08.644701Z",
     "iopub.status.idle": "2023-02-22T05:14:08.685325Z",
     "shell.execute_reply": "2023-02-22T05:14:08.683006Z"
    },
    "papermill": {
     "duration": 0.070074,
     "end_time": "2023-02-22T05:14:08.690218",
     "exception": false,
     "start_time": "2023-02-22T05:14:08.620144",
     "status": "completed"
    },
    "tags": []
   },
   "outputs": [
    {
     "name": "stdout",
     "output_type": "stream",
     "text": [
      "0.8661553211888783\n",
      "0.7938470385278896\n"
     ]
    }
   ],
   "source": [
    "#acc=accuracy_score(y_test,pred)\n",
    "#acc\n",
    "print(clf.score(x_train,y_train))\n",
    "print(clf.score(x_test,y_test))"
   ]
  },
  {
   "cell_type": "markdown",
   "id": "cadece0d",
   "metadata": {
    "papermill": {
     "duration": 0.021536,
     "end_time": "2023-02-22T05:14:08.736066",
     "exception": false,
     "start_time": "2023-02-22T05:14:08.714530",
     "status": "completed"
    },
    "tags": []
   },
   "source": [
    "### Check if the model does not overfit"
   ]
  },
  {
   "cell_type": "code",
   "execution_count": 29,
   "id": "415050c3",
   "metadata": {
    "execution": {
     "iopub.execute_input": "2023-02-22T05:14:08.783341Z",
     "iopub.status.busy": "2023-02-22T05:14:08.782501Z",
     "iopub.status.idle": "2023-02-22T05:14:08.804260Z",
     "shell.execute_reply": "2023-02-22T05:14:08.803089Z"
    },
    "papermill": {
     "duration": 0.048244,
     "end_time": "2023-02-22T05:14:08.807330",
     "exception": false,
     "start_time": "2023-02-22T05:14:08.759086",
     "status": "completed"
    },
    "tags": []
   },
   "outputs": [],
   "source": [
    "y_pred_train=clf.predict(x_train)"
   ]
  },
  {
   "cell_type": "code",
   "execution_count": 30,
   "id": "5cad9d53",
   "metadata": {
    "execution": {
     "iopub.execute_input": "2023-02-22T05:14:08.855055Z",
     "iopub.status.busy": "2023-02-22T05:14:08.854215Z",
     "iopub.status.idle": "2023-02-22T05:14:08.861202Z",
     "shell.execute_reply": "2023-02-22T05:14:08.860122Z"
    },
    "papermill": {
     "duration": 0.034632,
     "end_time": "2023-02-22T05:14:08.863561",
     "exception": false,
     "start_time": "2023-02-22T05:14:08.828929",
     "status": "completed"
    },
    "tags": []
   },
   "outputs": [
    {
     "name": "stdout",
     "output_type": "stream",
     "text": [
      "0.8662\n"
     ]
    }
   ],
   "source": [
    "print('{0:0.4f}'.format(accuracy_score(y_train,y_pred_train)))"
   ]
  },
  {
   "cell_type": "markdown",
   "id": "1143f74a",
   "metadata": {
    "papermill": {
     "duration": 0.021457,
     "end_time": "2023-02-22T05:14:08.906838",
     "exception": false,
     "start_time": "2023-02-22T05:14:08.885381",
     "status": "completed"
    },
    "tags": []
   },
   "source": [
    "### The accuracy of train and test set are comparable**"
   ]
  },
  {
   "cell_type": "markdown",
   "id": "d547b843",
   "metadata": {
    "papermill": {
     "duration": 0.021209,
     "end_time": "2023-02-22T05:14:08.949868",
     "exception": false,
     "start_time": "2023-02-22T05:14:08.928659",
     "status": "completed"
    },
    "tags": []
   },
   "source": [
    "### Hyperparameter tuning"
   ]
  },
  {
   "cell_type": "code",
   "execution_count": 31,
   "id": "7e8c2c5c",
   "metadata": {
    "execution": {
     "iopub.execute_input": "2023-02-22T05:14:08.996611Z",
     "iopub.status.busy": "2023-02-22T05:14:08.995739Z",
     "iopub.status.idle": "2023-02-22T05:14:57.957161Z",
     "shell.execute_reply": "2023-02-22T05:14:57.955803Z"
    },
    "papermill": {
     "duration": 48.988783,
     "end_time": "2023-02-22T05:14:57.960678",
     "exception": false,
     "start_time": "2023-02-22T05:14:08.971895",
     "status": "completed"
    },
    "tags": []
   },
   "outputs": [
    {
     "name": "stdout",
     "output_type": "stream",
     "text": [
      "[LightGBM] [Warning] min_gain_to_split is set=0.1, min_split_gain=0.0 will be ignored. Current value: min_gain_to_split=0.1\n",
      "[LightGBM] [Warning] min_gain_to_split is set=0.1, min_split_gain=0.0 will be ignored. Current value: min_gain_to_split=0.1\n",
      "[LightGBM] [Warning] min_gain_to_split is set=0.1, min_split_gain=0.0 will be ignored. Current value: min_gain_to_split=0.1\n",
      "[LightGBM] [Warning] min_gain_to_split is set=0.1, min_split_gain=0.0 will be ignored. Current value: min_gain_to_split=0.1\n",
      "[LightGBM] [Warning] min_gain_to_split is set=0.1, min_split_gain=0.0 will be ignored. Current value: min_gain_to_split=0.1\n",
      "[LightGBM] [Warning] min_gain_to_split is set=0.1, min_split_gain=0.0 will be ignored. Current value: min_gain_to_split=0.1\n",
      "[LightGBM] [Warning] min_gain_to_split is set=0.1, min_split_gain=0.0 will be ignored. Current value: min_gain_to_split=0.1\n",
      "[LightGBM] [Warning] min_gain_to_split is set=0.1, min_split_gain=0.0 will be ignored. Current value: min_gain_to_split=0.1\n",
      "[LightGBM] [Warning] min_gain_to_split is set=0.1, min_split_gain=0.0 will be ignored. Current value: min_gain_to_split=0.1\n",
      "[LightGBM] [Warning] min_gain_to_split is set=0.1, min_split_gain=0.0 will be ignored. Current value: min_gain_to_split=0.1\n",
      "[LightGBM] [Warning] min_gain_to_split is set=0.1, min_split_gain=0.0 will be ignored. Current value: min_gain_to_split=0.1\n",
      "[LightGBM] [Warning] min_gain_to_split is set=0.1, min_split_gain=0.0 will be ignored. Current value: min_gain_to_split=0.1\n",
      "[LightGBM] [Warning] min_gain_to_split is set=0.1, min_split_gain=0.0 will be ignored. Current value: min_gain_to_split=0.1\n",
      "[LightGBM] [Warning] min_gain_to_split is set=0.1, min_split_gain=0.0 will be ignored. Current value: min_gain_to_split=0.1\n",
      "[LightGBM] [Warning] min_gain_to_split is set=0.1, min_split_gain=0.0 will be ignored. Current value: min_gain_to_split=0.1\n",
      "[LightGBM] [Warning] min_gain_to_split is set=0.1, min_split_gain=0.0 will be ignored. Current value: min_gain_to_split=0.1\n",
      "[LightGBM] [Warning] min_gain_to_split is set=0.1, min_split_gain=0.0 will be ignored. Current value: min_gain_to_split=0.1\n",
      "[LightGBM] [Warning] min_gain_to_split is set=0.1, min_split_gain=0.0 will be ignored. Current value: min_gain_to_split=0.1\n",
      "[LightGBM] [Warning] min_gain_to_split is set=0.1, min_split_gain=0.0 will be ignored. Current value: min_gain_to_split=0.1\n",
      "[LightGBM] [Warning] min_gain_to_split is set=0.1, min_split_gain=0.0 will be ignored. Current value: min_gain_to_split=0.1\n",
      "[LightGBM] [Warning] min_gain_to_split is set=0.1, min_split_gain=0.0 will be ignored. Current value: min_gain_to_split=0.1\n",
      "[LightGBM] [Warning] min_gain_to_split is set=0.1, min_split_gain=0.0 will be ignored. Current value: min_gain_to_split=0.1\n",
      "[LightGBM] [Warning] min_gain_to_split is set=0.1, min_split_gain=0.0 will be ignored. Current value: min_gain_to_split=0.1\n",
      "[LightGBM] [Warning] min_gain_to_split is set=0.1, min_split_gain=0.0 will be ignored. Current value: min_gain_to_split=0.1\n",
      "[LightGBM] [Warning] min_gain_to_split is set=0.1, min_split_gain=0.0 will be ignored. Current value: min_gain_to_split=0.1\n",
      "[LightGBM] [Warning] min_gain_to_split is set=0.1, min_split_gain=0.0 will be ignored. Current value: min_gain_to_split=0.1\n",
      "[LightGBM] [Warning] min_gain_to_split is set=0.1, min_split_gain=0.0 will be ignored. Current value: min_gain_to_split=0.1\n",
      "[LightGBM] [Warning] min_gain_to_split is set=0.1, min_split_gain=0.0 will be ignored. Current value: min_gain_to_split=0.1\n",
      "[LightGBM] [Warning] min_gain_to_split is set=0.1, min_split_gain=0.0 will be ignored. Current value: min_gain_to_split=0.1\n",
      "[LightGBM] [Warning] min_gain_to_split is set=0.1, min_split_gain=0.0 will be ignored. Current value: min_gain_to_split=0.1\n",
      "[LightGBM] [Warning] min_gain_to_split is set=0.1, min_split_gain=0.0 will be ignored. Current value: min_gain_to_split=0.1\n",
      "[LightGBM] [Warning] min_gain_to_split is set=0.1, min_split_gain=0.0 will be ignored. Current value: min_gain_to_split=0.1\n",
      "[LightGBM] [Warning] min_gain_to_split is set=0.1, min_split_gain=0.0 will be ignored. Current value: min_gain_to_split=0.1\n",
      "[LightGBM] [Warning] min_gain_to_split is set=0.1, min_split_gain=0.0 will be ignored. Current value: min_gain_to_split=0.1\n",
      "[LightGBM] [Warning] min_gain_to_split is set=0.1, min_split_gain=0.0 will be ignored. Current value: min_gain_to_split=0.1\n",
      "[LightGBM] [Warning] min_gain_to_split is set=1, min_split_gain=0.0 will be ignored. Current value: min_gain_to_split=1\n",
      "[LightGBM] [Warning] min_gain_to_split is set=1, min_split_gain=0.0 will be ignored. Current value: min_gain_to_split=1\n",
      "[LightGBM] [Warning] min_gain_to_split is set=1, min_split_gain=0.0 will be ignored. Current value: min_gain_to_split=1\n",
      "[LightGBM] [Warning] min_gain_to_split is set=1, min_split_gain=0.0 will be ignored. Current value: min_gain_to_split=1\n",
      "[LightGBM] [Warning] min_gain_to_split is set=1, min_split_gain=0.0 will be ignored. Current value: min_gain_to_split=1\n",
      "[LightGBM] [Warning] min_gain_to_split is set=1, min_split_gain=0.0 will be ignored. Current value: min_gain_to_split=1\n",
      "[LightGBM] [Warning] min_gain_to_split is set=1, min_split_gain=0.0 will be ignored. Current value: min_gain_to_split=1\n",
      "[LightGBM] [Warning] min_gain_to_split is set=1, min_split_gain=0.0 will be ignored. Current value: min_gain_to_split=1\n",
      "[LightGBM] [Warning] min_gain_to_split is set=1, min_split_gain=0.0 will be ignored. Current value: min_gain_to_split=1\n",
      "[LightGBM] [Warning] min_gain_to_split is set=1, min_split_gain=0.0 will be ignored. Current value: min_gain_to_split=1\n",
      "[LightGBM] [Warning] min_gain_to_split is set=1, min_split_gain=0.0 will be ignored. Current value: min_gain_to_split=1\n",
      "[LightGBM] [Warning] min_gain_to_split is set=1, min_split_gain=0.0 will be ignored. Current value: min_gain_to_split=1\n",
      "[LightGBM] [Warning] min_gain_to_split is set=1, min_split_gain=0.0 will be ignored. Current value: min_gain_to_split=1\n",
      "[LightGBM] [Warning] min_gain_to_split is set=1, min_split_gain=0.0 will be ignored. Current value: min_gain_to_split=1\n",
      "[LightGBM] [Warning] min_gain_to_split is set=1, min_split_gain=0.0 will be ignored. Current value: min_gain_to_split=1\n",
      "[LightGBM] [Warning] min_gain_to_split is set=1, min_split_gain=0.0 will be ignored. Current value: min_gain_to_split=1\n"
     ]
    },
    {
     "data": {
      "text/plain": [
       "{'num_iterations': 150,\n",
       " 'min_gain_to_split': 1,\n",
       " 'max_depth': 20,\n",
       " 'max_bin': 150,\n",
       " 'learning_rate': 0.13}"
      ]
     },
     "execution_count": 31,
     "metadata": {},
     "output_type": "execute_result"
    }
   ],
   "source": [
    "param_grid={'max_bin':[150,250],'learning_rate':[0.13,0.03],'num_iterations':[150,300],'min_gain_to_split':[0.1,1],'max_depth':[10,20]}\n",
    "clf=RandomizedSearchCV(estimator=clf,param_distributions=param_grid, scoring='accuracy')\n",
    "search=clf.fit(x_train,y_train)\n",
    "search.best_params_"
   ]
  },
  {
   "cell_type": "code",
   "execution_count": 32,
   "id": "dcb44e8e",
   "metadata": {
    "execution": {
     "iopub.execute_input": "2023-02-22T05:14:58.014065Z",
     "iopub.status.busy": "2023-02-22T05:14:58.013174Z",
     "iopub.status.idle": "2023-02-22T05:14:58.019733Z",
     "shell.execute_reply": "2023-02-22T05:14:58.018763Z"
    },
    "papermill": {
     "duration": 0.035623,
     "end_time": "2023-02-22T05:14:58.022092",
     "exception": false,
     "start_time": "2023-02-22T05:14:57.986469",
     "status": "completed"
    },
    "tags": []
   },
   "outputs": [
    {
     "data": {
      "text/plain": [
       "0.7938638542665389"
      ]
     },
     "execution_count": 32,
     "metadata": {},
     "output_type": "execute_result"
    }
   ],
   "source": [
    "search.best_score_"
   ]
  },
  {
   "cell_type": "code",
   "execution_count": 33,
   "id": "c22923c0",
   "metadata": {
    "execution": {
     "iopub.execute_input": "2023-02-22T05:14:58.075230Z",
     "iopub.status.busy": "2023-02-22T05:14:58.074445Z",
     "iopub.status.idle": "2023-02-22T05:14:59.285294Z",
     "shell.execute_reply": "2023-02-22T05:14:59.283681Z"
    },
    "papermill": {
     "duration": 1.241209,
     "end_time": "2023-02-22T05:14:59.288414",
     "exception": false,
     "start_time": "2023-02-22T05:14:58.047205",
     "status": "completed"
    },
    "tags": []
   },
   "outputs": [
    {
     "name": "stdout",
     "output_type": "stream",
     "text": [
      "Accuracy on train data 0.8304889741131352\n",
      "Accuracy on test data 0.79700977573318\n"
     ]
    }
   ],
   "source": [
    "clf=lgb.LGBMClassifier(max_bin=250,learning_rate=0.03,num_iterations=150,min_gain_to_split=1,max_depth=20)\n",
    "clf.fit(x_train,y_train)\n",
    "pred=clf.predict(x_test)\n",
    "#acc=accuracy_score(y_test,pred)\n",
    "#acc\n",
    "print(\"Accuracy on train data\",clf.score(x_train,y_train))\n",
    "print(\"Accuracy on test data\",clf.score(x_test,y_test))"
   ]
  },
  {
   "cell_type": "code",
   "execution_count": 34,
   "id": "d37d1a44",
   "metadata": {
    "execution": {
     "iopub.execute_input": "2023-02-22T05:14:59.342005Z",
     "iopub.status.busy": "2023-02-22T05:14:59.341212Z",
     "iopub.status.idle": "2023-02-22T05:14:59.867174Z",
     "shell.execute_reply": "2023-02-22T05:14:59.865364Z"
    },
    "papermill": {
     "duration": 0.556408,
     "end_time": "2023-02-22T05:14:59.870137",
     "exception": false,
     "start_time": "2023-02-22T05:14:59.313729",
     "status": "completed"
    },
    "tags": []
   },
   "outputs": [
    {
     "name": "stdout",
     "output_type": "stream",
     "text": [
      "[LightGBM] [Warning] min_gain_to_split is set=0.3, min_split_gain=0.0 will be ignored. Current value: min_gain_to_split=0.3\n",
      "Accuracy on train data 0.8534995206136146\n",
      "Accuracy on test data 0.7924094307073031\n"
     ]
    }
   ],
   "source": [
    "clf=lgb.LGBMClassifier(max_bin=250,learning_rate=0.13,num_iterations=150,min_gain_to_split=0.3,max_depth=20)\n",
    "clf.fit(x_train,y_train)\n",
    "pred=clf.predict(x_test)\n",
    "#acc=accuracy_score(y_test,pred)\n",
    "#print(\"accuracy\",acc)\n",
    "print(\"Accuracy on train data\",clf.score(x_train,y_train))\n",
    "print(\"Accuracy on test data\",clf.score(x_test,y_test))"
   ]
  },
  {
   "cell_type": "code",
   "execution_count": 35,
   "id": "a5d46310",
   "metadata": {
    "execution": {
     "iopub.execute_input": "2023-02-22T05:14:59.923920Z",
     "iopub.status.busy": "2023-02-22T05:14:59.923459Z",
     "iopub.status.idle": "2023-02-22T05:14:59.930833Z",
     "shell.execute_reply": "2023-02-22T05:14:59.929692Z"
    },
    "papermill": {
     "duration": 0.037602,
     "end_time": "2023-02-22T05:14:59.933522",
     "exception": false,
     "start_time": "2023-02-22T05:14:59.895920",
     "status": "completed"
    },
    "tags": []
   },
   "outputs": [],
   "source": [
    "from sklearn.metrics import confusion_matrix\n",
    "cm = confusion_matrix(y_test, pred)"
   ]
  },
  {
   "cell_type": "code",
   "execution_count": 36,
   "id": "3d8b726b",
   "metadata": {
    "execution": {
     "iopub.execute_input": "2023-02-22T05:14:59.988243Z",
     "iopub.status.busy": "2023-02-22T05:14:59.987782Z",
     "iopub.status.idle": "2023-02-22T05:14:59.995620Z",
     "shell.execute_reply": "2023-02-22T05:14:59.994335Z"
    },
    "papermill": {
     "duration": 0.039066,
     "end_time": "2023-02-22T05:14:59.998169",
     "exception": false,
     "start_time": "2023-02-22T05:14:59.959103",
     "status": "completed"
    },
    "tags": []
   },
   "outputs": [
    {
     "data": {
      "text/plain": [
       "array([[1335,  391],\n",
       "       [ 331, 1421]])"
      ]
     },
     "execution_count": 36,
     "metadata": {},
     "output_type": "execute_result"
    }
   ],
   "source": [
    "cm"
   ]
  },
  {
   "cell_type": "code",
   "execution_count": 37,
   "id": "e457017a",
   "metadata": {
    "execution": {
     "iopub.execute_input": "2023-02-22T05:15:00.053220Z",
     "iopub.status.busy": "2023-02-22T05:15:00.052751Z",
     "iopub.status.idle": "2023-02-22T05:15:00.538170Z",
     "shell.execute_reply": "2023-02-22T05:15:00.536712Z"
    },
    "papermill": {
     "duration": 0.516902,
     "end_time": "2023-02-22T05:15:00.540873",
     "exception": false,
     "start_time": "2023-02-22T05:15:00.023971",
     "status": "completed"
    },
    "tags": []
   },
   "outputs": [
    {
     "data": {
      "text/plain": [
       "<AxesSubplot:>"
      ]
     },
     "execution_count": 37,
     "metadata": {},
     "output_type": "execute_result"
    },
    {
     "data": {
      "image/png": "[encoded data removed]",
      "text/plain": [
       "<Figure size 640x480 with 2 Axes>"
      ]
     },
     "metadata": {},
     "output_type": "display_data"
    }
   ],
   "source": [
    "import seaborn as sns\n",
    "sns.heatmap(cm,annot=True)"
   ]
  },
  {
   "cell_type": "code",
   "execution_count": 38,
   "id": "54a679f5",
   "metadata": {
    "execution": {
     "iopub.execute_input": "2023-02-22T05:15:00.595552Z",
     "iopub.status.busy": "2023-02-22T05:15:00.594790Z",
     "iopub.status.idle": "2023-02-22T05:15:00.611545Z",
     "shell.execute_reply": "2023-02-22T05:15:00.610196Z"
    },
    "papermill": {
     "duration": 0.047321,
     "end_time": "2023-02-22T05:15:00.614338",
     "exception": false,
     "start_time": "2023-02-22T05:15:00.567017",
     "status": "completed"
    },
    "tags": []
   },
   "outputs": [
    {
     "name": "stdout",
     "output_type": "stream",
     "text": [
      "              precision    recall  f1-score   support\n",
      "\n",
      "       False       0.80      0.77      0.79      1726\n",
      "        True       0.78      0.81      0.80      1752\n",
      "\n",
      "    accuracy                           0.79      3478\n",
      "   macro avg       0.79      0.79      0.79      3478\n",
      "weighted avg       0.79      0.79      0.79      3478\n",
      "\n"
     ]
    }
   ],
   "source": [
    "from sklearn.metrics import classification_report\n",
    "print(classification_report(y_test, pred))"
   ]
  },
  {
   "cell_type": "code",
   "execution_count": 39,
   "id": "96347f43",
   "metadata": {
    "execution": {
     "iopub.execute_input": "2023-02-22T05:15:00.671213Z",
     "iopub.status.busy": "2023-02-22T05:15:00.670445Z",
     "iopub.status.idle": "2023-02-22T05:15:00.717654Z",
     "shell.execute_reply": "2023-02-22T05:15:00.716364Z"
    },
    "papermill": {
     "duration": 0.078928,
     "end_time": "2023-02-22T05:15:00.720468",
     "exception": false,
     "start_time": "2023-02-22T05:15:00.641540",
     "status": "completed"
    },
    "tags": []
   },
   "outputs": [
    {
     "data": {
      "text/html": [
       "<div>\n",
       "<style scoped>\n",
       "    .dataframe tbody tr th:only-of-type {\n",
       "        vertical-align: middle;\n",
       "    }\n",
       "\n",
       "    .dataframe tbody tr th {\n",
       "        vertical-align: top;\n",
       "    }\n",
       "\n",
       "    .dataframe thead th {\n",
       "        text-align: right;\n",
       "    }\n",
       "</style>\n",
       "<table border=\"1\" class=\"dataframe\">\n",
       "  <thead>\n",
       "    <tr style=\"text-align: right;\">\n",
       "      <th></th>\n",
       "      <th>PassengerId</th>\n",
       "      <th>HomePlanet</th>\n",
       "      <th>CryoSleep</th>\n",
       "      <th>Cabin</th>\n",
       "      <th>Destination</th>\n",
       "      <th>Age</th>\n",
       "      <th>VIP</th>\n",
       "      <th>RoomService</th>\n",
       "      <th>FoodCourt</th>\n",
       "      <th>ShoppingMall</th>\n",
       "      <th>Spa</th>\n",
       "      <th>VRDeck</th>\n",
       "      <th>Name</th>\n",
       "    </tr>\n",
       "  </thead>\n",
       "  <tbody>\n",
       "    <tr>\n",
       "      <th>0</th>\n",
       "      <td>0013_01</td>\n",
       "      <td>Earth</td>\n",
       "      <td>True</td>\n",
       "      <td>G/3/S</td>\n",
       "      <td>TRAPPIST-1e</td>\n",
       "      <td>27.00</td>\n",
       "      <td>False</td>\n",
       "      <td>0.00</td>\n",
       "      <td>0.00</td>\n",
       "      <td>0.00</td>\n",
       "      <td>0.00</td>\n",
       "      <td>0.00</td>\n",
       "      <td>Nelly Carsoning</td>\n",
       "    </tr>\n",
       "    <tr>\n",
       "      <th>1</th>\n",
       "      <td>0018_01</td>\n",
       "      <td>Earth</td>\n",
       "      <td>False</td>\n",
       "      <td>F/4/S</td>\n",
       "      <td>TRAPPIST-1e</td>\n",
       "      <td>19.00</td>\n",
       "      <td>False</td>\n",
       "      <td>0.00</td>\n",
       "      <td>9.00</td>\n",
       "      <td>0.00</td>\n",
       "      <td>2823.00</td>\n",
       "      <td>0.00</td>\n",
       "      <td>Lerome Peckers</td>\n",
       "    </tr>\n",
       "    <tr>\n",
       "      <th>2</th>\n",
       "      <td>0019_01</td>\n",
       "      <td>Europa</td>\n",
       "      <td>True</td>\n",
       "      <td>C/0/S</td>\n",
       "      <td>55 Cancri e</td>\n",
       "      <td>31.00</td>\n",
       "      <td>False</td>\n",
       "      <td>0.00</td>\n",
       "      <td>0.00</td>\n",
       "      <td>0.00</td>\n",
       "      <td>0.00</td>\n",
       "      <td>0.00</td>\n",
       "      <td>Sabih Unhearfus</td>\n",
       "    </tr>\n",
       "    <tr>\n",
       "      <th>3</th>\n",
       "      <td>0021_01</td>\n",
       "      <td>Europa</td>\n",
       "      <td>False</td>\n",
       "      <td>C/1/S</td>\n",
       "      <td>TRAPPIST-1e</td>\n",
       "      <td>38.00</td>\n",
       "      <td>False</td>\n",
       "      <td>0.00</td>\n",
       "      <td>6652.00</td>\n",
       "      <td>0.00</td>\n",
       "      <td>181.00</td>\n",
       "      <td>585.00</td>\n",
       "      <td>Meratz Caltilter</td>\n",
       "    </tr>\n",
       "    <tr>\n",
       "      <th>4</th>\n",
       "      <td>0023_01</td>\n",
       "      <td>Earth</td>\n",
       "      <td>False</td>\n",
       "      <td>F/5/S</td>\n",
       "      <td>TRAPPIST-1e</td>\n",
       "      <td>20.00</td>\n",
       "      <td>False</td>\n",
       "      <td>10.00</td>\n",
       "      <td>0.00</td>\n",
       "      <td>635.00</td>\n",
       "      <td>0.00</td>\n",
       "      <td>0.00</td>\n",
       "      <td>Brence Harperez</td>\n",
       "    </tr>\n",
       "  </tbody>\n",
       "</table>\n",
       "</div>"
      ],
      "text/plain": [
       "  PassengerId HomePlanet CryoSleep  Cabin  Destination   Age    VIP  \\\n",
       "0     0013_01      Earth      True  G/3/S  TRAPPIST-1e 27.00  False   \n",
       "1     0018_01      Earth     False  F/4/S  TRAPPIST-1e 19.00  False   \n",
       "2     0019_01     Europa      True  C/0/S  55 Cancri e 31.00  False   \n",
       "3     0021_01     Europa     False  C/1/S  TRAPPIST-1e 38.00  False   \n",
       "4     0023_01      Earth     False  F/5/S  TRAPPIST-1e 20.00  False   \n",
       "\n",
       "   RoomService  FoodCourt  ShoppingMall     Spa  VRDeck              Name  \n",
       "0         0.00       0.00          0.00    0.00    0.00   Nelly Carsoning  \n",
       "1         0.00       9.00          0.00 2823.00    0.00    Lerome Peckers  \n",
       "2         0.00       0.00          0.00    0.00    0.00   Sabih Unhearfus  \n",
       "3         0.00    6652.00          0.00  181.00  585.00  Meratz Caltilter  \n",
       "4        10.00       0.00        635.00    0.00    0.00   Brence Harperez  "
      ]
     },
     "execution_count": 39,
     "metadata": {},
     "output_type": "execute_result"
    }
   ],
   "source": [
    "df2=pd.read_csv('/kaggle/input/spaceship-titanic/test.csv')\n",
    "df2.head()"
   ]
  },
  {
   "cell_type": "code",
   "execution_count": 40,
   "id": "44612d47",
   "metadata": {
    "execution": {
     "iopub.execute_input": "2023-02-22T05:15:00.777942Z",
     "iopub.status.busy": "2023-02-22T05:15:00.777482Z",
     "iopub.status.idle": "2023-02-22T05:15:00.784928Z",
     "shell.execute_reply": "2023-02-22T05:15:00.783556Z"
    },
    "papermill": {
     "duration": 0.039552,
     "end_time": "2023-02-22T05:15:00.787649",
     "exception": false,
     "start_time": "2023-02-22T05:15:00.748097",
     "status": "completed"
    },
    "tags": []
   },
   "outputs": [
    {
     "data": {
      "text/plain": [
       "(4277, 13)"
      ]
     },
     "execution_count": 40,
     "metadata": {},
     "output_type": "execute_result"
    }
   ],
   "source": [
    "df2.shape"
   ]
  },
  {
   "cell_type": "code",
   "execution_count": 41,
   "id": "48d404b8",
   "metadata": {
    "execution": {
     "iopub.execute_input": "2023-02-22T05:15:00.843435Z",
     "iopub.status.busy": "2023-02-22T05:15:00.842897Z",
     "iopub.status.idle": "2023-02-22T05:15:00.851644Z",
     "shell.execute_reply": "2023-02-22T05:15:00.850343Z"
    },
    "papermill": {
     "duration": 0.040336,
     "end_time": "2023-02-22T05:15:00.854743",
     "exception": false,
     "start_time": "2023-02-22T05:15:00.814407",
     "status": "completed"
    },
    "tags": []
   },
   "outputs": [
    {
     "data": {
      "text/plain": [
       "Index(['PassengerId', 'HomePlanet', 'CryoSleep', 'Cabin', 'Destination', 'Age',\n",
       "       'VIP', 'RoomService', 'FoodCourt', 'ShoppingMall', 'Spa', 'VRDeck',\n",
       "       'Name'],\n",
       "      dtype='object')"
      ]
     },
     "execution_count": 41,
     "metadata": {},
     "output_type": "execute_result"
    }
   ],
   "source": [
    "df2.columns"
   ]
  },
  {
   "cell_type": "code",
   "execution_count": 42,
   "id": "5c25abaf",
   "metadata": {
    "execution": {
     "iopub.execute_input": "2023-02-22T05:15:00.912926Z",
     "iopub.status.busy": "2023-02-22T05:15:00.912468Z",
     "iopub.status.idle": "2023-02-22T05:15:00.927170Z",
     "shell.execute_reply": "2023-02-22T05:15:00.925962Z"
    },
    "papermill": {
     "duration": 0.04672,
     "end_time": "2023-02-22T05:15:00.929742",
     "exception": false,
     "start_time": "2023-02-22T05:15:00.883022",
     "status": "completed"
    },
    "tags": []
   },
   "outputs": [
    {
     "data": {
      "text/html": [
       "<div>\n",
       "<style scoped>\n",
       "    .dataframe tbody tr th:only-of-type {\n",
       "        vertical-align: middle;\n",
       "    }\n",
       "\n",
       "    .dataframe tbody tr th {\n",
       "        vertical-align: top;\n",
       "    }\n",
       "\n",
       "    .dataframe thead th {\n",
       "        text-align: right;\n",
       "    }\n",
       "</style>\n",
       "<table border=\"1\" class=\"dataframe\">\n",
       "  <thead>\n",
       "    <tr style=\"text-align: right;\">\n",
       "      <th></th>\n",
       "      <th>PassengerId</th>\n",
       "    </tr>\n",
       "  </thead>\n",
       "  <tbody>\n",
       "    <tr>\n",
       "      <th>0</th>\n",
       "      <td>0013_01</td>\n",
       "    </tr>\n",
       "    <tr>\n",
       "      <th>1</th>\n",
       "      <td>0018_01</td>\n",
       "    </tr>\n",
       "    <tr>\n",
       "      <th>2</th>\n",
       "      <td>0019_01</td>\n",
       "    </tr>\n",
       "    <tr>\n",
       "      <th>3</th>\n",
       "      <td>0021_01</td>\n",
       "    </tr>\n",
       "    <tr>\n",
       "      <th>4</th>\n",
       "      <td>0023_01</td>\n",
       "    </tr>\n",
       "    <tr>\n",
       "      <th>...</th>\n",
       "      <td>...</td>\n",
       "    </tr>\n",
       "    <tr>\n",
       "      <th>4272</th>\n",
       "      <td>9266_02</td>\n",
       "    </tr>\n",
       "    <tr>\n",
       "      <th>4273</th>\n",
       "      <td>9269_01</td>\n",
       "    </tr>\n",
       "    <tr>\n",
       "      <th>4274</th>\n",
       "      <td>9271_01</td>\n",
       "    </tr>\n",
       "    <tr>\n",
       "      <th>4275</th>\n",
       "      <td>9273_01</td>\n",
       "    </tr>\n",
       "    <tr>\n",
       "      <th>4276</th>\n",
       "      <td>9277_01</td>\n",
       "    </tr>\n",
       "  </tbody>\n",
       "</table>\n",
       "<p>4277 rows × 1 columns</p>\n",
       "</div>"
      ],
      "text/plain": [
       "     PassengerId\n",
       "0        0013_01\n",
       "1        0018_01\n",
       "2        0019_01\n",
       "3        0021_01\n",
       "4        0023_01\n",
       "...          ...\n",
       "4272     9266_02\n",
       "4273     9269_01\n",
       "4274     9271_01\n",
       "4275     9273_01\n",
       "4276     9277_01\n",
       "\n",
       "[4277 rows x 1 columns]"
      ]
     },
     "execution_count": 42,
     "metadata": {},
     "output_type": "execute_result"
    }
   ],
   "source": [
    "sub=pd.DataFrame(df2['PassengerId'])\n",
    "sub"
   ]
  },
  {
   "cell_type": "code",
   "execution_count": 43,
   "id": "5a227b37",
   "metadata": {
    "execution": {
     "iopub.execute_input": "2023-02-22T05:15:00.987647Z",
     "iopub.status.busy": "2023-02-22T05:15:00.987143Z",
     "iopub.status.idle": "2023-02-22T05:15:01.036240Z",
     "shell.execute_reply": "2023-02-22T05:15:01.034792Z"
    },
    "papermill": {
     "duration": 0.083132,
     "end_time": "2023-02-22T05:15:01.039579",
     "exception": false,
     "start_time": "2023-02-22T05:15:00.956447",
     "status": "completed"
    },
    "tags": []
   },
   "outputs": [
    {
     "data": {
      "text/html": [
       "<div>\n",
       "<style scoped>\n",
       "    .dataframe tbody tr th:only-of-type {\n",
       "        vertical-align: middle;\n",
       "    }\n",
       "\n",
       "    .dataframe tbody tr th {\n",
       "        vertical-align: top;\n",
       "    }\n",
       "\n",
       "    .dataframe thead th {\n",
       "        text-align: right;\n",
       "    }\n",
       "</style>\n",
       "<table border=\"1\" class=\"dataframe\">\n",
       "  <thead>\n",
       "    <tr style=\"text-align: right;\">\n",
       "      <th></th>\n",
       "      <th>Age</th>\n",
       "      <th>RoomService</th>\n",
       "      <th>FoodCourt</th>\n",
       "      <th>ShoppingMall</th>\n",
       "      <th>Spa</th>\n",
       "      <th>VRDeck</th>\n",
       "      <th>HomePlanet_Earth</th>\n",
       "      <th>HomePlanet_Europa</th>\n",
       "      <th>HomePlanet_Mars</th>\n",
       "      <th>CryoSleep_False</th>\n",
       "      <th>CryoSleep_True</th>\n",
       "      <th>Destination_55 Cancri e</th>\n",
       "      <th>Destination_PSO J318.5-22</th>\n",
       "      <th>Destination_TRAPPIST-1e</th>\n",
       "      <th>VIP_False</th>\n",
       "      <th>VIP_True</th>\n",
       "    </tr>\n",
       "  </thead>\n",
       "  <tbody>\n",
       "    <tr>\n",
       "      <th>0</th>\n",
       "      <td>27.00</td>\n",
       "      <td>0.00</td>\n",
       "      <td>0.00</td>\n",
       "      <td>0.00</td>\n",
       "      <td>0.00</td>\n",
       "      <td>0.00</td>\n",
       "      <td>0</td>\n",
       "      <td>1</td>\n",
       "      <td>0</td>\n",
       "      <td>1</td>\n",
       "      <td>0</td>\n",
       "      <td>0</td>\n",
       "      <td>0</td>\n",
       "      <td>1</td>\n",
       "      <td>1</td>\n",
       "      <td>0</td>\n",
       "    </tr>\n",
       "    <tr>\n",
       "      <th>1</th>\n",
       "      <td>19.00</td>\n",
       "      <td>0.00</td>\n",
       "      <td>9.00</td>\n",
       "      <td>0.00</td>\n",
       "      <td>2823.00</td>\n",
       "      <td>0.00</td>\n",
       "      <td>1</td>\n",
       "      <td>0</td>\n",
       "      <td>0</td>\n",
       "      <td>1</td>\n",
       "      <td>0</td>\n",
       "      <td>0</td>\n",
       "      <td>0</td>\n",
       "      <td>1</td>\n",
       "      <td>1</td>\n",
       "      <td>0</td>\n",
       "    </tr>\n",
       "    <tr>\n",
       "      <th>2</th>\n",
       "      <td>31.00</td>\n",
       "      <td>0.00</td>\n",
       "      <td>0.00</td>\n",
       "      <td>0.00</td>\n",
       "      <td>0.00</td>\n",
       "      <td>0.00</td>\n",
       "      <td>0</td>\n",
       "      <td>1</td>\n",
       "      <td>0</td>\n",
       "      <td>1</td>\n",
       "      <td>0</td>\n",
       "      <td>0</td>\n",
       "      <td>0</td>\n",
       "      <td>1</td>\n",
       "      <td>0</td>\n",
       "      <td>1</td>\n",
       "    </tr>\n",
       "    <tr>\n",
       "      <th>3</th>\n",
       "      <td>38.00</td>\n",
       "      <td>0.00</td>\n",
       "      <td>6652.00</td>\n",
       "      <td>0.00</td>\n",
       "      <td>181.00</td>\n",
       "      <td>585.00</td>\n",
       "      <td>0</td>\n",
       "      <td>1</td>\n",
       "      <td>0</td>\n",
       "      <td>1</td>\n",
       "      <td>0</td>\n",
       "      <td>0</td>\n",
       "      <td>0</td>\n",
       "      <td>1</td>\n",
       "      <td>1</td>\n",
       "      <td>0</td>\n",
       "    </tr>\n",
       "    <tr>\n",
       "      <th>4</th>\n",
       "      <td>20.00</td>\n",
       "      <td>10.00</td>\n",
       "      <td>0.00</td>\n",
       "      <td>635.00</td>\n",
       "      <td>0.00</td>\n",
       "      <td>0.00</td>\n",
       "      <td>1</td>\n",
       "      <td>0</td>\n",
       "      <td>0</td>\n",
       "      <td>1</td>\n",
       "      <td>0</td>\n",
       "      <td>0</td>\n",
       "      <td>0</td>\n",
       "      <td>1</td>\n",
       "      <td>1</td>\n",
       "      <td>0</td>\n",
       "    </tr>\n",
       "  </tbody>\n",
       "</table>\n",
       "</div>"
      ],
      "text/plain": [
       "    Age  RoomService  FoodCourt  ShoppingMall     Spa  VRDeck  \\\n",
       "0 27.00         0.00       0.00          0.00    0.00    0.00   \n",
       "1 19.00         0.00       9.00          0.00 2823.00    0.00   \n",
       "2 31.00         0.00       0.00          0.00    0.00    0.00   \n",
       "3 38.00         0.00    6652.00          0.00  181.00  585.00   \n",
       "4 20.00        10.00       0.00        635.00    0.00    0.00   \n",
       "\n",
       "   HomePlanet_Earth  HomePlanet_Europa  HomePlanet_Mars  CryoSleep_False  \\\n",
       "0                 0                  1                0                1   \n",
       "1                 1                  0                0                1   \n",
       "2                 0                  1                0                1   \n",
       "3                 0                  1                0                1   \n",
       "4                 1                  0                0                1   \n",
       "\n",
       "   CryoSleep_True  Destination_55 Cancri e  Destination_PSO J318.5-22  \\\n",
       "0               0                        0                          0   \n",
       "1               0                        0                          0   \n",
       "2               0                        0                          0   \n",
       "3               0                        0                          0   \n",
       "4               0                        0                          0   \n",
       "\n",
       "   Destination_TRAPPIST-1e  VIP_False  VIP_True  \n",
       "0                        1          1         0  \n",
       "1                        1          1         0  \n",
       "2                        1          0         1  \n",
       "3                        1          1         0  \n",
       "4                        1          1         0  "
      ]
     },
     "execution_count": 43,
     "metadata": {},
     "output_type": "execute_result"
    }
   ],
   "source": [
    "df3=pre_processing(df2)\n",
    "df3.head()"
   ]
  },
  {
   "cell_type": "code",
   "execution_count": 44,
   "id": "1b6bed90",
   "metadata": {
    "execution": {
     "iopub.execute_input": "2023-02-22T05:15:01.097504Z",
     "iopub.status.busy": "2023-02-22T05:15:01.096996Z",
     "iopub.status.idle": "2023-02-22T05:15:01.108898Z",
     "shell.execute_reply": "2023-02-22T05:15:01.107499Z"
    },
    "papermill": {
     "duration": 0.043739,
     "end_time": "2023-02-22T05:15:01.111699",
     "exception": false,
     "start_time": "2023-02-22T05:15:01.067960",
     "status": "completed"
    },
    "tags": []
   },
   "outputs": [
    {
     "data": {
      "text/plain": [
       "Age                          0\n",
       "RoomService                  0\n",
       "FoodCourt                    0\n",
       "ShoppingMall                 0\n",
       "Spa                          0\n",
       "VRDeck                       0\n",
       "HomePlanet_Earth             0\n",
       "HomePlanet_Europa            0\n",
       "HomePlanet_Mars              0\n",
       "CryoSleep_False              0\n",
       "CryoSleep_True               0\n",
       "Destination_55 Cancri e      0\n",
       "Destination_PSO J318.5-22    0\n",
       "Destination_TRAPPIST-1e      0\n",
       "VIP_False                    0\n",
       "VIP_True                     0\n",
       "dtype: int64"
      ]
     },
     "execution_count": 44,
     "metadata": {},
     "output_type": "execute_result"
    }
   ],
   "source": [
    "df3.isnull().sum()"
   ]
  },
  {
   "cell_type": "code",
   "execution_count": 45,
   "id": "43fe5054",
   "metadata": {
    "execution": {
     "iopub.execute_input": "2023-02-22T05:15:01.168997Z",
     "iopub.status.busy": "2023-02-22T05:15:01.168538Z",
     "iopub.status.idle": "2023-02-22T05:15:01.186088Z",
     "shell.execute_reply": "2023-02-22T05:15:01.184815Z"
    },
    "papermill": {
     "duration": 0.050092,
     "end_time": "2023-02-22T05:15:01.189119",
     "exception": false,
     "start_time": "2023-02-22T05:15:01.139027",
     "status": "completed"
    },
    "tags": []
   },
   "outputs": [],
   "source": [
    "pred1=clf.predict(df3)"
   ]
  },
  {
   "cell_type": "code",
   "execution_count": 46,
   "id": "3a301129",
   "metadata": {
    "execution": {
     "iopub.execute_input": "2023-02-22T05:15:01.248339Z",
     "iopub.status.busy": "2023-02-22T05:15:01.247405Z",
     "iopub.status.idle": "2023-02-22T05:15:01.255401Z",
     "shell.execute_reply": "2023-02-22T05:15:01.254167Z"
    },
    "papermill": {
     "duration": 0.041409,
     "end_time": "2023-02-22T05:15:01.258157",
     "exception": false,
     "start_time": "2023-02-22T05:15:01.216748",
     "status": "completed"
    },
    "tags": []
   },
   "outputs": [
    {
     "data": {
      "text/plain": [
       "array([ True, False,  True, ..., False,  True, False])"
      ]
     },
     "execution_count": 46,
     "metadata": {},
     "output_type": "execute_result"
    }
   ],
   "source": [
    "pred1"
   ]
  },
  {
   "cell_type": "code",
   "execution_count": 47,
   "id": "7fdb356f",
   "metadata": {
    "execution": {
     "iopub.execute_input": "2023-02-22T05:15:01.314550Z",
     "iopub.status.busy": "2023-02-22T05:15:01.314071Z",
     "iopub.status.idle": "2023-02-22T05:15:01.320769Z",
     "shell.execute_reply": "2023-02-22T05:15:01.319350Z"
    },
    "papermill": {
     "duration": 0.038325,
     "end_time": "2023-02-22T05:15:01.323404",
     "exception": false,
     "start_time": "2023-02-22T05:15:01.285079",
     "status": "completed"
    },
    "tags": []
   },
   "outputs": [],
   "source": [
    "sub['Transported']=pred1"
   ]
  },
  {
   "cell_type": "code",
   "execution_count": 48,
   "id": "81395f2a",
   "metadata": {
    "execution": {
     "iopub.execute_input": "2023-02-22T05:15:01.383148Z",
     "iopub.status.busy": "2023-02-22T05:15:01.382688Z",
     "iopub.status.idle": "2023-02-22T05:15:01.392472Z",
     "shell.execute_reply": "2023-02-22T05:15:01.391155Z"
    },
    "papermill": {
     "duration": 0.043427,
     "end_time": "2023-02-22T05:15:01.395043",
     "exception": false,
     "start_time": "2023-02-22T05:15:01.351616",
     "status": "completed"
    },
    "tags": []
   },
   "outputs": [
    {
     "data": {
      "text/plain": [
       "True     2273\n",
       "False    2004\n",
       "Name: Transported, dtype: int64"
      ]
     },
     "execution_count": 48,
     "metadata": {},
     "output_type": "execute_result"
    }
   ],
   "source": [
    "sub['Transported'].value_counts()"
   ]
  },
  {
   "cell_type": "code",
   "execution_count": 49,
   "id": "a38e6ba3",
   "metadata": {
    "execution": {
     "iopub.execute_input": "2023-02-22T05:15:01.452201Z",
     "iopub.status.busy": "2023-02-22T05:15:01.451715Z",
     "iopub.status.idle": "2023-02-22T05:15:01.465869Z",
     "shell.execute_reply": "2023-02-22T05:15:01.464677Z"
    },
    "papermill": {
     "duration": 0.046935,
     "end_time": "2023-02-22T05:15:01.469141",
     "exception": false,
     "start_time": "2023-02-22T05:15:01.422206",
     "status": "completed"
    },
    "tags": []
   },
   "outputs": [],
   "source": [
    "sub.to_csv('submission.csv',index=False)"
   ]
  }
 ],
 "metadata": {
  "kernelspec": {
   "display_name": "Python 3",
   "language": "python",
   "name": "python3"
  },
  "language_info": {
   "codemirror_mode": {
    "name": "ipython",
    "version": 3
   },
   "file_extension": ".py",
   "mimetype": "text/x-python",
   "name": "python",
   "nbconvert_exporter": "python",
   "pygments_lexer": "ipython3",
   "version": "3.7.12"
  },
  "papermill": {
   "default_parameters": {},
   "duration": 102.386825,
   "end_time": "2023-02-22T05:15:03.734710",
   "environment_variables": {},
   "exception": null,
   "input_path": "__notebook__.ipynb",
   "output_path": "__notebook__.ipynb",
   "parameters": {},
   "start_time": "2023-02-22T05:13:21.347885",
   "version": "2.3.4"
  }
 },
 "nbformat": 4,
 "nbformat_minor": 5
}
